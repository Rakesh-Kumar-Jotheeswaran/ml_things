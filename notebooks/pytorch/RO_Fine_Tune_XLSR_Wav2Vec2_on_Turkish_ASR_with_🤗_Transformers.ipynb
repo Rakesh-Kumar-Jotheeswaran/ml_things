{
  "nbformat": 4,
  "nbformat_minor": 0,
  "metadata": {
    "colab": {
      "name": "RO-Fine-Tune XLSR-Wav2Vec2 on Turkish ASR with 🤗 Transformers.ipynb",
      "provenance": [],
      "collapsed_sections": [],
      "toc_visible": true,
      "machine_shape": "hm"
    },
    "kernelspec": {
      "name": "python3",
      "display_name": "Python 3"
    },
    "widgets": {
      "application/vnd.jupyter.widget-state+json": {
        "143deea43a3e49f381787cca43d3a6c6": {
          "model_module": "@jupyter-widgets/controls",
          "model_name": "HBoxModel",
          "state": {
            "_view_name": "HBoxView",
            "_dom_classes": [],
            "_model_name": "HBoxModel",
            "_view_module": "@jupyter-widgets/controls",
            "_model_module_version": "1.5.0",
            "_view_count": null,
            "_view_module_version": "1.5.0",
            "box_style": "",
            "layout": "IPY_MODEL_dff0feb70581490594ed0cd85b4a6244",
            "_model_module": "@jupyter-widgets/controls",
            "children": [
              "IPY_MODEL_7628a038d41d4f6291d74a13d58d06d2",
              "IPY_MODEL_77d8a6578e6848a4a89ebaa01ad0ed68"
            ]
          }
        },
        "dff0feb70581490594ed0cd85b4a6244": {
          "model_module": "@jupyter-widgets/base",
          "model_name": "LayoutModel",
          "state": {
            "_view_name": "LayoutView",
            "grid_template_rows": null,
            "right": null,
            "justify_content": null,
            "_view_module": "@jupyter-widgets/base",
            "overflow": null,
            "_model_module_version": "1.2.0",
            "_view_count": null,
            "flex_flow": null,
            "width": null,
            "min_width": null,
            "border": null,
            "align_items": null,
            "bottom": null,
            "_model_module": "@jupyter-widgets/base",
            "top": null,
            "grid_column": null,
            "overflow_y": null,
            "overflow_x": null,
            "grid_auto_flow": null,
            "grid_area": null,
            "grid_template_columns": null,
            "flex": null,
            "_model_name": "LayoutModel",
            "justify_items": null,
            "grid_row": null,
            "max_height": null,
            "align_content": null,
            "visibility": null,
            "align_self": null,
            "height": null,
            "min_height": null,
            "padding": null,
            "grid_auto_rows": null,
            "grid_gap": null,
            "max_width": null,
            "order": null,
            "_view_module_version": "1.2.0",
            "grid_template_areas": null,
            "object_position": null,
            "object_fit": null,
            "grid_auto_columns": null,
            "margin": null,
            "display": null,
            "left": null
          }
        },
        "7628a038d41d4f6291d74a13d58d06d2": {
          "model_module": "@jupyter-widgets/controls",
          "model_name": "FloatProgressModel",
          "state": {
            "_view_name": "ProgressView",
            "style": "IPY_MODEL_c4a6f76f341c48ce9d34a4617d6aedc9",
            "_dom_classes": [],
            "description": "Downloading: ",
            "_model_name": "FloatProgressModel",
            "bar_style": "success",
            "max": 4323,
            "_view_module": "@jupyter-widgets/controls",
            "_model_module_version": "1.5.0",
            "value": 4323,
            "_view_count": null,
            "_view_module_version": "1.5.0",
            "orientation": "horizontal",
            "min": 0,
            "description_tooltip": null,
            "_model_module": "@jupyter-widgets/controls",
            "layout": "IPY_MODEL_03aede954d5c468aaf0aaae433b2c9cc"
          }
        },
        "77d8a6578e6848a4a89ebaa01ad0ed68": {
          "model_module": "@jupyter-widgets/controls",
          "model_name": "HTMLModel",
          "state": {
            "_view_name": "HTMLView",
            "style": "IPY_MODEL_fee4978a9562418aad5b03d0fc3dda43",
            "_dom_classes": [],
            "description": "",
            "_model_name": "HTMLModel",
            "placeholder": "​",
            "_view_module": "@jupyter-widgets/controls",
            "_model_module_version": "1.5.0",
            "value": " 22.0k/? [00:00&lt;00:00, 80.3kB/s]",
            "_view_count": null,
            "_view_module_version": "1.5.0",
            "description_tooltip": null,
            "_model_module": "@jupyter-widgets/controls",
            "layout": "IPY_MODEL_22e5cd59879644158966cd35facd9f27"
          }
        },
        "c4a6f76f341c48ce9d34a4617d6aedc9": {
          "model_module": "@jupyter-widgets/controls",
          "model_name": "ProgressStyleModel",
          "state": {
            "_view_name": "StyleView",
            "_model_name": "ProgressStyleModel",
            "description_width": "initial",
            "_view_module": "@jupyter-widgets/base",
            "_model_module_version": "1.5.0",
            "_view_count": null,
            "_view_module_version": "1.2.0",
            "bar_color": null,
            "_model_module": "@jupyter-widgets/controls"
          }
        },
        "03aede954d5c468aaf0aaae433b2c9cc": {
          "model_module": "@jupyter-widgets/base",
          "model_name": "LayoutModel",
          "state": {
            "_view_name": "LayoutView",
            "grid_template_rows": null,
            "right": null,
            "justify_content": null,
            "_view_module": "@jupyter-widgets/base",
            "overflow": null,
            "_model_module_version": "1.2.0",
            "_view_count": null,
            "flex_flow": null,
            "width": null,
            "min_width": null,
            "border": null,
            "align_items": null,
            "bottom": null,
            "_model_module": "@jupyter-widgets/base",
            "top": null,
            "grid_column": null,
            "overflow_y": null,
            "overflow_x": null,
            "grid_auto_flow": null,
            "grid_area": null,
            "grid_template_columns": null,
            "flex": null,
            "_model_name": "LayoutModel",
            "justify_items": null,
            "grid_row": null,
            "max_height": null,
            "align_content": null,
            "visibility": null,
            "align_self": null,
            "height": null,
            "min_height": null,
            "padding": null,
            "grid_auto_rows": null,
            "grid_gap": null,
            "max_width": null,
            "order": null,
            "_view_module_version": "1.2.0",
            "grid_template_areas": null,
            "object_position": null,
            "object_fit": null,
            "grid_auto_columns": null,
            "margin": null,
            "display": null,
            "left": null
          }
        },
        "fee4978a9562418aad5b03d0fc3dda43": {
          "model_module": "@jupyter-widgets/controls",
          "model_name": "DescriptionStyleModel",
          "state": {
            "_view_name": "StyleView",
            "_model_name": "DescriptionStyleModel",
            "description_width": "",
            "_view_module": "@jupyter-widgets/base",
            "_model_module_version": "1.5.0",
            "_view_count": null,
            "_view_module_version": "1.2.0",
            "_model_module": "@jupyter-widgets/controls"
          }
        },
        "22e5cd59879644158966cd35facd9f27": {
          "model_module": "@jupyter-widgets/base",
          "model_name": "LayoutModel",
          "state": {
            "_view_name": "LayoutView",
            "grid_template_rows": null,
            "right": null,
            "justify_content": null,
            "_view_module": "@jupyter-widgets/base",
            "overflow": null,
            "_model_module_version": "1.2.0",
            "_view_count": null,
            "flex_flow": null,
            "width": null,
            "min_width": null,
            "border": null,
            "align_items": null,
            "bottom": null,
            "_model_module": "@jupyter-widgets/base",
            "top": null,
            "grid_column": null,
            "overflow_y": null,
            "overflow_x": null,
            "grid_auto_flow": null,
            "grid_area": null,
            "grid_template_columns": null,
            "flex": null,
            "_model_name": "LayoutModel",
            "justify_items": null,
            "grid_row": null,
            "max_height": null,
            "align_content": null,
            "visibility": null,
            "align_self": null,
            "height": null,
            "min_height": null,
            "padding": null,
            "grid_auto_rows": null,
            "grid_gap": null,
            "max_width": null,
            "order": null,
            "_view_module_version": "1.2.0",
            "grid_template_areas": null,
            "object_position": null,
            "object_fit": null,
            "grid_auto_columns": null,
            "margin": null,
            "display": null,
            "left": null
          }
        },
        "1d3dd49f0b894d26b1f9e4c58316e48c": {
          "model_module": "@jupyter-widgets/controls",
          "model_name": "HBoxModel",
          "state": {
            "_view_name": "HBoxView",
            "_dom_classes": [],
            "_model_name": "HBoxModel",
            "_view_module": "@jupyter-widgets/controls",
            "_model_module_version": "1.5.0",
            "_view_count": null,
            "_view_module_version": "1.5.0",
            "box_style": "",
            "layout": "IPY_MODEL_c844080fb46d43ba9ee4cfde12b230f2",
            "_model_module": "@jupyter-widgets/controls",
            "children": [
              "IPY_MODEL_fea1e7cc18934b29a4f14ca13aee4029",
              "IPY_MODEL_ab5a6836493e40e98ae749054e4da7ff"
            ]
          }
        },
        "c844080fb46d43ba9ee4cfde12b230f2": {
          "model_module": "@jupyter-widgets/base",
          "model_name": "LayoutModel",
          "state": {
            "_view_name": "LayoutView",
            "grid_template_rows": null,
            "right": null,
            "justify_content": null,
            "_view_module": "@jupyter-widgets/base",
            "overflow": null,
            "_model_module_version": "1.2.0",
            "_view_count": null,
            "flex_flow": null,
            "width": null,
            "min_width": null,
            "border": null,
            "align_items": null,
            "bottom": null,
            "_model_module": "@jupyter-widgets/base",
            "top": null,
            "grid_column": null,
            "overflow_y": null,
            "overflow_x": null,
            "grid_auto_flow": null,
            "grid_area": null,
            "grid_template_columns": null,
            "flex": null,
            "_model_name": "LayoutModel",
            "justify_items": null,
            "grid_row": null,
            "max_height": null,
            "align_content": null,
            "visibility": null,
            "align_self": null,
            "height": null,
            "min_height": null,
            "padding": null,
            "grid_auto_rows": null,
            "grid_gap": null,
            "max_width": null,
            "order": null,
            "_view_module_version": "1.2.0",
            "grid_template_areas": null,
            "object_position": null,
            "object_fit": null,
            "grid_auto_columns": null,
            "margin": null,
            "display": null,
            "left": null
          }
        },
        "fea1e7cc18934b29a4f14ca13aee4029": {
          "model_module": "@jupyter-widgets/controls",
          "model_name": "FloatProgressModel",
          "state": {
            "_view_name": "ProgressView",
            "style": "IPY_MODEL_e2efa20cc7e6409fb59242670852dffd",
            "_dom_classes": [],
            "description": "Downloading: ",
            "_model_name": "FloatProgressModel",
            "bar_style": "success",
            "max": 9954,
            "_view_module": "@jupyter-widgets/controls",
            "_model_module_version": "1.5.0",
            "value": 9954,
            "_view_count": null,
            "_view_module_version": "1.5.0",
            "orientation": "horizontal",
            "min": 0,
            "description_tooltip": null,
            "_model_module": "@jupyter-widgets/controls",
            "layout": "IPY_MODEL_9725cc7b7a64426ab8a51d4af5899ec0"
          }
        },
        "ab5a6836493e40e98ae749054e4da7ff": {
          "model_module": "@jupyter-widgets/controls",
          "model_name": "HTMLModel",
          "state": {
            "_view_name": "HTMLView",
            "style": "IPY_MODEL_241a2e9ab07c4158a89a668a82304672",
            "_dom_classes": [],
            "description": "",
            "_model_name": "HTMLModel",
            "placeholder": "​",
            "_view_module": "@jupyter-widgets/controls",
            "_model_module_version": "1.5.0",
            "value": " 153k/? [00:00&lt;00:00, 2.85MB/s]",
            "_view_count": null,
            "_view_module_version": "1.5.0",
            "description_tooltip": null,
            "_model_module": "@jupyter-widgets/controls",
            "layout": "IPY_MODEL_788b8249a61144adb5ce059175bb599c"
          }
        },
        "e2efa20cc7e6409fb59242670852dffd": {
          "model_module": "@jupyter-widgets/controls",
          "model_name": "ProgressStyleModel",
          "state": {
            "_view_name": "StyleView",
            "_model_name": "ProgressStyleModel",
            "description_width": "initial",
            "_view_module": "@jupyter-widgets/base",
            "_model_module_version": "1.5.0",
            "_view_count": null,
            "_view_module_version": "1.2.0",
            "bar_color": null,
            "_model_module": "@jupyter-widgets/controls"
          }
        },
        "9725cc7b7a64426ab8a51d4af5899ec0": {
          "model_module": "@jupyter-widgets/base",
          "model_name": "LayoutModel",
          "state": {
            "_view_name": "LayoutView",
            "grid_template_rows": null,
            "right": null,
            "justify_content": null,
            "_view_module": "@jupyter-widgets/base",
            "overflow": null,
            "_model_module_version": "1.2.0",
            "_view_count": null,
            "flex_flow": null,
            "width": null,
            "min_width": null,
            "border": null,
            "align_items": null,
            "bottom": null,
            "_model_module": "@jupyter-widgets/base",
            "top": null,
            "grid_column": null,
            "overflow_y": null,
            "overflow_x": null,
            "grid_auto_flow": null,
            "grid_area": null,
            "grid_template_columns": null,
            "flex": null,
            "_model_name": "LayoutModel",
            "justify_items": null,
            "grid_row": null,
            "max_height": null,
            "align_content": null,
            "visibility": null,
            "align_self": null,
            "height": null,
            "min_height": null,
            "padding": null,
            "grid_auto_rows": null,
            "grid_gap": null,
            "max_width": null,
            "order": null,
            "_view_module_version": "1.2.0",
            "grid_template_areas": null,
            "object_position": null,
            "object_fit": null,
            "grid_auto_columns": null,
            "margin": null,
            "display": null,
            "left": null
          }
        },
        "241a2e9ab07c4158a89a668a82304672": {
          "model_module": "@jupyter-widgets/controls",
          "model_name": "DescriptionStyleModel",
          "state": {
            "_view_name": "StyleView",
            "_model_name": "DescriptionStyleModel",
            "description_width": "",
            "_view_module": "@jupyter-widgets/base",
            "_model_module_version": "1.5.0",
            "_view_count": null,
            "_view_module_version": "1.2.0",
            "_model_module": "@jupyter-widgets/controls"
          }
        },
        "788b8249a61144adb5ce059175bb599c": {
          "model_module": "@jupyter-widgets/base",
          "model_name": "LayoutModel",
          "state": {
            "_view_name": "LayoutView",
            "grid_template_rows": null,
            "right": null,
            "justify_content": null,
            "_view_module": "@jupyter-widgets/base",
            "overflow": null,
            "_model_module_version": "1.2.0",
            "_view_count": null,
            "flex_flow": null,
            "width": null,
            "min_width": null,
            "border": null,
            "align_items": null,
            "bottom": null,
            "_model_module": "@jupyter-widgets/base",
            "top": null,
            "grid_column": null,
            "overflow_y": null,
            "overflow_x": null,
            "grid_auto_flow": null,
            "grid_area": null,
            "grid_template_columns": null,
            "flex": null,
            "_model_name": "LayoutModel",
            "justify_items": null,
            "grid_row": null,
            "max_height": null,
            "align_content": null,
            "visibility": null,
            "align_self": null,
            "height": null,
            "min_height": null,
            "padding": null,
            "grid_auto_rows": null,
            "grid_gap": null,
            "max_width": null,
            "order": null,
            "_view_module_version": "1.2.0",
            "grid_template_areas": null,
            "object_position": null,
            "object_fit": null,
            "grid_auto_columns": null,
            "margin": null,
            "display": null,
            "left": null
          }
        },
        "015ae41c21354e2081e526a82d21effa": {
          "model_module": "@jupyter-widgets/controls",
          "model_name": "HBoxModel",
          "state": {
            "_view_name": "HBoxView",
            "_dom_classes": [],
            "_model_name": "HBoxModel",
            "_view_module": "@jupyter-widgets/controls",
            "_model_module_version": "1.5.0",
            "_view_count": null,
            "_view_module_version": "1.5.0",
            "box_style": "",
            "layout": "IPY_MODEL_0776a16abe9a46b198382cd2c62362b8",
            "_model_module": "@jupyter-widgets/controls",
            "children": [
              "IPY_MODEL_9d9ec5d3a50f424887e354b674cdbbf4",
              "IPY_MODEL_932b0ffb87f6499b91828eab674c7071"
            ]
          }
        },
        "0776a16abe9a46b198382cd2c62362b8": {
          "model_module": "@jupyter-widgets/base",
          "model_name": "LayoutModel",
          "state": {
            "_view_name": "LayoutView",
            "grid_template_rows": null,
            "right": null,
            "justify_content": null,
            "_view_module": "@jupyter-widgets/base",
            "overflow": null,
            "_model_module_version": "1.2.0",
            "_view_count": null,
            "flex_flow": null,
            "width": null,
            "min_width": null,
            "border": null,
            "align_items": null,
            "bottom": null,
            "_model_module": "@jupyter-widgets/base",
            "top": null,
            "grid_column": null,
            "overflow_y": null,
            "overflow_x": null,
            "grid_auto_flow": null,
            "grid_area": null,
            "grid_template_columns": null,
            "flex": null,
            "_model_name": "LayoutModel",
            "justify_items": null,
            "grid_row": null,
            "max_height": null,
            "align_content": null,
            "visibility": null,
            "align_self": null,
            "height": null,
            "min_height": null,
            "padding": null,
            "grid_auto_rows": null,
            "grid_gap": null,
            "max_width": null,
            "order": null,
            "_view_module_version": "1.2.0",
            "grid_template_areas": null,
            "object_position": null,
            "object_fit": null,
            "grid_auto_columns": null,
            "margin": null,
            "display": null,
            "left": null
          }
        },
        "9d9ec5d3a50f424887e354b674cdbbf4": {
          "model_module": "@jupyter-widgets/controls",
          "model_name": "FloatProgressModel",
          "state": {
            "_view_name": "ProgressView",
            "style": "IPY_MODEL_33e8b10eed1a45398ef18f127f1d9398",
            "_dom_classes": [],
            "description": "Downloading: 100%",
            "_model_name": "FloatProgressModel",
            "bar_style": "success",
            "max": 261978702,
            "_view_module": "@jupyter-widgets/controls",
            "_model_module_version": "1.5.0",
            "value": 261978702,
            "_view_count": null,
            "_view_module_version": "1.5.0",
            "orientation": "horizontal",
            "min": 0,
            "description_tooltip": null,
            "_model_module": "@jupyter-widgets/controls",
            "layout": "IPY_MODEL_017bbe82e3cc4608a4f5feede046fd1a"
          }
        },
        "932b0ffb87f6499b91828eab674c7071": {
          "model_module": "@jupyter-widgets/controls",
          "model_name": "HTMLModel",
          "state": {
            "_view_name": "HTMLView",
            "style": "IPY_MODEL_169c16de3ec14076845e8e3c931556c8",
            "_dom_classes": [],
            "description": "",
            "_model_name": "HTMLModel",
            "placeholder": "​",
            "_view_module": "@jupyter-widgets/controls",
            "_model_module_version": "1.5.0",
            "value": " 262M/262M [00:08&lt;00:00, 32.4MB/s]",
            "_view_count": null,
            "_view_module_version": "1.5.0",
            "description_tooltip": null,
            "_model_module": "@jupyter-widgets/controls",
            "layout": "IPY_MODEL_c3c939f281e94c21a5f66244201c495e"
          }
        },
        "33e8b10eed1a45398ef18f127f1d9398": {
          "model_module": "@jupyter-widgets/controls",
          "model_name": "ProgressStyleModel",
          "state": {
            "_view_name": "StyleView",
            "_model_name": "ProgressStyleModel",
            "description_width": "initial",
            "_view_module": "@jupyter-widgets/base",
            "_model_module_version": "1.5.0",
            "_view_count": null,
            "_view_module_version": "1.2.0",
            "bar_color": null,
            "_model_module": "@jupyter-widgets/controls"
          }
        },
        "017bbe82e3cc4608a4f5feede046fd1a": {
          "model_module": "@jupyter-widgets/base",
          "model_name": "LayoutModel",
          "state": {
            "_view_name": "LayoutView",
            "grid_template_rows": null,
            "right": null,
            "justify_content": null,
            "_view_module": "@jupyter-widgets/base",
            "overflow": null,
            "_model_module_version": "1.2.0",
            "_view_count": null,
            "flex_flow": null,
            "width": null,
            "min_width": null,
            "border": null,
            "align_items": null,
            "bottom": null,
            "_model_module": "@jupyter-widgets/base",
            "top": null,
            "grid_column": null,
            "overflow_y": null,
            "overflow_x": null,
            "grid_auto_flow": null,
            "grid_area": null,
            "grid_template_columns": null,
            "flex": null,
            "_model_name": "LayoutModel",
            "justify_items": null,
            "grid_row": null,
            "max_height": null,
            "align_content": null,
            "visibility": null,
            "align_self": null,
            "height": null,
            "min_height": null,
            "padding": null,
            "grid_auto_rows": null,
            "grid_gap": null,
            "max_width": null,
            "order": null,
            "_view_module_version": "1.2.0",
            "grid_template_areas": null,
            "object_position": null,
            "object_fit": null,
            "grid_auto_columns": null,
            "margin": null,
            "display": null,
            "left": null
          }
        },
        "169c16de3ec14076845e8e3c931556c8": {
          "model_module": "@jupyter-widgets/controls",
          "model_name": "DescriptionStyleModel",
          "state": {
            "_view_name": "StyleView",
            "_model_name": "DescriptionStyleModel",
            "description_width": "",
            "_view_module": "@jupyter-widgets/base",
            "_model_module_version": "1.5.0",
            "_view_count": null,
            "_view_module_version": "1.2.0",
            "_model_module": "@jupyter-widgets/controls"
          }
        },
        "c3c939f281e94c21a5f66244201c495e": {
          "model_module": "@jupyter-widgets/base",
          "model_name": "LayoutModel",
          "state": {
            "_view_name": "LayoutView",
            "grid_template_rows": null,
            "right": null,
            "justify_content": null,
            "_view_module": "@jupyter-widgets/base",
            "overflow": null,
            "_model_module_version": "1.2.0",
            "_view_count": null,
            "flex_flow": null,
            "width": null,
            "min_width": null,
            "border": null,
            "align_items": null,
            "bottom": null,
            "_model_module": "@jupyter-widgets/base",
            "top": null,
            "grid_column": null,
            "overflow_y": null,
            "overflow_x": null,
            "grid_auto_flow": null,
            "grid_area": null,
            "grid_template_columns": null,
            "flex": null,
            "_model_name": "LayoutModel",
            "justify_items": null,
            "grid_row": null,
            "max_height": null,
            "align_content": null,
            "visibility": null,
            "align_self": null,
            "height": null,
            "min_height": null,
            "padding": null,
            "grid_auto_rows": null,
            "grid_gap": null,
            "max_width": null,
            "order": null,
            "_view_module_version": "1.2.0",
            "grid_template_areas": null,
            "object_position": null,
            "object_fit": null,
            "grid_auto_columns": null,
            "margin": null,
            "display": null,
            "left": null
          }
        },
        "b187920c8a45421b8f163a2df91cf1a4": {
          "model_module": "@jupyter-widgets/controls",
          "model_name": "HBoxModel",
          "state": {
            "_view_name": "HBoxView",
            "_dom_classes": [],
            "_model_name": "HBoxModel",
            "_view_module": "@jupyter-widgets/controls",
            "_model_module_version": "1.5.0",
            "_view_count": null,
            "_view_module_version": "1.5.0",
            "box_style": "",
            "layout": "IPY_MODEL_f2b4a2b131004e1aa9fc08dc66e1a8ca",
            "_model_module": "@jupyter-widgets/controls",
            "children": [
              "IPY_MODEL_c30c0c2fb1ca4316b640fb41992ce611",
              "IPY_MODEL_08e1ef45dcd84484a2a3b6660ed58e9e"
            ]
          }
        },
        "f2b4a2b131004e1aa9fc08dc66e1a8ca": {
          "model_module": "@jupyter-widgets/base",
          "model_name": "LayoutModel",
          "state": {
            "_view_name": "LayoutView",
            "grid_template_rows": null,
            "right": null,
            "justify_content": null,
            "_view_module": "@jupyter-widgets/base",
            "overflow": null,
            "_model_module_version": "1.2.0",
            "_view_count": null,
            "flex_flow": null,
            "width": null,
            "min_width": null,
            "border": null,
            "align_items": null,
            "bottom": null,
            "_model_module": "@jupyter-widgets/base",
            "top": null,
            "grid_column": null,
            "overflow_y": null,
            "overflow_x": null,
            "grid_auto_flow": null,
            "grid_area": null,
            "grid_template_columns": null,
            "flex": null,
            "_model_name": "LayoutModel",
            "justify_items": null,
            "grid_row": null,
            "max_height": null,
            "align_content": null,
            "visibility": null,
            "align_self": null,
            "height": null,
            "min_height": null,
            "padding": null,
            "grid_auto_rows": null,
            "grid_gap": null,
            "max_width": null,
            "order": null,
            "_view_module_version": "1.2.0",
            "grid_template_areas": null,
            "object_position": null,
            "object_fit": null,
            "grid_auto_columns": null,
            "margin": null,
            "display": null,
            "left": null
          }
        },
        "c30c0c2fb1ca4316b640fb41992ce611": {
          "model_module": "@jupyter-widgets/controls",
          "model_name": "FloatProgressModel",
          "state": {
            "_view_name": "ProgressView",
            "style": "IPY_MODEL_5bf801ae97b843ddbadfcee1006b55a9",
            "_dom_classes": [],
            "description": "",
            "_model_name": "FloatProgressModel",
            "bar_style": "info",
            "max": 1,
            "_view_module": "@jupyter-widgets/controls",
            "_model_module_version": "1.5.0",
            "value": 1,
            "_view_count": null,
            "_view_module_version": "1.5.0",
            "orientation": "horizontal",
            "min": 0,
            "description_tooltip": null,
            "_model_module": "@jupyter-widgets/controls",
            "layout": "IPY_MODEL_5ed4807256f448b6aa00c2707a2aef8b"
          }
        },
        "08e1ef45dcd84484a2a3b6660ed58e9e": {
          "model_module": "@jupyter-widgets/controls",
          "model_name": "HTMLModel",
          "state": {
            "_view_name": "HTMLView",
            "style": "IPY_MODEL_fa6b9bdec8384b7a9b4f2e1129032e60",
            "_dom_classes": [],
            "description": "",
            "_model_name": "HTMLModel",
            "placeholder": "​",
            "_view_module": "@jupyter-widgets/controls",
            "_model_module_version": "1.5.0",
            "value": " 3399/0 [00:03&lt;00:00,  2.33s/ examples]",
            "_view_count": null,
            "_view_module_version": "1.5.0",
            "description_tooltip": null,
            "_model_module": "@jupyter-widgets/controls",
            "layout": "IPY_MODEL_8cacc2e9ff2c42aab05351cfa87afeaa"
          }
        },
        "5bf801ae97b843ddbadfcee1006b55a9": {
          "model_module": "@jupyter-widgets/controls",
          "model_name": "ProgressStyleModel",
          "state": {
            "_view_name": "StyleView",
            "_model_name": "ProgressStyleModel",
            "description_width": "initial",
            "_view_module": "@jupyter-widgets/base",
            "_model_module_version": "1.5.0",
            "_view_count": null,
            "_view_module_version": "1.2.0",
            "bar_color": null,
            "_model_module": "@jupyter-widgets/controls"
          }
        },
        "5ed4807256f448b6aa00c2707a2aef8b": {
          "model_module": "@jupyter-widgets/base",
          "model_name": "LayoutModel",
          "state": {
            "_view_name": "LayoutView",
            "grid_template_rows": null,
            "right": null,
            "justify_content": null,
            "_view_module": "@jupyter-widgets/base",
            "overflow": null,
            "_model_module_version": "1.2.0",
            "_view_count": null,
            "flex_flow": null,
            "width": null,
            "min_width": null,
            "border": null,
            "align_items": null,
            "bottom": null,
            "_model_module": "@jupyter-widgets/base",
            "top": null,
            "grid_column": null,
            "overflow_y": null,
            "overflow_x": null,
            "grid_auto_flow": null,
            "grid_area": null,
            "grid_template_columns": null,
            "flex": null,
            "_model_name": "LayoutModel",
            "justify_items": null,
            "grid_row": null,
            "max_height": null,
            "align_content": null,
            "visibility": null,
            "align_self": null,
            "height": null,
            "min_height": null,
            "padding": null,
            "grid_auto_rows": null,
            "grid_gap": null,
            "max_width": null,
            "order": null,
            "_view_module_version": "1.2.0",
            "grid_template_areas": null,
            "object_position": null,
            "object_fit": null,
            "grid_auto_columns": null,
            "margin": null,
            "display": null,
            "left": null
          }
        },
        "fa6b9bdec8384b7a9b4f2e1129032e60": {
          "model_module": "@jupyter-widgets/controls",
          "model_name": "DescriptionStyleModel",
          "state": {
            "_view_name": "StyleView",
            "_model_name": "DescriptionStyleModel",
            "description_width": "",
            "_view_module": "@jupyter-widgets/base",
            "_model_module_version": "1.5.0",
            "_view_count": null,
            "_view_module_version": "1.2.0",
            "_model_module": "@jupyter-widgets/controls"
          }
        },
        "8cacc2e9ff2c42aab05351cfa87afeaa": {
          "model_module": "@jupyter-widgets/base",
          "model_name": "LayoutModel",
          "state": {
            "_view_name": "LayoutView",
            "grid_template_rows": null,
            "right": null,
            "justify_content": null,
            "_view_module": "@jupyter-widgets/base",
            "overflow": null,
            "_model_module_version": "1.2.0",
            "_view_count": null,
            "flex_flow": null,
            "width": null,
            "min_width": null,
            "border": null,
            "align_items": null,
            "bottom": null,
            "_model_module": "@jupyter-widgets/base",
            "top": null,
            "grid_column": null,
            "overflow_y": null,
            "overflow_x": null,
            "grid_auto_flow": null,
            "grid_area": null,
            "grid_template_columns": null,
            "flex": null,
            "_model_name": "LayoutModel",
            "justify_items": null,
            "grid_row": null,
            "max_height": null,
            "align_content": null,
            "visibility": null,
            "align_self": null,
            "height": null,
            "min_height": null,
            "padding": null,
            "grid_auto_rows": null,
            "grid_gap": null,
            "max_width": null,
            "order": null,
            "_view_module_version": "1.2.0",
            "grid_template_areas": null,
            "object_position": null,
            "object_fit": null,
            "grid_auto_columns": null,
            "margin": null,
            "display": null,
            "left": null
          }
        },
        "d96d2d70e07741d7b40c48423a4ecf1c": {
          "model_module": "@jupyter-widgets/controls",
          "model_name": "HBoxModel",
          "state": {
            "_view_name": "HBoxView",
            "_dom_classes": [],
            "_model_name": "HBoxModel",
            "_view_module": "@jupyter-widgets/controls",
            "_model_module_version": "1.5.0",
            "_view_count": null,
            "_view_module_version": "1.5.0",
            "box_style": "",
            "layout": "IPY_MODEL_7a46eded339b4643bfd720f499627c56",
            "_model_module": "@jupyter-widgets/controls",
            "children": [
              "IPY_MODEL_35e833b194e94c4aad0027510f5b135c",
              "IPY_MODEL_ff68e0adecec469892ec03b621721eaa"
            ]
          }
        },
        "7a46eded339b4643bfd720f499627c56": {
          "model_module": "@jupyter-widgets/base",
          "model_name": "LayoutModel",
          "state": {
            "_view_name": "LayoutView",
            "grid_template_rows": null,
            "right": null,
            "justify_content": null,
            "_view_module": "@jupyter-widgets/base",
            "overflow": null,
            "_model_module_version": "1.2.0",
            "_view_count": null,
            "flex_flow": null,
            "width": null,
            "min_width": null,
            "border": null,
            "align_items": null,
            "bottom": null,
            "_model_module": "@jupyter-widgets/base",
            "top": null,
            "grid_column": null,
            "overflow_y": null,
            "overflow_x": null,
            "grid_auto_flow": null,
            "grid_area": null,
            "grid_template_columns": null,
            "flex": null,
            "_model_name": "LayoutModel",
            "justify_items": null,
            "grid_row": null,
            "max_height": null,
            "align_content": null,
            "visibility": null,
            "align_self": null,
            "height": null,
            "min_height": null,
            "padding": null,
            "grid_auto_rows": null,
            "grid_gap": null,
            "max_width": null,
            "order": null,
            "_view_module_version": "1.2.0",
            "grid_template_areas": null,
            "object_position": null,
            "object_fit": null,
            "grid_auto_columns": null,
            "margin": null,
            "display": null,
            "left": null
          }
        },
        "35e833b194e94c4aad0027510f5b135c": {
          "model_module": "@jupyter-widgets/controls",
          "model_name": "FloatProgressModel",
          "state": {
            "_view_name": "ProgressView",
            "style": "IPY_MODEL_b5d91e4f77a14606802945b99e2ef8a2",
            "_dom_classes": [],
            "description": "",
            "_model_name": "FloatProgressModel",
            "bar_style": "info",
            "max": 1,
            "_view_module": "@jupyter-widgets/controls",
            "_model_module_version": "1.5.0",
            "value": 1,
            "_view_count": null,
            "_view_module_version": "1.5.0",
            "orientation": "horizontal",
            "min": 0,
            "description_tooltip": null,
            "_model_module": "@jupyter-widgets/controls",
            "layout": "IPY_MODEL_66f2dc6b3c784f129ac38f8b85549502"
          }
        },
        "ff68e0adecec469892ec03b621721eaa": {
          "model_module": "@jupyter-widgets/controls",
          "model_name": "HTMLModel",
          "state": {
            "_view_name": "HTMLView",
            "style": "IPY_MODEL_09cb32980c3945a08e1a13186db39b0a",
            "_dom_classes": [],
            "description": "",
            "_model_name": "HTMLModel",
            "placeholder": "​",
            "_view_module": "@jupyter-widgets/controls",
            "_model_module_version": "1.5.0",
            "value": " 1778/0 [00:00&lt;00:00, 12247.91 examples/s]",
            "_view_count": null,
            "_view_module_version": "1.5.0",
            "description_tooltip": null,
            "_model_module": "@jupyter-widgets/controls",
            "layout": "IPY_MODEL_fdcdbc5d117c4960ac7b53d52c8336cb"
          }
        },
        "b5d91e4f77a14606802945b99e2ef8a2": {
          "model_module": "@jupyter-widgets/controls",
          "model_name": "ProgressStyleModel",
          "state": {
            "_view_name": "StyleView",
            "_model_name": "ProgressStyleModel",
            "description_width": "initial",
            "_view_module": "@jupyter-widgets/base",
            "_model_module_version": "1.5.0",
            "_view_count": null,
            "_view_module_version": "1.2.0",
            "bar_color": null,
            "_model_module": "@jupyter-widgets/controls"
          }
        },
        "66f2dc6b3c784f129ac38f8b85549502": {
          "model_module": "@jupyter-widgets/base",
          "model_name": "LayoutModel",
          "state": {
            "_view_name": "LayoutView",
            "grid_template_rows": null,
            "right": null,
            "justify_content": null,
            "_view_module": "@jupyter-widgets/base",
            "overflow": null,
            "_model_module_version": "1.2.0",
            "_view_count": null,
            "flex_flow": null,
            "width": null,
            "min_width": null,
            "border": null,
            "align_items": null,
            "bottom": null,
            "_model_module": "@jupyter-widgets/base",
            "top": null,
            "grid_column": null,
            "overflow_y": null,
            "overflow_x": null,
            "grid_auto_flow": null,
            "grid_area": null,
            "grid_template_columns": null,
            "flex": null,
            "_model_name": "LayoutModel",
            "justify_items": null,
            "grid_row": null,
            "max_height": null,
            "align_content": null,
            "visibility": null,
            "align_self": null,
            "height": null,
            "min_height": null,
            "padding": null,
            "grid_auto_rows": null,
            "grid_gap": null,
            "max_width": null,
            "order": null,
            "_view_module_version": "1.2.0",
            "grid_template_areas": null,
            "object_position": null,
            "object_fit": null,
            "grid_auto_columns": null,
            "margin": null,
            "display": null,
            "left": null
          }
        },
        "09cb32980c3945a08e1a13186db39b0a": {
          "model_module": "@jupyter-widgets/controls",
          "model_name": "DescriptionStyleModel",
          "state": {
            "_view_name": "StyleView",
            "_model_name": "DescriptionStyleModel",
            "description_width": "",
            "_view_module": "@jupyter-widgets/base",
            "_model_module_version": "1.5.0",
            "_view_count": null,
            "_view_module_version": "1.2.0",
            "_model_module": "@jupyter-widgets/controls"
          }
        },
        "fdcdbc5d117c4960ac7b53d52c8336cb": {
          "model_module": "@jupyter-widgets/base",
          "model_name": "LayoutModel",
          "state": {
            "_view_name": "LayoutView",
            "grid_template_rows": null,
            "right": null,
            "justify_content": null,
            "_view_module": "@jupyter-widgets/base",
            "overflow": null,
            "_model_module_version": "1.2.0",
            "_view_count": null,
            "flex_flow": null,
            "width": null,
            "min_width": null,
            "border": null,
            "align_items": null,
            "bottom": null,
            "_model_module": "@jupyter-widgets/base",
            "top": null,
            "grid_column": null,
            "overflow_y": null,
            "overflow_x": null,
            "grid_auto_flow": null,
            "grid_area": null,
            "grid_template_columns": null,
            "flex": null,
            "_model_name": "LayoutModel",
            "justify_items": null,
            "grid_row": null,
            "max_height": null,
            "align_content": null,
            "visibility": null,
            "align_self": null,
            "height": null,
            "min_height": null,
            "padding": null,
            "grid_auto_rows": null,
            "grid_gap": null,
            "max_width": null,
            "order": null,
            "_view_module_version": "1.2.0",
            "grid_template_areas": null,
            "object_position": null,
            "object_fit": null,
            "grid_auto_columns": null,
            "margin": null,
            "display": null,
            "left": null
          }
        },
        "7e62edf610544fdebad890c506e72801": {
          "model_module": "@jupyter-widgets/controls",
          "model_name": "HBoxModel",
          "state": {
            "_view_name": "HBoxView",
            "_dom_classes": [],
            "_model_name": "HBoxModel",
            "_view_module": "@jupyter-widgets/controls",
            "_model_module_version": "1.5.0",
            "_view_count": null,
            "_view_module_version": "1.5.0",
            "box_style": "",
            "layout": "IPY_MODEL_91fd516857754f53bd8ccb1ef6ff31d6",
            "_model_module": "@jupyter-widgets/controls",
            "children": [
              "IPY_MODEL_8d605dac87d24053a5154d1774f8c25f",
              "IPY_MODEL_bfe1ed0a7e3c4329957491bbd9ef3bc7"
            ]
          }
        },
        "91fd516857754f53bd8ccb1ef6ff31d6": {
          "model_module": "@jupyter-widgets/base",
          "model_name": "LayoutModel",
          "state": {
            "_view_name": "LayoutView",
            "grid_template_rows": null,
            "right": null,
            "justify_content": null,
            "_view_module": "@jupyter-widgets/base",
            "overflow": null,
            "_model_module_version": "1.2.0",
            "_view_count": null,
            "flex_flow": null,
            "width": null,
            "min_width": null,
            "border": null,
            "align_items": null,
            "bottom": null,
            "_model_module": "@jupyter-widgets/base",
            "top": null,
            "grid_column": null,
            "overflow_y": null,
            "overflow_x": null,
            "grid_auto_flow": null,
            "grid_area": null,
            "grid_template_columns": null,
            "flex": null,
            "_model_name": "LayoutModel",
            "justify_items": null,
            "grid_row": null,
            "max_height": null,
            "align_content": null,
            "visibility": null,
            "align_self": null,
            "height": null,
            "min_height": null,
            "padding": null,
            "grid_auto_rows": null,
            "grid_gap": null,
            "max_width": null,
            "order": null,
            "_view_module_version": "1.2.0",
            "grid_template_areas": null,
            "object_position": null,
            "object_fit": null,
            "grid_auto_columns": null,
            "margin": null,
            "display": null,
            "left": null
          }
        },
        "8d605dac87d24053a5154d1774f8c25f": {
          "model_module": "@jupyter-widgets/controls",
          "model_name": "FloatProgressModel",
          "state": {
            "_view_name": "ProgressView",
            "style": "IPY_MODEL_bc315137412c42858a505f89e192dfc8",
            "_dom_classes": [],
            "description": "",
            "_model_name": "FloatProgressModel",
            "bar_style": "info",
            "max": 1,
            "_view_module": "@jupyter-widgets/controls",
            "_model_module_version": "1.5.0",
            "value": 1,
            "_view_count": null,
            "_view_module_version": "1.5.0",
            "orientation": "horizontal",
            "min": 0,
            "description_tooltip": null,
            "_model_module": "@jupyter-widgets/controls",
            "layout": "IPY_MODEL_126d8567115e4b63815dafc4c7706712"
          }
        },
        "bfe1ed0a7e3c4329957491bbd9ef3bc7": {
          "model_module": "@jupyter-widgets/controls",
          "model_name": "HTMLModel",
          "state": {
            "_view_name": "HTMLView",
            "style": "IPY_MODEL_1cbc8b7552124aff99d6fe93f69e4aa9",
            "_dom_classes": [],
            "description": "",
            "_model_name": "HTMLModel",
            "placeholder": "​",
            "_view_module": "@jupyter-widgets/controls",
            "_model_module_version": "1.5.0",
            "value": " 858/0 [00:00&lt;00:00, 11590.36 examples/s]",
            "_view_count": null,
            "_view_module_version": "1.5.0",
            "description_tooltip": null,
            "_model_module": "@jupyter-widgets/controls",
            "layout": "IPY_MODEL_74d923e2e2e94c3888585401d59d2620"
          }
        },
        "bc315137412c42858a505f89e192dfc8": {
          "model_module": "@jupyter-widgets/controls",
          "model_name": "ProgressStyleModel",
          "state": {
            "_view_name": "StyleView",
            "_model_name": "ProgressStyleModel",
            "description_width": "initial",
            "_view_module": "@jupyter-widgets/base",
            "_model_module_version": "1.5.0",
            "_view_count": null,
            "_view_module_version": "1.2.0",
            "bar_color": null,
            "_model_module": "@jupyter-widgets/controls"
          }
        },
        "126d8567115e4b63815dafc4c7706712": {
          "model_module": "@jupyter-widgets/base",
          "model_name": "LayoutModel",
          "state": {
            "_view_name": "LayoutView",
            "grid_template_rows": null,
            "right": null,
            "justify_content": null,
            "_view_module": "@jupyter-widgets/base",
            "overflow": null,
            "_model_module_version": "1.2.0",
            "_view_count": null,
            "flex_flow": null,
            "width": null,
            "min_width": null,
            "border": null,
            "align_items": null,
            "bottom": null,
            "_model_module": "@jupyter-widgets/base",
            "top": null,
            "grid_column": null,
            "overflow_y": null,
            "overflow_x": null,
            "grid_auto_flow": null,
            "grid_area": null,
            "grid_template_columns": null,
            "flex": null,
            "_model_name": "LayoutModel",
            "justify_items": null,
            "grid_row": null,
            "max_height": null,
            "align_content": null,
            "visibility": null,
            "align_self": null,
            "height": null,
            "min_height": null,
            "padding": null,
            "grid_auto_rows": null,
            "grid_gap": null,
            "max_width": null,
            "order": null,
            "_view_module_version": "1.2.0",
            "grid_template_areas": null,
            "object_position": null,
            "object_fit": null,
            "grid_auto_columns": null,
            "margin": null,
            "display": null,
            "left": null
          }
        },
        "1cbc8b7552124aff99d6fe93f69e4aa9": {
          "model_module": "@jupyter-widgets/controls",
          "model_name": "DescriptionStyleModel",
          "state": {
            "_view_name": "StyleView",
            "_model_name": "DescriptionStyleModel",
            "description_width": "",
            "_view_module": "@jupyter-widgets/base",
            "_model_module_version": "1.5.0",
            "_view_count": null,
            "_view_module_version": "1.2.0",
            "_model_module": "@jupyter-widgets/controls"
          }
        },
        "74d923e2e2e94c3888585401d59d2620": {
          "model_module": "@jupyter-widgets/base",
          "model_name": "LayoutModel",
          "state": {
            "_view_name": "LayoutView",
            "grid_template_rows": null,
            "right": null,
            "justify_content": null,
            "_view_module": "@jupyter-widgets/base",
            "overflow": null,
            "_model_module_version": "1.2.0",
            "_view_count": null,
            "flex_flow": null,
            "width": null,
            "min_width": null,
            "border": null,
            "align_items": null,
            "bottom": null,
            "_model_module": "@jupyter-widgets/base",
            "top": null,
            "grid_column": null,
            "overflow_y": null,
            "overflow_x": null,
            "grid_auto_flow": null,
            "grid_area": null,
            "grid_template_columns": null,
            "flex": null,
            "_model_name": "LayoutModel",
            "justify_items": null,
            "grid_row": null,
            "max_height": null,
            "align_content": null,
            "visibility": null,
            "align_self": null,
            "height": null,
            "min_height": null,
            "padding": null,
            "grid_auto_rows": null,
            "grid_gap": null,
            "max_width": null,
            "order": null,
            "_view_module_version": "1.2.0",
            "grid_template_areas": null,
            "object_position": null,
            "object_fit": null,
            "grid_auto_columns": null,
            "margin": null,
            "display": null,
            "left": null
          }
        },
        "85632c1755fd4646af4b607a93622c79": {
          "model_module": "@jupyter-widgets/controls",
          "model_name": "HBoxModel",
          "state": {
            "_view_name": "HBoxView",
            "_dom_classes": [],
            "_model_name": "HBoxModel",
            "_view_module": "@jupyter-widgets/controls",
            "_model_module_version": "1.5.0",
            "_view_count": null,
            "_view_module_version": "1.5.0",
            "box_style": "",
            "layout": "IPY_MODEL_7ce93c3db28745bfab73eaf543345d37",
            "_model_module": "@jupyter-widgets/controls",
            "children": [
              "IPY_MODEL_e52b6a19539c4581ba913f6a1c62bef6",
              "IPY_MODEL_076e3b8d448a460d9356f9c8107bdb1b"
            ]
          }
        },
        "7ce93c3db28745bfab73eaf543345d37": {
          "model_module": "@jupyter-widgets/base",
          "model_name": "LayoutModel",
          "state": {
            "_view_name": "LayoutView",
            "grid_template_rows": null,
            "right": null,
            "justify_content": null,
            "_view_module": "@jupyter-widgets/base",
            "overflow": null,
            "_model_module_version": "1.2.0",
            "_view_count": null,
            "flex_flow": null,
            "width": null,
            "min_width": null,
            "border": null,
            "align_items": null,
            "bottom": null,
            "_model_module": "@jupyter-widgets/base",
            "top": null,
            "grid_column": null,
            "overflow_y": null,
            "overflow_x": null,
            "grid_auto_flow": null,
            "grid_area": null,
            "grid_template_columns": null,
            "flex": null,
            "_model_name": "LayoutModel",
            "justify_items": null,
            "grid_row": null,
            "max_height": null,
            "align_content": null,
            "visibility": null,
            "align_self": null,
            "height": null,
            "min_height": null,
            "padding": null,
            "grid_auto_rows": null,
            "grid_gap": null,
            "max_width": null,
            "order": null,
            "_view_module_version": "1.2.0",
            "grid_template_areas": null,
            "object_position": null,
            "object_fit": null,
            "grid_auto_columns": null,
            "margin": null,
            "display": null,
            "left": null
          }
        },
        "e52b6a19539c4581ba913f6a1c62bef6": {
          "model_module": "@jupyter-widgets/controls",
          "model_name": "FloatProgressModel",
          "state": {
            "_view_name": "ProgressView",
            "style": "IPY_MODEL_ed60e64e5e914407ae9ac9529f90125d",
            "_dom_classes": [],
            "description": "",
            "_model_name": "FloatProgressModel",
            "bar_style": "info",
            "max": 1,
            "_view_module": "@jupyter-widgets/controls",
            "_model_module_version": "1.5.0",
            "value": 1,
            "_view_count": null,
            "_view_module_version": "1.5.0",
            "orientation": "horizontal",
            "min": 0,
            "description_tooltip": null,
            "_model_module": "@jupyter-widgets/controls",
            "layout": "IPY_MODEL_04ef4fc331f845ae93392c0b4b29eb37"
          }
        },
        "076e3b8d448a460d9356f9c8107bdb1b": {
          "model_module": "@jupyter-widgets/controls",
          "model_name": "HTMLModel",
          "state": {
            "_view_name": "HTMLView",
            "style": "IPY_MODEL_cde0cb914d1245feb954960400acc3c1",
            "_dom_classes": [],
            "description": "",
            "_model_name": "HTMLModel",
            "placeholder": "​",
            "_view_module": "@jupyter-widgets/controls",
            "_model_module_version": "1.5.0",
            "value": " 1945/0 [00:00&lt;00:00, 13286.74 examples/s]",
            "_view_count": null,
            "_view_module_version": "1.5.0",
            "description_tooltip": null,
            "_model_module": "@jupyter-widgets/controls",
            "layout": "IPY_MODEL_fec9ccf939dd4844b5b91c036b089f23"
          }
        },
        "ed60e64e5e914407ae9ac9529f90125d": {
          "model_module": "@jupyter-widgets/controls",
          "model_name": "ProgressStyleModel",
          "state": {
            "_view_name": "StyleView",
            "_model_name": "ProgressStyleModel",
            "description_width": "initial",
            "_view_module": "@jupyter-widgets/base",
            "_model_module_version": "1.5.0",
            "_view_count": null,
            "_view_module_version": "1.2.0",
            "bar_color": null,
            "_model_module": "@jupyter-widgets/controls"
          }
        },
        "04ef4fc331f845ae93392c0b4b29eb37": {
          "model_module": "@jupyter-widgets/base",
          "model_name": "LayoutModel",
          "state": {
            "_view_name": "LayoutView",
            "grid_template_rows": null,
            "right": null,
            "justify_content": null,
            "_view_module": "@jupyter-widgets/base",
            "overflow": null,
            "_model_module_version": "1.2.0",
            "_view_count": null,
            "flex_flow": null,
            "width": null,
            "min_width": null,
            "border": null,
            "align_items": null,
            "bottom": null,
            "_model_module": "@jupyter-widgets/base",
            "top": null,
            "grid_column": null,
            "overflow_y": null,
            "overflow_x": null,
            "grid_auto_flow": null,
            "grid_area": null,
            "grid_template_columns": null,
            "flex": null,
            "_model_name": "LayoutModel",
            "justify_items": null,
            "grid_row": null,
            "max_height": null,
            "align_content": null,
            "visibility": null,
            "align_self": null,
            "height": null,
            "min_height": null,
            "padding": null,
            "grid_auto_rows": null,
            "grid_gap": null,
            "max_width": null,
            "order": null,
            "_view_module_version": "1.2.0",
            "grid_template_areas": null,
            "object_position": null,
            "object_fit": null,
            "grid_auto_columns": null,
            "margin": null,
            "display": null,
            "left": null
          }
        },
        "cde0cb914d1245feb954960400acc3c1": {
          "model_module": "@jupyter-widgets/controls",
          "model_name": "DescriptionStyleModel",
          "state": {
            "_view_name": "StyleView",
            "_model_name": "DescriptionStyleModel",
            "description_width": "",
            "_view_module": "@jupyter-widgets/base",
            "_model_module_version": "1.5.0",
            "_view_count": null,
            "_view_module_version": "1.2.0",
            "_model_module": "@jupyter-widgets/controls"
          }
        },
        "fec9ccf939dd4844b5b91c036b089f23": {
          "model_module": "@jupyter-widgets/base",
          "model_name": "LayoutModel",
          "state": {
            "_view_name": "LayoutView",
            "grid_template_rows": null,
            "right": null,
            "justify_content": null,
            "_view_module": "@jupyter-widgets/base",
            "overflow": null,
            "_model_module_version": "1.2.0",
            "_view_count": null,
            "flex_flow": null,
            "width": null,
            "min_width": null,
            "border": null,
            "align_items": null,
            "bottom": null,
            "_model_module": "@jupyter-widgets/base",
            "top": null,
            "grid_column": null,
            "overflow_y": null,
            "overflow_x": null,
            "grid_auto_flow": null,
            "grid_area": null,
            "grid_template_columns": null,
            "flex": null,
            "_model_name": "LayoutModel",
            "justify_items": null,
            "grid_row": null,
            "max_height": null,
            "align_content": null,
            "visibility": null,
            "align_self": null,
            "height": null,
            "min_height": null,
            "padding": null,
            "grid_auto_rows": null,
            "grid_gap": null,
            "max_width": null,
            "order": null,
            "_view_module_version": "1.2.0",
            "grid_template_areas": null,
            "object_position": null,
            "object_fit": null,
            "grid_auto_columns": null,
            "margin": null,
            "display": null,
            "left": null
          }
        },
        "f6abde78ef8349be8d084c3444add857": {
          "model_module": "@jupyter-widgets/controls",
          "model_name": "HBoxModel",
          "state": {
            "_view_name": "HBoxView",
            "_dom_classes": [],
            "_model_name": "HBoxModel",
            "_view_module": "@jupyter-widgets/controls",
            "_model_module_version": "1.5.0",
            "_view_count": null,
            "_view_module_version": "1.5.0",
            "box_style": "",
            "layout": "IPY_MODEL_75615fd9e5ec4521a3e5429ba0daba75",
            "_model_module": "@jupyter-widgets/controls",
            "children": [
              "IPY_MODEL_2c6f5e1fad784114ac75b78641fa7c83",
              "IPY_MODEL_4545f22a021746dfb66c3a487865c9e5"
            ]
          }
        },
        "75615fd9e5ec4521a3e5429ba0daba75": {
          "model_module": "@jupyter-widgets/base",
          "model_name": "LayoutModel",
          "state": {
            "_view_name": "LayoutView",
            "grid_template_rows": null,
            "right": null,
            "justify_content": null,
            "_view_module": "@jupyter-widgets/base",
            "overflow": null,
            "_model_module_version": "1.2.0",
            "_view_count": null,
            "flex_flow": null,
            "width": null,
            "min_width": null,
            "border": null,
            "align_items": null,
            "bottom": null,
            "_model_module": "@jupyter-widgets/base",
            "top": null,
            "grid_column": null,
            "overflow_y": null,
            "overflow_x": null,
            "grid_auto_flow": null,
            "grid_area": null,
            "grid_template_columns": null,
            "flex": null,
            "_model_name": "LayoutModel",
            "justify_items": null,
            "grid_row": null,
            "max_height": null,
            "align_content": null,
            "visibility": null,
            "align_self": null,
            "height": null,
            "min_height": null,
            "padding": null,
            "grid_auto_rows": null,
            "grid_gap": null,
            "max_width": null,
            "order": null,
            "_view_module_version": "1.2.0",
            "grid_template_areas": null,
            "object_position": null,
            "object_fit": null,
            "grid_auto_columns": null,
            "margin": null,
            "display": null,
            "left": null
          }
        },
        "2c6f5e1fad784114ac75b78641fa7c83": {
          "model_module": "@jupyter-widgets/controls",
          "model_name": "FloatProgressModel",
          "state": {
            "_view_name": "ProgressView",
            "style": "IPY_MODEL_80ce777e00f44185826cd7f98a6f9db5",
            "_dom_classes": [],
            "description": "",
            "_model_name": "FloatProgressModel",
            "bar_style": "info",
            "max": 1,
            "_view_module": "@jupyter-widgets/controls",
            "_model_module_version": "1.5.0",
            "value": 1,
            "_view_count": null,
            "_view_module_version": "1.5.0",
            "orientation": "horizontal",
            "min": 0,
            "description_tooltip": null,
            "_model_module": "@jupyter-widgets/controls",
            "layout": "IPY_MODEL_74bec13af3534eccad23bb10a0990793"
          }
        },
        "4545f22a021746dfb66c3a487865c9e5": {
          "model_module": "@jupyter-widgets/controls",
          "model_name": "HTMLModel",
          "state": {
            "_view_name": "HTMLView",
            "style": "IPY_MODEL_fcc3a529b1a648bcb262c82ae3a117e1",
            "_dom_classes": [],
            "description": "",
            "_model_name": "HTMLModel",
            "placeholder": "​",
            "_view_module": "@jupyter-widgets/controls",
            "_model_module_version": "1.5.0",
            "value": " 485/0 [00:00&lt;00:00, 9097.62 examples/s]",
            "_view_count": null,
            "_view_module_version": "1.5.0",
            "description_tooltip": null,
            "_model_module": "@jupyter-widgets/controls",
            "layout": "IPY_MODEL_6c438783d3a94f1288984d54a462748f"
          }
        },
        "80ce777e00f44185826cd7f98a6f9db5": {
          "model_module": "@jupyter-widgets/controls",
          "model_name": "ProgressStyleModel",
          "state": {
            "_view_name": "StyleView",
            "_model_name": "ProgressStyleModel",
            "description_width": "initial",
            "_view_module": "@jupyter-widgets/base",
            "_model_module_version": "1.5.0",
            "_view_count": null,
            "_view_module_version": "1.2.0",
            "bar_color": null,
            "_model_module": "@jupyter-widgets/controls"
          }
        },
        "74bec13af3534eccad23bb10a0990793": {
          "model_module": "@jupyter-widgets/base",
          "model_name": "LayoutModel",
          "state": {
            "_view_name": "LayoutView",
            "grid_template_rows": null,
            "right": null,
            "justify_content": null,
            "_view_module": "@jupyter-widgets/base",
            "overflow": null,
            "_model_module_version": "1.2.0",
            "_view_count": null,
            "flex_flow": null,
            "width": null,
            "min_width": null,
            "border": null,
            "align_items": null,
            "bottom": null,
            "_model_module": "@jupyter-widgets/base",
            "top": null,
            "grid_column": null,
            "overflow_y": null,
            "overflow_x": null,
            "grid_auto_flow": null,
            "grid_area": null,
            "grid_template_columns": null,
            "flex": null,
            "_model_name": "LayoutModel",
            "justify_items": null,
            "grid_row": null,
            "max_height": null,
            "align_content": null,
            "visibility": null,
            "align_self": null,
            "height": null,
            "min_height": null,
            "padding": null,
            "grid_auto_rows": null,
            "grid_gap": null,
            "max_width": null,
            "order": null,
            "_view_module_version": "1.2.0",
            "grid_template_areas": null,
            "object_position": null,
            "object_fit": null,
            "grid_auto_columns": null,
            "margin": null,
            "display": null,
            "left": null
          }
        },
        "fcc3a529b1a648bcb262c82ae3a117e1": {
          "model_module": "@jupyter-widgets/controls",
          "model_name": "DescriptionStyleModel",
          "state": {
            "_view_name": "StyleView",
            "_model_name": "DescriptionStyleModel",
            "description_width": "",
            "_view_module": "@jupyter-widgets/base",
            "_model_module_version": "1.5.0",
            "_view_count": null,
            "_view_module_version": "1.2.0",
            "_model_module": "@jupyter-widgets/controls"
          }
        },
        "6c438783d3a94f1288984d54a462748f": {
          "model_module": "@jupyter-widgets/base",
          "model_name": "LayoutModel",
          "state": {
            "_view_name": "LayoutView",
            "grid_template_rows": null,
            "right": null,
            "justify_content": null,
            "_view_module": "@jupyter-widgets/base",
            "overflow": null,
            "_model_module_version": "1.2.0",
            "_view_count": null,
            "flex_flow": null,
            "width": null,
            "min_width": null,
            "border": null,
            "align_items": null,
            "bottom": null,
            "_model_module": "@jupyter-widgets/base",
            "top": null,
            "grid_column": null,
            "overflow_y": null,
            "overflow_x": null,
            "grid_auto_flow": null,
            "grid_area": null,
            "grid_template_columns": null,
            "flex": null,
            "_model_name": "LayoutModel",
            "justify_items": null,
            "grid_row": null,
            "max_height": null,
            "align_content": null,
            "visibility": null,
            "align_self": null,
            "height": null,
            "min_height": null,
            "padding": null,
            "grid_auto_rows": null,
            "grid_gap": null,
            "max_width": null,
            "order": null,
            "_view_module_version": "1.2.0",
            "grid_template_areas": null,
            "object_position": null,
            "object_fit": null,
            "grid_auto_columns": null,
            "margin": null,
            "display": null,
            "left": null
          }
        },
        "2efed6e6d64f49d5a0ce30a427f650de": {
          "model_module": "@jupyter-widgets/controls",
          "model_name": "HBoxModel",
          "state": {
            "_view_name": "HBoxView",
            "_dom_classes": [],
            "_model_name": "HBoxModel",
            "_view_module": "@jupyter-widgets/controls",
            "_model_module_version": "1.5.0",
            "_view_count": null,
            "_view_module_version": "1.5.0",
            "box_style": "",
            "layout": "IPY_MODEL_af7bae5e49c143399fc55b771492f2f4",
            "_model_module": "@jupyter-widgets/controls",
            "children": [
              "IPY_MODEL_817e2b88391943ab90c21419848874d1",
              "IPY_MODEL_c0bd4e84dca04d71b19f681f9e6d6403"
            ]
          }
        },
        "af7bae5e49c143399fc55b771492f2f4": {
          "model_module": "@jupyter-widgets/base",
          "model_name": "LayoutModel",
          "state": {
            "_view_name": "LayoutView",
            "grid_template_rows": null,
            "right": null,
            "justify_content": null,
            "_view_module": "@jupyter-widgets/base",
            "overflow": null,
            "_model_module_version": "1.2.0",
            "_view_count": null,
            "flex_flow": null,
            "width": null,
            "min_width": null,
            "border": null,
            "align_items": null,
            "bottom": null,
            "_model_module": "@jupyter-widgets/base",
            "top": null,
            "grid_column": null,
            "overflow_y": null,
            "overflow_x": null,
            "grid_auto_flow": null,
            "grid_area": null,
            "grid_template_columns": null,
            "flex": null,
            "_model_name": "LayoutModel",
            "justify_items": null,
            "grid_row": null,
            "max_height": null,
            "align_content": null,
            "visibility": null,
            "align_self": null,
            "height": null,
            "min_height": null,
            "padding": null,
            "grid_auto_rows": null,
            "grid_gap": null,
            "max_width": null,
            "order": null,
            "_view_module_version": "1.2.0",
            "grid_template_areas": null,
            "object_position": null,
            "object_fit": null,
            "grid_auto_columns": null,
            "margin": null,
            "display": null,
            "left": null
          }
        },
        "817e2b88391943ab90c21419848874d1": {
          "model_module": "@jupyter-widgets/controls",
          "model_name": "FloatProgressModel",
          "state": {
            "_view_name": "ProgressView",
            "style": "IPY_MODEL_af3f25749fe245c68d881af6595ec745",
            "_dom_classes": [],
            "description": "100%",
            "_model_name": "FloatProgressModel",
            "bar_style": "success",
            "max": 4257,
            "_view_module": "@jupyter-widgets/controls",
            "_model_module_version": "1.5.0",
            "value": 4257,
            "_view_count": null,
            "_view_module_version": "1.5.0",
            "orientation": "horizontal",
            "min": 0,
            "description_tooltip": null,
            "_model_module": "@jupyter-widgets/controls",
            "layout": "IPY_MODEL_59ee433f1202407890d66aa78ed6c6f0"
          }
        },
        "c0bd4e84dca04d71b19f681f9e6d6403": {
          "model_module": "@jupyter-widgets/controls",
          "model_name": "HTMLModel",
          "state": {
            "_view_name": "HTMLView",
            "style": "IPY_MODEL_fbb9266792fa4c9cb964900429120788",
            "_dom_classes": [],
            "description": "",
            "_model_name": "HTMLModel",
            "placeholder": "​",
            "_view_module": "@jupyter-widgets/controls",
            "_model_module_version": "1.5.0",
            "value": " 4257/4257 [00:08&lt;00:00, 529.59ex/s]",
            "_view_count": null,
            "_view_module_version": "1.5.0",
            "description_tooltip": null,
            "_model_module": "@jupyter-widgets/controls",
            "layout": "IPY_MODEL_c886cda06f7347aa8702d6eb3eb6a10f"
          }
        },
        "af3f25749fe245c68d881af6595ec745": {
          "model_module": "@jupyter-widgets/controls",
          "model_name": "ProgressStyleModel",
          "state": {
            "_view_name": "StyleView",
            "_model_name": "ProgressStyleModel",
            "description_width": "initial",
            "_view_module": "@jupyter-widgets/base",
            "_model_module_version": "1.5.0",
            "_view_count": null,
            "_view_module_version": "1.2.0",
            "bar_color": null,
            "_model_module": "@jupyter-widgets/controls"
          }
        },
        "59ee433f1202407890d66aa78ed6c6f0": {
          "model_module": "@jupyter-widgets/base",
          "model_name": "LayoutModel",
          "state": {
            "_view_name": "LayoutView",
            "grid_template_rows": null,
            "right": null,
            "justify_content": null,
            "_view_module": "@jupyter-widgets/base",
            "overflow": null,
            "_model_module_version": "1.2.0",
            "_view_count": null,
            "flex_flow": null,
            "width": null,
            "min_width": null,
            "border": null,
            "align_items": null,
            "bottom": null,
            "_model_module": "@jupyter-widgets/base",
            "top": null,
            "grid_column": null,
            "overflow_y": null,
            "overflow_x": null,
            "grid_auto_flow": null,
            "grid_area": null,
            "grid_template_columns": null,
            "flex": null,
            "_model_name": "LayoutModel",
            "justify_items": null,
            "grid_row": null,
            "max_height": null,
            "align_content": null,
            "visibility": null,
            "align_self": null,
            "height": null,
            "min_height": null,
            "padding": null,
            "grid_auto_rows": null,
            "grid_gap": null,
            "max_width": null,
            "order": null,
            "_view_module_version": "1.2.0",
            "grid_template_areas": null,
            "object_position": null,
            "object_fit": null,
            "grid_auto_columns": null,
            "margin": null,
            "display": null,
            "left": null
          }
        },
        "fbb9266792fa4c9cb964900429120788": {
          "model_module": "@jupyter-widgets/controls",
          "model_name": "DescriptionStyleModel",
          "state": {
            "_view_name": "StyleView",
            "_model_name": "DescriptionStyleModel",
            "description_width": "",
            "_view_module": "@jupyter-widgets/base",
            "_model_module_version": "1.5.0",
            "_view_count": null,
            "_view_module_version": "1.2.0",
            "_model_module": "@jupyter-widgets/controls"
          }
        },
        "c886cda06f7347aa8702d6eb3eb6a10f": {
          "model_module": "@jupyter-widgets/base",
          "model_name": "LayoutModel",
          "state": {
            "_view_name": "LayoutView",
            "grid_template_rows": null,
            "right": null,
            "justify_content": null,
            "_view_module": "@jupyter-widgets/base",
            "overflow": null,
            "_model_module_version": "1.2.0",
            "_view_count": null,
            "flex_flow": null,
            "width": null,
            "min_width": null,
            "border": null,
            "align_items": null,
            "bottom": null,
            "_model_module": "@jupyter-widgets/base",
            "top": null,
            "grid_column": null,
            "overflow_y": null,
            "overflow_x": null,
            "grid_auto_flow": null,
            "grid_area": null,
            "grid_template_columns": null,
            "flex": null,
            "_model_name": "LayoutModel",
            "justify_items": null,
            "grid_row": null,
            "max_height": null,
            "align_content": null,
            "visibility": null,
            "align_self": null,
            "height": null,
            "min_height": null,
            "padding": null,
            "grid_auto_rows": null,
            "grid_gap": null,
            "max_width": null,
            "order": null,
            "_view_module_version": "1.2.0",
            "grid_template_areas": null,
            "object_position": null,
            "object_fit": null,
            "grid_auto_columns": null,
            "margin": null,
            "display": null,
            "left": null
          }
        },
        "e8529506f96a46aeb80dfc8c7e42d017": {
          "model_module": "@jupyter-widgets/controls",
          "model_name": "HBoxModel",
          "state": {
            "_view_name": "HBoxView",
            "_dom_classes": [],
            "_model_name": "HBoxModel",
            "_view_module": "@jupyter-widgets/controls",
            "_model_module_version": "1.5.0",
            "_view_count": null,
            "_view_module_version": "1.5.0",
            "box_style": "",
            "layout": "IPY_MODEL_f9afb1f765c447ad8358aabd28017d13",
            "_model_module": "@jupyter-widgets/controls",
            "children": [
              "IPY_MODEL_db9319eccd4043c8a73293928e2ce965",
              "IPY_MODEL_2dced0a5d298495f881beff592ec8464"
            ]
          }
        },
        "f9afb1f765c447ad8358aabd28017d13": {
          "model_module": "@jupyter-widgets/base",
          "model_name": "LayoutModel",
          "state": {
            "_view_name": "LayoutView",
            "grid_template_rows": null,
            "right": null,
            "justify_content": null,
            "_view_module": "@jupyter-widgets/base",
            "overflow": null,
            "_model_module_version": "1.2.0",
            "_view_count": null,
            "flex_flow": null,
            "width": null,
            "min_width": null,
            "border": null,
            "align_items": null,
            "bottom": null,
            "_model_module": "@jupyter-widgets/base",
            "top": null,
            "grid_column": null,
            "overflow_y": null,
            "overflow_x": null,
            "grid_auto_flow": null,
            "grid_area": null,
            "grid_template_columns": null,
            "flex": null,
            "_model_name": "LayoutModel",
            "justify_items": null,
            "grid_row": null,
            "max_height": null,
            "align_content": null,
            "visibility": null,
            "align_self": null,
            "height": null,
            "min_height": null,
            "padding": null,
            "grid_auto_rows": null,
            "grid_gap": null,
            "max_width": null,
            "order": null,
            "_view_module_version": "1.2.0",
            "grid_template_areas": null,
            "object_position": null,
            "object_fit": null,
            "grid_auto_columns": null,
            "margin": null,
            "display": null,
            "left": null
          }
        },
        "db9319eccd4043c8a73293928e2ce965": {
          "model_module": "@jupyter-widgets/controls",
          "model_name": "FloatProgressModel",
          "state": {
            "_view_name": "ProgressView",
            "style": "IPY_MODEL_87958b7d29c246b4b4e144539a0c5701",
            "_dom_classes": [],
            "description": "100%",
            "_model_name": "FloatProgressModel",
            "bar_style": "success",
            "max": 1778,
            "_view_module": "@jupyter-widgets/controls",
            "_model_module_version": "1.5.0",
            "value": 1778,
            "_view_count": null,
            "_view_module_version": "1.5.0",
            "orientation": "horizontal",
            "min": 0,
            "description_tooltip": null,
            "_model_module": "@jupyter-widgets/controls",
            "layout": "IPY_MODEL_a7f476fa0d7e4aef858a82f9a18dbe46"
          }
        },
        "2dced0a5d298495f881beff592ec8464": {
          "model_module": "@jupyter-widgets/controls",
          "model_name": "HTMLModel",
          "state": {
            "_view_name": "HTMLView",
            "style": "IPY_MODEL_c7dde94404ba4a27a93707249d1296bc",
            "_dom_classes": [],
            "description": "",
            "_model_name": "HTMLModel",
            "placeholder": "​",
            "_view_module": "@jupyter-widgets/controls",
            "_model_module_version": "1.5.0",
            "value": " 1778/1778 [00:07&lt;00:00, 226.26ex/s]",
            "_view_count": null,
            "_view_module_version": "1.5.0",
            "description_tooltip": null,
            "_model_module": "@jupyter-widgets/controls",
            "layout": "IPY_MODEL_f78a693920054d0bbb1fff2ddc2533bd"
          }
        },
        "87958b7d29c246b4b4e144539a0c5701": {
          "model_module": "@jupyter-widgets/controls",
          "model_name": "ProgressStyleModel",
          "state": {
            "_view_name": "StyleView",
            "_model_name": "ProgressStyleModel",
            "description_width": "initial",
            "_view_module": "@jupyter-widgets/base",
            "_model_module_version": "1.5.0",
            "_view_count": null,
            "_view_module_version": "1.2.0",
            "bar_color": null,
            "_model_module": "@jupyter-widgets/controls"
          }
        },
        "a7f476fa0d7e4aef858a82f9a18dbe46": {
          "model_module": "@jupyter-widgets/base",
          "model_name": "LayoutModel",
          "state": {
            "_view_name": "LayoutView",
            "grid_template_rows": null,
            "right": null,
            "justify_content": null,
            "_view_module": "@jupyter-widgets/base",
            "overflow": null,
            "_model_module_version": "1.2.0",
            "_view_count": null,
            "flex_flow": null,
            "width": null,
            "min_width": null,
            "border": null,
            "align_items": null,
            "bottom": null,
            "_model_module": "@jupyter-widgets/base",
            "top": null,
            "grid_column": null,
            "overflow_y": null,
            "overflow_x": null,
            "grid_auto_flow": null,
            "grid_area": null,
            "grid_template_columns": null,
            "flex": null,
            "_model_name": "LayoutModel",
            "justify_items": null,
            "grid_row": null,
            "max_height": null,
            "align_content": null,
            "visibility": null,
            "align_self": null,
            "height": null,
            "min_height": null,
            "padding": null,
            "grid_auto_rows": null,
            "grid_gap": null,
            "max_width": null,
            "order": null,
            "_view_module_version": "1.2.0",
            "grid_template_areas": null,
            "object_position": null,
            "object_fit": null,
            "grid_auto_columns": null,
            "margin": null,
            "display": null,
            "left": null
          }
        },
        "c7dde94404ba4a27a93707249d1296bc": {
          "model_module": "@jupyter-widgets/controls",
          "model_name": "DescriptionStyleModel",
          "state": {
            "_view_name": "StyleView",
            "_model_name": "DescriptionStyleModel",
            "description_width": "",
            "_view_module": "@jupyter-widgets/base",
            "_model_module_version": "1.5.0",
            "_view_count": null,
            "_view_module_version": "1.2.0",
            "_model_module": "@jupyter-widgets/controls"
          }
        },
        "f78a693920054d0bbb1fff2ddc2533bd": {
          "model_module": "@jupyter-widgets/base",
          "model_name": "LayoutModel",
          "state": {
            "_view_name": "LayoutView",
            "grid_template_rows": null,
            "right": null,
            "justify_content": null,
            "_view_module": "@jupyter-widgets/base",
            "overflow": null,
            "_model_module_version": "1.2.0",
            "_view_count": null,
            "flex_flow": null,
            "width": null,
            "min_width": null,
            "border": null,
            "align_items": null,
            "bottom": null,
            "_model_module": "@jupyter-widgets/base",
            "top": null,
            "grid_column": null,
            "overflow_y": null,
            "overflow_x": null,
            "grid_auto_flow": null,
            "grid_area": null,
            "grid_template_columns": null,
            "flex": null,
            "_model_name": "LayoutModel",
            "justify_items": null,
            "grid_row": null,
            "max_height": null,
            "align_content": null,
            "visibility": null,
            "align_self": null,
            "height": null,
            "min_height": null,
            "padding": null,
            "grid_auto_rows": null,
            "grid_gap": null,
            "max_width": null,
            "order": null,
            "_view_module_version": "1.2.0",
            "grid_template_areas": null,
            "object_position": null,
            "object_fit": null,
            "grid_auto_columns": null,
            "margin": null,
            "display": null,
            "left": null
          }
        },
        "4e5aa9ad127140ffacab1993f42e7809": {
          "model_module": "@jupyter-widgets/controls",
          "model_name": "HBoxModel",
          "state": {
            "_view_name": "HBoxView",
            "_dom_classes": [],
            "_model_name": "HBoxModel",
            "_view_module": "@jupyter-widgets/controls",
            "_model_module_version": "1.5.0",
            "_view_count": null,
            "_view_module_version": "1.5.0",
            "box_style": "",
            "layout": "IPY_MODEL_eae38e6e46dc4e8db48afce5c5ee4bd0",
            "_model_module": "@jupyter-widgets/controls",
            "children": [
              "IPY_MODEL_67d08fd8f8574e14b4294c4268901101",
              "IPY_MODEL_91e0247c87a44c93ad43d5ad59bcdc42"
            ]
          }
        },
        "eae38e6e46dc4e8db48afce5c5ee4bd0": {
          "model_module": "@jupyter-widgets/base",
          "model_name": "LayoutModel",
          "state": {
            "_view_name": "LayoutView",
            "grid_template_rows": null,
            "right": null,
            "justify_content": null,
            "_view_module": "@jupyter-widgets/base",
            "overflow": null,
            "_model_module_version": "1.2.0",
            "_view_count": null,
            "flex_flow": null,
            "width": null,
            "min_width": null,
            "border": null,
            "align_items": null,
            "bottom": null,
            "_model_module": "@jupyter-widgets/base",
            "top": null,
            "grid_column": null,
            "overflow_y": null,
            "overflow_x": null,
            "grid_auto_flow": null,
            "grid_area": null,
            "grid_template_columns": null,
            "flex": null,
            "_model_name": "LayoutModel",
            "justify_items": null,
            "grid_row": null,
            "max_height": null,
            "align_content": null,
            "visibility": null,
            "align_self": null,
            "height": null,
            "min_height": null,
            "padding": null,
            "grid_auto_rows": null,
            "grid_gap": null,
            "max_width": null,
            "order": null,
            "_view_module_version": "1.2.0",
            "grid_template_areas": null,
            "object_position": null,
            "object_fit": null,
            "grid_auto_columns": null,
            "margin": null,
            "display": null,
            "left": null
          }
        },
        "67d08fd8f8574e14b4294c4268901101": {
          "model_module": "@jupyter-widgets/controls",
          "model_name": "FloatProgressModel",
          "state": {
            "_view_name": "ProgressView",
            "style": "IPY_MODEL_f5f5fab4a93f451283cda4420eb010c6",
            "_dom_classes": [],
            "description": "100%",
            "_model_name": "FloatProgressModel",
            "bar_style": "success",
            "max": 1,
            "_view_module": "@jupyter-widgets/controls",
            "_model_module_version": "1.5.0",
            "value": 1,
            "_view_count": null,
            "_view_module_version": "1.5.0",
            "orientation": "horizontal",
            "min": 0,
            "description_tooltip": null,
            "_model_module": "@jupyter-widgets/controls",
            "layout": "IPY_MODEL_e53398d51ca9490988d213d2f55d2125"
          }
        },
        "91e0247c87a44c93ad43d5ad59bcdc42": {
          "model_module": "@jupyter-widgets/controls",
          "model_name": "HTMLModel",
          "state": {
            "_view_name": "HTMLView",
            "style": "IPY_MODEL_7cd6665d80f74a7e99973a8be74ac679",
            "_dom_classes": [],
            "description": "",
            "_model_name": "HTMLModel",
            "placeholder": "​",
            "_view_module": "@jupyter-widgets/controls",
            "_model_module_version": "1.5.0",
            "value": " 1/1 [00:01&lt;00:00,  1.58s/ba]",
            "_view_count": null,
            "_view_module_version": "1.5.0",
            "description_tooltip": null,
            "_model_module": "@jupyter-widgets/controls",
            "layout": "IPY_MODEL_694c054c000945778daa4ca9c518b842"
          }
        },
        "f5f5fab4a93f451283cda4420eb010c6": {
          "model_module": "@jupyter-widgets/controls",
          "model_name": "ProgressStyleModel",
          "state": {
            "_view_name": "StyleView",
            "_model_name": "ProgressStyleModel",
            "description_width": "initial",
            "_view_module": "@jupyter-widgets/base",
            "_model_module_version": "1.5.0",
            "_view_count": null,
            "_view_module_version": "1.2.0",
            "bar_color": null,
            "_model_module": "@jupyter-widgets/controls"
          }
        },
        "e53398d51ca9490988d213d2f55d2125": {
          "model_module": "@jupyter-widgets/base",
          "model_name": "LayoutModel",
          "state": {
            "_view_name": "LayoutView",
            "grid_template_rows": null,
            "right": null,
            "justify_content": null,
            "_view_module": "@jupyter-widgets/base",
            "overflow": null,
            "_model_module_version": "1.2.0",
            "_view_count": null,
            "flex_flow": null,
            "width": null,
            "min_width": null,
            "border": null,
            "align_items": null,
            "bottom": null,
            "_model_module": "@jupyter-widgets/base",
            "top": null,
            "grid_column": null,
            "overflow_y": null,
            "overflow_x": null,
            "grid_auto_flow": null,
            "grid_area": null,
            "grid_template_columns": null,
            "flex": null,
            "_model_name": "LayoutModel",
            "justify_items": null,
            "grid_row": null,
            "max_height": null,
            "align_content": null,
            "visibility": null,
            "align_self": null,
            "height": null,
            "min_height": null,
            "padding": null,
            "grid_auto_rows": null,
            "grid_gap": null,
            "max_width": null,
            "order": null,
            "_view_module_version": "1.2.0",
            "grid_template_areas": null,
            "object_position": null,
            "object_fit": null,
            "grid_auto_columns": null,
            "margin": null,
            "display": null,
            "left": null
          }
        },
        "7cd6665d80f74a7e99973a8be74ac679": {
          "model_module": "@jupyter-widgets/controls",
          "model_name": "DescriptionStyleModel",
          "state": {
            "_view_name": "StyleView",
            "_model_name": "DescriptionStyleModel",
            "description_width": "",
            "_view_module": "@jupyter-widgets/base",
            "_model_module_version": "1.5.0",
            "_view_count": null,
            "_view_module_version": "1.2.0",
            "_model_module": "@jupyter-widgets/controls"
          }
        },
        "694c054c000945778daa4ca9c518b842": {
          "model_module": "@jupyter-widgets/base",
          "model_name": "LayoutModel",
          "state": {
            "_view_name": "LayoutView",
            "grid_template_rows": null,
            "right": null,
            "justify_content": null,
            "_view_module": "@jupyter-widgets/base",
            "overflow": null,
            "_model_module_version": "1.2.0",
            "_view_count": null,
            "flex_flow": null,
            "width": null,
            "min_width": null,
            "border": null,
            "align_items": null,
            "bottom": null,
            "_model_module": "@jupyter-widgets/base",
            "top": null,
            "grid_column": null,
            "overflow_y": null,
            "overflow_x": null,
            "grid_auto_flow": null,
            "grid_area": null,
            "grid_template_columns": null,
            "flex": null,
            "_model_name": "LayoutModel",
            "justify_items": null,
            "grid_row": null,
            "max_height": null,
            "align_content": null,
            "visibility": null,
            "align_self": null,
            "height": null,
            "min_height": null,
            "padding": null,
            "grid_auto_rows": null,
            "grid_gap": null,
            "max_width": null,
            "order": null,
            "_view_module_version": "1.2.0",
            "grid_template_areas": null,
            "object_position": null,
            "object_fit": null,
            "grid_auto_columns": null,
            "margin": null,
            "display": null,
            "left": null
          }
        },
        "0a73cfc7d73440478ca567bc28c65574": {
          "model_module": "@jupyter-widgets/controls",
          "model_name": "HBoxModel",
          "state": {
            "_view_name": "HBoxView",
            "_dom_classes": [],
            "_model_name": "HBoxModel",
            "_view_module": "@jupyter-widgets/controls",
            "_model_module_version": "1.5.0",
            "_view_count": null,
            "_view_module_version": "1.5.0",
            "box_style": "",
            "layout": "IPY_MODEL_53605ad9b5d0480a96ec7d12e0e85f5c",
            "_model_module": "@jupyter-widgets/controls",
            "children": [
              "IPY_MODEL_4517ca7594a64c0fabe2bac035e992ff",
              "IPY_MODEL_ba6d1ab9447342bf8f6aea237b2232ff"
            ]
          }
        },
        "53605ad9b5d0480a96ec7d12e0e85f5c": {
          "model_module": "@jupyter-widgets/base",
          "model_name": "LayoutModel",
          "state": {
            "_view_name": "LayoutView",
            "grid_template_rows": null,
            "right": null,
            "justify_content": null,
            "_view_module": "@jupyter-widgets/base",
            "overflow": null,
            "_model_module_version": "1.2.0",
            "_view_count": null,
            "flex_flow": null,
            "width": null,
            "min_width": null,
            "border": null,
            "align_items": null,
            "bottom": null,
            "_model_module": "@jupyter-widgets/base",
            "top": null,
            "grid_column": null,
            "overflow_y": null,
            "overflow_x": null,
            "grid_auto_flow": null,
            "grid_area": null,
            "grid_template_columns": null,
            "flex": null,
            "_model_name": "LayoutModel",
            "justify_items": null,
            "grid_row": null,
            "max_height": null,
            "align_content": null,
            "visibility": null,
            "align_self": null,
            "height": null,
            "min_height": null,
            "padding": null,
            "grid_auto_rows": null,
            "grid_gap": null,
            "max_width": null,
            "order": null,
            "_view_module_version": "1.2.0",
            "grid_template_areas": null,
            "object_position": null,
            "object_fit": null,
            "grid_auto_columns": null,
            "margin": null,
            "display": null,
            "left": null
          }
        },
        "4517ca7594a64c0fabe2bac035e992ff": {
          "model_module": "@jupyter-widgets/controls",
          "model_name": "FloatProgressModel",
          "state": {
            "_view_name": "ProgressView",
            "style": "IPY_MODEL_be3e5ff95c524f77ae33838041ee8f1d",
            "_dom_classes": [],
            "description": "100%",
            "_model_name": "FloatProgressModel",
            "bar_style": "success",
            "max": 1,
            "_view_module": "@jupyter-widgets/controls",
            "_model_module_version": "1.5.0",
            "value": 1,
            "_view_count": null,
            "_view_module_version": "1.5.0",
            "orientation": "horizontal",
            "min": 0,
            "description_tooltip": null,
            "_model_module": "@jupyter-widgets/controls",
            "layout": "IPY_MODEL_00f0f00672744a32b44718633fe41fac"
          }
        },
        "ba6d1ab9447342bf8f6aea237b2232ff": {
          "model_module": "@jupyter-widgets/controls",
          "model_name": "HTMLModel",
          "state": {
            "_view_name": "HTMLView",
            "style": "IPY_MODEL_2a76567487f148a2923561c262c81308",
            "_dom_classes": [],
            "description": "",
            "_model_name": "HTMLModel",
            "placeholder": "​",
            "_view_module": "@jupyter-widgets/controls",
            "_model_module_version": "1.5.0",
            "value": " 1/1 [00:01&lt;00:00,  1.54s/ba]",
            "_view_count": null,
            "_view_module_version": "1.5.0",
            "description_tooltip": null,
            "_model_module": "@jupyter-widgets/controls",
            "layout": "IPY_MODEL_e5a2467f78c94925964a116922b1adca"
          }
        },
        "be3e5ff95c524f77ae33838041ee8f1d": {
          "model_module": "@jupyter-widgets/controls",
          "model_name": "ProgressStyleModel",
          "state": {
            "_view_name": "StyleView",
            "_model_name": "ProgressStyleModel",
            "description_width": "initial",
            "_view_module": "@jupyter-widgets/base",
            "_model_module_version": "1.5.0",
            "_view_count": null,
            "_view_module_version": "1.2.0",
            "bar_color": null,
            "_model_module": "@jupyter-widgets/controls"
          }
        },
        "00f0f00672744a32b44718633fe41fac": {
          "model_module": "@jupyter-widgets/base",
          "model_name": "LayoutModel",
          "state": {
            "_view_name": "LayoutView",
            "grid_template_rows": null,
            "right": null,
            "justify_content": null,
            "_view_module": "@jupyter-widgets/base",
            "overflow": null,
            "_model_module_version": "1.2.0",
            "_view_count": null,
            "flex_flow": null,
            "width": null,
            "min_width": null,
            "border": null,
            "align_items": null,
            "bottom": null,
            "_model_module": "@jupyter-widgets/base",
            "top": null,
            "grid_column": null,
            "overflow_y": null,
            "overflow_x": null,
            "grid_auto_flow": null,
            "grid_area": null,
            "grid_template_columns": null,
            "flex": null,
            "_model_name": "LayoutModel",
            "justify_items": null,
            "grid_row": null,
            "max_height": null,
            "align_content": null,
            "visibility": null,
            "align_self": null,
            "height": null,
            "min_height": null,
            "padding": null,
            "grid_auto_rows": null,
            "grid_gap": null,
            "max_width": null,
            "order": null,
            "_view_module_version": "1.2.0",
            "grid_template_areas": null,
            "object_position": null,
            "object_fit": null,
            "grid_auto_columns": null,
            "margin": null,
            "display": null,
            "left": null
          }
        },
        "2a76567487f148a2923561c262c81308": {
          "model_module": "@jupyter-widgets/controls",
          "model_name": "DescriptionStyleModel",
          "state": {
            "_view_name": "StyleView",
            "_model_name": "DescriptionStyleModel",
            "description_width": "",
            "_view_module": "@jupyter-widgets/base",
            "_model_module_version": "1.5.0",
            "_view_count": null,
            "_view_module_version": "1.2.0",
            "_model_module": "@jupyter-widgets/controls"
          }
        },
        "e5a2467f78c94925964a116922b1adca": {
          "model_module": "@jupyter-widgets/base",
          "model_name": "LayoutModel",
          "state": {
            "_view_name": "LayoutView",
            "grid_template_rows": null,
            "right": null,
            "justify_content": null,
            "_view_module": "@jupyter-widgets/base",
            "overflow": null,
            "_model_module_version": "1.2.0",
            "_view_count": null,
            "flex_flow": null,
            "width": null,
            "min_width": null,
            "border": null,
            "align_items": null,
            "bottom": null,
            "_model_module": "@jupyter-widgets/base",
            "top": null,
            "grid_column": null,
            "overflow_y": null,
            "overflow_x": null,
            "grid_auto_flow": null,
            "grid_area": null,
            "grid_template_columns": null,
            "flex": null,
            "_model_name": "LayoutModel",
            "justify_items": null,
            "grid_row": null,
            "max_height": null,
            "align_content": null,
            "visibility": null,
            "align_self": null,
            "height": null,
            "min_height": null,
            "padding": null,
            "grid_auto_rows": null,
            "grid_gap": null,
            "max_width": null,
            "order": null,
            "_view_module_version": "1.2.0",
            "grid_template_areas": null,
            "object_position": null,
            "object_fit": null,
            "grid_auto_columns": null,
            "margin": null,
            "display": null,
            "left": null
          }
        },
        "3578cb14f87c4ee4b7a6b6a6de0e208e": {
          "model_module": "@jupyter-widgets/controls",
          "model_name": "HBoxModel",
          "state": {
            "_view_name": "HBoxView",
            "_dom_classes": [],
            "_model_name": "HBoxModel",
            "_view_module": "@jupyter-widgets/controls",
            "_model_module_version": "1.5.0",
            "_view_count": null,
            "_view_module_version": "1.5.0",
            "box_style": "",
            "layout": "IPY_MODEL_69d021ce2e2d42678dc181e81ded6316",
            "_model_module": "@jupyter-widgets/controls",
            "children": [
              "IPY_MODEL_920037b11fe94e19ab9287a96a296f1f",
              "IPY_MODEL_85125128611f4bb08ccadea691ea36a6"
            ]
          }
        },
        "69d021ce2e2d42678dc181e81ded6316": {
          "model_module": "@jupyter-widgets/base",
          "model_name": "LayoutModel",
          "state": {
            "_view_name": "LayoutView",
            "grid_template_rows": null,
            "right": null,
            "justify_content": null,
            "_view_module": "@jupyter-widgets/base",
            "overflow": null,
            "_model_module_version": "1.2.0",
            "_view_count": null,
            "flex_flow": null,
            "width": null,
            "min_width": null,
            "border": null,
            "align_items": null,
            "bottom": null,
            "_model_module": "@jupyter-widgets/base",
            "top": null,
            "grid_column": null,
            "overflow_y": null,
            "overflow_x": null,
            "grid_auto_flow": null,
            "grid_area": null,
            "grid_template_columns": null,
            "flex": null,
            "_model_name": "LayoutModel",
            "justify_items": null,
            "grid_row": null,
            "max_height": null,
            "align_content": null,
            "visibility": null,
            "align_self": null,
            "height": null,
            "min_height": null,
            "padding": null,
            "grid_auto_rows": null,
            "grid_gap": null,
            "max_width": null,
            "order": null,
            "_view_module_version": "1.2.0",
            "grid_template_areas": null,
            "object_position": null,
            "object_fit": null,
            "grid_auto_columns": null,
            "margin": null,
            "display": null,
            "left": null
          }
        },
        "920037b11fe94e19ab9287a96a296f1f": {
          "model_module": "@jupyter-widgets/controls",
          "model_name": "FloatProgressModel",
          "state": {
            "_view_name": "ProgressView",
            "style": "IPY_MODEL_8c72e3b5c0134d759a133fad64a265d8",
            "_dom_classes": [],
            "description": "100%",
            "_model_name": "FloatProgressModel",
            "bar_style": "success",
            "max": 4257,
            "_view_module": "@jupyter-widgets/controls",
            "_model_module_version": "1.5.0",
            "value": 4257,
            "_view_count": null,
            "_view_module_version": "1.5.0",
            "orientation": "horizontal",
            "min": 0,
            "description_tooltip": null,
            "_model_module": "@jupyter-widgets/controls",
            "layout": "IPY_MODEL_62fcf049471f4bb08990d6a7e616731e"
          }
        },
        "85125128611f4bb08ccadea691ea36a6": {
          "model_module": "@jupyter-widgets/controls",
          "model_name": "HTMLModel",
          "state": {
            "_view_name": "HTMLView",
            "style": "IPY_MODEL_2fa6560ef3af446aad2ec6da18b00f4d",
            "_dom_classes": [],
            "description": "",
            "_model_name": "HTMLModel",
            "placeholder": "​",
            "_view_module": "@jupyter-widgets/controls",
            "_model_module_version": "1.5.0",
            "value": " 4257/4257 [03:51&lt;00:00, 18.42ex/s]",
            "_view_count": null,
            "_view_module_version": "1.5.0",
            "description_tooltip": null,
            "_model_module": "@jupyter-widgets/controls",
            "layout": "IPY_MODEL_58728ca8bfa04fa59cc5510b554facb6"
          }
        },
        "8c72e3b5c0134d759a133fad64a265d8": {
          "model_module": "@jupyter-widgets/controls",
          "model_name": "ProgressStyleModel",
          "state": {
            "_view_name": "StyleView",
            "_model_name": "ProgressStyleModel",
            "description_width": "initial",
            "_view_module": "@jupyter-widgets/base",
            "_model_module_version": "1.5.0",
            "_view_count": null,
            "_view_module_version": "1.2.0",
            "bar_color": null,
            "_model_module": "@jupyter-widgets/controls"
          }
        },
        "62fcf049471f4bb08990d6a7e616731e": {
          "model_module": "@jupyter-widgets/base",
          "model_name": "LayoutModel",
          "state": {
            "_view_name": "LayoutView",
            "grid_template_rows": null,
            "right": null,
            "justify_content": null,
            "_view_module": "@jupyter-widgets/base",
            "overflow": null,
            "_model_module_version": "1.2.0",
            "_view_count": null,
            "flex_flow": null,
            "width": null,
            "min_width": null,
            "border": null,
            "align_items": null,
            "bottom": null,
            "_model_module": "@jupyter-widgets/base",
            "top": null,
            "grid_column": null,
            "overflow_y": null,
            "overflow_x": null,
            "grid_auto_flow": null,
            "grid_area": null,
            "grid_template_columns": null,
            "flex": null,
            "_model_name": "LayoutModel",
            "justify_items": null,
            "grid_row": null,
            "max_height": null,
            "align_content": null,
            "visibility": null,
            "align_self": null,
            "height": null,
            "min_height": null,
            "padding": null,
            "grid_auto_rows": null,
            "grid_gap": null,
            "max_width": null,
            "order": null,
            "_view_module_version": "1.2.0",
            "grid_template_areas": null,
            "object_position": null,
            "object_fit": null,
            "grid_auto_columns": null,
            "margin": null,
            "display": null,
            "left": null
          }
        },
        "2fa6560ef3af446aad2ec6da18b00f4d": {
          "model_module": "@jupyter-widgets/controls",
          "model_name": "DescriptionStyleModel",
          "state": {
            "_view_name": "StyleView",
            "_model_name": "DescriptionStyleModel",
            "description_width": "",
            "_view_module": "@jupyter-widgets/base",
            "_model_module_version": "1.5.0",
            "_view_count": null,
            "_view_module_version": "1.2.0",
            "_model_module": "@jupyter-widgets/controls"
          }
        },
        "58728ca8bfa04fa59cc5510b554facb6": {
          "model_module": "@jupyter-widgets/base",
          "model_name": "LayoutModel",
          "state": {
            "_view_name": "LayoutView",
            "grid_template_rows": null,
            "right": null,
            "justify_content": null,
            "_view_module": "@jupyter-widgets/base",
            "overflow": null,
            "_model_module_version": "1.2.0",
            "_view_count": null,
            "flex_flow": null,
            "width": null,
            "min_width": null,
            "border": null,
            "align_items": null,
            "bottom": null,
            "_model_module": "@jupyter-widgets/base",
            "top": null,
            "grid_column": null,
            "overflow_y": null,
            "overflow_x": null,
            "grid_auto_flow": null,
            "grid_area": null,
            "grid_template_columns": null,
            "flex": null,
            "_model_name": "LayoutModel",
            "justify_items": null,
            "grid_row": null,
            "max_height": null,
            "align_content": null,
            "visibility": null,
            "align_self": null,
            "height": null,
            "min_height": null,
            "padding": null,
            "grid_auto_rows": null,
            "grid_gap": null,
            "max_width": null,
            "order": null,
            "_view_module_version": "1.2.0",
            "grid_template_areas": null,
            "object_position": null,
            "object_fit": null,
            "grid_auto_columns": null,
            "margin": null,
            "display": null,
            "left": null
          }
        },
        "3c923e4b7ded493aac9f398dc059547e": {
          "model_module": "@jupyter-widgets/controls",
          "model_name": "HBoxModel",
          "state": {
            "_view_name": "HBoxView",
            "_dom_classes": [],
            "_model_name": "HBoxModel",
            "_view_module": "@jupyter-widgets/controls",
            "_model_module_version": "1.5.0",
            "_view_count": null,
            "_view_module_version": "1.5.0",
            "box_style": "",
            "layout": "IPY_MODEL_e092eb710b034dd5b826f268d7aaaa9d",
            "_model_module": "@jupyter-widgets/controls",
            "children": [
              "IPY_MODEL_df4bd51a2a4b4756959126fa97bf733d",
              "IPY_MODEL_b35f4895f9204454bf4a30bf9299ccba"
            ]
          }
        },
        "e092eb710b034dd5b826f268d7aaaa9d": {
          "model_module": "@jupyter-widgets/base",
          "model_name": "LayoutModel",
          "state": {
            "_view_name": "LayoutView",
            "grid_template_rows": null,
            "right": null,
            "justify_content": null,
            "_view_module": "@jupyter-widgets/base",
            "overflow": null,
            "_model_module_version": "1.2.0",
            "_view_count": null,
            "flex_flow": null,
            "width": null,
            "min_width": null,
            "border": null,
            "align_items": null,
            "bottom": null,
            "_model_module": "@jupyter-widgets/base",
            "top": null,
            "grid_column": null,
            "overflow_y": null,
            "overflow_x": null,
            "grid_auto_flow": null,
            "grid_area": null,
            "grid_template_columns": null,
            "flex": null,
            "_model_name": "LayoutModel",
            "justify_items": null,
            "grid_row": null,
            "max_height": null,
            "align_content": null,
            "visibility": null,
            "align_self": null,
            "height": null,
            "min_height": null,
            "padding": null,
            "grid_auto_rows": null,
            "grid_gap": null,
            "max_width": null,
            "order": null,
            "_view_module_version": "1.2.0",
            "grid_template_areas": null,
            "object_position": null,
            "object_fit": null,
            "grid_auto_columns": null,
            "margin": null,
            "display": null,
            "left": null
          }
        },
        "df4bd51a2a4b4756959126fa97bf733d": {
          "model_module": "@jupyter-widgets/controls",
          "model_name": "FloatProgressModel",
          "state": {
            "_view_name": "ProgressView",
            "style": "IPY_MODEL_eb096f04381844fcb9b45424bb080dc2",
            "_dom_classes": [],
            "description": "100%",
            "_model_name": "FloatProgressModel",
            "bar_style": "success",
            "max": 1778,
            "_view_module": "@jupyter-widgets/controls",
            "_model_module_version": "1.5.0",
            "value": 1778,
            "_view_count": null,
            "_view_module_version": "1.5.0",
            "orientation": "horizontal",
            "min": 0,
            "description_tooltip": null,
            "_model_module": "@jupyter-widgets/controls",
            "layout": "IPY_MODEL_d71fe0f0610b44cb8f1771071ee01ed3"
          }
        },
        "b35f4895f9204454bf4a30bf9299ccba": {
          "model_module": "@jupyter-widgets/controls",
          "model_name": "HTMLModel",
          "state": {
            "_view_name": "HTMLView",
            "style": "IPY_MODEL_186bdc9c334f419b90711dfe19f5a16d",
            "_dom_classes": [],
            "description": "",
            "_model_name": "HTMLModel",
            "placeholder": "​",
            "_view_module": "@jupyter-widgets/controls",
            "_model_module_version": "1.5.0",
            "value": " 1778/1778 [02:15&lt;00:00, 13.09ex/s]",
            "_view_count": null,
            "_view_module_version": "1.5.0",
            "description_tooltip": null,
            "_model_module": "@jupyter-widgets/controls",
            "layout": "IPY_MODEL_d60af1be2d074b2d8b3bec213887c77d"
          }
        },
        "eb096f04381844fcb9b45424bb080dc2": {
          "model_module": "@jupyter-widgets/controls",
          "model_name": "ProgressStyleModel",
          "state": {
            "_view_name": "StyleView",
            "_model_name": "ProgressStyleModel",
            "description_width": "initial",
            "_view_module": "@jupyter-widgets/base",
            "_model_module_version": "1.5.0",
            "_view_count": null,
            "_view_module_version": "1.2.0",
            "bar_color": null,
            "_model_module": "@jupyter-widgets/controls"
          }
        },
        "d71fe0f0610b44cb8f1771071ee01ed3": {
          "model_module": "@jupyter-widgets/base",
          "model_name": "LayoutModel",
          "state": {
            "_view_name": "LayoutView",
            "grid_template_rows": null,
            "right": null,
            "justify_content": null,
            "_view_module": "@jupyter-widgets/base",
            "overflow": null,
            "_model_module_version": "1.2.0",
            "_view_count": null,
            "flex_flow": null,
            "width": null,
            "min_width": null,
            "border": null,
            "align_items": null,
            "bottom": null,
            "_model_module": "@jupyter-widgets/base",
            "top": null,
            "grid_column": null,
            "overflow_y": null,
            "overflow_x": null,
            "grid_auto_flow": null,
            "grid_area": null,
            "grid_template_columns": null,
            "flex": null,
            "_model_name": "LayoutModel",
            "justify_items": null,
            "grid_row": null,
            "max_height": null,
            "align_content": null,
            "visibility": null,
            "align_self": null,
            "height": null,
            "min_height": null,
            "padding": null,
            "grid_auto_rows": null,
            "grid_gap": null,
            "max_width": null,
            "order": null,
            "_view_module_version": "1.2.0",
            "grid_template_areas": null,
            "object_position": null,
            "object_fit": null,
            "grid_auto_columns": null,
            "margin": null,
            "display": null,
            "left": null
          }
        },
        "186bdc9c334f419b90711dfe19f5a16d": {
          "model_module": "@jupyter-widgets/controls",
          "model_name": "DescriptionStyleModel",
          "state": {
            "_view_name": "StyleView",
            "_model_name": "DescriptionStyleModel",
            "description_width": "",
            "_view_module": "@jupyter-widgets/base",
            "_model_module_version": "1.5.0",
            "_view_count": null,
            "_view_module_version": "1.2.0",
            "_model_module": "@jupyter-widgets/controls"
          }
        },
        "d60af1be2d074b2d8b3bec213887c77d": {
          "model_module": "@jupyter-widgets/base",
          "model_name": "LayoutModel",
          "state": {
            "_view_name": "LayoutView",
            "grid_template_rows": null,
            "right": null,
            "justify_content": null,
            "_view_module": "@jupyter-widgets/base",
            "overflow": null,
            "_model_module_version": "1.2.0",
            "_view_count": null,
            "flex_flow": null,
            "width": null,
            "min_width": null,
            "border": null,
            "align_items": null,
            "bottom": null,
            "_model_module": "@jupyter-widgets/base",
            "top": null,
            "grid_column": null,
            "overflow_y": null,
            "overflow_x": null,
            "grid_auto_flow": null,
            "grid_area": null,
            "grid_template_columns": null,
            "flex": null,
            "_model_name": "LayoutModel",
            "justify_items": null,
            "grid_row": null,
            "max_height": null,
            "align_content": null,
            "visibility": null,
            "align_self": null,
            "height": null,
            "min_height": null,
            "padding": null,
            "grid_auto_rows": null,
            "grid_gap": null,
            "max_width": null,
            "order": null,
            "_view_module_version": "1.2.0",
            "grid_template_areas": null,
            "object_position": null,
            "object_fit": null,
            "grid_auto_columns": null,
            "margin": null,
            "display": null,
            "left": null
          }
        },
        "96aa20f1e2a74de0abb20f6f77b55898": {
          "model_module": "@jupyter-widgets/controls",
          "model_name": "HBoxModel",
          "state": {
            "_view_name": "HBoxView",
            "_dom_classes": [],
            "_model_name": "HBoxModel",
            "_view_module": "@jupyter-widgets/controls",
            "_model_module_version": "1.5.0",
            "_view_count": null,
            "_view_module_version": "1.5.0",
            "box_style": "",
            "layout": "IPY_MODEL_82231651b3ae430e8702e51033fdb73c",
            "_model_module": "@jupyter-widgets/controls",
            "children": [
              "IPY_MODEL_d5c73d32e69b4a6e94e8c06bb2d2203f",
              "IPY_MODEL_92d2fdc2884445848cae4253993b5f93"
            ]
          }
        },
        "82231651b3ae430e8702e51033fdb73c": {
          "model_module": "@jupyter-widgets/base",
          "model_name": "LayoutModel",
          "state": {
            "_view_name": "LayoutView",
            "grid_template_rows": null,
            "right": null,
            "justify_content": null,
            "_view_module": "@jupyter-widgets/base",
            "overflow": null,
            "_model_module_version": "1.2.0",
            "_view_count": null,
            "flex_flow": null,
            "width": null,
            "min_width": null,
            "border": null,
            "align_items": null,
            "bottom": null,
            "_model_module": "@jupyter-widgets/base",
            "top": null,
            "grid_column": null,
            "overflow_y": null,
            "overflow_x": null,
            "grid_auto_flow": null,
            "grid_area": null,
            "grid_template_columns": null,
            "flex": null,
            "_model_name": "LayoutModel",
            "justify_items": null,
            "grid_row": null,
            "max_height": null,
            "align_content": null,
            "visibility": null,
            "align_self": null,
            "height": null,
            "min_height": null,
            "padding": null,
            "grid_auto_rows": null,
            "grid_gap": null,
            "max_width": null,
            "order": null,
            "_view_module_version": "1.2.0",
            "grid_template_areas": null,
            "object_position": null,
            "object_fit": null,
            "grid_auto_columns": null,
            "margin": null,
            "display": null,
            "left": null
          }
        },
        "d5c73d32e69b4a6e94e8c06bb2d2203f": {
          "model_module": "@jupyter-widgets/controls",
          "model_name": "FloatProgressModel",
          "state": {
            "_view_name": "ProgressView",
            "style": "IPY_MODEL_6ef9494db26648b389d0541cbfac22d1",
            "_dom_classes": [],
            "description": "#3: 100%",
            "_model_name": "FloatProgressModel",
            "bar_style": "success",
            "max": 1064,
            "_view_module": "@jupyter-widgets/controls",
            "_model_module_version": "1.5.0",
            "value": 1064,
            "_view_count": null,
            "_view_module_version": "1.5.0",
            "orientation": "horizontal",
            "min": 0,
            "description_tooltip": null,
            "_model_module": "@jupyter-widgets/controls",
            "layout": "IPY_MODEL_6a9c62fd7a0b4e6b8cebe778bb9cc0aa"
          }
        },
        "92d2fdc2884445848cae4253993b5f93": {
          "model_module": "@jupyter-widgets/controls",
          "model_name": "HTMLModel",
          "state": {
            "_view_name": "HTMLView",
            "style": "IPY_MODEL_da66b08c062649029ff9665835053d7f",
            "_dom_classes": [],
            "description": "",
            "_model_name": "HTMLModel",
            "placeholder": "​",
            "_view_module": "@jupyter-widgets/controls",
            "_model_module_version": "1.5.0",
            "value": " 1064/1064 [06:50&lt;00:00,  2.59ex/s]",
            "_view_count": null,
            "_view_module_version": "1.5.0",
            "description_tooltip": null,
            "_model_module": "@jupyter-widgets/controls",
            "layout": "IPY_MODEL_c2620f5333e74630a0e8222407b67d3a"
          }
        },
        "6ef9494db26648b389d0541cbfac22d1": {
          "model_module": "@jupyter-widgets/controls",
          "model_name": "ProgressStyleModel",
          "state": {
            "_view_name": "StyleView",
            "_model_name": "ProgressStyleModel",
            "description_width": "initial",
            "_view_module": "@jupyter-widgets/base",
            "_model_module_version": "1.5.0",
            "_view_count": null,
            "_view_module_version": "1.2.0",
            "bar_color": null,
            "_model_module": "@jupyter-widgets/controls"
          }
        },
        "6a9c62fd7a0b4e6b8cebe778bb9cc0aa": {
          "model_module": "@jupyter-widgets/base",
          "model_name": "LayoutModel",
          "state": {
            "_view_name": "LayoutView",
            "grid_template_rows": null,
            "right": null,
            "justify_content": null,
            "_view_module": "@jupyter-widgets/base",
            "overflow": null,
            "_model_module_version": "1.2.0",
            "_view_count": null,
            "flex_flow": null,
            "width": null,
            "min_width": null,
            "border": null,
            "align_items": null,
            "bottom": null,
            "_model_module": "@jupyter-widgets/base",
            "top": null,
            "grid_column": null,
            "overflow_y": null,
            "overflow_x": null,
            "grid_auto_flow": null,
            "grid_area": null,
            "grid_template_columns": null,
            "flex": null,
            "_model_name": "LayoutModel",
            "justify_items": null,
            "grid_row": null,
            "max_height": null,
            "align_content": null,
            "visibility": null,
            "align_self": null,
            "height": null,
            "min_height": null,
            "padding": null,
            "grid_auto_rows": null,
            "grid_gap": null,
            "max_width": null,
            "order": null,
            "_view_module_version": "1.2.0",
            "grid_template_areas": null,
            "object_position": null,
            "object_fit": null,
            "grid_auto_columns": null,
            "margin": null,
            "display": null,
            "left": null
          }
        },
        "da66b08c062649029ff9665835053d7f": {
          "model_module": "@jupyter-widgets/controls",
          "model_name": "DescriptionStyleModel",
          "state": {
            "_view_name": "StyleView",
            "_model_name": "DescriptionStyleModel",
            "description_width": "",
            "_view_module": "@jupyter-widgets/base",
            "_model_module_version": "1.5.0",
            "_view_count": null,
            "_view_module_version": "1.2.0",
            "_model_module": "@jupyter-widgets/controls"
          }
        },
        "c2620f5333e74630a0e8222407b67d3a": {
          "model_module": "@jupyter-widgets/base",
          "model_name": "LayoutModel",
          "state": {
            "_view_name": "LayoutView",
            "grid_template_rows": null,
            "right": null,
            "justify_content": null,
            "_view_module": "@jupyter-widgets/base",
            "overflow": null,
            "_model_module_version": "1.2.0",
            "_view_count": null,
            "flex_flow": null,
            "width": null,
            "min_width": null,
            "border": null,
            "align_items": null,
            "bottom": null,
            "_model_module": "@jupyter-widgets/base",
            "top": null,
            "grid_column": null,
            "overflow_y": null,
            "overflow_x": null,
            "grid_auto_flow": null,
            "grid_area": null,
            "grid_template_columns": null,
            "flex": null,
            "_model_name": "LayoutModel",
            "justify_items": null,
            "grid_row": null,
            "max_height": null,
            "align_content": null,
            "visibility": null,
            "align_self": null,
            "height": null,
            "min_height": null,
            "padding": null,
            "grid_auto_rows": null,
            "grid_gap": null,
            "max_width": null,
            "order": null,
            "_view_module_version": "1.2.0",
            "grid_template_areas": null,
            "object_position": null,
            "object_fit": null,
            "grid_auto_columns": null,
            "margin": null,
            "display": null,
            "left": null
          }
        },
        "e665dd8d23e24c5d9da94165a4d903f1": {
          "model_module": "@jupyter-widgets/controls",
          "model_name": "HBoxModel",
          "state": {
            "_view_name": "HBoxView",
            "_dom_classes": [],
            "_model_name": "HBoxModel",
            "_view_module": "@jupyter-widgets/controls",
            "_model_module_version": "1.5.0",
            "_view_count": null,
            "_view_module_version": "1.5.0",
            "box_style": "",
            "layout": "IPY_MODEL_cb0e02d55a344135b8fa71b5bf448ddc",
            "_model_module": "@jupyter-widgets/controls",
            "children": [
              "IPY_MODEL_5081d161fb7e41ecaa550e51d32d490b",
              "IPY_MODEL_bb1481a6c5524e14bf7c0f64d91056a0"
            ]
          }
        },
        "cb0e02d55a344135b8fa71b5bf448ddc": {
          "model_module": "@jupyter-widgets/base",
          "model_name": "LayoutModel",
          "state": {
            "_view_name": "LayoutView",
            "grid_template_rows": null,
            "right": null,
            "justify_content": null,
            "_view_module": "@jupyter-widgets/base",
            "overflow": null,
            "_model_module_version": "1.2.0",
            "_view_count": null,
            "flex_flow": null,
            "width": null,
            "min_width": null,
            "border": null,
            "align_items": null,
            "bottom": null,
            "_model_module": "@jupyter-widgets/base",
            "top": null,
            "grid_column": null,
            "overflow_y": null,
            "overflow_x": null,
            "grid_auto_flow": null,
            "grid_area": null,
            "grid_template_columns": null,
            "flex": null,
            "_model_name": "LayoutModel",
            "justify_items": null,
            "grid_row": null,
            "max_height": null,
            "align_content": null,
            "visibility": null,
            "align_self": null,
            "height": null,
            "min_height": null,
            "padding": null,
            "grid_auto_rows": null,
            "grid_gap": null,
            "max_width": null,
            "order": null,
            "_view_module_version": "1.2.0",
            "grid_template_areas": null,
            "object_position": null,
            "object_fit": null,
            "grid_auto_columns": null,
            "margin": null,
            "display": null,
            "left": null
          }
        },
        "5081d161fb7e41ecaa550e51d32d490b": {
          "model_module": "@jupyter-widgets/controls",
          "model_name": "FloatProgressModel",
          "state": {
            "_view_name": "ProgressView",
            "style": "IPY_MODEL_f0aa53ab14ad49638533b602c8e179cc",
            "_dom_classes": [],
            "description": "#2: 100%",
            "_model_name": "FloatProgressModel",
            "bar_style": "success",
            "max": 1064,
            "_view_module": "@jupyter-widgets/controls",
            "_model_module_version": "1.5.0",
            "value": 1064,
            "_view_count": null,
            "_view_module_version": "1.5.0",
            "orientation": "horizontal",
            "min": 0,
            "description_tooltip": null,
            "_model_module": "@jupyter-widgets/controls",
            "layout": "IPY_MODEL_f0b40cb5e72e4ad286192232df1e79ed"
          }
        },
        "bb1481a6c5524e14bf7c0f64d91056a0": {
          "model_module": "@jupyter-widgets/controls",
          "model_name": "HTMLModel",
          "state": {
            "_view_name": "HTMLView",
            "style": "IPY_MODEL_4a6626da709944f19df2350663abff00",
            "_dom_classes": [],
            "description": "",
            "_model_name": "HTMLModel",
            "placeholder": "​",
            "_view_module": "@jupyter-widgets/controls",
            "_model_module_version": "1.5.0",
            "value": " 1064/1064 [05:59&lt;00:00,  2.96ex/s]",
            "_view_count": null,
            "_view_module_version": "1.5.0",
            "description_tooltip": null,
            "_model_module": "@jupyter-widgets/controls",
            "layout": "IPY_MODEL_c4b00d7823e848e3ab8b875707d4d7da"
          }
        },
        "f0aa53ab14ad49638533b602c8e179cc": {
          "model_module": "@jupyter-widgets/controls",
          "model_name": "ProgressStyleModel",
          "state": {
            "_view_name": "StyleView",
            "_model_name": "ProgressStyleModel",
            "description_width": "initial",
            "_view_module": "@jupyter-widgets/base",
            "_model_module_version": "1.5.0",
            "_view_count": null,
            "_view_module_version": "1.2.0",
            "bar_color": null,
            "_model_module": "@jupyter-widgets/controls"
          }
        },
        "f0b40cb5e72e4ad286192232df1e79ed": {
          "model_module": "@jupyter-widgets/base",
          "model_name": "LayoutModel",
          "state": {
            "_view_name": "LayoutView",
            "grid_template_rows": null,
            "right": null,
            "justify_content": null,
            "_view_module": "@jupyter-widgets/base",
            "overflow": null,
            "_model_module_version": "1.2.0",
            "_view_count": null,
            "flex_flow": null,
            "width": null,
            "min_width": null,
            "border": null,
            "align_items": null,
            "bottom": null,
            "_model_module": "@jupyter-widgets/base",
            "top": null,
            "grid_column": null,
            "overflow_y": null,
            "overflow_x": null,
            "grid_auto_flow": null,
            "grid_area": null,
            "grid_template_columns": null,
            "flex": null,
            "_model_name": "LayoutModel",
            "justify_items": null,
            "grid_row": null,
            "max_height": null,
            "align_content": null,
            "visibility": null,
            "align_self": null,
            "height": null,
            "min_height": null,
            "padding": null,
            "grid_auto_rows": null,
            "grid_gap": null,
            "max_width": null,
            "order": null,
            "_view_module_version": "1.2.0",
            "grid_template_areas": null,
            "object_position": null,
            "object_fit": null,
            "grid_auto_columns": null,
            "margin": null,
            "display": null,
            "left": null
          }
        },
        "4a6626da709944f19df2350663abff00": {
          "model_module": "@jupyter-widgets/controls",
          "model_name": "DescriptionStyleModel",
          "state": {
            "_view_name": "StyleView",
            "_model_name": "DescriptionStyleModel",
            "description_width": "",
            "_view_module": "@jupyter-widgets/base",
            "_model_module_version": "1.5.0",
            "_view_count": null,
            "_view_module_version": "1.2.0",
            "_model_module": "@jupyter-widgets/controls"
          }
        },
        "c4b00d7823e848e3ab8b875707d4d7da": {
          "model_module": "@jupyter-widgets/base",
          "model_name": "LayoutModel",
          "state": {
            "_view_name": "LayoutView",
            "grid_template_rows": null,
            "right": null,
            "justify_content": null,
            "_view_module": "@jupyter-widgets/base",
            "overflow": null,
            "_model_module_version": "1.2.0",
            "_view_count": null,
            "flex_flow": null,
            "width": null,
            "min_width": null,
            "border": null,
            "align_items": null,
            "bottom": null,
            "_model_module": "@jupyter-widgets/base",
            "top": null,
            "grid_column": null,
            "overflow_y": null,
            "overflow_x": null,
            "grid_auto_flow": null,
            "grid_area": null,
            "grid_template_columns": null,
            "flex": null,
            "_model_name": "LayoutModel",
            "justify_items": null,
            "grid_row": null,
            "max_height": null,
            "align_content": null,
            "visibility": null,
            "align_self": null,
            "height": null,
            "min_height": null,
            "padding": null,
            "grid_auto_rows": null,
            "grid_gap": null,
            "max_width": null,
            "order": null,
            "_view_module_version": "1.2.0",
            "grid_template_areas": null,
            "object_position": null,
            "object_fit": null,
            "grid_auto_columns": null,
            "margin": null,
            "display": null,
            "left": null
          }
        },
        "56f508b36c3d480e9a0083844c16cbb8": {
          "model_module": "@jupyter-widgets/controls",
          "model_name": "HBoxModel",
          "state": {
            "_view_name": "HBoxView",
            "_dom_classes": [],
            "_model_name": "HBoxModel",
            "_view_module": "@jupyter-widgets/controls",
            "_model_module_version": "1.5.0",
            "_view_count": null,
            "_view_module_version": "1.5.0",
            "box_style": "",
            "layout": "IPY_MODEL_48d8909548764a8099deb9f2904fb587",
            "_model_module": "@jupyter-widgets/controls",
            "children": [
              "IPY_MODEL_7b42879562634669a7c394fe0ae0bcad",
              "IPY_MODEL_4382257754de495a9f185c283dd7d22e"
            ]
          }
        },
        "48d8909548764a8099deb9f2904fb587": {
          "model_module": "@jupyter-widgets/base",
          "model_name": "LayoutModel",
          "state": {
            "_view_name": "LayoutView",
            "grid_template_rows": null,
            "right": null,
            "justify_content": null,
            "_view_module": "@jupyter-widgets/base",
            "overflow": null,
            "_model_module_version": "1.2.0",
            "_view_count": null,
            "flex_flow": null,
            "width": null,
            "min_width": null,
            "border": null,
            "align_items": null,
            "bottom": null,
            "_model_module": "@jupyter-widgets/base",
            "top": null,
            "grid_column": null,
            "overflow_y": null,
            "overflow_x": null,
            "grid_auto_flow": null,
            "grid_area": null,
            "grid_template_columns": null,
            "flex": null,
            "_model_name": "LayoutModel",
            "justify_items": null,
            "grid_row": null,
            "max_height": null,
            "align_content": null,
            "visibility": null,
            "align_self": null,
            "height": null,
            "min_height": null,
            "padding": null,
            "grid_auto_rows": null,
            "grid_gap": null,
            "max_width": null,
            "order": null,
            "_view_module_version": "1.2.0",
            "grid_template_areas": null,
            "object_position": null,
            "object_fit": null,
            "grid_auto_columns": null,
            "margin": null,
            "display": null,
            "left": null
          }
        },
        "7b42879562634669a7c394fe0ae0bcad": {
          "model_module": "@jupyter-widgets/controls",
          "model_name": "FloatProgressModel",
          "state": {
            "_view_name": "ProgressView",
            "style": "IPY_MODEL_8d850b477ff142b58230cc895d60dc1c",
            "_dom_classes": [],
            "description": "#0: 100%",
            "_model_name": "FloatProgressModel",
            "bar_style": "success",
            "max": 1065,
            "_view_module": "@jupyter-widgets/controls",
            "_model_module_version": "1.5.0",
            "value": 1065,
            "_view_count": null,
            "_view_module_version": "1.5.0",
            "orientation": "horizontal",
            "min": 0,
            "description_tooltip": null,
            "_model_module": "@jupyter-widgets/controls",
            "layout": "IPY_MODEL_031d09a6da2942d0a1dc8e68a06a9e9e"
          }
        },
        "4382257754de495a9f185c283dd7d22e": {
          "model_module": "@jupyter-widgets/controls",
          "model_name": "HTMLModel",
          "state": {
            "_view_name": "HTMLView",
            "style": "IPY_MODEL_89b1805ea0824dfe8ad1938cd825d66b",
            "_dom_classes": [],
            "description": "",
            "_model_name": "HTMLModel",
            "placeholder": "​",
            "_view_module": "@jupyter-widgets/controls",
            "_model_module_version": "1.5.0",
            "value": " 1065/1065 [06:31&lt;00:00,  2.72ex/s]",
            "_view_count": null,
            "_view_module_version": "1.5.0",
            "description_tooltip": null,
            "_model_module": "@jupyter-widgets/controls",
            "layout": "IPY_MODEL_1059485d5c82435c94b6cd69747ddb54"
          }
        },
        "8d850b477ff142b58230cc895d60dc1c": {
          "model_module": "@jupyter-widgets/controls",
          "model_name": "ProgressStyleModel",
          "state": {
            "_view_name": "StyleView",
            "_model_name": "ProgressStyleModel",
            "description_width": "initial",
            "_view_module": "@jupyter-widgets/base",
            "_model_module_version": "1.5.0",
            "_view_count": null,
            "_view_module_version": "1.2.0",
            "bar_color": null,
            "_model_module": "@jupyter-widgets/controls"
          }
        },
        "031d09a6da2942d0a1dc8e68a06a9e9e": {
          "model_module": "@jupyter-widgets/base",
          "model_name": "LayoutModel",
          "state": {
            "_view_name": "LayoutView",
            "grid_template_rows": null,
            "right": null,
            "justify_content": null,
            "_view_module": "@jupyter-widgets/base",
            "overflow": null,
            "_model_module_version": "1.2.0",
            "_view_count": null,
            "flex_flow": null,
            "width": null,
            "min_width": null,
            "border": null,
            "align_items": null,
            "bottom": null,
            "_model_module": "@jupyter-widgets/base",
            "top": null,
            "grid_column": null,
            "overflow_y": null,
            "overflow_x": null,
            "grid_auto_flow": null,
            "grid_area": null,
            "grid_template_columns": null,
            "flex": null,
            "_model_name": "LayoutModel",
            "justify_items": null,
            "grid_row": null,
            "max_height": null,
            "align_content": null,
            "visibility": null,
            "align_self": null,
            "height": null,
            "min_height": null,
            "padding": null,
            "grid_auto_rows": null,
            "grid_gap": null,
            "max_width": null,
            "order": null,
            "_view_module_version": "1.2.0",
            "grid_template_areas": null,
            "object_position": null,
            "object_fit": null,
            "grid_auto_columns": null,
            "margin": null,
            "display": null,
            "left": null
          }
        },
        "89b1805ea0824dfe8ad1938cd825d66b": {
          "model_module": "@jupyter-widgets/controls",
          "model_name": "DescriptionStyleModel",
          "state": {
            "_view_name": "StyleView",
            "_model_name": "DescriptionStyleModel",
            "description_width": "",
            "_view_module": "@jupyter-widgets/base",
            "_model_module_version": "1.5.0",
            "_view_count": null,
            "_view_module_version": "1.2.0",
            "_model_module": "@jupyter-widgets/controls"
          }
        },
        "1059485d5c82435c94b6cd69747ddb54": {
          "model_module": "@jupyter-widgets/base",
          "model_name": "LayoutModel",
          "state": {
            "_view_name": "LayoutView",
            "grid_template_rows": null,
            "right": null,
            "justify_content": null,
            "_view_module": "@jupyter-widgets/base",
            "overflow": null,
            "_model_module_version": "1.2.0",
            "_view_count": null,
            "flex_flow": null,
            "width": null,
            "min_width": null,
            "border": null,
            "align_items": null,
            "bottom": null,
            "_model_module": "@jupyter-widgets/base",
            "top": null,
            "grid_column": null,
            "overflow_y": null,
            "overflow_x": null,
            "grid_auto_flow": null,
            "grid_area": null,
            "grid_template_columns": null,
            "flex": null,
            "_model_name": "LayoutModel",
            "justify_items": null,
            "grid_row": null,
            "max_height": null,
            "align_content": null,
            "visibility": null,
            "align_self": null,
            "height": null,
            "min_height": null,
            "padding": null,
            "grid_auto_rows": null,
            "grid_gap": null,
            "max_width": null,
            "order": null,
            "_view_module_version": "1.2.0",
            "grid_template_areas": null,
            "object_position": null,
            "object_fit": null,
            "grid_auto_columns": null,
            "margin": null,
            "display": null,
            "left": null
          }
        },
        "84101b2086ec47d5b68eaa2a3833bbfb": {
          "model_module": "@jupyter-widgets/controls",
          "model_name": "HBoxModel",
          "state": {
            "_view_name": "HBoxView",
            "_dom_classes": [],
            "_model_name": "HBoxModel",
            "_view_module": "@jupyter-widgets/controls",
            "_model_module_version": "1.5.0",
            "_view_count": null,
            "_view_module_version": "1.5.0",
            "box_style": "",
            "layout": "IPY_MODEL_b2b7398a81fa4e88b18a76451a8a7bf1",
            "_model_module": "@jupyter-widgets/controls",
            "children": [
              "IPY_MODEL_1bea26ebd10e4912ad5d3674f2dbf13a",
              "IPY_MODEL_ab77f17dd4be4016bbe9ed4943bbfd26"
            ]
          }
        },
        "b2b7398a81fa4e88b18a76451a8a7bf1": {
          "model_module": "@jupyter-widgets/base",
          "model_name": "LayoutModel",
          "state": {
            "_view_name": "LayoutView",
            "grid_template_rows": null,
            "right": null,
            "justify_content": null,
            "_view_module": "@jupyter-widgets/base",
            "overflow": null,
            "_model_module_version": "1.2.0",
            "_view_count": null,
            "flex_flow": null,
            "width": null,
            "min_width": null,
            "border": null,
            "align_items": null,
            "bottom": null,
            "_model_module": "@jupyter-widgets/base",
            "top": null,
            "grid_column": null,
            "overflow_y": null,
            "overflow_x": null,
            "grid_auto_flow": null,
            "grid_area": null,
            "grid_template_columns": null,
            "flex": null,
            "_model_name": "LayoutModel",
            "justify_items": null,
            "grid_row": null,
            "max_height": null,
            "align_content": null,
            "visibility": null,
            "align_self": null,
            "height": null,
            "min_height": null,
            "padding": null,
            "grid_auto_rows": null,
            "grid_gap": null,
            "max_width": null,
            "order": null,
            "_view_module_version": "1.2.0",
            "grid_template_areas": null,
            "object_position": null,
            "object_fit": null,
            "grid_auto_columns": null,
            "margin": null,
            "display": null,
            "left": null
          }
        },
        "1bea26ebd10e4912ad5d3674f2dbf13a": {
          "model_module": "@jupyter-widgets/controls",
          "model_name": "FloatProgressModel",
          "state": {
            "_view_name": "ProgressView",
            "style": "IPY_MODEL_22b69360de97499e93281af7c091b516",
            "_dom_classes": [],
            "description": "#1: 100%",
            "_model_name": "FloatProgressModel",
            "bar_style": "success",
            "max": 1064,
            "_view_module": "@jupyter-widgets/controls",
            "_model_module_version": "1.5.0",
            "value": 1064,
            "_view_count": null,
            "_view_module_version": "1.5.0",
            "orientation": "horizontal",
            "min": 0,
            "description_tooltip": null,
            "_model_module": "@jupyter-widgets/controls",
            "layout": "IPY_MODEL_3b70d297ea6e4b708c437f5b93a7827f"
          }
        },
        "ab77f17dd4be4016bbe9ed4943bbfd26": {
          "model_module": "@jupyter-widgets/controls",
          "model_name": "HTMLModel",
          "state": {
            "_view_name": "HTMLView",
            "style": "IPY_MODEL_23688398133e4899aedd842654589997",
            "_dom_classes": [],
            "description": "",
            "_model_name": "HTMLModel",
            "placeholder": "​",
            "_view_module": "@jupyter-widgets/controls",
            "_model_module_version": "1.5.0",
            "value": " 1064/1064 [06:39&lt;00:00,  2.67ex/s]",
            "_view_count": null,
            "_view_module_version": "1.5.0",
            "description_tooltip": null,
            "_model_module": "@jupyter-widgets/controls",
            "layout": "IPY_MODEL_79c5c57bcaa64d0082ce25cf3b946061"
          }
        },
        "22b69360de97499e93281af7c091b516": {
          "model_module": "@jupyter-widgets/controls",
          "model_name": "ProgressStyleModel",
          "state": {
            "_view_name": "StyleView",
            "_model_name": "ProgressStyleModel",
            "description_width": "initial",
            "_view_module": "@jupyter-widgets/base",
            "_model_module_version": "1.5.0",
            "_view_count": null,
            "_view_module_version": "1.2.0",
            "bar_color": null,
            "_model_module": "@jupyter-widgets/controls"
          }
        },
        "3b70d297ea6e4b708c437f5b93a7827f": {
          "model_module": "@jupyter-widgets/base",
          "model_name": "LayoutModel",
          "state": {
            "_view_name": "LayoutView",
            "grid_template_rows": null,
            "right": null,
            "justify_content": null,
            "_view_module": "@jupyter-widgets/base",
            "overflow": null,
            "_model_module_version": "1.2.0",
            "_view_count": null,
            "flex_flow": null,
            "width": null,
            "min_width": null,
            "border": null,
            "align_items": null,
            "bottom": null,
            "_model_module": "@jupyter-widgets/base",
            "top": null,
            "grid_column": null,
            "overflow_y": null,
            "overflow_x": null,
            "grid_auto_flow": null,
            "grid_area": null,
            "grid_template_columns": null,
            "flex": null,
            "_model_name": "LayoutModel",
            "justify_items": null,
            "grid_row": null,
            "max_height": null,
            "align_content": null,
            "visibility": null,
            "align_self": null,
            "height": null,
            "min_height": null,
            "padding": null,
            "grid_auto_rows": null,
            "grid_gap": null,
            "max_width": null,
            "order": null,
            "_view_module_version": "1.2.0",
            "grid_template_areas": null,
            "object_position": null,
            "object_fit": null,
            "grid_auto_columns": null,
            "margin": null,
            "display": null,
            "left": null
          }
        },
        "23688398133e4899aedd842654589997": {
          "model_module": "@jupyter-widgets/controls",
          "model_name": "DescriptionStyleModel",
          "state": {
            "_view_name": "StyleView",
            "_model_name": "DescriptionStyleModel",
            "description_width": "",
            "_view_module": "@jupyter-widgets/base",
            "_model_module_version": "1.5.0",
            "_view_count": null,
            "_view_module_version": "1.2.0",
            "_model_module": "@jupyter-widgets/controls"
          }
        },
        "79c5c57bcaa64d0082ce25cf3b946061": {
          "model_module": "@jupyter-widgets/base",
          "model_name": "LayoutModel",
          "state": {
            "_view_name": "LayoutView",
            "grid_template_rows": null,
            "right": null,
            "justify_content": null,
            "_view_module": "@jupyter-widgets/base",
            "overflow": null,
            "_model_module_version": "1.2.0",
            "_view_count": null,
            "flex_flow": null,
            "width": null,
            "min_width": null,
            "border": null,
            "align_items": null,
            "bottom": null,
            "_model_module": "@jupyter-widgets/base",
            "top": null,
            "grid_column": null,
            "overflow_y": null,
            "overflow_x": null,
            "grid_auto_flow": null,
            "grid_area": null,
            "grid_template_columns": null,
            "flex": null,
            "_model_name": "LayoutModel",
            "justify_items": null,
            "grid_row": null,
            "max_height": null,
            "align_content": null,
            "visibility": null,
            "align_self": null,
            "height": null,
            "min_height": null,
            "padding": null,
            "grid_auto_rows": null,
            "grid_gap": null,
            "max_width": null,
            "order": null,
            "_view_module_version": "1.2.0",
            "grid_template_areas": null,
            "object_position": null,
            "object_fit": null,
            "grid_auto_columns": null,
            "margin": null,
            "display": null,
            "left": null
          }
        },
        "fa8f5b9b9f6d414093d74be5f5004b90": {
          "model_module": "@jupyter-widgets/controls",
          "model_name": "HBoxModel",
          "state": {
            "_view_name": "HBoxView",
            "_dom_classes": [],
            "_model_name": "HBoxModel",
            "_view_module": "@jupyter-widgets/controls",
            "_model_module_version": "1.5.0",
            "_view_count": null,
            "_view_module_version": "1.5.0",
            "box_style": "",
            "layout": "IPY_MODEL_bc5f0c4c05624c4db71b803b66448731",
            "_model_module": "@jupyter-widgets/controls",
            "children": [
              "IPY_MODEL_9ce7318d0cc948669c6a19282b09fe75",
              "IPY_MODEL_a0519b141fda41e880e3a701db3d6025"
            ]
          }
        },
        "bc5f0c4c05624c4db71b803b66448731": {
          "model_module": "@jupyter-widgets/base",
          "model_name": "LayoutModel",
          "state": {
            "_view_name": "LayoutView",
            "grid_template_rows": null,
            "right": null,
            "justify_content": null,
            "_view_module": "@jupyter-widgets/base",
            "overflow": null,
            "_model_module_version": "1.2.0",
            "_view_count": null,
            "flex_flow": null,
            "width": null,
            "min_width": null,
            "border": null,
            "align_items": null,
            "bottom": null,
            "_model_module": "@jupyter-widgets/base",
            "top": null,
            "grid_column": null,
            "overflow_y": null,
            "overflow_x": null,
            "grid_auto_flow": null,
            "grid_area": null,
            "grid_template_columns": null,
            "flex": null,
            "_model_name": "LayoutModel",
            "justify_items": null,
            "grid_row": null,
            "max_height": null,
            "align_content": null,
            "visibility": null,
            "align_self": null,
            "height": null,
            "min_height": null,
            "padding": null,
            "grid_auto_rows": null,
            "grid_gap": null,
            "max_width": null,
            "order": null,
            "_view_module_version": "1.2.0",
            "grid_template_areas": null,
            "object_position": null,
            "object_fit": null,
            "grid_auto_columns": null,
            "margin": null,
            "display": null,
            "left": null
          }
        },
        "9ce7318d0cc948669c6a19282b09fe75": {
          "model_module": "@jupyter-widgets/controls",
          "model_name": "FloatProgressModel",
          "state": {
            "_view_name": "ProgressView",
            "style": "IPY_MODEL_383562e329c346bcb01ec8bea3a67b02",
            "_dom_classes": [],
            "description": "#0: 100%",
            "_model_name": "FloatProgressModel",
            "bar_style": "success",
            "max": 445,
            "_view_module": "@jupyter-widgets/controls",
            "_model_module_version": "1.5.0",
            "value": 445,
            "_view_count": null,
            "_view_module_version": "1.5.0",
            "orientation": "horizontal",
            "min": 0,
            "description_tooltip": null,
            "_model_module": "@jupyter-widgets/controls",
            "layout": "IPY_MODEL_5bb224869a0346fc942cc7bc9baede9c"
          }
        },
        "a0519b141fda41e880e3a701db3d6025": {
          "model_module": "@jupyter-widgets/controls",
          "model_name": "HTMLModel",
          "state": {
            "_view_name": "HTMLView",
            "style": "IPY_MODEL_03c462e036a1435c8d37055740fc7f0c",
            "_dom_classes": [],
            "description": "",
            "_model_name": "HTMLModel",
            "placeholder": "​",
            "_view_module": "@jupyter-widgets/controls",
            "_model_module_version": "1.5.0",
            "value": " 445/445 [03:08&lt;00:00,  2.36ex/s]",
            "_view_count": null,
            "_view_module_version": "1.5.0",
            "description_tooltip": null,
            "_model_module": "@jupyter-widgets/controls",
            "layout": "IPY_MODEL_9712d0c717aa4397b99d035ad61c52c9"
          }
        },
        "383562e329c346bcb01ec8bea3a67b02": {
          "model_module": "@jupyter-widgets/controls",
          "model_name": "ProgressStyleModel",
          "state": {
            "_view_name": "StyleView",
            "_model_name": "ProgressStyleModel",
            "description_width": "initial",
            "_view_module": "@jupyter-widgets/base",
            "_model_module_version": "1.5.0",
            "_view_count": null,
            "_view_module_version": "1.2.0",
            "bar_color": null,
            "_model_module": "@jupyter-widgets/controls"
          }
        },
        "5bb224869a0346fc942cc7bc9baede9c": {
          "model_module": "@jupyter-widgets/base",
          "model_name": "LayoutModel",
          "state": {
            "_view_name": "LayoutView",
            "grid_template_rows": null,
            "right": null,
            "justify_content": null,
            "_view_module": "@jupyter-widgets/base",
            "overflow": null,
            "_model_module_version": "1.2.0",
            "_view_count": null,
            "flex_flow": null,
            "width": null,
            "min_width": null,
            "border": null,
            "align_items": null,
            "bottom": null,
            "_model_module": "@jupyter-widgets/base",
            "top": null,
            "grid_column": null,
            "overflow_y": null,
            "overflow_x": null,
            "grid_auto_flow": null,
            "grid_area": null,
            "grid_template_columns": null,
            "flex": null,
            "_model_name": "LayoutModel",
            "justify_items": null,
            "grid_row": null,
            "max_height": null,
            "align_content": null,
            "visibility": null,
            "align_self": null,
            "height": null,
            "min_height": null,
            "padding": null,
            "grid_auto_rows": null,
            "grid_gap": null,
            "max_width": null,
            "order": null,
            "_view_module_version": "1.2.0",
            "grid_template_areas": null,
            "object_position": null,
            "object_fit": null,
            "grid_auto_columns": null,
            "margin": null,
            "display": null,
            "left": null
          }
        },
        "03c462e036a1435c8d37055740fc7f0c": {
          "model_module": "@jupyter-widgets/controls",
          "model_name": "DescriptionStyleModel",
          "state": {
            "_view_name": "StyleView",
            "_model_name": "DescriptionStyleModel",
            "description_width": "",
            "_view_module": "@jupyter-widgets/base",
            "_model_module_version": "1.5.0",
            "_view_count": null,
            "_view_module_version": "1.2.0",
            "_model_module": "@jupyter-widgets/controls"
          }
        },
        "9712d0c717aa4397b99d035ad61c52c9": {
          "model_module": "@jupyter-widgets/base",
          "model_name": "LayoutModel",
          "state": {
            "_view_name": "LayoutView",
            "grid_template_rows": null,
            "right": null,
            "justify_content": null,
            "_view_module": "@jupyter-widgets/base",
            "overflow": null,
            "_model_module_version": "1.2.0",
            "_view_count": null,
            "flex_flow": null,
            "width": null,
            "min_width": null,
            "border": null,
            "align_items": null,
            "bottom": null,
            "_model_module": "@jupyter-widgets/base",
            "top": null,
            "grid_column": null,
            "overflow_y": null,
            "overflow_x": null,
            "grid_auto_flow": null,
            "grid_area": null,
            "grid_template_columns": null,
            "flex": null,
            "_model_name": "LayoutModel",
            "justify_items": null,
            "grid_row": null,
            "max_height": null,
            "align_content": null,
            "visibility": null,
            "align_self": null,
            "height": null,
            "min_height": null,
            "padding": null,
            "grid_auto_rows": null,
            "grid_gap": null,
            "max_width": null,
            "order": null,
            "_view_module_version": "1.2.0",
            "grid_template_areas": null,
            "object_position": null,
            "object_fit": null,
            "grid_auto_columns": null,
            "margin": null,
            "display": null,
            "left": null
          }
        },
        "e8e8a561715b4e42aa5c1b7f7d48bac0": {
          "model_module": "@jupyter-widgets/controls",
          "model_name": "HBoxModel",
          "state": {
            "_view_name": "HBoxView",
            "_dom_classes": [],
            "_model_name": "HBoxModel",
            "_view_module": "@jupyter-widgets/controls",
            "_model_module_version": "1.5.0",
            "_view_count": null,
            "_view_module_version": "1.5.0",
            "box_style": "",
            "layout": "IPY_MODEL_8f45edf74d5d4ed0ad9c66c290b938f6",
            "_model_module": "@jupyter-widgets/controls",
            "children": [
              "IPY_MODEL_f9a959df9f46459a9295ffdc84524bf3",
              "IPY_MODEL_99ed21ade1fc4f7698dbe4286d4f2b9c"
            ]
          }
        },
        "8f45edf74d5d4ed0ad9c66c290b938f6": {
          "model_module": "@jupyter-widgets/base",
          "model_name": "LayoutModel",
          "state": {
            "_view_name": "LayoutView",
            "grid_template_rows": null,
            "right": null,
            "justify_content": null,
            "_view_module": "@jupyter-widgets/base",
            "overflow": null,
            "_model_module_version": "1.2.0",
            "_view_count": null,
            "flex_flow": null,
            "width": null,
            "min_width": null,
            "border": null,
            "align_items": null,
            "bottom": null,
            "_model_module": "@jupyter-widgets/base",
            "top": null,
            "grid_column": null,
            "overflow_y": null,
            "overflow_x": null,
            "grid_auto_flow": null,
            "grid_area": null,
            "grid_template_columns": null,
            "flex": null,
            "_model_name": "LayoutModel",
            "justify_items": null,
            "grid_row": null,
            "max_height": null,
            "align_content": null,
            "visibility": null,
            "align_self": null,
            "height": null,
            "min_height": null,
            "padding": null,
            "grid_auto_rows": null,
            "grid_gap": null,
            "max_width": null,
            "order": null,
            "_view_module_version": "1.2.0",
            "grid_template_areas": null,
            "object_position": null,
            "object_fit": null,
            "grid_auto_columns": null,
            "margin": null,
            "display": null,
            "left": null
          }
        },
        "f9a959df9f46459a9295ffdc84524bf3": {
          "model_module": "@jupyter-widgets/controls",
          "model_name": "FloatProgressModel",
          "state": {
            "_view_name": "ProgressView",
            "style": "IPY_MODEL_6a7d29a57bf84b209ca4a075bddd53d5",
            "_dom_classes": [],
            "description": "#1: 100%",
            "_model_name": "FloatProgressModel",
            "bar_style": "success",
            "max": 445,
            "_view_module": "@jupyter-widgets/controls",
            "_model_module_version": "1.5.0",
            "value": 445,
            "_view_count": null,
            "_view_module_version": "1.5.0",
            "orientation": "horizontal",
            "min": 0,
            "description_tooltip": null,
            "_model_module": "@jupyter-widgets/controls",
            "layout": "IPY_MODEL_600938d40b464fa4891e57520f5ab4cb"
          }
        },
        "99ed21ade1fc4f7698dbe4286d4f2b9c": {
          "model_module": "@jupyter-widgets/controls",
          "model_name": "HTMLModel",
          "state": {
            "_view_name": "HTMLView",
            "style": "IPY_MODEL_3a59943569d64dbba1cd33a5368ed506",
            "_dom_classes": [],
            "description": "",
            "_model_name": "HTMLModel",
            "placeholder": "​",
            "_view_module": "@jupyter-widgets/controls",
            "_model_module_version": "1.5.0",
            "value": " 445/445 [03:00&lt;00:00,  2.46ex/s]",
            "_view_count": null,
            "_view_module_version": "1.5.0",
            "description_tooltip": null,
            "_model_module": "@jupyter-widgets/controls",
            "layout": "IPY_MODEL_503004756efc4ffa91d45c5d1fa3e515"
          }
        },
        "6a7d29a57bf84b209ca4a075bddd53d5": {
          "model_module": "@jupyter-widgets/controls",
          "model_name": "ProgressStyleModel",
          "state": {
            "_view_name": "StyleView",
            "_model_name": "ProgressStyleModel",
            "description_width": "initial",
            "_view_module": "@jupyter-widgets/base",
            "_model_module_version": "1.5.0",
            "_view_count": null,
            "_view_module_version": "1.2.0",
            "bar_color": null,
            "_model_module": "@jupyter-widgets/controls"
          }
        },
        "600938d40b464fa4891e57520f5ab4cb": {
          "model_module": "@jupyter-widgets/base",
          "model_name": "LayoutModel",
          "state": {
            "_view_name": "LayoutView",
            "grid_template_rows": null,
            "right": null,
            "justify_content": null,
            "_view_module": "@jupyter-widgets/base",
            "overflow": null,
            "_model_module_version": "1.2.0",
            "_view_count": null,
            "flex_flow": null,
            "width": null,
            "min_width": null,
            "border": null,
            "align_items": null,
            "bottom": null,
            "_model_module": "@jupyter-widgets/base",
            "top": null,
            "grid_column": null,
            "overflow_y": null,
            "overflow_x": null,
            "grid_auto_flow": null,
            "grid_area": null,
            "grid_template_columns": null,
            "flex": null,
            "_model_name": "LayoutModel",
            "justify_items": null,
            "grid_row": null,
            "max_height": null,
            "align_content": null,
            "visibility": null,
            "align_self": null,
            "height": null,
            "min_height": null,
            "padding": null,
            "grid_auto_rows": null,
            "grid_gap": null,
            "max_width": null,
            "order": null,
            "_view_module_version": "1.2.0",
            "grid_template_areas": null,
            "object_position": null,
            "object_fit": null,
            "grid_auto_columns": null,
            "margin": null,
            "display": null,
            "left": null
          }
        },
        "3a59943569d64dbba1cd33a5368ed506": {
          "model_module": "@jupyter-widgets/controls",
          "model_name": "DescriptionStyleModel",
          "state": {
            "_view_name": "StyleView",
            "_model_name": "DescriptionStyleModel",
            "description_width": "",
            "_view_module": "@jupyter-widgets/base",
            "_model_module_version": "1.5.0",
            "_view_count": null,
            "_view_module_version": "1.2.0",
            "_model_module": "@jupyter-widgets/controls"
          }
        },
        "503004756efc4ffa91d45c5d1fa3e515": {
          "model_module": "@jupyter-widgets/base",
          "model_name": "LayoutModel",
          "state": {
            "_view_name": "LayoutView",
            "grid_template_rows": null,
            "right": null,
            "justify_content": null,
            "_view_module": "@jupyter-widgets/base",
            "overflow": null,
            "_model_module_version": "1.2.0",
            "_view_count": null,
            "flex_flow": null,
            "width": null,
            "min_width": null,
            "border": null,
            "align_items": null,
            "bottom": null,
            "_model_module": "@jupyter-widgets/base",
            "top": null,
            "grid_column": null,
            "overflow_y": null,
            "overflow_x": null,
            "grid_auto_flow": null,
            "grid_area": null,
            "grid_template_columns": null,
            "flex": null,
            "_model_name": "LayoutModel",
            "justify_items": null,
            "grid_row": null,
            "max_height": null,
            "align_content": null,
            "visibility": null,
            "align_self": null,
            "height": null,
            "min_height": null,
            "padding": null,
            "grid_auto_rows": null,
            "grid_gap": null,
            "max_width": null,
            "order": null,
            "_view_module_version": "1.2.0",
            "grid_template_areas": null,
            "object_position": null,
            "object_fit": null,
            "grid_auto_columns": null,
            "margin": null,
            "display": null,
            "left": null
          }
        },
        "f070473706ef4a85bc003cb2b884e5ea": {
          "model_module": "@jupyter-widgets/controls",
          "model_name": "HBoxModel",
          "state": {
            "_view_name": "HBoxView",
            "_dom_classes": [],
            "_model_name": "HBoxModel",
            "_view_module": "@jupyter-widgets/controls",
            "_model_module_version": "1.5.0",
            "_view_count": null,
            "_view_module_version": "1.5.0",
            "box_style": "",
            "layout": "IPY_MODEL_62b7ec3f4d364bb795cb464e1d15faa9",
            "_model_module": "@jupyter-widgets/controls",
            "children": [
              "IPY_MODEL_2fb02771537a41eb933e103773bd5f83",
              "IPY_MODEL_6c1fae96afc045fa90ee90b10164bc08"
            ]
          }
        },
        "62b7ec3f4d364bb795cb464e1d15faa9": {
          "model_module": "@jupyter-widgets/base",
          "model_name": "LayoutModel",
          "state": {
            "_view_name": "LayoutView",
            "grid_template_rows": null,
            "right": null,
            "justify_content": null,
            "_view_module": "@jupyter-widgets/base",
            "overflow": null,
            "_model_module_version": "1.2.0",
            "_view_count": null,
            "flex_flow": null,
            "width": null,
            "min_width": null,
            "border": null,
            "align_items": null,
            "bottom": null,
            "_model_module": "@jupyter-widgets/base",
            "top": null,
            "grid_column": null,
            "overflow_y": null,
            "overflow_x": null,
            "grid_auto_flow": null,
            "grid_area": null,
            "grid_template_columns": null,
            "flex": null,
            "_model_name": "LayoutModel",
            "justify_items": null,
            "grid_row": null,
            "max_height": null,
            "align_content": null,
            "visibility": null,
            "align_self": null,
            "height": null,
            "min_height": null,
            "padding": null,
            "grid_auto_rows": null,
            "grid_gap": null,
            "max_width": null,
            "order": null,
            "_view_module_version": "1.2.0",
            "grid_template_areas": null,
            "object_position": null,
            "object_fit": null,
            "grid_auto_columns": null,
            "margin": null,
            "display": null,
            "left": null
          }
        },
        "2fb02771537a41eb933e103773bd5f83": {
          "model_module": "@jupyter-widgets/controls",
          "model_name": "FloatProgressModel",
          "state": {
            "_view_name": "ProgressView",
            "style": "IPY_MODEL_e31bf6aac0ff4de590e6b3d138abcceb",
            "_dom_classes": [],
            "description": "#2: 100%",
            "_model_name": "FloatProgressModel",
            "bar_style": "success",
            "max": 444,
            "_view_module": "@jupyter-widgets/controls",
            "_model_module_version": "1.5.0",
            "value": 444,
            "_view_count": null,
            "_view_module_version": "1.5.0",
            "orientation": "horizontal",
            "min": 0,
            "description_tooltip": null,
            "_model_module": "@jupyter-widgets/controls",
            "layout": "IPY_MODEL_ff63a62418ef4988bfe26be0324da19c"
          }
        },
        "6c1fae96afc045fa90ee90b10164bc08": {
          "model_module": "@jupyter-widgets/controls",
          "model_name": "HTMLModel",
          "state": {
            "_view_name": "HTMLView",
            "style": "IPY_MODEL_bc36dc670cdc4849b13c54079605d4cd",
            "_dom_classes": [],
            "description": "",
            "_model_name": "HTMLModel",
            "placeholder": "​",
            "_view_module": "@jupyter-widgets/controls",
            "_model_module_version": "1.5.0",
            "value": " 444/444 [02:58&lt;00:00,  2.49ex/s]",
            "_view_count": null,
            "_view_module_version": "1.5.0",
            "description_tooltip": null,
            "_model_module": "@jupyter-widgets/controls",
            "layout": "IPY_MODEL_4b6a1533104c46e7a2b25396846b2d2d"
          }
        },
        "e31bf6aac0ff4de590e6b3d138abcceb": {
          "model_module": "@jupyter-widgets/controls",
          "model_name": "ProgressStyleModel",
          "state": {
            "_view_name": "StyleView",
            "_model_name": "ProgressStyleModel",
            "description_width": "initial",
            "_view_module": "@jupyter-widgets/base",
            "_model_module_version": "1.5.0",
            "_view_count": null,
            "_view_module_version": "1.2.0",
            "bar_color": null,
            "_model_module": "@jupyter-widgets/controls"
          }
        },
        "ff63a62418ef4988bfe26be0324da19c": {
          "model_module": "@jupyter-widgets/base",
          "model_name": "LayoutModel",
          "state": {
            "_view_name": "LayoutView",
            "grid_template_rows": null,
            "right": null,
            "justify_content": null,
            "_view_module": "@jupyter-widgets/base",
            "overflow": null,
            "_model_module_version": "1.2.0",
            "_view_count": null,
            "flex_flow": null,
            "width": null,
            "min_width": null,
            "border": null,
            "align_items": null,
            "bottom": null,
            "_model_module": "@jupyter-widgets/base",
            "top": null,
            "grid_column": null,
            "overflow_y": null,
            "overflow_x": null,
            "grid_auto_flow": null,
            "grid_area": null,
            "grid_template_columns": null,
            "flex": null,
            "_model_name": "LayoutModel",
            "justify_items": null,
            "grid_row": null,
            "max_height": null,
            "align_content": null,
            "visibility": null,
            "align_self": null,
            "height": null,
            "min_height": null,
            "padding": null,
            "grid_auto_rows": null,
            "grid_gap": null,
            "max_width": null,
            "order": null,
            "_view_module_version": "1.2.0",
            "grid_template_areas": null,
            "object_position": null,
            "object_fit": null,
            "grid_auto_columns": null,
            "margin": null,
            "display": null,
            "left": null
          }
        },
        "bc36dc670cdc4849b13c54079605d4cd": {
          "model_module": "@jupyter-widgets/controls",
          "model_name": "DescriptionStyleModel",
          "state": {
            "_view_name": "StyleView",
            "_model_name": "DescriptionStyleModel",
            "description_width": "",
            "_view_module": "@jupyter-widgets/base",
            "_model_module_version": "1.5.0",
            "_view_count": null,
            "_view_module_version": "1.2.0",
            "_model_module": "@jupyter-widgets/controls"
          }
        },
        "4b6a1533104c46e7a2b25396846b2d2d": {
          "model_module": "@jupyter-widgets/base",
          "model_name": "LayoutModel",
          "state": {
            "_view_name": "LayoutView",
            "grid_template_rows": null,
            "right": null,
            "justify_content": null,
            "_view_module": "@jupyter-widgets/base",
            "overflow": null,
            "_model_module_version": "1.2.0",
            "_view_count": null,
            "flex_flow": null,
            "width": null,
            "min_width": null,
            "border": null,
            "align_items": null,
            "bottom": null,
            "_model_module": "@jupyter-widgets/base",
            "top": null,
            "grid_column": null,
            "overflow_y": null,
            "overflow_x": null,
            "grid_auto_flow": null,
            "grid_area": null,
            "grid_template_columns": null,
            "flex": null,
            "_model_name": "LayoutModel",
            "justify_items": null,
            "grid_row": null,
            "max_height": null,
            "align_content": null,
            "visibility": null,
            "align_self": null,
            "height": null,
            "min_height": null,
            "padding": null,
            "grid_auto_rows": null,
            "grid_gap": null,
            "max_width": null,
            "order": null,
            "_view_module_version": "1.2.0",
            "grid_template_areas": null,
            "object_position": null,
            "object_fit": null,
            "grid_auto_columns": null,
            "margin": null,
            "display": null,
            "left": null
          }
        },
        "0bdd43db8970408fa4fbd28c521fd05f": {
          "model_module": "@jupyter-widgets/controls",
          "model_name": "HBoxModel",
          "state": {
            "_view_name": "HBoxView",
            "_dom_classes": [],
            "_model_name": "HBoxModel",
            "_view_module": "@jupyter-widgets/controls",
            "_model_module_version": "1.5.0",
            "_view_count": null,
            "_view_module_version": "1.5.0",
            "box_style": "",
            "layout": "IPY_MODEL_ed1eb383f7b94765bb5653897847a8c3",
            "_model_module": "@jupyter-widgets/controls",
            "children": [
              "IPY_MODEL_f2f6353107f541fb886576108f844113",
              "IPY_MODEL_801bfc276ef34149b3d368dae13c214c"
            ]
          }
        },
        "ed1eb383f7b94765bb5653897847a8c3": {
          "model_module": "@jupyter-widgets/base",
          "model_name": "LayoutModel",
          "state": {
            "_view_name": "LayoutView",
            "grid_template_rows": null,
            "right": null,
            "justify_content": null,
            "_view_module": "@jupyter-widgets/base",
            "overflow": null,
            "_model_module_version": "1.2.0",
            "_view_count": null,
            "flex_flow": null,
            "width": null,
            "min_width": null,
            "border": null,
            "align_items": null,
            "bottom": null,
            "_model_module": "@jupyter-widgets/base",
            "top": null,
            "grid_column": null,
            "overflow_y": null,
            "overflow_x": null,
            "grid_auto_flow": null,
            "grid_area": null,
            "grid_template_columns": null,
            "flex": null,
            "_model_name": "LayoutModel",
            "justify_items": null,
            "grid_row": null,
            "max_height": null,
            "align_content": null,
            "visibility": null,
            "align_self": null,
            "height": null,
            "min_height": null,
            "padding": null,
            "grid_auto_rows": null,
            "grid_gap": null,
            "max_width": null,
            "order": null,
            "_view_module_version": "1.2.0",
            "grid_template_areas": null,
            "object_position": null,
            "object_fit": null,
            "grid_auto_columns": null,
            "margin": null,
            "display": null,
            "left": null
          }
        },
        "f2f6353107f541fb886576108f844113": {
          "model_module": "@jupyter-widgets/controls",
          "model_name": "FloatProgressModel",
          "state": {
            "_view_name": "ProgressView",
            "style": "IPY_MODEL_e935b32439274664a1971e0725e68832",
            "_dom_classes": [],
            "description": "#3: 100%",
            "_model_name": "FloatProgressModel",
            "bar_style": "success",
            "max": 444,
            "_view_module": "@jupyter-widgets/controls",
            "_model_module_version": "1.5.0",
            "value": 444,
            "_view_count": null,
            "_view_module_version": "1.5.0",
            "orientation": "horizontal",
            "min": 0,
            "description_tooltip": null,
            "_model_module": "@jupyter-widgets/controls",
            "layout": "IPY_MODEL_a3ebdbe3d40a469abcb4c83073db2082"
          }
        },
        "801bfc276ef34149b3d368dae13c214c": {
          "model_module": "@jupyter-widgets/controls",
          "model_name": "HTMLModel",
          "state": {
            "_view_name": "HTMLView",
            "style": "IPY_MODEL_9d282f88713847af9aa04bba29b3d099",
            "_dom_classes": [],
            "description": "",
            "_model_name": "HTMLModel",
            "placeholder": "​",
            "_view_module": "@jupyter-widgets/controls",
            "_model_module_version": "1.5.0",
            "value": " 444/444 [02:49&lt;00:00,  2.63ex/s]",
            "_view_count": null,
            "_view_module_version": "1.5.0",
            "description_tooltip": null,
            "_model_module": "@jupyter-widgets/controls",
            "layout": "IPY_MODEL_f077ccaac1554aeeb6930fb741d687af"
          }
        },
        "e935b32439274664a1971e0725e68832": {
          "model_module": "@jupyter-widgets/controls",
          "model_name": "ProgressStyleModel",
          "state": {
            "_view_name": "StyleView",
            "_model_name": "ProgressStyleModel",
            "description_width": "initial",
            "_view_module": "@jupyter-widgets/base",
            "_model_module_version": "1.5.0",
            "_view_count": null,
            "_view_module_version": "1.2.0",
            "bar_color": null,
            "_model_module": "@jupyter-widgets/controls"
          }
        },
        "a3ebdbe3d40a469abcb4c83073db2082": {
          "model_module": "@jupyter-widgets/base",
          "model_name": "LayoutModel",
          "state": {
            "_view_name": "LayoutView",
            "grid_template_rows": null,
            "right": null,
            "justify_content": null,
            "_view_module": "@jupyter-widgets/base",
            "overflow": null,
            "_model_module_version": "1.2.0",
            "_view_count": null,
            "flex_flow": null,
            "width": null,
            "min_width": null,
            "border": null,
            "align_items": null,
            "bottom": null,
            "_model_module": "@jupyter-widgets/base",
            "top": null,
            "grid_column": null,
            "overflow_y": null,
            "overflow_x": null,
            "grid_auto_flow": null,
            "grid_area": null,
            "grid_template_columns": null,
            "flex": null,
            "_model_name": "LayoutModel",
            "justify_items": null,
            "grid_row": null,
            "max_height": null,
            "align_content": null,
            "visibility": null,
            "align_self": null,
            "height": null,
            "min_height": null,
            "padding": null,
            "grid_auto_rows": null,
            "grid_gap": null,
            "max_width": null,
            "order": null,
            "_view_module_version": "1.2.0",
            "grid_template_areas": null,
            "object_position": null,
            "object_fit": null,
            "grid_auto_columns": null,
            "margin": null,
            "display": null,
            "left": null
          }
        },
        "9d282f88713847af9aa04bba29b3d099": {
          "model_module": "@jupyter-widgets/controls",
          "model_name": "DescriptionStyleModel",
          "state": {
            "_view_name": "StyleView",
            "_model_name": "DescriptionStyleModel",
            "description_width": "",
            "_view_module": "@jupyter-widgets/base",
            "_model_module_version": "1.5.0",
            "_view_count": null,
            "_view_module_version": "1.2.0",
            "_model_module": "@jupyter-widgets/controls"
          }
        },
        "f077ccaac1554aeeb6930fb741d687af": {
          "model_module": "@jupyter-widgets/base",
          "model_name": "LayoutModel",
          "state": {
            "_view_name": "LayoutView",
            "grid_template_rows": null,
            "right": null,
            "justify_content": null,
            "_view_module": "@jupyter-widgets/base",
            "overflow": null,
            "_model_module_version": "1.2.0",
            "_view_count": null,
            "flex_flow": null,
            "width": null,
            "min_width": null,
            "border": null,
            "align_items": null,
            "bottom": null,
            "_model_module": "@jupyter-widgets/base",
            "top": null,
            "grid_column": null,
            "overflow_y": null,
            "overflow_x": null,
            "grid_auto_flow": null,
            "grid_area": null,
            "grid_template_columns": null,
            "flex": null,
            "_model_name": "LayoutModel",
            "justify_items": null,
            "grid_row": null,
            "max_height": null,
            "align_content": null,
            "visibility": null,
            "align_self": null,
            "height": null,
            "min_height": null,
            "padding": null,
            "grid_auto_rows": null,
            "grid_gap": null,
            "max_width": null,
            "order": null,
            "_view_module_version": "1.2.0",
            "grid_template_areas": null,
            "object_position": null,
            "object_fit": null,
            "grid_auto_columns": null,
            "margin": null,
            "display": null,
            "left": null
          }
        },
        "03afbeafc5bf44fa96149104a27fb290": {
          "model_module": "@jupyter-widgets/controls",
          "model_name": "HBoxModel",
          "state": {
            "_view_name": "HBoxView",
            "_dom_classes": [],
            "_model_name": "HBoxModel",
            "_view_module": "@jupyter-widgets/controls",
            "_model_module_version": "1.5.0",
            "_view_count": null,
            "_view_module_version": "1.5.0",
            "box_style": "",
            "layout": "IPY_MODEL_c630cf7d904946bcb96bab8d47cda93f",
            "_model_module": "@jupyter-widgets/controls",
            "children": [
              "IPY_MODEL_0ef36de16b434c78afbc1b0373f7ed63",
              "IPY_MODEL_d8064ad87ec546c5886ecdc1a56b42d2"
            ]
          }
        },
        "c630cf7d904946bcb96bab8d47cda93f": {
          "model_module": "@jupyter-widgets/base",
          "model_name": "LayoutModel",
          "state": {
            "_view_name": "LayoutView",
            "grid_template_rows": null,
            "right": null,
            "justify_content": null,
            "_view_module": "@jupyter-widgets/base",
            "overflow": null,
            "_model_module_version": "1.2.0",
            "_view_count": null,
            "flex_flow": null,
            "width": null,
            "min_width": null,
            "border": null,
            "align_items": null,
            "bottom": null,
            "_model_module": "@jupyter-widgets/base",
            "top": null,
            "grid_column": null,
            "overflow_y": null,
            "overflow_x": null,
            "grid_auto_flow": null,
            "grid_area": null,
            "grid_template_columns": null,
            "flex": null,
            "_model_name": "LayoutModel",
            "justify_items": null,
            "grid_row": null,
            "max_height": null,
            "align_content": null,
            "visibility": null,
            "align_self": null,
            "height": null,
            "min_height": null,
            "padding": null,
            "grid_auto_rows": null,
            "grid_gap": null,
            "max_width": null,
            "order": null,
            "_view_module_version": "1.2.0",
            "grid_template_areas": null,
            "object_position": null,
            "object_fit": null,
            "grid_auto_columns": null,
            "margin": null,
            "display": null,
            "left": null
          }
        },
        "0ef36de16b434c78afbc1b0373f7ed63": {
          "model_module": "@jupyter-widgets/controls",
          "model_name": "FloatProgressModel",
          "state": {
            "_view_name": "ProgressView",
            "style": "IPY_MODEL_8b0968efd4dc4bf39989d3cc2afd5dec",
            "_dom_classes": [],
            "description": "#0: 100%",
            "_model_name": "FloatProgressModel",
            "bar_style": "success",
            "max": 134,
            "_view_module": "@jupyter-widgets/controls",
            "_model_module_version": "1.5.0",
            "value": 134,
            "_view_count": null,
            "_view_module_version": "1.5.0",
            "orientation": "horizontal",
            "min": 0,
            "description_tooltip": null,
            "_model_module": "@jupyter-widgets/controls",
            "layout": "IPY_MODEL_e0afdabf5e344b6dbd0770a1241584ba"
          }
        },
        "d8064ad87ec546c5886ecdc1a56b42d2": {
          "model_module": "@jupyter-widgets/controls",
          "model_name": "HTMLModel",
          "state": {
            "_view_name": "HTMLView",
            "style": "IPY_MODEL_773792c0cdf943c5ab392a99ea5b36a7",
            "_dom_classes": [],
            "description": "",
            "_model_name": "HTMLModel",
            "placeholder": "​",
            "_view_module": "@jupyter-widgets/controls",
            "_model_module_version": "1.5.0",
            "value": " 134/134 [01:11&lt;00:00,  1.87ba/s]",
            "_view_count": null,
            "_view_module_version": "1.5.0",
            "description_tooltip": null,
            "_model_module": "@jupyter-widgets/controls",
            "layout": "IPY_MODEL_f9ea8e87eb014481995538e5252c58a2"
          }
        },
        "8b0968efd4dc4bf39989d3cc2afd5dec": {
          "model_module": "@jupyter-widgets/controls",
          "model_name": "ProgressStyleModel",
          "state": {
            "_view_name": "StyleView",
            "_model_name": "ProgressStyleModel",
            "description_width": "initial",
            "_view_module": "@jupyter-widgets/base",
            "_model_module_version": "1.5.0",
            "_view_count": null,
            "_view_module_version": "1.2.0",
            "bar_color": null,
            "_model_module": "@jupyter-widgets/controls"
          }
        },
        "e0afdabf5e344b6dbd0770a1241584ba": {
          "model_module": "@jupyter-widgets/base",
          "model_name": "LayoutModel",
          "state": {
            "_view_name": "LayoutView",
            "grid_template_rows": null,
            "right": null,
            "justify_content": null,
            "_view_module": "@jupyter-widgets/base",
            "overflow": null,
            "_model_module_version": "1.2.0",
            "_view_count": null,
            "flex_flow": null,
            "width": null,
            "min_width": null,
            "border": null,
            "align_items": null,
            "bottom": null,
            "_model_module": "@jupyter-widgets/base",
            "top": null,
            "grid_column": null,
            "overflow_y": null,
            "overflow_x": null,
            "grid_auto_flow": null,
            "grid_area": null,
            "grid_template_columns": null,
            "flex": null,
            "_model_name": "LayoutModel",
            "justify_items": null,
            "grid_row": null,
            "max_height": null,
            "align_content": null,
            "visibility": null,
            "align_self": null,
            "height": null,
            "min_height": null,
            "padding": null,
            "grid_auto_rows": null,
            "grid_gap": null,
            "max_width": null,
            "order": null,
            "_view_module_version": "1.2.0",
            "grid_template_areas": null,
            "object_position": null,
            "object_fit": null,
            "grid_auto_columns": null,
            "margin": null,
            "display": null,
            "left": null
          }
        },
        "773792c0cdf943c5ab392a99ea5b36a7": {
          "model_module": "@jupyter-widgets/controls",
          "model_name": "DescriptionStyleModel",
          "state": {
            "_view_name": "StyleView",
            "_model_name": "DescriptionStyleModel",
            "description_width": "",
            "_view_module": "@jupyter-widgets/base",
            "_model_module_version": "1.5.0",
            "_view_count": null,
            "_view_module_version": "1.2.0",
            "_model_module": "@jupyter-widgets/controls"
          }
        },
        "f9ea8e87eb014481995538e5252c58a2": {
          "model_module": "@jupyter-widgets/base",
          "model_name": "LayoutModel",
          "state": {
            "_view_name": "LayoutView",
            "grid_template_rows": null,
            "right": null,
            "justify_content": null,
            "_view_module": "@jupyter-widgets/base",
            "overflow": null,
            "_model_module_version": "1.2.0",
            "_view_count": null,
            "flex_flow": null,
            "width": null,
            "min_width": null,
            "border": null,
            "align_items": null,
            "bottom": null,
            "_model_module": "@jupyter-widgets/base",
            "top": null,
            "grid_column": null,
            "overflow_y": null,
            "overflow_x": null,
            "grid_auto_flow": null,
            "grid_area": null,
            "grid_template_columns": null,
            "flex": null,
            "_model_name": "LayoutModel",
            "justify_items": null,
            "grid_row": null,
            "max_height": null,
            "align_content": null,
            "visibility": null,
            "align_self": null,
            "height": null,
            "min_height": null,
            "padding": null,
            "grid_auto_rows": null,
            "grid_gap": null,
            "max_width": null,
            "order": null,
            "_view_module_version": "1.2.0",
            "grid_template_areas": null,
            "object_position": null,
            "object_fit": null,
            "grid_auto_columns": null,
            "margin": null,
            "display": null,
            "left": null
          }
        },
        "c573a5542dc54f80a79f3cf22edd808e": {
          "model_module": "@jupyter-widgets/controls",
          "model_name": "HBoxModel",
          "state": {
            "_view_name": "HBoxView",
            "_dom_classes": [],
            "_model_name": "HBoxModel",
            "_view_module": "@jupyter-widgets/controls",
            "_model_module_version": "1.5.0",
            "_view_count": null,
            "_view_module_version": "1.5.0",
            "box_style": "",
            "layout": "IPY_MODEL_d2c2d4449d26401d875c47506b1a4067",
            "_model_module": "@jupyter-widgets/controls",
            "children": [
              "IPY_MODEL_3eaf88b6446b47388a227232f3b9d9d8",
              "IPY_MODEL_71306fdf41934bcd89a8bb7ebcca0601"
            ]
          }
        },
        "d2c2d4449d26401d875c47506b1a4067": {
          "model_module": "@jupyter-widgets/base",
          "model_name": "LayoutModel",
          "state": {
            "_view_name": "LayoutView",
            "grid_template_rows": null,
            "right": null,
            "justify_content": null,
            "_view_module": "@jupyter-widgets/base",
            "overflow": null,
            "_model_module_version": "1.2.0",
            "_view_count": null,
            "flex_flow": null,
            "width": null,
            "min_width": null,
            "border": null,
            "align_items": null,
            "bottom": null,
            "_model_module": "@jupyter-widgets/base",
            "top": null,
            "grid_column": null,
            "overflow_y": null,
            "overflow_x": null,
            "grid_auto_flow": null,
            "grid_area": null,
            "grid_template_columns": null,
            "flex": null,
            "_model_name": "LayoutModel",
            "justify_items": null,
            "grid_row": null,
            "max_height": null,
            "align_content": null,
            "visibility": null,
            "align_self": null,
            "height": null,
            "min_height": null,
            "padding": null,
            "grid_auto_rows": null,
            "grid_gap": null,
            "max_width": null,
            "order": null,
            "_view_module_version": "1.2.0",
            "grid_template_areas": null,
            "object_position": null,
            "object_fit": null,
            "grid_auto_columns": null,
            "margin": null,
            "display": null,
            "left": null
          }
        },
        "3eaf88b6446b47388a227232f3b9d9d8": {
          "model_module": "@jupyter-widgets/controls",
          "model_name": "FloatProgressModel",
          "state": {
            "_view_name": "ProgressView",
            "style": "IPY_MODEL_403abafc04bf4d2997f6a08e850a7bd8",
            "_dom_classes": [],
            "description": "#3: 100%",
            "_model_name": "FloatProgressModel",
            "bar_style": "success",
            "max": 133,
            "_view_module": "@jupyter-widgets/controls",
            "_model_module_version": "1.5.0",
            "value": 133,
            "_view_count": null,
            "_view_module_version": "1.5.0",
            "orientation": "horizontal",
            "min": 0,
            "description_tooltip": null,
            "_model_module": "@jupyter-widgets/controls",
            "layout": "IPY_MODEL_94f69dd4099d4f2fa019c0d943d7ed0f"
          }
        },
        "71306fdf41934bcd89a8bb7ebcca0601": {
          "model_module": "@jupyter-widgets/controls",
          "model_name": "HTMLModel",
          "state": {
            "_view_name": "HTMLView",
            "style": "IPY_MODEL_9f4ec9dedd7c4e45956c6e1c7099dc6b",
            "_dom_classes": [],
            "description": "",
            "_model_name": "HTMLModel",
            "placeholder": "​",
            "_view_module": "@jupyter-widgets/controls",
            "_model_module_version": "1.5.0",
            "value": " 133/133 [01:13&lt;00:00,  1.80ba/s]",
            "_view_count": null,
            "_view_module_version": "1.5.0",
            "description_tooltip": null,
            "_model_module": "@jupyter-widgets/controls",
            "layout": "IPY_MODEL_0c92a580983743d7a1682d40313908f9"
          }
        },
        "403abafc04bf4d2997f6a08e850a7bd8": {
          "model_module": "@jupyter-widgets/controls",
          "model_name": "ProgressStyleModel",
          "state": {
            "_view_name": "StyleView",
            "_model_name": "ProgressStyleModel",
            "description_width": "initial",
            "_view_module": "@jupyter-widgets/base",
            "_model_module_version": "1.5.0",
            "_view_count": null,
            "_view_module_version": "1.2.0",
            "bar_color": null,
            "_model_module": "@jupyter-widgets/controls"
          }
        },
        "94f69dd4099d4f2fa019c0d943d7ed0f": {
          "model_module": "@jupyter-widgets/base",
          "model_name": "LayoutModel",
          "state": {
            "_view_name": "LayoutView",
            "grid_template_rows": null,
            "right": null,
            "justify_content": null,
            "_view_module": "@jupyter-widgets/base",
            "overflow": null,
            "_model_module_version": "1.2.0",
            "_view_count": null,
            "flex_flow": null,
            "width": null,
            "min_width": null,
            "border": null,
            "align_items": null,
            "bottom": null,
            "_model_module": "@jupyter-widgets/base",
            "top": null,
            "grid_column": null,
            "overflow_y": null,
            "overflow_x": null,
            "grid_auto_flow": null,
            "grid_area": null,
            "grid_template_columns": null,
            "flex": null,
            "_model_name": "LayoutModel",
            "justify_items": null,
            "grid_row": null,
            "max_height": null,
            "align_content": null,
            "visibility": null,
            "align_self": null,
            "height": null,
            "min_height": null,
            "padding": null,
            "grid_auto_rows": null,
            "grid_gap": null,
            "max_width": null,
            "order": null,
            "_view_module_version": "1.2.0",
            "grid_template_areas": null,
            "object_position": null,
            "object_fit": null,
            "grid_auto_columns": null,
            "margin": null,
            "display": null,
            "left": null
          }
        },
        "9f4ec9dedd7c4e45956c6e1c7099dc6b": {
          "model_module": "@jupyter-widgets/controls",
          "model_name": "DescriptionStyleModel",
          "state": {
            "_view_name": "StyleView",
            "_model_name": "DescriptionStyleModel",
            "description_width": "",
            "_view_module": "@jupyter-widgets/base",
            "_model_module_version": "1.5.0",
            "_view_count": null,
            "_view_module_version": "1.2.0",
            "_model_module": "@jupyter-widgets/controls"
          }
        },
        "0c92a580983743d7a1682d40313908f9": {
          "model_module": "@jupyter-widgets/base",
          "model_name": "LayoutModel",
          "state": {
            "_view_name": "LayoutView",
            "grid_template_rows": null,
            "right": null,
            "justify_content": null,
            "_view_module": "@jupyter-widgets/base",
            "overflow": null,
            "_model_module_version": "1.2.0",
            "_view_count": null,
            "flex_flow": null,
            "width": null,
            "min_width": null,
            "border": null,
            "align_items": null,
            "bottom": null,
            "_model_module": "@jupyter-widgets/base",
            "top": null,
            "grid_column": null,
            "overflow_y": null,
            "overflow_x": null,
            "grid_auto_flow": null,
            "grid_area": null,
            "grid_template_columns": null,
            "flex": null,
            "_model_name": "LayoutModel",
            "justify_items": null,
            "grid_row": null,
            "max_height": null,
            "align_content": null,
            "visibility": null,
            "align_self": null,
            "height": null,
            "min_height": null,
            "padding": null,
            "grid_auto_rows": null,
            "grid_gap": null,
            "max_width": null,
            "order": null,
            "_view_module_version": "1.2.0",
            "grid_template_areas": null,
            "object_position": null,
            "object_fit": null,
            "grid_auto_columns": null,
            "margin": null,
            "display": null,
            "left": null
          }
        },
        "d2d4af7d4d4e495ca3a8d7075d1c14cb": {
          "model_module": "@jupyter-widgets/controls",
          "model_name": "HBoxModel",
          "state": {
            "_view_name": "HBoxView",
            "_dom_classes": [],
            "_model_name": "HBoxModel",
            "_view_module": "@jupyter-widgets/controls",
            "_model_module_version": "1.5.0",
            "_view_count": null,
            "_view_module_version": "1.5.0",
            "box_style": "",
            "layout": "IPY_MODEL_c0bcdb242dd242388ed14b4b328e57dd",
            "_model_module": "@jupyter-widgets/controls",
            "children": [
              "IPY_MODEL_b972ab6e368b492d871491a67d2d4f49",
              "IPY_MODEL_3bd01ab591ee43c197c6b23c96e17300"
            ]
          }
        },
        "c0bcdb242dd242388ed14b4b328e57dd": {
          "model_module": "@jupyter-widgets/base",
          "model_name": "LayoutModel",
          "state": {
            "_view_name": "LayoutView",
            "grid_template_rows": null,
            "right": null,
            "justify_content": null,
            "_view_module": "@jupyter-widgets/base",
            "overflow": null,
            "_model_module_version": "1.2.0",
            "_view_count": null,
            "flex_flow": null,
            "width": null,
            "min_width": null,
            "border": null,
            "align_items": null,
            "bottom": null,
            "_model_module": "@jupyter-widgets/base",
            "top": null,
            "grid_column": null,
            "overflow_y": null,
            "overflow_x": null,
            "grid_auto_flow": null,
            "grid_area": null,
            "grid_template_columns": null,
            "flex": null,
            "_model_name": "LayoutModel",
            "justify_items": null,
            "grid_row": null,
            "max_height": null,
            "align_content": null,
            "visibility": null,
            "align_self": null,
            "height": null,
            "min_height": null,
            "padding": null,
            "grid_auto_rows": null,
            "grid_gap": null,
            "max_width": null,
            "order": null,
            "_view_module_version": "1.2.0",
            "grid_template_areas": null,
            "object_position": null,
            "object_fit": null,
            "grid_auto_columns": null,
            "margin": null,
            "display": null,
            "left": null
          }
        },
        "b972ab6e368b492d871491a67d2d4f49": {
          "model_module": "@jupyter-widgets/controls",
          "model_name": "FloatProgressModel",
          "state": {
            "_view_name": "ProgressView",
            "style": "IPY_MODEL_4b67be65f6f14276a29526d1ca4cf940",
            "_dom_classes": [],
            "description": "#1: 100%",
            "_model_name": "FloatProgressModel",
            "bar_style": "success",
            "max": 133,
            "_view_module": "@jupyter-widgets/controls",
            "_model_module_version": "1.5.0",
            "value": 133,
            "_view_count": null,
            "_view_module_version": "1.5.0",
            "orientation": "horizontal",
            "min": 0,
            "description_tooltip": null,
            "_model_module": "@jupyter-widgets/controls",
            "layout": "IPY_MODEL_8cab78b5c1684488a27760bda72cef57"
          }
        },
        "3bd01ab591ee43c197c6b23c96e17300": {
          "model_module": "@jupyter-widgets/controls",
          "model_name": "HTMLModel",
          "state": {
            "_view_name": "HTMLView",
            "style": "IPY_MODEL_fd665b8bcd414ee397737875519166d9",
            "_dom_classes": [],
            "description": "",
            "_model_name": "HTMLModel",
            "placeholder": "​",
            "_view_module": "@jupyter-widgets/controls",
            "_model_module_version": "1.5.0",
            "value": " 133/133 [01:11&lt;00:00,  1.86ba/s]",
            "_view_count": null,
            "_view_module_version": "1.5.0",
            "description_tooltip": null,
            "_model_module": "@jupyter-widgets/controls",
            "layout": "IPY_MODEL_4e55c74e4f7d4da4b8a5a865e014b7a0"
          }
        },
        "4b67be65f6f14276a29526d1ca4cf940": {
          "model_module": "@jupyter-widgets/controls",
          "model_name": "ProgressStyleModel",
          "state": {
            "_view_name": "StyleView",
            "_model_name": "ProgressStyleModel",
            "description_width": "initial",
            "_view_module": "@jupyter-widgets/base",
            "_model_module_version": "1.5.0",
            "_view_count": null,
            "_view_module_version": "1.2.0",
            "bar_color": null,
            "_model_module": "@jupyter-widgets/controls"
          }
        },
        "8cab78b5c1684488a27760bda72cef57": {
          "model_module": "@jupyter-widgets/base",
          "model_name": "LayoutModel",
          "state": {
            "_view_name": "LayoutView",
            "grid_template_rows": null,
            "right": null,
            "justify_content": null,
            "_view_module": "@jupyter-widgets/base",
            "overflow": null,
            "_model_module_version": "1.2.0",
            "_view_count": null,
            "flex_flow": null,
            "width": null,
            "min_width": null,
            "border": null,
            "align_items": null,
            "bottom": null,
            "_model_module": "@jupyter-widgets/base",
            "top": null,
            "grid_column": null,
            "overflow_y": null,
            "overflow_x": null,
            "grid_auto_flow": null,
            "grid_area": null,
            "grid_template_columns": null,
            "flex": null,
            "_model_name": "LayoutModel",
            "justify_items": null,
            "grid_row": null,
            "max_height": null,
            "align_content": null,
            "visibility": null,
            "align_self": null,
            "height": null,
            "min_height": null,
            "padding": null,
            "grid_auto_rows": null,
            "grid_gap": null,
            "max_width": null,
            "order": null,
            "_view_module_version": "1.2.0",
            "grid_template_areas": null,
            "object_position": null,
            "object_fit": null,
            "grid_auto_columns": null,
            "margin": null,
            "display": null,
            "left": null
          }
        },
        "fd665b8bcd414ee397737875519166d9": {
          "model_module": "@jupyter-widgets/controls",
          "model_name": "DescriptionStyleModel",
          "state": {
            "_view_name": "StyleView",
            "_model_name": "DescriptionStyleModel",
            "description_width": "",
            "_view_module": "@jupyter-widgets/base",
            "_model_module_version": "1.5.0",
            "_view_count": null,
            "_view_module_version": "1.2.0",
            "_model_module": "@jupyter-widgets/controls"
          }
        },
        "4e55c74e4f7d4da4b8a5a865e014b7a0": {
          "model_module": "@jupyter-widgets/base",
          "model_name": "LayoutModel",
          "state": {
            "_view_name": "LayoutView",
            "grid_template_rows": null,
            "right": null,
            "justify_content": null,
            "_view_module": "@jupyter-widgets/base",
            "overflow": null,
            "_model_module_version": "1.2.0",
            "_view_count": null,
            "flex_flow": null,
            "width": null,
            "min_width": null,
            "border": null,
            "align_items": null,
            "bottom": null,
            "_model_module": "@jupyter-widgets/base",
            "top": null,
            "grid_column": null,
            "overflow_y": null,
            "overflow_x": null,
            "grid_auto_flow": null,
            "grid_area": null,
            "grid_template_columns": null,
            "flex": null,
            "_model_name": "LayoutModel",
            "justify_items": null,
            "grid_row": null,
            "max_height": null,
            "align_content": null,
            "visibility": null,
            "align_self": null,
            "height": null,
            "min_height": null,
            "padding": null,
            "grid_auto_rows": null,
            "grid_gap": null,
            "max_width": null,
            "order": null,
            "_view_module_version": "1.2.0",
            "grid_template_areas": null,
            "object_position": null,
            "object_fit": null,
            "grid_auto_columns": null,
            "margin": null,
            "display": null,
            "left": null
          }
        },
        "a7ea64af353b4a28b7562422a7773163": {
          "model_module": "@jupyter-widgets/controls",
          "model_name": "HBoxModel",
          "state": {
            "_view_name": "HBoxView",
            "_dom_classes": [],
            "_model_name": "HBoxModel",
            "_view_module": "@jupyter-widgets/controls",
            "_model_module_version": "1.5.0",
            "_view_count": null,
            "_view_module_version": "1.5.0",
            "box_style": "",
            "layout": "IPY_MODEL_7591eafc6cd142fcbe8480b722cb6947",
            "_model_module": "@jupyter-widgets/controls",
            "children": [
              "IPY_MODEL_be5d4d87f06443f893691fc0b04b2ae9",
              "IPY_MODEL_cd00f21a5c4c44fdba4b0db47fb36ffb"
            ]
          }
        },
        "7591eafc6cd142fcbe8480b722cb6947": {
          "model_module": "@jupyter-widgets/base",
          "model_name": "LayoutModel",
          "state": {
            "_view_name": "LayoutView",
            "grid_template_rows": null,
            "right": null,
            "justify_content": null,
            "_view_module": "@jupyter-widgets/base",
            "overflow": null,
            "_model_module_version": "1.2.0",
            "_view_count": null,
            "flex_flow": null,
            "width": null,
            "min_width": null,
            "border": null,
            "align_items": null,
            "bottom": null,
            "_model_module": "@jupyter-widgets/base",
            "top": null,
            "grid_column": null,
            "overflow_y": null,
            "overflow_x": null,
            "grid_auto_flow": null,
            "grid_area": null,
            "grid_template_columns": null,
            "flex": null,
            "_model_name": "LayoutModel",
            "justify_items": null,
            "grid_row": null,
            "max_height": null,
            "align_content": null,
            "visibility": null,
            "align_self": null,
            "height": null,
            "min_height": null,
            "padding": null,
            "grid_auto_rows": null,
            "grid_gap": null,
            "max_width": null,
            "order": null,
            "_view_module_version": "1.2.0",
            "grid_template_areas": null,
            "object_position": null,
            "object_fit": null,
            "grid_auto_columns": null,
            "margin": null,
            "display": null,
            "left": null
          }
        },
        "be5d4d87f06443f893691fc0b04b2ae9": {
          "model_module": "@jupyter-widgets/controls",
          "model_name": "FloatProgressModel",
          "state": {
            "_view_name": "ProgressView",
            "style": "IPY_MODEL_96908c09906c403c99c2ced85ae8aabe",
            "_dom_classes": [],
            "description": "#2: 100%",
            "_model_name": "FloatProgressModel",
            "bar_style": "success",
            "max": 133,
            "_view_module": "@jupyter-widgets/controls",
            "_model_module_version": "1.5.0",
            "value": 133,
            "_view_count": null,
            "_view_module_version": "1.5.0",
            "orientation": "horizontal",
            "min": 0,
            "description_tooltip": null,
            "_model_module": "@jupyter-widgets/controls",
            "layout": "IPY_MODEL_126cbbdf2ac642a28e9d6afbc68da508"
          }
        },
        "cd00f21a5c4c44fdba4b0db47fb36ffb": {
          "model_module": "@jupyter-widgets/controls",
          "model_name": "HTMLModel",
          "state": {
            "_view_name": "HTMLView",
            "style": "IPY_MODEL_78868d62c2c44487b9fc9ee84a9a1b17",
            "_dom_classes": [],
            "description": "",
            "_model_name": "HTMLModel",
            "placeholder": "​",
            "_view_module": "@jupyter-widgets/controls",
            "_model_module_version": "1.5.0",
            "value": " 133/133 [01:05&lt;00:00,  2.02ba/s]",
            "_view_count": null,
            "_view_module_version": "1.5.0",
            "description_tooltip": null,
            "_model_module": "@jupyter-widgets/controls",
            "layout": "IPY_MODEL_6cc0ca2efb974ecebfd95ab834d0f92e"
          }
        },
        "96908c09906c403c99c2ced85ae8aabe": {
          "model_module": "@jupyter-widgets/controls",
          "model_name": "ProgressStyleModel",
          "state": {
            "_view_name": "StyleView",
            "_model_name": "ProgressStyleModel",
            "description_width": "initial",
            "_view_module": "@jupyter-widgets/base",
            "_model_module_version": "1.5.0",
            "_view_count": null,
            "_view_module_version": "1.2.0",
            "bar_color": null,
            "_model_module": "@jupyter-widgets/controls"
          }
        },
        "126cbbdf2ac642a28e9d6afbc68da508": {
          "model_module": "@jupyter-widgets/base",
          "model_name": "LayoutModel",
          "state": {
            "_view_name": "LayoutView",
            "grid_template_rows": null,
            "right": null,
            "justify_content": null,
            "_view_module": "@jupyter-widgets/base",
            "overflow": null,
            "_model_module_version": "1.2.0",
            "_view_count": null,
            "flex_flow": null,
            "width": null,
            "min_width": null,
            "border": null,
            "align_items": null,
            "bottom": null,
            "_model_module": "@jupyter-widgets/base",
            "top": null,
            "grid_column": null,
            "overflow_y": null,
            "overflow_x": null,
            "grid_auto_flow": null,
            "grid_area": null,
            "grid_template_columns": null,
            "flex": null,
            "_model_name": "LayoutModel",
            "justify_items": null,
            "grid_row": null,
            "max_height": null,
            "align_content": null,
            "visibility": null,
            "align_self": null,
            "height": null,
            "min_height": null,
            "padding": null,
            "grid_auto_rows": null,
            "grid_gap": null,
            "max_width": null,
            "order": null,
            "_view_module_version": "1.2.0",
            "grid_template_areas": null,
            "object_position": null,
            "object_fit": null,
            "grid_auto_columns": null,
            "margin": null,
            "display": null,
            "left": null
          }
        },
        "78868d62c2c44487b9fc9ee84a9a1b17": {
          "model_module": "@jupyter-widgets/controls",
          "model_name": "DescriptionStyleModel",
          "state": {
            "_view_name": "StyleView",
            "_model_name": "DescriptionStyleModel",
            "description_width": "",
            "_view_module": "@jupyter-widgets/base",
            "_model_module_version": "1.5.0",
            "_view_count": null,
            "_view_module_version": "1.2.0",
            "_model_module": "@jupyter-widgets/controls"
          }
        },
        "6cc0ca2efb974ecebfd95ab834d0f92e": {
          "model_module": "@jupyter-widgets/base",
          "model_name": "LayoutModel",
          "state": {
            "_view_name": "LayoutView",
            "grid_template_rows": null,
            "right": null,
            "justify_content": null,
            "_view_module": "@jupyter-widgets/base",
            "overflow": null,
            "_model_module_version": "1.2.0",
            "_view_count": null,
            "flex_flow": null,
            "width": null,
            "min_width": null,
            "border": null,
            "align_items": null,
            "bottom": null,
            "_model_module": "@jupyter-widgets/base",
            "top": null,
            "grid_column": null,
            "overflow_y": null,
            "overflow_x": null,
            "grid_auto_flow": null,
            "grid_area": null,
            "grid_template_columns": null,
            "flex": null,
            "_model_name": "LayoutModel",
            "justify_items": null,
            "grid_row": null,
            "max_height": null,
            "align_content": null,
            "visibility": null,
            "align_self": null,
            "height": null,
            "min_height": null,
            "padding": null,
            "grid_auto_rows": null,
            "grid_gap": null,
            "max_width": null,
            "order": null,
            "_view_module_version": "1.2.0",
            "grid_template_areas": null,
            "object_position": null,
            "object_fit": null,
            "grid_auto_columns": null,
            "margin": null,
            "display": null,
            "left": null
          }
        },
        "f32acf7de13847baac58b40477760d3e": {
          "model_module": "@jupyter-widgets/controls",
          "model_name": "HBoxModel",
          "state": {
            "_view_name": "HBoxView",
            "_dom_classes": [],
            "_model_name": "HBoxModel",
            "_view_module": "@jupyter-widgets/controls",
            "_model_module_version": "1.5.0",
            "_view_count": null,
            "_view_module_version": "1.5.0",
            "box_style": "",
            "layout": "IPY_MODEL_dd8e1991fd23422aa83e639a59878f7c",
            "_model_module": "@jupyter-widgets/controls",
            "children": [
              "IPY_MODEL_8ef076f26bcd411e80e2519ae5c6cab0",
              "IPY_MODEL_4bcaca8191484908801c6daf078930ad"
            ]
          }
        },
        "dd8e1991fd23422aa83e639a59878f7c": {
          "model_module": "@jupyter-widgets/base",
          "model_name": "LayoutModel",
          "state": {
            "_view_name": "LayoutView",
            "grid_template_rows": null,
            "right": null,
            "justify_content": null,
            "_view_module": "@jupyter-widgets/base",
            "overflow": null,
            "_model_module_version": "1.2.0",
            "_view_count": null,
            "flex_flow": null,
            "width": null,
            "min_width": null,
            "border": null,
            "align_items": null,
            "bottom": null,
            "_model_module": "@jupyter-widgets/base",
            "top": null,
            "grid_column": null,
            "overflow_y": null,
            "overflow_x": null,
            "grid_auto_flow": null,
            "grid_area": null,
            "grid_template_columns": null,
            "flex": null,
            "_model_name": "LayoutModel",
            "justify_items": null,
            "grid_row": null,
            "max_height": null,
            "align_content": null,
            "visibility": null,
            "align_self": null,
            "height": null,
            "min_height": null,
            "padding": null,
            "grid_auto_rows": null,
            "grid_gap": null,
            "max_width": null,
            "order": null,
            "_view_module_version": "1.2.0",
            "grid_template_areas": null,
            "object_position": null,
            "object_fit": null,
            "grid_auto_columns": null,
            "margin": null,
            "display": null,
            "left": null
          }
        },
        "8ef076f26bcd411e80e2519ae5c6cab0": {
          "model_module": "@jupyter-widgets/controls",
          "model_name": "FloatProgressModel",
          "state": {
            "_view_name": "ProgressView",
            "style": "IPY_MODEL_88edd59e5cc54b3e86c8dbd83250f52f",
            "_dom_classes": [],
            "description": "#0: 100%",
            "_model_name": "FloatProgressModel",
            "bar_style": "success",
            "max": 56,
            "_view_module": "@jupyter-widgets/controls",
            "_model_module_version": "1.5.0",
            "value": 56,
            "_view_count": null,
            "_view_module_version": "1.5.0",
            "orientation": "horizontal",
            "min": 0,
            "description_tooltip": null,
            "_model_module": "@jupyter-widgets/controls",
            "layout": "IPY_MODEL_831b1c1ca06c43c18f3c32e1cc519219"
          }
        },
        "4bcaca8191484908801c6daf078930ad": {
          "model_module": "@jupyter-widgets/controls",
          "model_name": "HTMLModel",
          "state": {
            "_view_name": "HTMLView",
            "style": "IPY_MODEL_6123b92f3904492cae5fc6d904a158d5",
            "_dom_classes": [],
            "description": "",
            "_model_name": "HTMLModel",
            "placeholder": "​",
            "_view_module": "@jupyter-widgets/controls",
            "_model_module_version": "1.5.0",
            "value": " 56/56 [00:32&lt;00:00,  1.71ba/s]",
            "_view_count": null,
            "_view_module_version": "1.5.0",
            "description_tooltip": null,
            "_model_module": "@jupyter-widgets/controls",
            "layout": "IPY_MODEL_ba9d27fc8a4c4b3fa54d36bea1d43103"
          }
        },
        "88edd59e5cc54b3e86c8dbd83250f52f": {
          "model_module": "@jupyter-widgets/controls",
          "model_name": "ProgressStyleModel",
          "state": {
            "_view_name": "StyleView",
            "_model_name": "ProgressStyleModel",
            "description_width": "initial",
            "_view_module": "@jupyter-widgets/base",
            "_model_module_version": "1.5.0",
            "_view_count": null,
            "_view_module_version": "1.2.0",
            "bar_color": null,
            "_model_module": "@jupyter-widgets/controls"
          }
        },
        "831b1c1ca06c43c18f3c32e1cc519219": {
          "model_module": "@jupyter-widgets/base",
          "model_name": "LayoutModel",
          "state": {
            "_view_name": "LayoutView",
            "grid_template_rows": null,
            "right": null,
            "justify_content": null,
            "_view_module": "@jupyter-widgets/base",
            "overflow": null,
            "_model_module_version": "1.2.0",
            "_view_count": null,
            "flex_flow": null,
            "width": null,
            "min_width": null,
            "border": null,
            "align_items": null,
            "bottom": null,
            "_model_module": "@jupyter-widgets/base",
            "top": null,
            "grid_column": null,
            "overflow_y": null,
            "overflow_x": null,
            "grid_auto_flow": null,
            "grid_area": null,
            "grid_template_columns": null,
            "flex": null,
            "_model_name": "LayoutModel",
            "justify_items": null,
            "grid_row": null,
            "max_height": null,
            "align_content": null,
            "visibility": null,
            "align_self": null,
            "height": null,
            "min_height": null,
            "padding": null,
            "grid_auto_rows": null,
            "grid_gap": null,
            "max_width": null,
            "order": null,
            "_view_module_version": "1.2.0",
            "grid_template_areas": null,
            "object_position": null,
            "object_fit": null,
            "grid_auto_columns": null,
            "margin": null,
            "display": null,
            "left": null
          }
        },
        "6123b92f3904492cae5fc6d904a158d5": {
          "model_module": "@jupyter-widgets/controls",
          "model_name": "DescriptionStyleModel",
          "state": {
            "_view_name": "StyleView",
            "_model_name": "DescriptionStyleModel",
            "description_width": "",
            "_view_module": "@jupyter-widgets/base",
            "_model_module_version": "1.5.0",
            "_view_count": null,
            "_view_module_version": "1.2.0",
            "_model_module": "@jupyter-widgets/controls"
          }
        },
        "ba9d27fc8a4c4b3fa54d36bea1d43103": {
          "model_module": "@jupyter-widgets/base",
          "model_name": "LayoutModel",
          "state": {
            "_view_name": "LayoutView",
            "grid_template_rows": null,
            "right": null,
            "justify_content": null,
            "_view_module": "@jupyter-widgets/base",
            "overflow": null,
            "_model_module_version": "1.2.0",
            "_view_count": null,
            "flex_flow": null,
            "width": null,
            "min_width": null,
            "border": null,
            "align_items": null,
            "bottom": null,
            "_model_module": "@jupyter-widgets/base",
            "top": null,
            "grid_column": null,
            "overflow_y": null,
            "overflow_x": null,
            "grid_auto_flow": null,
            "grid_area": null,
            "grid_template_columns": null,
            "flex": null,
            "_model_name": "LayoutModel",
            "justify_items": null,
            "grid_row": null,
            "max_height": null,
            "align_content": null,
            "visibility": null,
            "align_self": null,
            "height": null,
            "min_height": null,
            "padding": null,
            "grid_auto_rows": null,
            "grid_gap": null,
            "max_width": null,
            "order": null,
            "_view_module_version": "1.2.0",
            "grid_template_areas": null,
            "object_position": null,
            "object_fit": null,
            "grid_auto_columns": null,
            "margin": null,
            "display": null,
            "left": null
          }
        },
        "de1babae08f341ca8a216f8b6aef35a5": {
          "model_module": "@jupyter-widgets/controls",
          "model_name": "HBoxModel",
          "state": {
            "_view_name": "HBoxView",
            "_dom_classes": [],
            "_model_name": "HBoxModel",
            "_view_module": "@jupyter-widgets/controls",
            "_model_module_version": "1.5.0",
            "_view_count": null,
            "_view_module_version": "1.5.0",
            "box_style": "",
            "layout": "IPY_MODEL_b9c771214c5045b6b439b66cd12e412a",
            "_model_module": "@jupyter-widgets/controls",
            "children": [
              "IPY_MODEL_0037bcd0901c4103b0b99a9c84c7b4a4",
              "IPY_MODEL_59086ededebb4564a8285e3d61407380"
            ]
          }
        },
        "b9c771214c5045b6b439b66cd12e412a": {
          "model_module": "@jupyter-widgets/base",
          "model_name": "LayoutModel",
          "state": {
            "_view_name": "LayoutView",
            "grid_template_rows": null,
            "right": null,
            "justify_content": null,
            "_view_module": "@jupyter-widgets/base",
            "overflow": null,
            "_model_module_version": "1.2.0",
            "_view_count": null,
            "flex_flow": null,
            "width": null,
            "min_width": null,
            "border": null,
            "align_items": null,
            "bottom": null,
            "_model_module": "@jupyter-widgets/base",
            "top": null,
            "grid_column": null,
            "overflow_y": null,
            "overflow_x": null,
            "grid_auto_flow": null,
            "grid_area": null,
            "grid_template_columns": null,
            "flex": null,
            "_model_name": "LayoutModel",
            "justify_items": null,
            "grid_row": null,
            "max_height": null,
            "align_content": null,
            "visibility": null,
            "align_self": null,
            "height": null,
            "min_height": null,
            "padding": null,
            "grid_auto_rows": null,
            "grid_gap": null,
            "max_width": null,
            "order": null,
            "_view_module_version": "1.2.0",
            "grid_template_areas": null,
            "object_position": null,
            "object_fit": null,
            "grid_auto_columns": null,
            "margin": null,
            "display": null,
            "left": null
          }
        },
        "0037bcd0901c4103b0b99a9c84c7b4a4": {
          "model_module": "@jupyter-widgets/controls",
          "model_name": "FloatProgressModel",
          "state": {
            "_view_name": "ProgressView",
            "style": "IPY_MODEL_0db0d16054084c9195f89aded8a42ad6",
            "_dom_classes": [],
            "description": "#1: 100%",
            "_model_name": "FloatProgressModel",
            "bar_style": "success",
            "max": 56,
            "_view_module": "@jupyter-widgets/controls",
            "_model_module_version": "1.5.0",
            "value": 56,
            "_view_count": null,
            "_view_module_version": "1.5.0",
            "orientation": "horizontal",
            "min": 0,
            "description_tooltip": null,
            "_model_module": "@jupyter-widgets/controls",
            "layout": "IPY_MODEL_a0534dc2a2bf466196b77710abed196e"
          }
        },
        "59086ededebb4564a8285e3d61407380": {
          "model_module": "@jupyter-widgets/controls",
          "model_name": "HTMLModel",
          "state": {
            "_view_name": "HTMLView",
            "style": "IPY_MODEL_829def572e6c486693d603f263e0c16b",
            "_dom_classes": [],
            "description": "",
            "_model_name": "HTMLModel",
            "placeholder": "​",
            "_view_module": "@jupyter-widgets/controls",
            "_model_module_version": "1.5.0",
            "value": " 56/56 [00:31&lt;00:00,  1.78ba/s]",
            "_view_count": null,
            "_view_module_version": "1.5.0",
            "description_tooltip": null,
            "_model_module": "@jupyter-widgets/controls",
            "layout": "IPY_MODEL_2ae6ee1a494146fb949da44b54876e84"
          }
        },
        "0db0d16054084c9195f89aded8a42ad6": {
          "model_module": "@jupyter-widgets/controls",
          "model_name": "ProgressStyleModel",
          "state": {
            "_view_name": "StyleView",
            "_model_name": "ProgressStyleModel",
            "description_width": "initial",
            "_view_module": "@jupyter-widgets/base",
            "_model_module_version": "1.5.0",
            "_view_count": null,
            "_view_module_version": "1.2.0",
            "bar_color": null,
            "_model_module": "@jupyter-widgets/controls"
          }
        },
        "a0534dc2a2bf466196b77710abed196e": {
          "model_module": "@jupyter-widgets/base",
          "model_name": "LayoutModel",
          "state": {
            "_view_name": "LayoutView",
            "grid_template_rows": null,
            "right": null,
            "justify_content": null,
            "_view_module": "@jupyter-widgets/base",
            "overflow": null,
            "_model_module_version": "1.2.0",
            "_view_count": null,
            "flex_flow": null,
            "width": null,
            "min_width": null,
            "border": null,
            "align_items": null,
            "bottom": null,
            "_model_module": "@jupyter-widgets/base",
            "top": null,
            "grid_column": null,
            "overflow_y": null,
            "overflow_x": null,
            "grid_auto_flow": null,
            "grid_area": null,
            "grid_template_columns": null,
            "flex": null,
            "_model_name": "LayoutModel",
            "justify_items": null,
            "grid_row": null,
            "max_height": null,
            "align_content": null,
            "visibility": null,
            "align_self": null,
            "height": null,
            "min_height": null,
            "padding": null,
            "grid_auto_rows": null,
            "grid_gap": null,
            "max_width": null,
            "order": null,
            "_view_module_version": "1.2.0",
            "grid_template_areas": null,
            "object_position": null,
            "object_fit": null,
            "grid_auto_columns": null,
            "margin": null,
            "display": null,
            "left": null
          }
        },
        "829def572e6c486693d603f263e0c16b": {
          "model_module": "@jupyter-widgets/controls",
          "model_name": "DescriptionStyleModel",
          "state": {
            "_view_name": "StyleView",
            "_model_name": "DescriptionStyleModel",
            "description_width": "",
            "_view_module": "@jupyter-widgets/base",
            "_model_module_version": "1.5.0",
            "_view_count": null,
            "_view_module_version": "1.2.0",
            "_model_module": "@jupyter-widgets/controls"
          }
        },
        "2ae6ee1a494146fb949da44b54876e84": {
          "model_module": "@jupyter-widgets/base",
          "model_name": "LayoutModel",
          "state": {
            "_view_name": "LayoutView",
            "grid_template_rows": null,
            "right": null,
            "justify_content": null,
            "_view_module": "@jupyter-widgets/base",
            "overflow": null,
            "_model_module_version": "1.2.0",
            "_view_count": null,
            "flex_flow": null,
            "width": null,
            "min_width": null,
            "border": null,
            "align_items": null,
            "bottom": null,
            "_model_module": "@jupyter-widgets/base",
            "top": null,
            "grid_column": null,
            "overflow_y": null,
            "overflow_x": null,
            "grid_auto_flow": null,
            "grid_area": null,
            "grid_template_columns": null,
            "flex": null,
            "_model_name": "LayoutModel",
            "justify_items": null,
            "grid_row": null,
            "max_height": null,
            "align_content": null,
            "visibility": null,
            "align_self": null,
            "height": null,
            "min_height": null,
            "padding": null,
            "grid_auto_rows": null,
            "grid_gap": null,
            "max_width": null,
            "order": null,
            "_view_module_version": "1.2.0",
            "grid_template_areas": null,
            "object_position": null,
            "object_fit": null,
            "grid_auto_columns": null,
            "margin": null,
            "display": null,
            "left": null
          }
        },
        "2c42e309c89246a98e6b762ca8e9b8bc": {
          "model_module": "@jupyter-widgets/controls",
          "model_name": "HBoxModel",
          "state": {
            "_view_name": "HBoxView",
            "_dom_classes": [],
            "_model_name": "HBoxModel",
            "_view_module": "@jupyter-widgets/controls",
            "_model_module_version": "1.5.0",
            "_view_count": null,
            "_view_module_version": "1.5.0",
            "box_style": "",
            "layout": "IPY_MODEL_73c077efaeba48b0864e39d552698ebc",
            "_model_module": "@jupyter-widgets/controls",
            "children": [
              "IPY_MODEL_768d1c5fc97a498c860cdb476fc3172c",
              "IPY_MODEL_e06d7a45d1cb499eae683e5dc1ffb955"
            ]
          }
        },
        "73c077efaeba48b0864e39d552698ebc": {
          "model_module": "@jupyter-widgets/base",
          "model_name": "LayoutModel",
          "state": {
            "_view_name": "LayoutView",
            "grid_template_rows": null,
            "right": null,
            "justify_content": null,
            "_view_module": "@jupyter-widgets/base",
            "overflow": null,
            "_model_module_version": "1.2.0",
            "_view_count": null,
            "flex_flow": null,
            "width": null,
            "min_width": null,
            "border": null,
            "align_items": null,
            "bottom": null,
            "_model_module": "@jupyter-widgets/base",
            "top": null,
            "grid_column": null,
            "overflow_y": null,
            "overflow_x": null,
            "grid_auto_flow": null,
            "grid_area": null,
            "grid_template_columns": null,
            "flex": null,
            "_model_name": "LayoutModel",
            "justify_items": null,
            "grid_row": null,
            "max_height": null,
            "align_content": null,
            "visibility": null,
            "align_self": null,
            "height": null,
            "min_height": null,
            "padding": null,
            "grid_auto_rows": null,
            "grid_gap": null,
            "max_width": null,
            "order": null,
            "_view_module_version": "1.2.0",
            "grid_template_areas": null,
            "object_position": null,
            "object_fit": null,
            "grid_auto_columns": null,
            "margin": null,
            "display": null,
            "left": null
          }
        },
        "768d1c5fc97a498c860cdb476fc3172c": {
          "model_module": "@jupyter-widgets/controls",
          "model_name": "FloatProgressModel",
          "state": {
            "_view_name": "ProgressView",
            "style": "IPY_MODEL_76aa7b2203444daba1c8c4e3ce5210e7",
            "_dom_classes": [],
            "description": "#3: 100%",
            "_model_name": "FloatProgressModel",
            "bar_style": "success",
            "max": 56,
            "_view_module": "@jupyter-widgets/controls",
            "_model_module_version": "1.5.0",
            "value": 56,
            "_view_count": null,
            "_view_module_version": "1.5.0",
            "orientation": "horizontal",
            "min": 0,
            "description_tooltip": null,
            "_model_module": "@jupyter-widgets/controls",
            "layout": "IPY_MODEL_8431ab55325c42ad8154223dfb5093bb"
          }
        },
        "e06d7a45d1cb499eae683e5dc1ffb955": {
          "model_module": "@jupyter-widgets/controls",
          "model_name": "HTMLModel",
          "state": {
            "_view_name": "HTMLView",
            "style": "IPY_MODEL_7ff77d425d0b45acb19ed2c8e328d9e2",
            "_dom_classes": [],
            "description": "",
            "_model_name": "HTMLModel",
            "placeholder": "​",
            "_view_module": "@jupyter-widgets/controls",
            "_model_module_version": "1.5.0",
            "value": " 56/56 [00:29&lt;00:00,  1.90ba/s]",
            "_view_count": null,
            "_view_module_version": "1.5.0",
            "description_tooltip": null,
            "_model_module": "@jupyter-widgets/controls",
            "layout": "IPY_MODEL_281be449f3f247728ee609c1db4eae00"
          }
        },
        "76aa7b2203444daba1c8c4e3ce5210e7": {
          "model_module": "@jupyter-widgets/controls",
          "model_name": "ProgressStyleModel",
          "state": {
            "_view_name": "StyleView",
            "_model_name": "ProgressStyleModel",
            "description_width": "initial",
            "_view_module": "@jupyter-widgets/base",
            "_model_module_version": "1.5.0",
            "_view_count": null,
            "_view_module_version": "1.2.0",
            "bar_color": null,
            "_model_module": "@jupyter-widgets/controls"
          }
        },
        "8431ab55325c42ad8154223dfb5093bb": {
          "model_module": "@jupyter-widgets/base",
          "model_name": "LayoutModel",
          "state": {
            "_view_name": "LayoutView",
            "grid_template_rows": null,
            "right": null,
            "justify_content": null,
            "_view_module": "@jupyter-widgets/base",
            "overflow": null,
            "_model_module_version": "1.2.0",
            "_view_count": null,
            "flex_flow": null,
            "width": null,
            "min_width": null,
            "border": null,
            "align_items": null,
            "bottom": null,
            "_model_module": "@jupyter-widgets/base",
            "top": null,
            "grid_column": null,
            "overflow_y": null,
            "overflow_x": null,
            "grid_auto_flow": null,
            "grid_area": null,
            "grid_template_columns": null,
            "flex": null,
            "_model_name": "LayoutModel",
            "justify_items": null,
            "grid_row": null,
            "max_height": null,
            "align_content": null,
            "visibility": null,
            "align_self": null,
            "height": null,
            "min_height": null,
            "padding": null,
            "grid_auto_rows": null,
            "grid_gap": null,
            "max_width": null,
            "order": null,
            "_view_module_version": "1.2.0",
            "grid_template_areas": null,
            "object_position": null,
            "object_fit": null,
            "grid_auto_columns": null,
            "margin": null,
            "display": null,
            "left": null
          }
        },
        "7ff77d425d0b45acb19ed2c8e328d9e2": {
          "model_module": "@jupyter-widgets/controls",
          "model_name": "DescriptionStyleModel",
          "state": {
            "_view_name": "StyleView",
            "_model_name": "DescriptionStyleModel",
            "description_width": "",
            "_view_module": "@jupyter-widgets/base",
            "_model_module_version": "1.5.0",
            "_view_count": null,
            "_view_module_version": "1.2.0",
            "_model_module": "@jupyter-widgets/controls"
          }
        },
        "281be449f3f247728ee609c1db4eae00": {
          "model_module": "@jupyter-widgets/base",
          "model_name": "LayoutModel",
          "state": {
            "_view_name": "LayoutView",
            "grid_template_rows": null,
            "right": null,
            "justify_content": null,
            "_view_module": "@jupyter-widgets/base",
            "overflow": null,
            "_model_module_version": "1.2.0",
            "_view_count": null,
            "flex_flow": null,
            "width": null,
            "min_width": null,
            "border": null,
            "align_items": null,
            "bottom": null,
            "_model_module": "@jupyter-widgets/base",
            "top": null,
            "grid_column": null,
            "overflow_y": null,
            "overflow_x": null,
            "grid_auto_flow": null,
            "grid_area": null,
            "grid_template_columns": null,
            "flex": null,
            "_model_name": "LayoutModel",
            "justify_items": null,
            "grid_row": null,
            "max_height": null,
            "align_content": null,
            "visibility": null,
            "align_self": null,
            "height": null,
            "min_height": null,
            "padding": null,
            "grid_auto_rows": null,
            "grid_gap": null,
            "max_width": null,
            "order": null,
            "_view_module_version": "1.2.0",
            "grid_template_areas": null,
            "object_position": null,
            "object_fit": null,
            "grid_auto_columns": null,
            "margin": null,
            "display": null,
            "left": null
          }
        },
        "8c8603f126a3468ab1ca7e89d1e5182d": {
          "model_module": "@jupyter-widgets/controls",
          "model_name": "HBoxModel",
          "state": {
            "_view_name": "HBoxView",
            "_dom_classes": [],
            "_model_name": "HBoxModel",
            "_view_module": "@jupyter-widgets/controls",
            "_model_module_version": "1.5.0",
            "_view_count": null,
            "_view_module_version": "1.5.0",
            "box_style": "",
            "layout": "IPY_MODEL_ecabaeb09df647069e033df841ada90c",
            "_model_module": "@jupyter-widgets/controls",
            "children": [
              "IPY_MODEL_53c56358637a4f22bf072b1a21376ee9",
              "IPY_MODEL_9c9333fc34a24be795b1f2bb190c631c"
            ]
          }
        },
        "ecabaeb09df647069e033df841ada90c": {
          "model_module": "@jupyter-widgets/base",
          "model_name": "LayoutModel",
          "state": {
            "_view_name": "LayoutView",
            "grid_template_rows": null,
            "right": null,
            "justify_content": null,
            "_view_module": "@jupyter-widgets/base",
            "overflow": null,
            "_model_module_version": "1.2.0",
            "_view_count": null,
            "flex_flow": null,
            "width": null,
            "min_width": null,
            "border": null,
            "align_items": null,
            "bottom": null,
            "_model_module": "@jupyter-widgets/base",
            "top": null,
            "grid_column": null,
            "overflow_y": null,
            "overflow_x": null,
            "grid_auto_flow": null,
            "grid_area": null,
            "grid_template_columns": null,
            "flex": null,
            "_model_name": "LayoutModel",
            "justify_items": null,
            "grid_row": null,
            "max_height": null,
            "align_content": null,
            "visibility": null,
            "align_self": null,
            "height": null,
            "min_height": null,
            "padding": null,
            "grid_auto_rows": null,
            "grid_gap": null,
            "max_width": null,
            "order": null,
            "_view_module_version": "1.2.0",
            "grid_template_areas": null,
            "object_position": null,
            "object_fit": null,
            "grid_auto_columns": null,
            "margin": null,
            "display": null,
            "left": null
          }
        },
        "53c56358637a4f22bf072b1a21376ee9": {
          "model_module": "@jupyter-widgets/controls",
          "model_name": "FloatProgressModel",
          "state": {
            "_view_name": "ProgressView",
            "style": "IPY_MODEL_ab021ae88b6c489f9b33e680e2023443",
            "_dom_classes": [],
            "description": "#2: 100%",
            "_model_name": "FloatProgressModel",
            "bar_style": "success",
            "max": 56,
            "_view_module": "@jupyter-widgets/controls",
            "_model_module_version": "1.5.0",
            "value": 56,
            "_view_count": null,
            "_view_module_version": "1.5.0",
            "orientation": "horizontal",
            "min": 0,
            "description_tooltip": null,
            "_model_module": "@jupyter-widgets/controls",
            "layout": "IPY_MODEL_39d76e4df8234a21902d453fac483a6a"
          }
        },
        "9c9333fc34a24be795b1f2bb190c631c": {
          "model_module": "@jupyter-widgets/controls",
          "model_name": "HTMLModel",
          "state": {
            "_view_name": "HTMLView",
            "style": "IPY_MODEL_306f52862605473a93ecf4e1762ae228",
            "_dom_classes": [],
            "description": "",
            "_model_name": "HTMLModel",
            "placeholder": "​",
            "_view_module": "@jupyter-widgets/controls",
            "_model_module_version": "1.5.0",
            "value": " 56/56 [00:30&lt;00:00,  1.83ba/s]",
            "_view_count": null,
            "_view_module_version": "1.5.0",
            "description_tooltip": null,
            "_model_module": "@jupyter-widgets/controls",
            "layout": "IPY_MODEL_4b09c2d7aba64f14bc7935eb2423f64c"
          }
        },
        "ab021ae88b6c489f9b33e680e2023443": {
          "model_module": "@jupyter-widgets/controls",
          "model_name": "ProgressStyleModel",
          "state": {
            "_view_name": "StyleView",
            "_model_name": "ProgressStyleModel",
            "description_width": "initial",
            "_view_module": "@jupyter-widgets/base",
            "_model_module_version": "1.5.0",
            "_view_count": null,
            "_view_module_version": "1.2.0",
            "bar_color": null,
            "_model_module": "@jupyter-widgets/controls"
          }
        },
        "39d76e4df8234a21902d453fac483a6a": {
          "model_module": "@jupyter-widgets/base",
          "model_name": "LayoutModel",
          "state": {
            "_view_name": "LayoutView",
            "grid_template_rows": null,
            "right": null,
            "justify_content": null,
            "_view_module": "@jupyter-widgets/base",
            "overflow": null,
            "_model_module_version": "1.2.0",
            "_view_count": null,
            "flex_flow": null,
            "width": null,
            "min_width": null,
            "border": null,
            "align_items": null,
            "bottom": null,
            "_model_module": "@jupyter-widgets/base",
            "top": null,
            "grid_column": null,
            "overflow_y": null,
            "overflow_x": null,
            "grid_auto_flow": null,
            "grid_area": null,
            "grid_template_columns": null,
            "flex": null,
            "_model_name": "LayoutModel",
            "justify_items": null,
            "grid_row": null,
            "max_height": null,
            "align_content": null,
            "visibility": null,
            "align_self": null,
            "height": null,
            "min_height": null,
            "padding": null,
            "grid_auto_rows": null,
            "grid_gap": null,
            "max_width": null,
            "order": null,
            "_view_module_version": "1.2.0",
            "grid_template_areas": null,
            "object_position": null,
            "object_fit": null,
            "grid_auto_columns": null,
            "margin": null,
            "display": null,
            "left": null
          }
        },
        "306f52862605473a93ecf4e1762ae228": {
          "model_module": "@jupyter-widgets/controls",
          "model_name": "DescriptionStyleModel",
          "state": {
            "_view_name": "StyleView",
            "_model_name": "DescriptionStyleModel",
            "description_width": "",
            "_view_module": "@jupyter-widgets/base",
            "_model_module_version": "1.5.0",
            "_view_count": null,
            "_view_module_version": "1.2.0",
            "_model_module": "@jupyter-widgets/controls"
          }
        },
        "4b09c2d7aba64f14bc7935eb2423f64c": {
          "model_module": "@jupyter-widgets/base",
          "model_name": "LayoutModel",
          "state": {
            "_view_name": "LayoutView",
            "grid_template_rows": null,
            "right": null,
            "justify_content": null,
            "_view_module": "@jupyter-widgets/base",
            "overflow": null,
            "_model_module_version": "1.2.0",
            "_view_count": null,
            "flex_flow": null,
            "width": null,
            "min_width": null,
            "border": null,
            "align_items": null,
            "bottom": null,
            "_model_module": "@jupyter-widgets/base",
            "top": null,
            "grid_column": null,
            "overflow_y": null,
            "overflow_x": null,
            "grid_auto_flow": null,
            "grid_area": null,
            "grid_template_columns": null,
            "flex": null,
            "_model_name": "LayoutModel",
            "justify_items": null,
            "grid_row": null,
            "max_height": null,
            "align_content": null,
            "visibility": null,
            "align_self": null,
            "height": null,
            "min_height": null,
            "padding": null,
            "grid_auto_rows": null,
            "grid_gap": null,
            "max_width": null,
            "order": null,
            "_view_module_version": "1.2.0",
            "grid_template_areas": null,
            "object_position": null,
            "object_fit": null,
            "grid_auto_columns": null,
            "margin": null,
            "display": null,
            "left": null
          }
        },
        "401409b0714940ce86d5027441c5788a": {
          "model_module": "@jupyter-widgets/controls",
          "model_name": "HBoxModel",
          "state": {
            "_view_name": "HBoxView",
            "_dom_classes": [],
            "_model_name": "HBoxModel",
            "_view_module": "@jupyter-widgets/controls",
            "_model_module_version": "1.5.0",
            "_view_count": null,
            "_view_module_version": "1.5.0",
            "box_style": "",
            "layout": "IPY_MODEL_18c240c8891d45a7836c076ae1c6dedc",
            "_model_module": "@jupyter-widgets/controls",
            "children": [
              "IPY_MODEL_0368ce88b6c2479b9f266ee298e3841d",
              "IPY_MODEL_b49e168fc7a94d4f9cb173540ae31188"
            ]
          }
        },
        "18c240c8891d45a7836c076ae1c6dedc": {
          "model_module": "@jupyter-widgets/base",
          "model_name": "LayoutModel",
          "state": {
            "_view_name": "LayoutView",
            "grid_template_rows": null,
            "right": null,
            "justify_content": null,
            "_view_module": "@jupyter-widgets/base",
            "overflow": null,
            "_model_module_version": "1.2.0",
            "_view_count": null,
            "flex_flow": null,
            "width": null,
            "min_width": null,
            "border": null,
            "align_items": null,
            "bottom": null,
            "_model_module": "@jupyter-widgets/base",
            "top": null,
            "grid_column": null,
            "overflow_y": null,
            "overflow_x": null,
            "grid_auto_flow": null,
            "grid_area": null,
            "grid_template_columns": null,
            "flex": null,
            "_model_name": "LayoutModel",
            "justify_items": null,
            "grid_row": null,
            "max_height": null,
            "align_content": null,
            "visibility": null,
            "align_self": null,
            "height": null,
            "min_height": null,
            "padding": null,
            "grid_auto_rows": null,
            "grid_gap": null,
            "max_width": null,
            "order": null,
            "_view_module_version": "1.2.0",
            "grid_template_areas": null,
            "object_position": null,
            "object_fit": null,
            "grid_auto_columns": null,
            "margin": null,
            "display": null,
            "left": null
          }
        },
        "0368ce88b6c2479b9f266ee298e3841d": {
          "model_module": "@jupyter-widgets/controls",
          "model_name": "FloatProgressModel",
          "state": {
            "_view_name": "ProgressView",
            "style": "IPY_MODEL_6b1f2d9414fb40578751b94ba328b378",
            "_dom_classes": [],
            "description": "Downloading: ",
            "_model_name": "FloatProgressModel",
            "bar_style": "success",
            "max": 1764,
            "_view_module": "@jupyter-widgets/controls",
            "_model_module_version": "1.5.0",
            "value": 1764,
            "_view_count": null,
            "_view_module_version": "1.5.0",
            "orientation": "horizontal",
            "min": 0,
            "description_tooltip": null,
            "_model_module": "@jupyter-widgets/controls",
            "layout": "IPY_MODEL_60ddc9f9e6e64d6799fc81668a13b781"
          }
        },
        "b49e168fc7a94d4f9cb173540ae31188": {
          "model_module": "@jupyter-widgets/controls",
          "model_name": "HTMLModel",
          "state": {
            "_view_name": "HTMLView",
            "style": "IPY_MODEL_b508954136044b73a1c73ef12e3f43c5",
            "_dom_classes": [],
            "description": "",
            "_model_name": "HTMLModel",
            "placeholder": "​",
            "_view_module": "@jupyter-widgets/controls",
            "_model_module_version": "1.5.0",
            "value": " 3.90k/? [00:00&lt;00:00, 21.2kB/s]",
            "_view_count": null,
            "_view_module_version": "1.5.0",
            "description_tooltip": null,
            "_model_module": "@jupyter-widgets/controls",
            "layout": "IPY_MODEL_3b2bfb53297045aa8c0bd297f96ba787"
          }
        },
        "6b1f2d9414fb40578751b94ba328b378": {
          "model_module": "@jupyter-widgets/controls",
          "model_name": "ProgressStyleModel",
          "state": {
            "_view_name": "StyleView",
            "_model_name": "ProgressStyleModel",
            "description_width": "initial",
            "_view_module": "@jupyter-widgets/base",
            "_model_module_version": "1.5.0",
            "_view_count": null,
            "_view_module_version": "1.2.0",
            "bar_color": null,
            "_model_module": "@jupyter-widgets/controls"
          }
        },
        "60ddc9f9e6e64d6799fc81668a13b781": {
          "model_module": "@jupyter-widgets/base",
          "model_name": "LayoutModel",
          "state": {
            "_view_name": "LayoutView",
            "grid_template_rows": null,
            "right": null,
            "justify_content": null,
            "_view_module": "@jupyter-widgets/base",
            "overflow": null,
            "_model_module_version": "1.2.0",
            "_view_count": null,
            "flex_flow": null,
            "width": null,
            "min_width": null,
            "border": null,
            "align_items": null,
            "bottom": null,
            "_model_module": "@jupyter-widgets/base",
            "top": null,
            "grid_column": null,
            "overflow_y": null,
            "overflow_x": null,
            "grid_auto_flow": null,
            "grid_area": null,
            "grid_template_columns": null,
            "flex": null,
            "_model_name": "LayoutModel",
            "justify_items": null,
            "grid_row": null,
            "max_height": null,
            "align_content": null,
            "visibility": null,
            "align_self": null,
            "height": null,
            "min_height": null,
            "padding": null,
            "grid_auto_rows": null,
            "grid_gap": null,
            "max_width": null,
            "order": null,
            "_view_module_version": "1.2.0",
            "grid_template_areas": null,
            "object_position": null,
            "object_fit": null,
            "grid_auto_columns": null,
            "margin": null,
            "display": null,
            "left": null
          }
        },
        "b508954136044b73a1c73ef12e3f43c5": {
          "model_module": "@jupyter-widgets/controls",
          "model_name": "DescriptionStyleModel",
          "state": {
            "_view_name": "StyleView",
            "_model_name": "DescriptionStyleModel",
            "description_width": "",
            "_view_module": "@jupyter-widgets/base",
            "_model_module_version": "1.5.0",
            "_view_count": null,
            "_view_module_version": "1.2.0",
            "_model_module": "@jupyter-widgets/controls"
          }
        },
        "3b2bfb53297045aa8c0bd297f96ba787": {
          "model_module": "@jupyter-widgets/base",
          "model_name": "LayoutModel",
          "state": {
            "_view_name": "LayoutView",
            "grid_template_rows": null,
            "right": null,
            "justify_content": null,
            "_view_module": "@jupyter-widgets/base",
            "overflow": null,
            "_model_module_version": "1.2.0",
            "_view_count": null,
            "flex_flow": null,
            "width": null,
            "min_width": null,
            "border": null,
            "align_items": null,
            "bottom": null,
            "_model_module": "@jupyter-widgets/base",
            "top": null,
            "grid_column": null,
            "overflow_y": null,
            "overflow_x": null,
            "grid_auto_flow": null,
            "grid_area": null,
            "grid_template_columns": null,
            "flex": null,
            "_model_name": "LayoutModel",
            "justify_items": null,
            "grid_row": null,
            "max_height": null,
            "align_content": null,
            "visibility": null,
            "align_self": null,
            "height": null,
            "min_height": null,
            "padding": null,
            "grid_auto_rows": null,
            "grid_gap": null,
            "max_width": null,
            "order": null,
            "_view_module_version": "1.2.0",
            "grid_template_areas": null,
            "object_position": null,
            "object_fit": null,
            "grid_auto_columns": null,
            "margin": null,
            "display": null,
            "left": null
          }
        },
        "c12658f4c8c94029aa81e20424897f83": {
          "model_module": "@jupyter-widgets/controls",
          "model_name": "HBoxModel",
          "state": {
            "_view_name": "HBoxView",
            "_dom_classes": [],
            "_model_name": "HBoxModel",
            "_view_module": "@jupyter-widgets/controls",
            "_model_module_version": "1.5.0",
            "_view_count": null,
            "_view_module_version": "1.5.0",
            "box_style": "",
            "layout": "IPY_MODEL_1553486d79844d3dac3fb373f045253c",
            "_model_module": "@jupyter-widgets/controls",
            "children": [
              "IPY_MODEL_b6ba6ffbc43945dea117ef2ef0608381",
              "IPY_MODEL_9d92d2fe50b34fbeb16302f31488831a"
            ]
          }
        },
        "1553486d79844d3dac3fb373f045253c": {
          "model_module": "@jupyter-widgets/base",
          "model_name": "LayoutModel",
          "state": {
            "_view_name": "LayoutView",
            "grid_template_rows": null,
            "right": null,
            "justify_content": null,
            "_view_module": "@jupyter-widgets/base",
            "overflow": null,
            "_model_module_version": "1.2.0",
            "_view_count": null,
            "flex_flow": null,
            "width": null,
            "min_width": null,
            "border": null,
            "align_items": null,
            "bottom": null,
            "_model_module": "@jupyter-widgets/base",
            "top": null,
            "grid_column": null,
            "overflow_y": null,
            "overflow_x": null,
            "grid_auto_flow": null,
            "grid_area": null,
            "grid_template_columns": null,
            "flex": null,
            "_model_name": "LayoutModel",
            "justify_items": null,
            "grid_row": null,
            "max_height": null,
            "align_content": null,
            "visibility": null,
            "align_self": null,
            "height": null,
            "min_height": null,
            "padding": null,
            "grid_auto_rows": null,
            "grid_gap": null,
            "max_width": null,
            "order": null,
            "_view_module_version": "1.2.0",
            "grid_template_areas": null,
            "object_position": null,
            "object_fit": null,
            "grid_auto_columns": null,
            "margin": null,
            "display": null,
            "left": null
          }
        },
        "b6ba6ffbc43945dea117ef2ef0608381": {
          "model_module": "@jupyter-widgets/controls",
          "model_name": "FloatProgressModel",
          "state": {
            "_view_name": "ProgressView",
            "style": "IPY_MODEL_3e31af8489d74b828945766dbf9d8c05",
            "_dom_classes": [],
            "description": "Downloading: 100%",
            "_model_name": "FloatProgressModel",
            "bar_style": "success",
            "max": 1451,
            "_view_module": "@jupyter-widgets/controls",
            "_model_module_version": "1.5.0",
            "value": 1451,
            "_view_count": null,
            "_view_module_version": "1.5.0",
            "orientation": "horizontal",
            "min": 0,
            "description_tooltip": null,
            "_model_module": "@jupyter-widgets/controls",
            "layout": "IPY_MODEL_7b12dfa1f0944dc19e30e0b478b0ace9"
          }
        },
        "9d92d2fe50b34fbeb16302f31488831a": {
          "model_module": "@jupyter-widgets/controls",
          "model_name": "HTMLModel",
          "state": {
            "_view_name": "HTMLView",
            "style": "IPY_MODEL_ef57a7547cec4dbfb4824030249aa1d0",
            "_dom_classes": [],
            "description": "",
            "_model_name": "HTMLModel",
            "placeholder": "​",
            "_view_module": "@jupyter-widgets/controls",
            "_model_module_version": "1.5.0",
            "value": " 1.45k/1.45k [00:30&lt;00:00, 47.2B/s]",
            "_view_count": null,
            "_view_module_version": "1.5.0",
            "description_tooltip": null,
            "_model_module": "@jupyter-widgets/controls",
            "layout": "IPY_MODEL_3bc7126c38d142a580b10dfa0bc5d567"
          }
        },
        "3e31af8489d74b828945766dbf9d8c05": {
          "model_module": "@jupyter-widgets/controls",
          "model_name": "ProgressStyleModel",
          "state": {
            "_view_name": "StyleView",
            "_model_name": "ProgressStyleModel",
            "description_width": "initial",
            "_view_module": "@jupyter-widgets/base",
            "_model_module_version": "1.5.0",
            "_view_count": null,
            "_view_module_version": "1.2.0",
            "bar_color": null,
            "_model_module": "@jupyter-widgets/controls"
          }
        },
        "7b12dfa1f0944dc19e30e0b478b0ace9": {
          "model_module": "@jupyter-widgets/base",
          "model_name": "LayoutModel",
          "state": {
            "_view_name": "LayoutView",
            "grid_template_rows": null,
            "right": null,
            "justify_content": null,
            "_view_module": "@jupyter-widgets/base",
            "overflow": null,
            "_model_module_version": "1.2.0",
            "_view_count": null,
            "flex_flow": null,
            "width": null,
            "min_width": null,
            "border": null,
            "align_items": null,
            "bottom": null,
            "_model_module": "@jupyter-widgets/base",
            "top": null,
            "grid_column": null,
            "overflow_y": null,
            "overflow_x": null,
            "grid_auto_flow": null,
            "grid_area": null,
            "grid_template_columns": null,
            "flex": null,
            "_model_name": "LayoutModel",
            "justify_items": null,
            "grid_row": null,
            "max_height": null,
            "align_content": null,
            "visibility": null,
            "align_self": null,
            "height": null,
            "min_height": null,
            "padding": null,
            "grid_auto_rows": null,
            "grid_gap": null,
            "max_width": null,
            "order": null,
            "_view_module_version": "1.2.0",
            "grid_template_areas": null,
            "object_position": null,
            "object_fit": null,
            "grid_auto_columns": null,
            "margin": null,
            "display": null,
            "left": null
          }
        },
        "ef57a7547cec4dbfb4824030249aa1d0": {
          "model_module": "@jupyter-widgets/controls",
          "model_name": "DescriptionStyleModel",
          "state": {
            "_view_name": "StyleView",
            "_model_name": "DescriptionStyleModel",
            "description_width": "",
            "_view_module": "@jupyter-widgets/base",
            "_model_module_version": "1.5.0",
            "_view_count": null,
            "_view_module_version": "1.2.0",
            "_model_module": "@jupyter-widgets/controls"
          }
        },
        "3bc7126c38d142a580b10dfa0bc5d567": {
          "model_module": "@jupyter-widgets/base",
          "model_name": "LayoutModel",
          "state": {
            "_view_name": "LayoutView",
            "grid_template_rows": null,
            "right": null,
            "justify_content": null,
            "_view_module": "@jupyter-widgets/base",
            "overflow": null,
            "_model_module_version": "1.2.0",
            "_view_count": null,
            "flex_flow": null,
            "width": null,
            "min_width": null,
            "border": null,
            "align_items": null,
            "bottom": null,
            "_model_module": "@jupyter-widgets/base",
            "top": null,
            "grid_column": null,
            "overflow_y": null,
            "overflow_x": null,
            "grid_auto_flow": null,
            "grid_area": null,
            "grid_template_columns": null,
            "flex": null,
            "_model_name": "LayoutModel",
            "justify_items": null,
            "grid_row": null,
            "max_height": null,
            "align_content": null,
            "visibility": null,
            "align_self": null,
            "height": null,
            "min_height": null,
            "padding": null,
            "grid_auto_rows": null,
            "grid_gap": null,
            "max_width": null,
            "order": null,
            "_view_module_version": "1.2.0",
            "grid_template_areas": null,
            "object_position": null,
            "object_fit": null,
            "grid_auto_columns": null,
            "margin": null,
            "display": null,
            "left": null
          }
        },
        "30e369e6e3a14e5685331a7967532342": {
          "model_module": "@jupyter-widgets/controls",
          "model_name": "HBoxModel",
          "state": {
            "_view_name": "HBoxView",
            "_dom_classes": [],
            "_model_name": "HBoxModel",
            "_view_module": "@jupyter-widgets/controls",
            "_model_module_version": "1.5.0",
            "_view_count": null,
            "_view_module_version": "1.5.0",
            "box_style": "",
            "layout": "IPY_MODEL_0630a1547a4b42aa921acb1891986631",
            "_model_module": "@jupyter-widgets/controls",
            "children": [
              "IPY_MODEL_218c9b4ece3a45a8b72ebbde70cc3116",
              "IPY_MODEL_4addf1190c3f46128be50f348bea3c99"
            ]
          }
        },
        "0630a1547a4b42aa921acb1891986631": {
          "model_module": "@jupyter-widgets/base",
          "model_name": "LayoutModel",
          "state": {
            "_view_name": "LayoutView",
            "grid_template_rows": null,
            "right": null,
            "justify_content": null,
            "_view_module": "@jupyter-widgets/base",
            "overflow": null,
            "_model_module_version": "1.2.0",
            "_view_count": null,
            "flex_flow": null,
            "width": null,
            "min_width": null,
            "border": null,
            "align_items": null,
            "bottom": null,
            "_model_module": "@jupyter-widgets/base",
            "top": null,
            "grid_column": null,
            "overflow_y": null,
            "overflow_x": null,
            "grid_auto_flow": null,
            "grid_area": null,
            "grid_template_columns": null,
            "flex": null,
            "_model_name": "LayoutModel",
            "justify_items": null,
            "grid_row": null,
            "max_height": null,
            "align_content": null,
            "visibility": null,
            "align_self": null,
            "height": null,
            "min_height": null,
            "padding": null,
            "grid_auto_rows": null,
            "grid_gap": null,
            "max_width": null,
            "order": null,
            "_view_module_version": "1.2.0",
            "grid_template_areas": null,
            "object_position": null,
            "object_fit": null,
            "grid_auto_columns": null,
            "margin": null,
            "display": null,
            "left": null
          }
        },
        "218c9b4ece3a45a8b72ebbde70cc3116": {
          "model_module": "@jupyter-widgets/controls",
          "model_name": "FloatProgressModel",
          "state": {
            "_view_name": "ProgressView",
            "style": "IPY_MODEL_346dc703679f414d8568ac4783cfe8f5",
            "_dom_classes": [],
            "description": "Downloading: 100%",
            "_model_name": "FloatProgressModel",
            "bar_style": "success",
            "max": 1261920069,
            "_view_module": "@jupyter-widgets/controls",
            "_model_module_version": "1.5.0",
            "value": 1261920069,
            "_view_count": null,
            "_view_module_version": "1.5.0",
            "orientation": "horizontal",
            "min": 0,
            "description_tooltip": null,
            "_model_module": "@jupyter-widgets/controls",
            "layout": "IPY_MODEL_9d763048a394431c8a8e3564d6d04cf2"
          }
        },
        "4addf1190c3f46128be50f348bea3c99": {
          "model_module": "@jupyter-widgets/controls",
          "model_name": "HTMLModel",
          "state": {
            "_view_name": "HTMLView",
            "style": "IPY_MODEL_679bff57a3e74a9f8b1820d96cd62c42",
            "_dom_classes": [],
            "description": "",
            "_model_name": "HTMLModel",
            "placeholder": "​",
            "_view_module": "@jupyter-widgets/controls",
            "_model_module_version": "1.5.0",
            "value": " 1.26G/1.26G [00:21&lt;00:00, 59.2MB/s]",
            "_view_count": null,
            "_view_module_version": "1.5.0",
            "description_tooltip": null,
            "_model_module": "@jupyter-widgets/controls",
            "layout": "IPY_MODEL_fd9acd1e46154de1a45c752401bb82ae"
          }
        },
        "346dc703679f414d8568ac4783cfe8f5": {
          "model_module": "@jupyter-widgets/controls",
          "model_name": "ProgressStyleModel",
          "state": {
            "_view_name": "StyleView",
            "_model_name": "ProgressStyleModel",
            "description_width": "initial",
            "_view_module": "@jupyter-widgets/base",
            "_model_module_version": "1.5.0",
            "_view_count": null,
            "_view_module_version": "1.2.0",
            "bar_color": null,
            "_model_module": "@jupyter-widgets/controls"
          }
        },
        "9d763048a394431c8a8e3564d6d04cf2": {
          "model_module": "@jupyter-widgets/base",
          "model_name": "LayoutModel",
          "state": {
            "_view_name": "LayoutView",
            "grid_template_rows": null,
            "right": null,
            "justify_content": null,
            "_view_module": "@jupyter-widgets/base",
            "overflow": null,
            "_model_module_version": "1.2.0",
            "_view_count": null,
            "flex_flow": null,
            "width": null,
            "min_width": null,
            "border": null,
            "align_items": null,
            "bottom": null,
            "_model_module": "@jupyter-widgets/base",
            "top": null,
            "grid_column": null,
            "overflow_y": null,
            "overflow_x": null,
            "grid_auto_flow": null,
            "grid_area": null,
            "grid_template_columns": null,
            "flex": null,
            "_model_name": "LayoutModel",
            "justify_items": null,
            "grid_row": null,
            "max_height": null,
            "align_content": null,
            "visibility": null,
            "align_self": null,
            "height": null,
            "min_height": null,
            "padding": null,
            "grid_auto_rows": null,
            "grid_gap": null,
            "max_width": null,
            "order": null,
            "_view_module_version": "1.2.0",
            "grid_template_areas": null,
            "object_position": null,
            "object_fit": null,
            "grid_auto_columns": null,
            "margin": null,
            "display": null,
            "left": null
          }
        },
        "679bff57a3e74a9f8b1820d96cd62c42": {
          "model_module": "@jupyter-widgets/controls",
          "model_name": "DescriptionStyleModel",
          "state": {
            "_view_name": "StyleView",
            "_model_name": "DescriptionStyleModel",
            "description_width": "",
            "_view_module": "@jupyter-widgets/base",
            "_model_module_version": "1.5.0",
            "_view_count": null,
            "_view_module_version": "1.2.0",
            "_model_module": "@jupyter-widgets/controls"
          }
        },
        "fd9acd1e46154de1a45c752401bb82ae": {
          "model_module": "@jupyter-widgets/base",
          "model_name": "LayoutModel",
          "state": {
            "_view_name": "LayoutView",
            "grid_template_rows": null,
            "right": null,
            "justify_content": null,
            "_view_module": "@jupyter-widgets/base",
            "overflow": null,
            "_model_module_version": "1.2.0",
            "_view_count": null,
            "flex_flow": null,
            "width": null,
            "min_width": null,
            "border": null,
            "align_items": null,
            "bottom": null,
            "_model_module": "@jupyter-widgets/base",
            "top": null,
            "grid_column": null,
            "overflow_y": null,
            "overflow_x": null,
            "grid_auto_flow": null,
            "grid_area": null,
            "grid_template_columns": null,
            "flex": null,
            "_model_name": "LayoutModel",
            "justify_items": null,
            "grid_row": null,
            "max_height": null,
            "align_content": null,
            "visibility": null,
            "align_self": null,
            "height": null,
            "min_height": null,
            "padding": null,
            "grid_auto_rows": null,
            "grid_gap": null,
            "max_width": null,
            "order": null,
            "_view_module_version": "1.2.0",
            "grid_template_areas": null,
            "object_position": null,
            "object_fit": null,
            "grid_auto_columns": null,
            "margin": null,
            "display": null,
            "left": null
          }
        },
        "96c56f7b80b9494a8b268f694f2631dd": {
          "model_module": "@jupyter-widgets/controls",
          "model_name": "HBoxModel",
          "state": {
            "_view_name": "HBoxView",
            "_dom_classes": [],
            "_model_name": "HBoxModel",
            "_view_module": "@jupyter-widgets/controls",
            "_model_module_version": "1.5.0",
            "_view_count": null,
            "_view_module_version": "1.5.0",
            "box_style": "",
            "layout": "IPY_MODEL_c89803ac92ed4f25bcc284d09d3e4584",
            "_model_module": "@jupyter-widgets/controls",
            "children": [
              "IPY_MODEL_db6f0d86a71444b6b602b1d50ec1882c",
              "IPY_MODEL_5d02c35abd3a4c30bcc642a750ae6bed"
            ]
          }
        },
        "c89803ac92ed4f25bcc284d09d3e4584": {
          "model_module": "@jupyter-widgets/base",
          "model_name": "LayoutModel",
          "state": {
            "_view_name": "LayoutView",
            "grid_template_rows": null,
            "right": null,
            "justify_content": null,
            "_view_module": "@jupyter-widgets/base",
            "overflow": null,
            "_model_module_version": "1.2.0",
            "_view_count": null,
            "flex_flow": null,
            "width": null,
            "min_width": null,
            "border": null,
            "align_items": null,
            "bottom": null,
            "_model_module": "@jupyter-widgets/base",
            "top": null,
            "grid_column": null,
            "overflow_y": null,
            "overflow_x": null,
            "grid_auto_flow": null,
            "grid_area": null,
            "grid_template_columns": null,
            "flex": null,
            "_model_name": "LayoutModel",
            "justify_items": null,
            "grid_row": null,
            "max_height": null,
            "align_content": null,
            "visibility": null,
            "align_self": null,
            "height": null,
            "min_height": null,
            "padding": null,
            "grid_auto_rows": null,
            "grid_gap": null,
            "max_width": null,
            "order": null,
            "_view_module_version": "1.2.0",
            "grid_template_areas": null,
            "object_position": null,
            "object_fit": null,
            "grid_auto_columns": null,
            "margin": null,
            "display": null,
            "left": null
          }
        },
        "db6f0d86a71444b6b602b1d50ec1882c": {
          "model_module": "@jupyter-widgets/controls",
          "model_name": "FloatProgressModel",
          "state": {
            "_view_name": "ProgressView",
            "style": "IPY_MODEL_c8fba0aec6b348b5b50f630daaac993d",
            "_dom_classes": [],
            "description": "Downloading: 100%",
            "_model_name": "FloatProgressModel",
            "bar_style": "success",
            "max": 1558,
            "_view_module": "@jupyter-widgets/controls",
            "_model_module_version": "1.5.0",
            "value": 1558,
            "_view_count": null,
            "_view_module_version": "1.5.0",
            "orientation": "horizontal",
            "min": 0,
            "description_tooltip": null,
            "_model_module": "@jupyter-widgets/controls",
            "layout": "IPY_MODEL_44c91b93770244e9933a5852f3b3a812"
          }
        },
        "5d02c35abd3a4c30bcc642a750ae6bed": {
          "model_module": "@jupyter-widgets/controls",
          "model_name": "HTMLModel",
          "state": {
            "_view_name": "HTMLView",
            "style": "IPY_MODEL_048b879c433d4fc4acafdbd83a0b65ff",
            "_dom_classes": [],
            "description": "",
            "_model_name": "HTMLModel",
            "placeholder": "​",
            "_view_module": "@jupyter-widgets/controls",
            "_model_module_version": "1.5.0",
            "value": " 1.56k/1.56k [00:00&lt;00:00, 3.04kB/s]",
            "_view_count": null,
            "_view_module_version": "1.5.0",
            "description_tooltip": null,
            "_model_module": "@jupyter-widgets/controls",
            "layout": "IPY_MODEL_95c5a1ac8663403a96b04429e5681a0f"
          }
        },
        "c8fba0aec6b348b5b50f630daaac993d": {
          "model_module": "@jupyter-widgets/controls",
          "model_name": "ProgressStyleModel",
          "state": {
            "_view_name": "StyleView",
            "_model_name": "ProgressStyleModel",
            "description_width": "initial",
            "_view_module": "@jupyter-widgets/base",
            "_model_module_version": "1.5.0",
            "_view_count": null,
            "_view_module_version": "1.2.0",
            "bar_color": null,
            "_model_module": "@jupyter-widgets/controls"
          }
        },
        "44c91b93770244e9933a5852f3b3a812": {
          "model_module": "@jupyter-widgets/base",
          "model_name": "LayoutModel",
          "state": {
            "_view_name": "LayoutView",
            "grid_template_rows": null,
            "right": null,
            "justify_content": null,
            "_view_module": "@jupyter-widgets/base",
            "overflow": null,
            "_model_module_version": "1.2.0",
            "_view_count": null,
            "flex_flow": null,
            "width": null,
            "min_width": null,
            "border": null,
            "align_items": null,
            "bottom": null,
            "_model_module": "@jupyter-widgets/base",
            "top": null,
            "grid_column": null,
            "overflow_y": null,
            "overflow_x": null,
            "grid_auto_flow": null,
            "grid_area": null,
            "grid_template_columns": null,
            "flex": null,
            "_model_name": "LayoutModel",
            "justify_items": null,
            "grid_row": null,
            "max_height": null,
            "align_content": null,
            "visibility": null,
            "align_self": null,
            "height": null,
            "min_height": null,
            "padding": null,
            "grid_auto_rows": null,
            "grid_gap": null,
            "max_width": null,
            "order": null,
            "_view_module_version": "1.2.0",
            "grid_template_areas": null,
            "object_position": null,
            "object_fit": null,
            "grid_auto_columns": null,
            "margin": null,
            "display": null,
            "left": null
          }
        },
        "048b879c433d4fc4acafdbd83a0b65ff": {
          "model_module": "@jupyter-widgets/controls",
          "model_name": "DescriptionStyleModel",
          "state": {
            "_view_name": "StyleView",
            "_model_name": "DescriptionStyleModel",
            "description_width": "",
            "_view_module": "@jupyter-widgets/base",
            "_model_module_version": "1.5.0",
            "_view_count": null,
            "_view_module_version": "1.2.0",
            "_model_module": "@jupyter-widgets/controls"
          }
        },
        "95c5a1ac8663403a96b04429e5681a0f": {
          "model_module": "@jupyter-widgets/base",
          "model_name": "LayoutModel",
          "state": {
            "_view_name": "LayoutView",
            "grid_template_rows": null,
            "right": null,
            "justify_content": null,
            "_view_module": "@jupyter-widgets/base",
            "overflow": null,
            "_model_module_version": "1.2.0",
            "_view_count": null,
            "flex_flow": null,
            "width": null,
            "min_width": null,
            "border": null,
            "align_items": null,
            "bottom": null,
            "_model_module": "@jupyter-widgets/base",
            "top": null,
            "grid_column": null,
            "overflow_y": null,
            "overflow_x": null,
            "grid_auto_flow": null,
            "grid_area": null,
            "grid_template_columns": null,
            "flex": null,
            "_model_name": "LayoutModel",
            "justify_items": null,
            "grid_row": null,
            "max_height": null,
            "align_content": null,
            "visibility": null,
            "align_self": null,
            "height": null,
            "min_height": null,
            "padding": null,
            "grid_auto_rows": null,
            "grid_gap": null,
            "max_width": null,
            "order": null,
            "_view_module_version": "1.2.0",
            "grid_template_areas": null,
            "object_position": null,
            "object_fit": null,
            "grid_auto_columns": null,
            "margin": null,
            "display": null,
            "left": null
          }
        },
        "fbe663eb918d4dd6a1977abe6b8e5931": {
          "model_module": "@jupyter-widgets/controls",
          "model_name": "HBoxModel",
          "state": {
            "_view_name": "HBoxView",
            "_dom_classes": [],
            "_model_name": "HBoxModel",
            "_view_module": "@jupyter-widgets/controls",
            "_model_module_version": "1.5.0",
            "_view_count": null,
            "_view_module_version": "1.5.0",
            "box_style": "",
            "layout": "IPY_MODEL_093cbf14ffc14366a66a0b7f314ada7c",
            "_model_module": "@jupyter-widgets/controls",
            "children": [
              "IPY_MODEL_e0d77b805b1d452e9b476b5093c9d3e4",
              "IPY_MODEL_a7bf47d2d61f486180b9e8e0f4419ce1"
            ]
          }
        },
        "093cbf14ffc14366a66a0b7f314ada7c": {
          "model_module": "@jupyter-widgets/base",
          "model_name": "LayoutModel",
          "state": {
            "_view_name": "LayoutView",
            "grid_template_rows": null,
            "right": null,
            "justify_content": null,
            "_view_module": "@jupyter-widgets/base",
            "overflow": null,
            "_model_module_version": "1.2.0",
            "_view_count": null,
            "flex_flow": null,
            "width": null,
            "min_width": null,
            "border": null,
            "align_items": null,
            "bottom": null,
            "_model_module": "@jupyter-widgets/base",
            "top": null,
            "grid_column": null,
            "overflow_y": null,
            "overflow_x": null,
            "grid_auto_flow": null,
            "grid_area": null,
            "grid_template_columns": null,
            "flex": null,
            "_model_name": "LayoutModel",
            "justify_items": null,
            "grid_row": null,
            "max_height": null,
            "align_content": null,
            "visibility": null,
            "align_self": null,
            "height": null,
            "min_height": null,
            "padding": null,
            "grid_auto_rows": null,
            "grid_gap": null,
            "max_width": null,
            "order": null,
            "_view_module_version": "1.2.0",
            "grid_template_areas": null,
            "object_position": null,
            "object_fit": null,
            "grid_auto_columns": null,
            "margin": null,
            "display": null,
            "left": null
          }
        },
        "e0d77b805b1d452e9b476b5093c9d3e4": {
          "model_module": "@jupyter-widgets/controls",
          "model_name": "FloatProgressModel",
          "state": {
            "_view_name": "ProgressView",
            "style": "IPY_MODEL_4ac17648091645cda362f3555e764d52",
            "_dom_classes": [],
            "description": "Downloading: 100%",
            "_model_name": "FloatProgressModel",
            "bar_style": "success",
            "max": 1262097815,
            "_view_module": "@jupyter-widgets/controls",
            "_model_module_version": "1.5.0",
            "value": 1262097815,
            "_view_count": null,
            "_view_module_version": "1.5.0",
            "orientation": "horizontal",
            "min": 0,
            "description_tooltip": null,
            "_model_module": "@jupyter-widgets/controls",
            "layout": "IPY_MODEL_142fe6dc5607473589408efe11a420b7"
          }
        },
        "a7bf47d2d61f486180b9e8e0f4419ce1": {
          "model_module": "@jupyter-widgets/controls",
          "model_name": "HTMLModel",
          "state": {
            "_view_name": "HTMLView",
            "style": "IPY_MODEL_e8a1b41bdab14a63b5cba930b44dfaa3",
            "_dom_classes": [],
            "description": "",
            "_model_name": "HTMLModel",
            "placeholder": "​",
            "_view_module": "@jupyter-widgets/controls",
            "_model_module_version": "1.5.0",
            "value": " 1.26G/1.26G [00:26&lt;00:00, 47.3MB/s]",
            "_view_count": null,
            "_view_module_version": "1.5.0",
            "description_tooltip": null,
            "_model_module": "@jupyter-widgets/controls",
            "layout": "IPY_MODEL_de123d6941514e1eb4ba562c296de3e1"
          }
        },
        "4ac17648091645cda362f3555e764d52": {
          "model_module": "@jupyter-widgets/controls",
          "model_name": "ProgressStyleModel",
          "state": {
            "_view_name": "StyleView",
            "_model_name": "ProgressStyleModel",
            "description_width": "initial",
            "_view_module": "@jupyter-widgets/base",
            "_model_module_version": "1.5.0",
            "_view_count": null,
            "_view_module_version": "1.2.0",
            "bar_color": null,
            "_model_module": "@jupyter-widgets/controls"
          }
        },
        "142fe6dc5607473589408efe11a420b7": {
          "model_module": "@jupyter-widgets/base",
          "model_name": "LayoutModel",
          "state": {
            "_view_name": "LayoutView",
            "grid_template_rows": null,
            "right": null,
            "justify_content": null,
            "_view_module": "@jupyter-widgets/base",
            "overflow": null,
            "_model_module_version": "1.2.0",
            "_view_count": null,
            "flex_flow": null,
            "width": null,
            "min_width": null,
            "border": null,
            "align_items": null,
            "bottom": null,
            "_model_module": "@jupyter-widgets/base",
            "top": null,
            "grid_column": null,
            "overflow_y": null,
            "overflow_x": null,
            "grid_auto_flow": null,
            "grid_area": null,
            "grid_template_columns": null,
            "flex": null,
            "_model_name": "LayoutModel",
            "justify_items": null,
            "grid_row": null,
            "max_height": null,
            "align_content": null,
            "visibility": null,
            "align_self": null,
            "height": null,
            "min_height": null,
            "padding": null,
            "grid_auto_rows": null,
            "grid_gap": null,
            "max_width": null,
            "order": null,
            "_view_module_version": "1.2.0",
            "grid_template_areas": null,
            "object_position": null,
            "object_fit": null,
            "grid_auto_columns": null,
            "margin": null,
            "display": null,
            "left": null
          }
        },
        "e8a1b41bdab14a63b5cba930b44dfaa3": {
          "model_module": "@jupyter-widgets/controls",
          "model_name": "DescriptionStyleModel",
          "state": {
            "_view_name": "StyleView",
            "_model_name": "DescriptionStyleModel",
            "description_width": "",
            "_view_module": "@jupyter-widgets/base",
            "_model_module_version": "1.5.0",
            "_view_count": null,
            "_view_module_version": "1.2.0",
            "_model_module": "@jupyter-widgets/controls"
          }
        },
        "de123d6941514e1eb4ba562c296de3e1": {
          "model_module": "@jupyter-widgets/base",
          "model_name": "LayoutModel",
          "state": {
            "_view_name": "LayoutView",
            "grid_template_rows": null,
            "right": null,
            "justify_content": null,
            "_view_module": "@jupyter-widgets/base",
            "overflow": null,
            "_model_module_version": "1.2.0",
            "_view_count": null,
            "flex_flow": null,
            "width": null,
            "min_width": null,
            "border": null,
            "align_items": null,
            "bottom": null,
            "_model_module": "@jupyter-widgets/base",
            "top": null,
            "grid_column": null,
            "overflow_y": null,
            "overflow_x": null,
            "grid_auto_flow": null,
            "grid_area": null,
            "grid_template_columns": null,
            "flex": null,
            "_model_name": "LayoutModel",
            "justify_items": null,
            "grid_row": null,
            "max_height": null,
            "align_content": null,
            "visibility": null,
            "align_self": null,
            "height": null,
            "min_height": null,
            "padding": null,
            "grid_auto_rows": null,
            "grid_gap": null,
            "max_width": null,
            "order": null,
            "_view_module_version": "1.2.0",
            "grid_template_areas": null,
            "object_position": null,
            "object_fit": null,
            "grid_auto_columns": null,
            "margin": null,
            "display": null,
            "left": null
          }
        },
        "91d7c3cce9b24ae2ac71a79ad3796d02": {
          "model_module": "@jupyter-widgets/controls",
          "model_name": "HBoxModel",
          "state": {
            "_view_name": "HBoxView",
            "_dom_classes": [],
            "_model_name": "HBoxModel",
            "_view_module": "@jupyter-widgets/controls",
            "_model_module_version": "1.5.0",
            "_view_count": null,
            "_view_module_version": "1.5.0",
            "box_style": "",
            "layout": "IPY_MODEL_62907d1be751419ea58bf31257c8f682",
            "_model_module": "@jupyter-widgets/controls",
            "children": [
              "IPY_MODEL_2164aa26d1584b9db53fbe9c231e4e4e",
              "IPY_MODEL_3e064d63cf1b438fa87877f456a10d40"
            ]
          }
        },
        "62907d1be751419ea58bf31257c8f682": {
          "model_module": "@jupyter-widgets/base",
          "model_name": "LayoutModel",
          "state": {
            "_view_name": "LayoutView",
            "grid_template_rows": null,
            "right": null,
            "justify_content": null,
            "_view_module": "@jupyter-widgets/base",
            "overflow": null,
            "_model_module_version": "1.2.0",
            "_view_count": null,
            "flex_flow": null,
            "width": null,
            "min_width": null,
            "border": null,
            "align_items": null,
            "bottom": null,
            "_model_module": "@jupyter-widgets/base",
            "top": null,
            "grid_column": null,
            "overflow_y": null,
            "overflow_x": null,
            "grid_auto_flow": null,
            "grid_area": null,
            "grid_template_columns": null,
            "flex": null,
            "_model_name": "LayoutModel",
            "justify_items": null,
            "grid_row": null,
            "max_height": null,
            "align_content": null,
            "visibility": null,
            "align_self": null,
            "height": null,
            "min_height": null,
            "padding": null,
            "grid_auto_rows": null,
            "grid_gap": null,
            "max_width": null,
            "order": null,
            "_view_module_version": "1.2.0",
            "grid_template_areas": null,
            "object_position": null,
            "object_fit": null,
            "grid_auto_columns": null,
            "margin": null,
            "display": null,
            "left": null
          }
        },
        "2164aa26d1584b9db53fbe9c231e4e4e": {
          "model_module": "@jupyter-widgets/controls",
          "model_name": "FloatProgressModel",
          "state": {
            "_view_name": "ProgressView",
            "style": "IPY_MODEL_614a6f03c8574ed4aeb89ca526d188b8",
            "_dom_classes": [],
            "description": "Downloading: 100%",
            "_model_name": "FloatProgressModel",
            "bar_style": "success",
            "max": 158,
            "_view_module": "@jupyter-widgets/controls",
            "_model_module_version": "1.5.0",
            "value": 158,
            "_view_count": null,
            "_view_module_version": "1.5.0",
            "orientation": "horizontal",
            "min": 0,
            "description_tooltip": null,
            "_model_module": "@jupyter-widgets/controls",
            "layout": "IPY_MODEL_3fbccdad6a9b4b6b83efe354704bc93d"
          }
        },
        "3e064d63cf1b438fa87877f456a10d40": {
          "model_module": "@jupyter-widgets/controls",
          "model_name": "HTMLModel",
          "state": {
            "_view_name": "HTMLView",
            "style": "IPY_MODEL_318411cf343547cd949edb3cffda3341",
            "_dom_classes": [],
            "description": "",
            "_model_name": "HTMLModel",
            "placeholder": "​",
            "_view_module": "@jupyter-widgets/controls",
            "_model_module_version": "1.5.0",
            "value": " 158/158 [00:00&lt;00:00, 666B/s]",
            "_view_count": null,
            "_view_module_version": "1.5.0",
            "description_tooltip": null,
            "_model_module": "@jupyter-widgets/controls",
            "layout": "IPY_MODEL_c5d5bb97dfa2499baa52581755a831fd"
          }
        },
        "614a6f03c8574ed4aeb89ca526d188b8": {
          "model_module": "@jupyter-widgets/controls",
          "model_name": "ProgressStyleModel",
          "state": {
            "_view_name": "StyleView",
            "_model_name": "ProgressStyleModel",
            "description_width": "initial",
            "_view_module": "@jupyter-widgets/base",
            "_model_module_version": "1.5.0",
            "_view_count": null,
            "_view_module_version": "1.2.0",
            "bar_color": null,
            "_model_module": "@jupyter-widgets/controls"
          }
        },
        "3fbccdad6a9b4b6b83efe354704bc93d": {
          "model_module": "@jupyter-widgets/base",
          "model_name": "LayoutModel",
          "state": {
            "_view_name": "LayoutView",
            "grid_template_rows": null,
            "right": null,
            "justify_content": null,
            "_view_module": "@jupyter-widgets/base",
            "overflow": null,
            "_model_module_version": "1.2.0",
            "_view_count": null,
            "flex_flow": null,
            "width": null,
            "min_width": null,
            "border": null,
            "align_items": null,
            "bottom": null,
            "_model_module": "@jupyter-widgets/base",
            "top": null,
            "grid_column": null,
            "overflow_y": null,
            "overflow_x": null,
            "grid_auto_flow": null,
            "grid_area": null,
            "grid_template_columns": null,
            "flex": null,
            "_model_name": "LayoutModel",
            "justify_items": null,
            "grid_row": null,
            "max_height": null,
            "align_content": null,
            "visibility": null,
            "align_self": null,
            "height": null,
            "min_height": null,
            "padding": null,
            "grid_auto_rows": null,
            "grid_gap": null,
            "max_width": null,
            "order": null,
            "_view_module_version": "1.2.0",
            "grid_template_areas": null,
            "object_position": null,
            "object_fit": null,
            "grid_auto_columns": null,
            "margin": null,
            "display": null,
            "left": null
          }
        },
        "318411cf343547cd949edb3cffda3341": {
          "model_module": "@jupyter-widgets/controls",
          "model_name": "DescriptionStyleModel",
          "state": {
            "_view_name": "StyleView",
            "_model_name": "DescriptionStyleModel",
            "description_width": "",
            "_view_module": "@jupyter-widgets/base",
            "_model_module_version": "1.5.0",
            "_view_count": null,
            "_view_module_version": "1.2.0",
            "_model_module": "@jupyter-widgets/controls"
          }
        },
        "c5d5bb97dfa2499baa52581755a831fd": {
          "model_module": "@jupyter-widgets/base",
          "model_name": "LayoutModel",
          "state": {
            "_view_name": "LayoutView",
            "grid_template_rows": null,
            "right": null,
            "justify_content": null,
            "_view_module": "@jupyter-widgets/base",
            "overflow": null,
            "_model_module_version": "1.2.0",
            "_view_count": null,
            "flex_flow": null,
            "width": null,
            "min_width": null,
            "border": null,
            "align_items": null,
            "bottom": null,
            "_model_module": "@jupyter-widgets/base",
            "top": null,
            "grid_column": null,
            "overflow_y": null,
            "overflow_x": null,
            "grid_auto_flow": null,
            "grid_area": null,
            "grid_template_columns": null,
            "flex": null,
            "_model_name": "LayoutModel",
            "justify_items": null,
            "grid_row": null,
            "max_height": null,
            "align_content": null,
            "visibility": null,
            "align_self": null,
            "height": null,
            "min_height": null,
            "padding": null,
            "grid_auto_rows": null,
            "grid_gap": null,
            "max_width": null,
            "order": null,
            "_view_module_version": "1.2.0",
            "grid_template_areas": null,
            "object_position": null,
            "object_fit": null,
            "grid_auto_columns": null,
            "margin": null,
            "display": null,
            "left": null
          }
        },
        "22028d945f704b9db72bd22ca774bde4": {
          "model_module": "@jupyter-widgets/controls",
          "model_name": "HBoxModel",
          "state": {
            "_view_name": "HBoxView",
            "_dom_classes": [],
            "_model_name": "HBoxModel",
            "_view_module": "@jupyter-widgets/controls",
            "_model_module_version": "1.5.0",
            "_view_count": null,
            "_view_module_version": "1.5.0",
            "box_style": "",
            "layout": "IPY_MODEL_f399c709d76e4664b71ad2ec39ae0fa7",
            "_model_module": "@jupyter-widgets/controls",
            "children": [
              "IPY_MODEL_cceb9031740343328656256e437bc919",
              "IPY_MODEL_3321b8ac2fb74e549f685d1ae34f9c89"
            ]
          }
        },
        "f399c709d76e4664b71ad2ec39ae0fa7": {
          "model_module": "@jupyter-widgets/base",
          "model_name": "LayoutModel",
          "state": {
            "_view_name": "LayoutView",
            "grid_template_rows": null,
            "right": null,
            "justify_content": null,
            "_view_module": "@jupyter-widgets/base",
            "overflow": null,
            "_model_module_version": "1.2.0",
            "_view_count": null,
            "flex_flow": null,
            "width": null,
            "min_width": null,
            "border": null,
            "align_items": null,
            "bottom": null,
            "_model_module": "@jupyter-widgets/base",
            "top": null,
            "grid_column": null,
            "overflow_y": null,
            "overflow_x": null,
            "grid_auto_flow": null,
            "grid_area": null,
            "grid_template_columns": null,
            "flex": null,
            "_model_name": "LayoutModel",
            "justify_items": null,
            "grid_row": null,
            "max_height": null,
            "align_content": null,
            "visibility": null,
            "align_self": null,
            "height": null,
            "min_height": null,
            "padding": null,
            "grid_auto_rows": null,
            "grid_gap": null,
            "max_width": null,
            "order": null,
            "_view_module_version": "1.2.0",
            "grid_template_areas": null,
            "object_position": null,
            "object_fit": null,
            "grid_auto_columns": null,
            "margin": null,
            "display": null,
            "left": null
          }
        },
        "cceb9031740343328656256e437bc919": {
          "model_module": "@jupyter-widgets/controls",
          "model_name": "FloatProgressModel",
          "state": {
            "_view_name": "ProgressView",
            "style": "IPY_MODEL_87a0fb8c07ac465a9e08fd7742afe2a5",
            "_dom_classes": [],
            "description": "Downloading: 100%",
            "_model_name": "FloatProgressModel",
            "bar_style": "success",
            "max": 369,
            "_view_module": "@jupyter-widgets/controls",
            "_model_module_version": "1.5.0",
            "value": 369,
            "_view_count": null,
            "_view_module_version": "1.5.0",
            "orientation": "horizontal",
            "min": 0,
            "description_tooltip": null,
            "_model_module": "@jupyter-widgets/controls",
            "layout": "IPY_MODEL_315ce96b2dca42afac1127e2b6a4040b"
          }
        },
        "3321b8ac2fb74e549f685d1ae34f9c89": {
          "model_module": "@jupyter-widgets/controls",
          "model_name": "HTMLModel",
          "state": {
            "_view_name": "HTMLView",
            "style": "IPY_MODEL_2cbe8192e38c4b86be85c74fa513d236",
            "_dom_classes": [],
            "description": "",
            "_model_name": "HTMLModel",
            "placeholder": "​",
            "_view_module": "@jupyter-widgets/controls",
            "_model_module_version": "1.5.0",
            "value": " 369/369 [00:37&lt;00:00, 9.90B/s]",
            "_view_count": null,
            "_view_module_version": "1.5.0",
            "description_tooltip": null,
            "_model_module": "@jupyter-widgets/controls",
            "layout": "IPY_MODEL_484512c01d2f4447afc12f3abc712aa1"
          }
        },
        "87a0fb8c07ac465a9e08fd7742afe2a5": {
          "model_module": "@jupyter-widgets/controls",
          "model_name": "ProgressStyleModel",
          "state": {
            "_view_name": "StyleView",
            "_model_name": "ProgressStyleModel",
            "description_width": "initial",
            "_view_module": "@jupyter-widgets/base",
            "_model_module_version": "1.5.0",
            "_view_count": null,
            "_view_module_version": "1.2.0",
            "bar_color": null,
            "_model_module": "@jupyter-widgets/controls"
          }
        },
        "315ce96b2dca42afac1127e2b6a4040b": {
          "model_module": "@jupyter-widgets/base",
          "model_name": "LayoutModel",
          "state": {
            "_view_name": "LayoutView",
            "grid_template_rows": null,
            "right": null,
            "justify_content": null,
            "_view_module": "@jupyter-widgets/base",
            "overflow": null,
            "_model_module_version": "1.2.0",
            "_view_count": null,
            "flex_flow": null,
            "width": null,
            "min_width": null,
            "border": null,
            "align_items": null,
            "bottom": null,
            "_model_module": "@jupyter-widgets/base",
            "top": null,
            "grid_column": null,
            "overflow_y": null,
            "overflow_x": null,
            "grid_auto_flow": null,
            "grid_area": null,
            "grid_template_columns": null,
            "flex": null,
            "_model_name": "LayoutModel",
            "justify_items": null,
            "grid_row": null,
            "max_height": null,
            "align_content": null,
            "visibility": null,
            "align_self": null,
            "height": null,
            "min_height": null,
            "padding": null,
            "grid_auto_rows": null,
            "grid_gap": null,
            "max_width": null,
            "order": null,
            "_view_module_version": "1.2.0",
            "grid_template_areas": null,
            "object_position": null,
            "object_fit": null,
            "grid_auto_columns": null,
            "margin": null,
            "display": null,
            "left": null
          }
        },
        "2cbe8192e38c4b86be85c74fa513d236": {
          "model_module": "@jupyter-widgets/controls",
          "model_name": "DescriptionStyleModel",
          "state": {
            "_view_name": "StyleView",
            "_model_name": "DescriptionStyleModel",
            "description_width": "",
            "_view_module": "@jupyter-widgets/base",
            "_model_module_version": "1.5.0",
            "_view_count": null,
            "_view_module_version": "1.2.0",
            "_model_module": "@jupyter-widgets/controls"
          }
        },
        "484512c01d2f4447afc12f3abc712aa1": {
          "model_module": "@jupyter-widgets/base",
          "model_name": "LayoutModel",
          "state": {
            "_view_name": "LayoutView",
            "grid_template_rows": null,
            "right": null,
            "justify_content": null,
            "_view_module": "@jupyter-widgets/base",
            "overflow": null,
            "_model_module_version": "1.2.0",
            "_view_count": null,
            "flex_flow": null,
            "width": null,
            "min_width": null,
            "border": null,
            "align_items": null,
            "bottom": null,
            "_model_module": "@jupyter-widgets/base",
            "top": null,
            "grid_column": null,
            "overflow_y": null,
            "overflow_x": null,
            "grid_auto_flow": null,
            "grid_area": null,
            "grid_template_columns": null,
            "flex": null,
            "_model_name": "LayoutModel",
            "justify_items": null,
            "grid_row": null,
            "max_height": null,
            "align_content": null,
            "visibility": null,
            "align_self": null,
            "height": null,
            "min_height": null,
            "padding": null,
            "grid_auto_rows": null,
            "grid_gap": null,
            "max_width": null,
            "order": null,
            "_view_module_version": "1.2.0",
            "grid_template_areas": null,
            "object_position": null,
            "object_fit": null,
            "grid_auto_columns": null,
            "margin": null,
            "display": null,
            "left": null
          }
        },
        "e3703a17f4c34b3ab6e8d05d5737320d": {
          "model_module": "@jupyter-widgets/controls",
          "model_name": "HBoxModel",
          "state": {
            "_view_name": "HBoxView",
            "_dom_classes": [],
            "_model_name": "HBoxModel",
            "_view_module": "@jupyter-widgets/controls",
            "_model_module_version": "1.5.0",
            "_view_count": null,
            "_view_module_version": "1.5.0",
            "box_style": "",
            "layout": "IPY_MODEL_d9859ba9cbb845399e5043979461e893",
            "_model_module": "@jupyter-widgets/controls",
            "children": [
              "IPY_MODEL_1592aa1824474b93a14e78ddaa7acd3a",
              "IPY_MODEL_c5d4ed7a512c4fb8b556644f47330960"
            ]
          }
        },
        "d9859ba9cbb845399e5043979461e893": {
          "model_module": "@jupyter-widgets/base",
          "model_name": "LayoutModel",
          "state": {
            "_view_name": "LayoutView",
            "grid_template_rows": null,
            "right": null,
            "justify_content": null,
            "_view_module": "@jupyter-widgets/base",
            "overflow": null,
            "_model_module_version": "1.2.0",
            "_view_count": null,
            "flex_flow": null,
            "width": null,
            "min_width": null,
            "border": null,
            "align_items": null,
            "bottom": null,
            "_model_module": "@jupyter-widgets/base",
            "top": null,
            "grid_column": null,
            "overflow_y": null,
            "overflow_x": null,
            "grid_auto_flow": null,
            "grid_area": null,
            "grid_template_columns": null,
            "flex": null,
            "_model_name": "LayoutModel",
            "justify_items": null,
            "grid_row": null,
            "max_height": null,
            "align_content": null,
            "visibility": null,
            "align_self": null,
            "height": null,
            "min_height": null,
            "padding": null,
            "grid_auto_rows": null,
            "grid_gap": null,
            "max_width": null,
            "order": null,
            "_view_module_version": "1.2.0",
            "grid_template_areas": null,
            "object_position": null,
            "object_fit": null,
            "grid_auto_columns": null,
            "margin": null,
            "display": null,
            "left": null
          }
        },
        "1592aa1824474b93a14e78ddaa7acd3a": {
          "model_module": "@jupyter-widgets/controls",
          "model_name": "FloatProgressModel",
          "state": {
            "_view_name": "ProgressView",
            "style": "IPY_MODEL_f9c6a26764ca4996b174ea9612a134d3",
            "_dom_classes": [],
            "description": "Downloading: 100%",
            "_model_name": "FloatProgressModel",
            "bar_style": "success",
            "max": 138,
            "_view_module": "@jupyter-widgets/controls",
            "_model_module_version": "1.5.0",
            "value": 138,
            "_view_count": null,
            "_view_module_version": "1.5.0",
            "orientation": "horizontal",
            "min": 0,
            "description_tooltip": null,
            "_model_module": "@jupyter-widgets/controls",
            "layout": "IPY_MODEL_5d93803b76844069b85131351a93b729"
          }
        },
        "c5d4ed7a512c4fb8b556644f47330960": {
          "model_module": "@jupyter-widgets/controls",
          "model_name": "HTMLModel",
          "state": {
            "_view_name": "HTMLView",
            "style": "IPY_MODEL_a9605a0e51ce419ebda9de7a3a548999",
            "_dom_classes": [],
            "description": "",
            "_model_name": "HTMLModel",
            "placeholder": "​",
            "_view_module": "@jupyter-widgets/controls",
            "_model_module_version": "1.5.0",
            "value": " 138/138 [00:00&lt;00:00, 284B/s]",
            "_view_count": null,
            "_view_module_version": "1.5.0",
            "description_tooltip": null,
            "_model_module": "@jupyter-widgets/controls",
            "layout": "IPY_MODEL_1e7207a8873d42468323e295b6164417"
          }
        },
        "f9c6a26764ca4996b174ea9612a134d3": {
          "model_module": "@jupyter-widgets/controls",
          "model_name": "ProgressStyleModel",
          "state": {
            "_view_name": "StyleView",
            "_model_name": "ProgressStyleModel",
            "description_width": "initial",
            "_view_module": "@jupyter-widgets/base",
            "_model_module_version": "1.5.0",
            "_view_count": null,
            "_view_module_version": "1.2.0",
            "bar_color": null,
            "_model_module": "@jupyter-widgets/controls"
          }
        },
        "5d93803b76844069b85131351a93b729": {
          "model_module": "@jupyter-widgets/base",
          "model_name": "LayoutModel",
          "state": {
            "_view_name": "LayoutView",
            "grid_template_rows": null,
            "right": null,
            "justify_content": null,
            "_view_module": "@jupyter-widgets/base",
            "overflow": null,
            "_model_module_version": "1.2.0",
            "_view_count": null,
            "flex_flow": null,
            "width": null,
            "min_width": null,
            "border": null,
            "align_items": null,
            "bottom": null,
            "_model_module": "@jupyter-widgets/base",
            "top": null,
            "grid_column": null,
            "overflow_y": null,
            "overflow_x": null,
            "grid_auto_flow": null,
            "grid_area": null,
            "grid_template_columns": null,
            "flex": null,
            "_model_name": "LayoutModel",
            "justify_items": null,
            "grid_row": null,
            "max_height": null,
            "align_content": null,
            "visibility": null,
            "align_self": null,
            "height": null,
            "min_height": null,
            "padding": null,
            "grid_auto_rows": null,
            "grid_gap": null,
            "max_width": null,
            "order": null,
            "_view_module_version": "1.2.0",
            "grid_template_areas": null,
            "object_position": null,
            "object_fit": null,
            "grid_auto_columns": null,
            "margin": null,
            "display": null,
            "left": null
          }
        },
        "a9605a0e51ce419ebda9de7a3a548999": {
          "model_module": "@jupyter-widgets/controls",
          "model_name": "DescriptionStyleModel",
          "state": {
            "_view_name": "StyleView",
            "_model_name": "DescriptionStyleModel",
            "description_width": "",
            "_view_module": "@jupyter-widgets/base",
            "_model_module_version": "1.5.0",
            "_view_count": null,
            "_view_module_version": "1.2.0",
            "_model_module": "@jupyter-widgets/controls"
          }
        },
        "1e7207a8873d42468323e295b6164417": {
          "model_module": "@jupyter-widgets/base",
          "model_name": "LayoutModel",
          "state": {
            "_view_name": "LayoutView",
            "grid_template_rows": null,
            "right": null,
            "justify_content": null,
            "_view_module": "@jupyter-widgets/base",
            "overflow": null,
            "_model_module_version": "1.2.0",
            "_view_count": null,
            "flex_flow": null,
            "width": null,
            "min_width": null,
            "border": null,
            "align_items": null,
            "bottom": null,
            "_model_module": "@jupyter-widgets/base",
            "top": null,
            "grid_column": null,
            "overflow_y": null,
            "overflow_x": null,
            "grid_auto_flow": null,
            "grid_area": null,
            "grid_template_columns": null,
            "flex": null,
            "_model_name": "LayoutModel",
            "justify_items": null,
            "grid_row": null,
            "max_height": null,
            "align_content": null,
            "visibility": null,
            "align_self": null,
            "height": null,
            "min_height": null,
            "padding": null,
            "grid_auto_rows": null,
            "grid_gap": null,
            "max_width": null,
            "order": null,
            "_view_module_version": "1.2.0",
            "grid_template_areas": null,
            "object_position": null,
            "object_fit": null,
            "grid_auto_columns": null,
            "margin": null,
            "display": null,
            "left": null
          }
        },
        "33683b1c3a944e798886a2a67bdb3c7a": {
          "model_module": "@jupyter-widgets/controls",
          "model_name": "HBoxModel",
          "state": {
            "_view_name": "HBoxView",
            "_dom_classes": [],
            "_model_name": "HBoxModel",
            "_view_module": "@jupyter-widgets/controls",
            "_model_module_version": "1.5.0",
            "_view_count": null,
            "_view_module_version": "1.5.0",
            "box_style": "",
            "layout": "IPY_MODEL_84c438d0539a4744a43081753b6c7760",
            "_model_module": "@jupyter-widgets/controls",
            "children": [
              "IPY_MODEL_20fb3b94edac4d1aa3b6c22b88558df1",
              "IPY_MODEL_0362b49cb76b4c67a124f5d181ddfab2"
            ]
          }
        },
        "84c438d0539a4744a43081753b6c7760": {
          "model_module": "@jupyter-widgets/base",
          "model_name": "LayoutModel",
          "state": {
            "_view_name": "LayoutView",
            "grid_template_rows": null,
            "right": null,
            "justify_content": null,
            "_view_module": "@jupyter-widgets/base",
            "overflow": null,
            "_model_module_version": "1.2.0",
            "_view_count": null,
            "flex_flow": null,
            "width": null,
            "min_width": null,
            "border": null,
            "align_items": null,
            "bottom": null,
            "_model_module": "@jupyter-widgets/base",
            "top": null,
            "grid_column": null,
            "overflow_y": null,
            "overflow_x": null,
            "grid_auto_flow": null,
            "grid_area": null,
            "grid_template_columns": null,
            "flex": null,
            "_model_name": "LayoutModel",
            "justify_items": null,
            "grid_row": null,
            "max_height": null,
            "align_content": null,
            "visibility": null,
            "align_self": null,
            "height": null,
            "min_height": null,
            "padding": null,
            "grid_auto_rows": null,
            "grid_gap": null,
            "max_width": null,
            "order": null,
            "_view_module_version": "1.2.0",
            "grid_template_areas": null,
            "object_position": null,
            "object_fit": null,
            "grid_auto_columns": null,
            "margin": null,
            "display": null,
            "left": null
          }
        },
        "20fb3b94edac4d1aa3b6c22b88558df1": {
          "model_module": "@jupyter-widgets/controls",
          "model_name": "FloatProgressModel",
          "state": {
            "_view_name": "ProgressView",
            "style": "IPY_MODEL_e11d6c2870d14204b30e45c18b055143",
            "_dom_classes": [],
            "description": "Downloading: 100%",
            "_model_name": "FloatProgressModel",
            "bar_style": "success",
            "max": 85,
            "_view_module": "@jupyter-widgets/controls",
            "_model_module_version": "1.5.0",
            "value": 85,
            "_view_count": null,
            "_view_module_version": "1.5.0",
            "orientation": "horizontal",
            "min": 0,
            "description_tooltip": null,
            "_model_module": "@jupyter-widgets/controls",
            "layout": "IPY_MODEL_9eb4306383ef4fee9748a1afa899efaa"
          }
        },
        "0362b49cb76b4c67a124f5d181ddfab2": {
          "model_module": "@jupyter-widgets/controls",
          "model_name": "HTMLModel",
          "state": {
            "_view_name": "HTMLView",
            "style": "IPY_MODEL_edf1e4847c9a4a72a7ac1223066370ac",
            "_dom_classes": [],
            "description": "",
            "_model_name": "HTMLModel",
            "placeholder": "​",
            "_view_module": "@jupyter-widgets/controls",
            "_model_module_version": "1.5.0",
            "value": " 85.0/85.0 [00:00&lt;00:00, 555B/s]",
            "_view_count": null,
            "_view_module_version": "1.5.0",
            "description_tooltip": null,
            "_model_module": "@jupyter-widgets/controls",
            "layout": "IPY_MODEL_01fb018a80ee40fbbc66f91453c578a1"
          }
        },
        "e11d6c2870d14204b30e45c18b055143": {
          "model_module": "@jupyter-widgets/controls",
          "model_name": "ProgressStyleModel",
          "state": {
            "_view_name": "StyleView",
            "_model_name": "ProgressStyleModel",
            "description_width": "initial",
            "_view_module": "@jupyter-widgets/base",
            "_model_module_version": "1.5.0",
            "_view_count": null,
            "_view_module_version": "1.2.0",
            "bar_color": null,
            "_model_module": "@jupyter-widgets/controls"
          }
        },
        "9eb4306383ef4fee9748a1afa899efaa": {
          "model_module": "@jupyter-widgets/base",
          "model_name": "LayoutModel",
          "state": {
            "_view_name": "LayoutView",
            "grid_template_rows": null,
            "right": null,
            "justify_content": null,
            "_view_module": "@jupyter-widgets/base",
            "overflow": null,
            "_model_module_version": "1.2.0",
            "_view_count": null,
            "flex_flow": null,
            "width": null,
            "min_width": null,
            "border": null,
            "align_items": null,
            "bottom": null,
            "_model_module": "@jupyter-widgets/base",
            "top": null,
            "grid_column": null,
            "overflow_y": null,
            "overflow_x": null,
            "grid_auto_flow": null,
            "grid_area": null,
            "grid_template_columns": null,
            "flex": null,
            "_model_name": "LayoutModel",
            "justify_items": null,
            "grid_row": null,
            "max_height": null,
            "align_content": null,
            "visibility": null,
            "align_self": null,
            "height": null,
            "min_height": null,
            "padding": null,
            "grid_auto_rows": null,
            "grid_gap": null,
            "max_width": null,
            "order": null,
            "_view_module_version": "1.2.0",
            "grid_template_areas": null,
            "object_position": null,
            "object_fit": null,
            "grid_auto_columns": null,
            "margin": null,
            "display": null,
            "left": null
          }
        },
        "edf1e4847c9a4a72a7ac1223066370ac": {
          "model_module": "@jupyter-widgets/controls",
          "model_name": "DescriptionStyleModel",
          "state": {
            "_view_name": "StyleView",
            "_model_name": "DescriptionStyleModel",
            "description_width": "",
            "_view_module": "@jupyter-widgets/base",
            "_model_module_version": "1.5.0",
            "_view_count": null,
            "_view_module_version": "1.2.0",
            "_model_module": "@jupyter-widgets/controls"
          }
        },
        "01fb018a80ee40fbbc66f91453c578a1": {
          "model_module": "@jupyter-widgets/base",
          "model_name": "LayoutModel",
          "state": {
            "_view_name": "LayoutView",
            "grid_template_rows": null,
            "right": null,
            "justify_content": null,
            "_view_module": "@jupyter-widgets/base",
            "overflow": null,
            "_model_module_version": "1.2.0",
            "_view_count": null,
            "flex_flow": null,
            "width": null,
            "min_width": null,
            "border": null,
            "align_items": null,
            "bottom": null,
            "_model_module": "@jupyter-widgets/base",
            "top": null,
            "grid_column": null,
            "overflow_y": null,
            "overflow_x": null,
            "grid_auto_flow": null,
            "grid_area": null,
            "grid_template_columns": null,
            "flex": null,
            "_model_name": "LayoutModel",
            "justify_items": null,
            "grid_row": null,
            "max_height": null,
            "align_content": null,
            "visibility": null,
            "align_self": null,
            "height": null,
            "min_height": null,
            "padding": null,
            "grid_auto_rows": null,
            "grid_gap": null,
            "max_width": null,
            "order": null,
            "_view_module_version": "1.2.0",
            "grid_template_areas": null,
            "object_position": null,
            "object_fit": null,
            "grid_auto_columns": null,
            "margin": null,
            "display": null,
            "left": null
          }
        },
        "3ba80bccd4d141db80433c7267dd37db": {
          "model_module": "@jupyter-widgets/controls",
          "model_name": "HBoxModel",
          "state": {
            "_view_name": "HBoxView",
            "_dom_classes": [],
            "_model_name": "HBoxModel",
            "_view_module": "@jupyter-widgets/controls",
            "_model_module_version": "1.5.0",
            "_view_count": null,
            "_view_module_version": "1.5.0",
            "box_style": "",
            "layout": "IPY_MODEL_4add24c44a0746b79ff795323ec26c9b",
            "_model_module": "@jupyter-widgets/controls",
            "children": [
              "IPY_MODEL_031a87616d3b42978007ef21d50f5985",
              "IPY_MODEL_49c1d29355dc45f6809d591759ad4f0e"
            ]
          }
        },
        "4add24c44a0746b79ff795323ec26c9b": {
          "model_module": "@jupyter-widgets/base",
          "model_name": "LayoutModel",
          "state": {
            "_view_name": "LayoutView",
            "grid_template_rows": null,
            "right": null,
            "justify_content": null,
            "_view_module": "@jupyter-widgets/base",
            "overflow": null,
            "_model_module_version": "1.2.0",
            "_view_count": null,
            "flex_flow": null,
            "width": null,
            "min_width": null,
            "border": null,
            "align_items": null,
            "bottom": null,
            "_model_module": "@jupyter-widgets/base",
            "top": null,
            "grid_column": null,
            "overflow_y": null,
            "overflow_x": null,
            "grid_auto_flow": null,
            "grid_area": null,
            "grid_template_columns": null,
            "flex": null,
            "_model_name": "LayoutModel",
            "justify_items": null,
            "grid_row": null,
            "max_height": null,
            "align_content": null,
            "visibility": null,
            "align_self": null,
            "height": null,
            "min_height": null,
            "padding": null,
            "grid_auto_rows": null,
            "grid_gap": null,
            "max_width": null,
            "order": null,
            "_view_module_version": "1.2.0",
            "grid_template_areas": null,
            "object_position": null,
            "object_fit": null,
            "grid_auto_columns": null,
            "margin": null,
            "display": null,
            "left": null
          }
        },
        "031a87616d3b42978007ef21d50f5985": {
          "model_module": "@jupyter-widgets/controls",
          "model_name": "FloatProgressModel",
          "state": {
            "_view_name": "ProgressView",
            "style": "IPY_MODEL_cfa842dbf8114a34828c5a49933af9e0",
            "_dom_classes": [],
            "description": "",
            "_model_name": "FloatProgressModel",
            "bar_style": "info",
            "max": 1,
            "_view_module": "@jupyter-widgets/controls",
            "_model_module_version": "1.5.0",
            "value": 1,
            "_view_count": null,
            "_view_module_version": "1.5.0",
            "orientation": "horizontal",
            "min": 0,
            "description_tooltip": null,
            "_model_module": "@jupyter-widgets/controls",
            "layout": "IPY_MODEL_424943160e534489a66736c8d7d8e186"
          }
        },
        "49c1d29355dc45f6809d591759ad4f0e": {
          "model_module": "@jupyter-widgets/controls",
          "model_name": "HTMLModel",
          "state": {
            "_view_name": "HTMLView",
            "style": "IPY_MODEL_bfc4c88590e94568b4845980131aa5c6",
            "_dom_classes": [],
            "description": "",
            "_model_name": "HTMLModel",
            "placeholder": "​",
            "_view_module": "@jupyter-widgets/controls",
            "_model_module_version": "1.5.0",
            "value": " 3399/0 [00:00&lt;00:00, 14390.02 examples/s]",
            "_view_count": null,
            "_view_module_version": "1.5.0",
            "description_tooltip": null,
            "_model_module": "@jupyter-widgets/controls",
            "layout": "IPY_MODEL_d38bf44363b5455b8ec73dc075895785"
          }
        },
        "cfa842dbf8114a34828c5a49933af9e0": {
          "model_module": "@jupyter-widgets/controls",
          "model_name": "ProgressStyleModel",
          "state": {
            "_view_name": "StyleView",
            "_model_name": "ProgressStyleModel",
            "description_width": "initial",
            "_view_module": "@jupyter-widgets/base",
            "_model_module_version": "1.5.0",
            "_view_count": null,
            "_view_module_version": "1.2.0",
            "bar_color": null,
            "_model_module": "@jupyter-widgets/controls"
          }
        },
        "424943160e534489a66736c8d7d8e186": {
          "model_module": "@jupyter-widgets/base",
          "model_name": "LayoutModel",
          "state": {
            "_view_name": "LayoutView",
            "grid_template_rows": null,
            "right": null,
            "justify_content": null,
            "_view_module": "@jupyter-widgets/base",
            "overflow": null,
            "_model_module_version": "1.2.0",
            "_view_count": null,
            "flex_flow": null,
            "width": null,
            "min_width": null,
            "border": null,
            "align_items": null,
            "bottom": null,
            "_model_module": "@jupyter-widgets/base",
            "top": null,
            "grid_column": null,
            "overflow_y": null,
            "overflow_x": null,
            "grid_auto_flow": null,
            "grid_area": null,
            "grid_template_columns": null,
            "flex": null,
            "_model_name": "LayoutModel",
            "justify_items": null,
            "grid_row": null,
            "max_height": null,
            "align_content": null,
            "visibility": null,
            "align_self": null,
            "height": null,
            "min_height": null,
            "padding": null,
            "grid_auto_rows": null,
            "grid_gap": null,
            "max_width": null,
            "order": null,
            "_view_module_version": "1.2.0",
            "grid_template_areas": null,
            "object_position": null,
            "object_fit": null,
            "grid_auto_columns": null,
            "margin": null,
            "display": null,
            "left": null
          }
        },
        "bfc4c88590e94568b4845980131aa5c6": {
          "model_module": "@jupyter-widgets/controls",
          "model_name": "DescriptionStyleModel",
          "state": {
            "_view_name": "StyleView",
            "_model_name": "DescriptionStyleModel",
            "description_width": "",
            "_view_module": "@jupyter-widgets/base",
            "_model_module_version": "1.5.0",
            "_view_count": null,
            "_view_module_version": "1.2.0",
            "_model_module": "@jupyter-widgets/controls"
          }
        },
        "d38bf44363b5455b8ec73dc075895785": {
          "model_module": "@jupyter-widgets/base",
          "model_name": "LayoutModel",
          "state": {
            "_view_name": "LayoutView",
            "grid_template_rows": null,
            "right": null,
            "justify_content": null,
            "_view_module": "@jupyter-widgets/base",
            "overflow": null,
            "_model_module_version": "1.2.0",
            "_view_count": null,
            "flex_flow": null,
            "width": null,
            "min_width": null,
            "border": null,
            "align_items": null,
            "bottom": null,
            "_model_module": "@jupyter-widgets/base",
            "top": null,
            "grid_column": null,
            "overflow_y": null,
            "overflow_x": null,
            "grid_auto_flow": null,
            "grid_area": null,
            "grid_template_columns": null,
            "flex": null,
            "_model_name": "LayoutModel",
            "justify_items": null,
            "grid_row": null,
            "max_height": null,
            "align_content": null,
            "visibility": null,
            "align_self": null,
            "height": null,
            "min_height": null,
            "padding": null,
            "grid_auto_rows": null,
            "grid_gap": null,
            "max_width": null,
            "order": null,
            "_view_module_version": "1.2.0",
            "grid_template_areas": null,
            "object_position": null,
            "object_fit": null,
            "grid_auto_columns": null,
            "margin": null,
            "display": null,
            "left": null
          }
        },
        "cb568d023ab64caba44989390a483462": {
          "model_module": "@jupyter-widgets/controls",
          "model_name": "HBoxModel",
          "state": {
            "_view_name": "HBoxView",
            "_dom_classes": [],
            "_model_name": "HBoxModel",
            "_view_module": "@jupyter-widgets/controls",
            "_model_module_version": "1.5.0",
            "_view_count": null,
            "_view_module_version": "1.5.0",
            "box_style": "",
            "layout": "IPY_MODEL_73bb8605076b407eb2c36a073daa575d",
            "_model_module": "@jupyter-widgets/controls",
            "children": [
              "IPY_MODEL_6c62e97fc86f4490a2b1d01148d778bb",
              "IPY_MODEL_819c574d867d4c06923d27956858da3b"
            ]
          }
        },
        "73bb8605076b407eb2c36a073daa575d": {
          "model_module": "@jupyter-widgets/base",
          "model_name": "LayoutModel",
          "state": {
            "_view_name": "LayoutView",
            "grid_template_rows": null,
            "right": null,
            "justify_content": null,
            "_view_module": "@jupyter-widgets/base",
            "overflow": null,
            "_model_module_version": "1.2.0",
            "_view_count": null,
            "flex_flow": null,
            "width": null,
            "min_width": null,
            "border": null,
            "align_items": null,
            "bottom": null,
            "_model_module": "@jupyter-widgets/base",
            "top": null,
            "grid_column": null,
            "overflow_y": null,
            "overflow_x": null,
            "grid_auto_flow": null,
            "grid_area": null,
            "grid_template_columns": null,
            "flex": null,
            "_model_name": "LayoutModel",
            "justify_items": null,
            "grid_row": null,
            "max_height": null,
            "align_content": null,
            "visibility": null,
            "align_self": null,
            "height": null,
            "min_height": null,
            "padding": null,
            "grid_auto_rows": null,
            "grid_gap": null,
            "max_width": null,
            "order": null,
            "_view_module_version": "1.2.0",
            "grid_template_areas": null,
            "object_position": null,
            "object_fit": null,
            "grid_auto_columns": null,
            "margin": null,
            "display": null,
            "left": null
          }
        },
        "6c62e97fc86f4490a2b1d01148d778bb": {
          "model_module": "@jupyter-widgets/controls",
          "model_name": "FloatProgressModel",
          "state": {
            "_view_name": "ProgressView",
            "style": "IPY_MODEL_9185ac225abe4595b9714647d5460093",
            "_dom_classes": [],
            "description": "",
            "_model_name": "FloatProgressModel",
            "bar_style": "info",
            "max": 1,
            "_view_module": "@jupyter-widgets/controls",
            "_model_module_version": "1.5.0",
            "value": 1,
            "_view_count": null,
            "_view_module_version": "1.5.0",
            "orientation": "horizontal",
            "min": 0,
            "description_tooltip": null,
            "_model_module": "@jupyter-widgets/controls",
            "layout": "IPY_MODEL_b562747bd8254de09ba729396cae3799"
          }
        },
        "819c574d867d4c06923d27956858da3b": {
          "model_module": "@jupyter-widgets/controls",
          "model_name": "HTMLModel",
          "state": {
            "_view_name": "HTMLView",
            "style": "IPY_MODEL_36499fda234a4d789d13441712dc708e",
            "_dom_classes": [],
            "description": "",
            "_model_name": "HTMLModel",
            "placeholder": "​",
            "_view_module": "@jupyter-widgets/controls",
            "_model_module_version": "1.5.0",
            "value": " 1778/0 [00:00&lt;00:00, 12477.07 examples/s]",
            "_view_count": null,
            "_view_module_version": "1.5.0",
            "description_tooltip": null,
            "_model_module": "@jupyter-widgets/controls",
            "layout": "IPY_MODEL_e74e7c1fc0f64c379d72c71743ec9df3"
          }
        },
        "9185ac225abe4595b9714647d5460093": {
          "model_module": "@jupyter-widgets/controls",
          "model_name": "ProgressStyleModel",
          "state": {
            "_view_name": "StyleView",
            "_model_name": "ProgressStyleModel",
            "description_width": "initial",
            "_view_module": "@jupyter-widgets/base",
            "_model_module_version": "1.5.0",
            "_view_count": null,
            "_view_module_version": "1.2.0",
            "bar_color": null,
            "_model_module": "@jupyter-widgets/controls"
          }
        },
        "b562747bd8254de09ba729396cae3799": {
          "model_module": "@jupyter-widgets/base",
          "model_name": "LayoutModel",
          "state": {
            "_view_name": "LayoutView",
            "grid_template_rows": null,
            "right": null,
            "justify_content": null,
            "_view_module": "@jupyter-widgets/base",
            "overflow": null,
            "_model_module_version": "1.2.0",
            "_view_count": null,
            "flex_flow": null,
            "width": null,
            "min_width": null,
            "border": null,
            "align_items": null,
            "bottom": null,
            "_model_module": "@jupyter-widgets/base",
            "top": null,
            "grid_column": null,
            "overflow_y": null,
            "overflow_x": null,
            "grid_auto_flow": null,
            "grid_area": null,
            "grid_template_columns": null,
            "flex": null,
            "_model_name": "LayoutModel",
            "justify_items": null,
            "grid_row": null,
            "max_height": null,
            "align_content": null,
            "visibility": null,
            "align_self": null,
            "height": null,
            "min_height": null,
            "padding": null,
            "grid_auto_rows": null,
            "grid_gap": null,
            "max_width": null,
            "order": null,
            "_view_module_version": "1.2.0",
            "grid_template_areas": null,
            "object_position": null,
            "object_fit": null,
            "grid_auto_columns": null,
            "margin": null,
            "display": null,
            "left": null
          }
        },
        "36499fda234a4d789d13441712dc708e": {
          "model_module": "@jupyter-widgets/controls",
          "model_name": "DescriptionStyleModel",
          "state": {
            "_view_name": "StyleView",
            "_model_name": "DescriptionStyleModel",
            "description_width": "",
            "_view_module": "@jupyter-widgets/base",
            "_model_module_version": "1.5.0",
            "_view_count": null,
            "_view_module_version": "1.2.0",
            "_model_module": "@jupyter-widgets/controls"
          }
        },
        "e74e7c1fc0f64c379d72c71743ec9df3": {
          "model_module": "@jupyter-widgets/base",
          "model_name": "LayoutModel",
          "state": {
            "_view_name": "LayoutView",
            "grid_template_rows": null,
            "right": null,
            "justify_content": null,
            "_view_module": "@jupyter-widgets/base",
            "overflow": null,
            "_model_module_version": "1.2.0",
            "_view_count": null,
            "flex_flow": null,
            "width": null,
            "min_width": null,
            "border": null,
            "align_items": null,
            "bottom": null,
            "_model_module": "@jupyter-widgets/base",
            "top": null,
            "grid_column": null,
            "overflow_y": null,
            "overflow_x": null,
            "grid_auto_flow": null,
            "grid_area": null,
            "grid_template_columns": null,
            "flex": null,
            "_model_name": "LayoutModel",
            "justify_items": null,
            "grid_row": null,
            "max_height": null,
            "align_content": null,
            "visibility": null,
            "align_self": null,
            "height": null,
            "min_height": null,
            "padding": null,
            "grid_auto_rows": null,
            "grid_gap": null,
            "max_width": null,
            "order": null,
            "_view_module_version": "1.2.0",
            "grid_template_areas": null,
            "object_position": null,
            "object_fit": null,
            "grid_auto_columns": null,
            "margin": null,
            "display": null,
            "left": null
          }
        },
        "f6b3ef16e2ec4eafbeb12464c90f9713": {
          "model_module": "@jupyter-widgets/controls",
          "model_name": "HBoxModel",
          "state": {
            "_view_name": "HBoxView",
            "_dom_classes": [],
            "_model_name": "HBoxModel",
            "_view_module": "@jupyter-widgets/controls",
            "_model_module_version": "1.5.0",
            "_view_count": null,
            "_view_module_version": "1.5.0",
            "box_style": "",
            "layout": "IPY_MODEL_244f397234c94391bef00679d8083e91",
            "_model_module": "@jupyter-widgets/controls",
            "children": [
              "IPY_MODEL_bd4c968c4e8640a281725e7e5481c184",
              "IPY_MODEL_cccc9a6e07184e2f9a76854430516a7c"
            ]
          }
        },
        "244f397234c94391bef00679d8083e91": {
          "model_module": "@jupyter-widgets/base",
          "model_name": "LayoutModel",
          "state": {
            "_view_name": "LayoutView",
            "grid_template_rows": null,
            "right": null,
            "justify_content": null,
            "_view_module": "@jupyter-widgets/base",
            "overflow": null,
            "_model_module_version": "1.2.0",
            "_view_count": null,
            "flex_flow": null,
            "width": null,
            "min_width": null,
            "border": null,
            "align_items": null,
            "bottom": null,
            "_model_module": "@jupyter-widgets/base",
            "top": null,
            "grid_column": null,
            "overflow_y": null,
            "overflow_x": null,
            "grid_auto_flow": null,
            "grid_area": null,
            "grid_template_columns": null,
            "flex": null,
            "_model_name": "LayoutModel",
            "justify_items": null,
            "grid_row": null,
            "max_height": null,
            "align_content": null,
            "visibility": null,
            "align_self": null,
            "height": null,
            "min_height": null,
            "padding": null,
            "grid_auto_rows": null,
            "grid_gap": null,
            "max_width": null,
            "order": null,
            "_view_module_version": "1.2.0",
            "grid_template_areas": null,
            "object_position": null,
            "object_fit": null,
            "grid_auto_columns": null,
            "margin": null,
            "display": null,
            "left": null
          }
        },
        "bd4c968c4e8640a281725e7e5481c184": {
          "model_module": "@jupyter-widgets/controls",
          "model_name": "FloatProgressModel",
          "state": {
            "_view_name": "ProgressView",
            "style": "IPY_MODEL_a32a1ebfade14316a7fcfaf32aa8905e",
            "_dom_classes": [],
            "description": "",
            "_model_name": "FloatProgressModel",
            "bar_style": "info",
            "max": 1,
            "_view_module": "@jupyter-widgets/controls",
            "_model_module_version": "1.5.0",
            "value": 1,
            "_view_count": null,
            "_view_module_version": "1.5.0",
            "orientation": "horizontal",
            "min": 0,
            "description_tooltip": null,
            "_model_module": "@jupyter-widgets/controls",
            "layout": "IPY_MODEL_e4ab6fc572aa47cf92f4651038413e1d"
          }
        },
        "cccc9a6e07184e2f9a76854430516a7c": {
          "model_module": "@jupyter-widgets/controls",
          "model_name": "HTMLModel",
          "state": {
            "_view_name": "HTMLView",
            "style": "IPY_MODEL_ffb31811751441c09d06a163b533067c",
            "_dom_classes": [],
            "description": "",
            "_model_name": "HTMLModel",
            "placeholder": "​",
            "_view_module": "@jupyter-widgets/controls",
            "_model_module_version": "1.5.0",
            "value": " 858/0 [00:00&lt;00:00, 10635.66 examples/s]",
            "_view_count": null,
            "_view_module_version": "1.5.0",
            "description_tooltip": null,
            "_model_module": "@jupyter-widgets/controls",
            "layout": "IPY_MODEL_f3cfc21dae024b0584edfe6c380c3307"
          }
        },
        "a32a1ebfade14316a7fcfaf32aa8905e": {
          "model_module": "@jupyter-widgets/controls",
          "model_name": "ProgressStyleModel",
          "state": {
            "_view_name": "StyleView",
            "_model_name": "ProgressStyleModel",
            "description_width": "initial",
            "_view_module": "@jupyter-widgets/base",
            "_model_module_version": "1.5.0",
            "_view_count": null,
            "_view_module_version": "1.2.0",
            "bar_color": null,
            "_model_module": "@jupyter-widgets/controls"
          }
        },
        "e4ab6fc572aa47cf92f4651038413e1d": {
          "model_module": "@jupyter-widgets/base",
          "model_name": "LayoutModel",
          "state": {
            "_view_name": "LayoutView",
            "grid_template_rows": null,
            "right": null,
            "justify_content": null,
            "_view_module": "@jupyter-widgets/base",
            "overflow": null,
            "_model_module_version": "1.2.0",
            "_view_count": null,
            "flex_flow": null,
            "width": null,
            "min_width": null,
            "border": null,
            "align_items": null,
            "bottom": null,
            "_model_module": "@jupyter-widgets/base",
            "top": null,
            "grid_column": null,
            "overflow_y": null,
            "overflow_x": null,
            "grid_auto_flow": null,
            "grid_area": null,
            "grid_template_columns": null,
            "flex": null,
            "_model_name": "LayoutModel",
            "justify_items": null,
            "grid_row": null,
            "max_height": null,
            "align_content": null,
            "visibility": null,
            "align_self": null,
            "height": null,
            "min_height": null,
            "padding": null,
            "grid_auto_rows": null,
            "grid_gap": null,
            "max_width": null,
            "order": null,
            "_view_module_version": "1.2.0",
            "grid_template_areas": null,
            "object_position": null,
            "object_fit": null,
            "grid_auto_columns": null,
            "margin": null,
            "display": null,
            "left": null
          }
        },
        "ffb31811751441c09d06a163b533067c": {
          "model_module": "@jupyter-widgets/controls",
          "model_name": "DescriptionStyleModel",
          "state": {
            "_view_name": "StyleView",
            "_model_name": "DescriptionStyleModel",
            "description_width": "",
            "_view_module": "@jupyter-widgets/base",
            "_model_module_version": "1.5.0",
            "_view_count": null,
            "_view_module_version": "1.2.0",
            "_model_module": "@jupyter-widgets/controls"
          }
        },
        "f3cfc21dae024b0584edfe6c380c3307": {
          "model_module": "@jupyter-widgets/base",
          "model_name": "LayoutModel",
          "state": {
            "_view_name": "LayoutView",
            "grid_template_rows": null,
            "right": null,
            "justify_content": null,
            "_view_module": "@jupyter-widgets/base",
            "overflow": null,
            "_model_module_version": "1.2.0",
            "_view_count": null,
            "flex_flow": null,
            "width": null,
            "min_width": null,
            "border": null,
            "align_items": null,
            "bottom": null,
            "_model_module": "@jupyter-widgets/base",
            "top": null,
            "grid_column": null,
            "overflow_y": null,
            "overflow_x": null,
            "grid_auto_flow": null,
            "grid_area": null,
            "grid_template_columns": null,
            "flex": null,
            "_model_name": "LayoutModel",
            "justify_items": null,
            "grid_row": null,
            "max_height": null,
            "align_content": null,
            "visibility": null,
            "align_self": null,
            "height": null,
            "min_height": null,
            "padding": null,
            "grid_auto_rows": null,
            "grid_gap": null,
            "max_width": null,
            "order": null,
            "_view_module_version": "1.2.0",
            "grid_template_areas": null,
            "object_position": null,
            "object_fit": null,
            "grid_auto_columns": null,
            "margin": null,
            "display": null,
            "left": null
          }
        },
        "1a3c94051b1e4511bcbc885296139ffc": {
          "model_module": "@jupyter-widgets/controls",
          "model_name": "HBoxModel",
          "state": {
            "_view_name": "HBoxView",
            "_dom_classes": [],
            "_model_name": "HBoxModel",
            "_view_module": "@jupyter-widgets/controls",
            "_model_module_version": "1.5.0",
            "_view_count": null,
            "_view_module_version": "1.5.0",
            "box_style": "",
            "layout": "IPY_MODEL_b3450dbc51444709a9a7b8ea6251a403",
            "_model_module": "@jupyter-widgets/controls",
            "children": [
              "IPY_MODEL_740564ddab5d44c2bf65bc285af92f6f",
              "IPY_MODEL_a5e14a39fbcd4e3e8a3dd88faeba8f0f"
            ]
          }
        },
        "b3450dbc51444709a9a7b8ea6251a403": {
          "model_module": "@jupyter-widgets/base",
          "model_name": "LayoutModel",
          "state": {
            "_view_name": "LayoutView",
            "grid_template_rows": null,
            "right": null,
            "justify_content": null,
            "_view_module": "@jupyter-widgets/base",
            "overflow": null,
            "_model_module_version": "1.2.0",
            "_view_count": null,
            "flex_flow": null,
            "width": null,
            "min_width": null,
            "border": null,
            "align_items": null,
            "bottom": null,
            "_model_module": "@jupyter-widgets/base",
            "top": null,
            "grid_column": null,
            "overflow_y": null,
            "overflow_x": null,
            "grid_auto_flow": null,
            "grid_area": null,
            "grid_template_columns": null,
            "flex": null,
            "_model_name": "LayoutModel",
            "justify_items": null,
            "grid_row": null,
            "max_height": null,
            "align_content": null,
            "visibility": null,
            "align_self": null,
            "height": null,
            "min_height": null,
            "padding": null,
            "grid_auto_rows": null,
            "grid_gap": null,
            "max_width": null,
            "order": null,
            "_view_module_version": "1.2.0",
            "grid_template_areas": null,
            "object_position": null,
            "object_fit": null,
            "grid_auto_columns": null,
            "margin": null,
            "display": null,
            "left": null
          }
        },
        "740564ddab5d44c2bf65bc285af92f6f": {
          "model_module": "@jupyter-widgets/controls",
          "model_name": "FloatProgressModel",
          "state": {
            "_view_name": "ProgressView",
            "style": "IPY_MODEL_e15b2e96d89a46028e94bdb671806347",
            "_dom_classes": [],
            "description": "",
            "_model_name": "FloatProgressModel",
            "bar_style": "info",
            "max": 1,
            "_view_module": "@jupyter-widgets/controls",
            "_model_module_version": "1.5.0",
            "value": 1,
            "_view_count": null,
            "_view_module_version": "1.5.0",
            "orientation": "horizontal",
            "min": 0,
            "description_tooltip": null,
            "_model_module": "@jupyter-widgets/controls",
            "layout": "IPY_MODEL_2234a4a813514ca59d0f16405d9dd60b"
          }
        },
        "a5e14a39fbcd4e3e8a3dd88faeba8f0f": {
          "model_module": "@jupyter-widgets/controls",
          "model_name": "HTMLModel",
          "state": {
            "_view_name": "HTMLView",
            "style": "IPY_MODEL_54f40b14ec0a4a70b52bbf33ee80b11c",
            "_dom_classes": [],
            "description": "",
            "_model_name": "HTMLModel",
            "placeholder": "​",
            "_view_module": "@jupyter-widgets/controls",
            "_model_module_version": "1.5.0",
            "value": " 1945/0 [00:00&lt;00:00, 12636.43 examples/s]",
            "_view_count": null,
            "_view_module_version": "1.5.0",
            "description_tooltip": null,
            "_model_module": "@jupyter-widgets/controls",
            "layout": "IPY_MODEL_3d1cea7a19944490b5a9a686dd026984"
          }
        },
        "e15b2e96d89a46028e94bdb671806347": {
          "model_module": "@jupyter-widgets/controls",
          "model_name": "ProgressStyleModel",
          "state": {
            "_view_name": "StyleView",
            "_model_name": "ProgressStyleModel",
            "description_width": "initial",
            "_view_module": "@jupyter-widgets/base",
            "_model_module_version": "1.5.0",
            "_view_count": null,
            "_view_module_version": "1.2.0",
            "bar_color": null,
            "_model_module": "@jupyter-widgets/controls"
          }
        },
        "2234a4a813514ca59d0f16405d9dd60b": {
          "model_module": "@jupyter-widgets/base",
          "model_name": "LayoutModel",
          "state": {
            "_view_name": "LayoutView",
            "grid_template_rows": null,
            "right": null,
            "justify_content": null,
            "_view_module": "@jupyter-widgets/base",
            "overflow": null,
            "_model_module_version": "1.2.0",
            "_view_count": null,
            "flex_flow": null,
            "width": null,
            "min_width": null,
            "border": null,
            "align_items": null,
            "bottom": null,
            "_model_module": "@jupyter-widgets/base",
            "top": null,
            "grid_column": null,
            "overflow_y": null,
            "overflow_x": null,
            "grid_auto_flow": null,
            "grid_area": null,
            "grid_template_columns": null,
            "flex": null,
            "_model_name": "LayoutModel",
            "justify_items": null,
            "grid_row": null,
            "max_height": null,
            "align_content": null,
            "visibility": null,
            "align_self": null,
            "height": null,
            "min_height": null,
            "padding": null,
            "grid_auto_rows": null,
            "grid_gap": null,
            "max_width": null,
            "order": null,
            "_view_module_version": "1.2.0",
            "grid_template_areas": null,
            "object_position": null,
            "object_fit": null,
            "grid_auto_columns": null,
            "margin": null,
            "display": null,
            "left": null
          }
        },
        "54f40b14ec0a4a70b52bbf33ee80b11c": {
          "model_module": "@jupyter-widgets/controls",
          "model_name": "DescriptionStyleModel",
          "state": {
            "_view_name": "StyleView",
            "_model_name": "DescriptionStyleModel",
            "description_width": "",
            "_view_module": "@jupyter-widgets/base",
            "_model_module_version": "1.5.0",
            "_view_count": null,
            "_view_module_version": "1.2.0",
            "_model_module": "@jupyter-widgets/controls"
          }
        },
        "3d1cea7a19944490b5a9a686dd026984": {
          "model_module": "@jupyter-widgets/base",
          "model_name": "LayoutModel",
          "state": {
            "_view_name": "LayoutView",
            "grid_template_rows": null,
            "right": null,
            "justify_content": null,
            "_view_module": "@jupyter-widgets/base",
            "overflow": null,
            "_model_module_version": "1.2.0",
            "_view_count": null,
            "flex_flow": null,
            "width": null,
            "min_width": null,
            "border": null,
            "align_items": null,
            "bottom": null,
            "_model_module": "@jupyter-widgets/base",
            "top": null,
            "grid_column": null,
            "overflow_y": null,
            "overflow_x": null,
            "grid_auto_flow": null,
            "grid_area": null,
            "grid_template_columns": null,
            "flex": null,
            "_model_name": "LayoutModel",
            "justify_items": null,
            "grid_row": null,
            "max_height": null,
            "align_content": null,
            "visibility": null,
            "align_self": null,
            "height": null,
            "min_height": null,
            "padding": null,
            "grid_auto_rows": null,
            "grid_gap": null,
            "max_width": null,
            "order": null,
            "_view_module_version": "1.2.0",
            "grid_template_areas": null,
            "object_position": null,
            "object_fit": null,
            "grid_auto_columns": null,
            "margin": null,
            "display": null,
            "left": null
          }
        },
        "20f737f3490f42c8b55538f8aed95384": {
          "model_module": "@jupyter-widgets/controls",
          "model_name": "HBoxModel",
          "state": {
            "_view_name": "HBoxView",
            "_dom_classes": [],
            "_model_name": "HBoxModel",
            "_view_module": "@jupyter-widgets/controls",
            "_model_module_version": "1.5.0",
            "_view_count": null,
            "_view_module_version": "1.5.0",
            "box_style": "",
            "layout": "IPY_MODEL_693f02a9ab3d474b8a23dc92743236db",
            "_model_module": "@jupyter-widgets/controls",
            "children": [
              "IPY_MODEL_4ffc900b060644b99bcb7150d9561542",
              "IPY_MODEL_a837e4120b8d418aba425ce6b94ec571"
            ]
          }
        },
        "693f02a9ab3d474b8a23dc92743236db": {
          "model_module": "@jupyter-widgets/base",
          "model_name": "LayoutModel",
          "state": {
            "_view_name": "LayoutView",
            "grid_template_rows": null,
            "right": null,
            "justify_content": null,
            "_view_module": "@jupyter-widgets/base",
            "overflow": null,
            "_model_module_version": "1.2.0",
            "_view_count": null,
            "flex_flow": null,
            "width": null,
            "min_width": null,
            "border": null,
            "align_items": null,
            "bottom": null,
            "_model_module": "@jupyter-widgets/base",
            "top": null,
            "grid_column": null,
            "overflow_y": null,
            "overflow_x": null,
            "grid_auto_flow": null,
            "grid_area": null,
            "grid_template_columns": null,
            "flex": null,
            "_model_name": "LayoutModel",
            "justify_items": null,
            "grid_row": null,
            "max_height": null,
            "align_content": null,
            "visibility": null,
            "align_self": null,
            "height": null,
            "min_height": null,
            "padding": null,
            "grid_auto_rows": null,
            "grid_gap": null,
            "max_width": null,
            "order": null,
            "_view_module_version": "1.2.0",
            "grid_template_areas": null,
            "object_position": null,
            "object_fit": null,
            "grid_auto_columns": null,
            "margin": null,
            "display": null,
            "left": null
          }
        },
        "4ffc900b060644b99bcb7150d9561542": {
          "model_module": "@jupyter-widgets/controls",
          "model_name": "FloatProgressModel",
          "state": {
            "_view_name": "ProgressView",
            "style": "IPY_MODEL_c1fd2098ed5a4f8fbdf12c345e6e825e",
            "_dom_classes": [],
            "description": "",
            "_model_name": "FloatProgressModel",
            "bar_style": "info",
            "max": 1,
            "_view_module": "@jupyter-widgets/controls",
            "_model_module_version": "1.5.0",
            "value": 1,
            "_view_count": null,
            "_view_module_version": "1.5.0",
            "orientation": "horizontal",
            "min": 0,
            "description_tooltip": null,
            "_model_module": "@jupyter-widgets/controls",
            "layout": "IPY_MODEL_264397b0db2b4f88b4f16a7e4e168c3e"
          }
        },
        "a837e4120b8d418aba425ce6b94ec571": {
          "model_module": "@jupyter-widgets/controls",
          "model_name": "HTMLModel",
          "state": {
            "_view_name": "HTMLView",
            "style": "IPY_MODEL_0eddd7d695e44fd6a81eb3048e4f203d",
            "_dom_classes": [],
            "description": "",
            "_model_name": "HTMLModel",
            "placeholder": "​",
            "_view_module": "@jupyter-widgets/controls",
            "_model_module_version": "1.5.0",
            "value": " 485/0 [00:00&lt;00:00, 8079.58 examples/s]",
            "_view_count": null,
            "_view_module_version": "1.5.0",
            "description_tooltip": null,
            "_model_module": "@jupyter-widgets/controls",
            "layout": "IPY_MODEL_f9b670bdeb7b44a3acebda9304d58077"
          }
        },
        "c1fd2098ed5a4f8fbdf12c345e6e825e": {
          "model_module": "@jupyter-widgets/controls",
          "model_name": "ProgressStyleModel",
          "state": {
            "_view_name": "StyleView",
            "_model_name": "ProgressStyleModel",
            "description_width": "initial",
            "_view_module": "@jupyter-widgets/base",
            "_model_module_version": "1.5.0",
            "_view_count": null,
            "_view_module_version": "1.2.0",
            "bar_color": null,
            "_model_module": "@jupyter-widgets/controls"
          }
        },
        "264397b0db2b4f88b4f16a7e4e168c3e": {
          "model_module": "@jupyter-widgets/base",
          "model_name": "LayoutModel",
          "state": {
            "_view_name": "LayoutView",
            "grid_template_rows": null,
            "right": null,
            "justify_content": null,
            "_view_module": "@jupyter-widgets/base",
            "overflow": null,
            "_model_module_version": "1.2.0",
            "_view_count": null,
            "flex_flow": null,
            "width": null,
            "min_width": null,
            "border": null,
            "align_items": null,
            "bottom": null,
            "_model_module": "@jupyter-widgets/base",
            "top": null,
            "grid_column": null,
            "overflow_y": null,
            "overflow_x": null,
            "grid_auto_flow": null,
            "grid_area": null,
            "grid_template_columns": null,
            "flex": null,
            "_model_name": "LayoutModel",
            "justify_items": null,
            "grid_row": null,
            "max_height": null,
            "align_content": null,
            "visibility": null,
            "align_self": null,
            "height": null,
            "min_height": null,
            "padding": null,
            "grid_auto_rows": null,
            "grid_gap": null,
            "max_width": null,
            "order": null,
            "_view_module_version": "1.2.0",
            "grid_template_areas": null,
            "object_position": null,
            "object_fit": null,
            "grid_auto_columns": null,
            "margin": null,
            "display": null,
            "left": null
          }
        },
        "0eddd7d695e44fd6a81eb3048e4f203d": {
          "model_module": "@jupyter-widgets/controls",
          "model_name": "DescriptionStyleModel",
          "state": {
            "_view_name": "StyleView",
            "_model_name": "DescriptionStyleModel",
            "description_width": "",
            "_view_module": "@jupyter-widgets/base",
            "_model_module_version": "1.5.0",
            "_view_count": null,
            "_view_module_version": "1.2.0",
            "_model_module": "@jupyter-widgets/controls"
          }
        },
        "f9b670bdeb7b44a3acebda9304d58077": {
          "model_module": "@jupyter-widgets/base",
          "model_name": "LayoutModel",
          "state": {
            "_view_name": "LayoutView",
            "grid_template_rows": null,
            "right": null,
            "justify_content": null,
            "_view_module": "@jupyter-widgets/base",
            "overflow": null,
            "_model_module_version": "1.2.0",
            "_view_count": null,
            "flex_flow": null,
            "width": null,
            "min_width": null,
            "border": null,
            "align_items": null,
            "bottom": null,
            "_model_module": "@jupyter-widgets/base",
            "top": null,
            "grid_column": null,
            "overflow_y": null,
            "overflow_x": null,
            "grid_auto_flow": null,
            "grid_area": null,
            "grid_template_columns": null,
            "flex": null,
            "_model_name": "LayoutModel",
            "justify_items": null,
            "grid_row": null,
            "max_height": null,
            "align_content": null,
            "visibility": null,
            "align_self": null,
            "height": null,
            "min_height": null,
            "padding": null,
            "grid_auto_rows": null,
            "grid_gap": null,
            "max_width": null,
            "order": null,
            "_view_module_version": "1.2.0",
            "grid_template_areas": null,
            "object_position": null,
            "object_fit": null,
            "grid_auto_columns": null,
            "margin": null,
            "display": null,
            "left": null
          }
        },
        "5485748c96c34174a3d25f802f328ab2": {
          "model_module": "@jupyter-widgets/controls",
          "model_name": "HBoxModel",
          "state": {
            "_view_name": "HBoxView",
            "_dom_classes": [],
            "_model_name": "HBoxModel",
            "_view_module": "@jupyter-widgets/controls",
            "_model_module_version": "1.5.0",
            "_view_count": null,
            "_view_module_version": "1.5.0",
            "box_style": "",
            "layout": "IPY_MODEL_dd33eb24b1ba424689e3c25b7becd0b3",
            "_model_module": "@jupyter-widgets/controls",
            "children": [
              "IPY_MODEL_52cc3444f18a4966830d5c35df14130c",
              "IPY_MODEL_ba0d8f866f7a48c8ac94b2eb6946e813"
            ]
          }
        },
        "dd33eb24b1ba424689e3c25b7becd0b3": {
          "model_module": "@jupyter-widgets/base",
          "model_name": "LayoutModel",
          "state": {
            "_view_name": "LayoutView",
            "grid_template_rows": null,
            "right": null,
            "justify_content": null,
            "_view_module": "@jupyter-widgets/base",
            "overflow": null,
            "_model_module_version": "1.2.0",
            "_view_count": null,
            "flex_flow": null,
            "width": null,
            "min_width": null,
            "border": null,
            "align_items": null,
            "bottom": null,
            "_model_module": "@jupyter-widgets/base",
            "top": null,
            "grid_column": null,
            "overflow_y": null,
            "overflow_x": null,
            "grid_auto_flow": null,
            "grid_area": null,
            "grid_template_columns": null,
            "flex": null,
            "_model_name": "LayoutModel",
            "justify_items": null,
            "grid_row": null,
            "max_height": null,
            "align_content": null,
            "visibility": null,
            "align_self": null,
            "height": null,
            "min_height": null,
            "padding": null,
            "grid_auto_rows": null,
            "grid_gap": null,
            "max_width": null,
            "order": null,
            "_view_module_version": "1.2.0",
            "grid_template_areas": null,
            "object_position": null,
            "object_fit": null,
            "grid_auto_columns": null,
            "margin": null,
            "display": null,
            "left": null
          }
        },
        "52cc3444f18a4966830d5c35df14130c": {
          "model_module": "@jupyter-widgets/controls",
          "model_name": "FloatProgressModel",
          "state": {
            "_view_name": "ProgressView",
            "style": "IPY_MODEL_b33636a7c48e48a8a6991f043b99fb31",
            "_dom_classes": [],
            "description": "100%",
            "_model_name": "FloatProgressModel",
            "bar_style": "success",
            "max": 1778,
            "_view_module": "@jupyter-widgets/controls",
            "_model_module_version": "1.5.0",
            "value": 1778,
            "_view_count": null,
            "_view_module_version": "1.5.0",
            "orientation": "horizontal",
            "min": 0,
            "description_tooltip": null,
            "_model_module": "@jupyter-widgets/controls",
            "layout": "IPY_MODEL_9779eaa5be9a49b59444eecf796b5154"
          }
        },
        "ba0d8f866f7a48c8ac94b2eb6946e813": {
          "model_module": "@jupyter-widgets/controls",
          "model_name": "HTMLModel",
          "state": {
            "_view_name": "HTMLView",
            "style": "IPY_MODEL_b82bc3b1580f4186a8beaff21b2b03bb",
            "_dom_classes": [],
            "description": "",
            "_model_name": "HTMLModel",
            "placeholder": "​",
            "_view_module": "@jupyter-widgets/controls",
            "_model_module_version": "1.5.0",
            "value": " 1778/1778 [00:26&lt;00:00, 66.17ex/s]",
            "_view_count": null,
            "_view_module_version": "1.5.0",
            "description_tooltip": null,
            "_model_module": "@jupyter-widgets/controls",
            "layout": "IPY_MODEL_cf9a7f25385d4405a57c1aadcef1ef52"
          }
        },
        "b33636a7c48e48a8a6991f043b99fb31": {
          "model_module": "@jupyter-widgets/controls",
          "model_name": "ProgressStyleModel",
          "state": {
            "_view_name": "StyleView",
            "_model_name": "ProgressStyleModel",
            "description_width": "initial",
            "_view_module": "@jupyter-widgets/base",
            "_model_module_version": "1.5.0",
            "_view_count": null,
            "_view_module_version": "1.2.0",
            "bar_color": null,
            "_model_module": "@jupyter-widgets/controls"
          }
        },
        "9779eaa5be9a49b59444eecf796b5154": {
          "model_module": "@jupyter-widgets/base",
          "model_name": "LayoutModel",
          "state": {
            "_view_name": "LayoutView",
            "grid_template_rows": null,
            "right": null,
            "justify_content": null,
            "_view_module": "@jupyter-widgets/base",
            "overflow": null,
            "_model_module_version": "1.2.0",
            "_view_count": null,
            "flex_flow": null,
            "width": null,
            "min_width": null,
            "border": null,
            "align_items": null,
            "bottom": null,
            "_model_module": "@jupyter-widgets/base",
            "top": null,
            "grid_column": null,
            "overflow_y": null,
            "overflow_x": null,
            "grid_auto_flow": null,
            "grid_area": null,
            "grid_template_columns": null,
            "flex": null,
            "_model_name": "LayoutModel",
            "justify_items": null,
            "grid_row": null,
            "max_height": null,
            "align_content": null,
            "visibility": null,
            "align_self": null,
            "height": null,
            "min_height": null,
            "padding": null,
            "grid_auto_rows": null,
            "grid_gap": null,
            "max_width": null,
            "order": null,
            "_view_module_version": "1.2.0",
            "grid_template_areas": null,
            "object_position": null,
            "object_fit": null,
            "grid_auto_columns": null,
            "margin": null,
            "display": null,
            "left": null
          }
        },
        "b82bc3b1580f4186a8beaff21b2b03bb": {
          "model_module": "@jupyter-widgets/controls",
          "model_name": "DescriptionStyleModel",
          "state": {
            "_view_name": "StyleView",
            "_model_name": "DescriptionStyleModel",
            "description_width": "",
            "_view_module": "@jupyter-widgets/base",
            "_model_module_version": "1.5.0",
            "_view_count": null,
            "_view_module_version": "1.2.0",
            "_model_module": "@jupyter-widgets/controls"
          }
        },
        "cf9a7f25385d4405a57c1aadcef1ef52": {
          "model_module": "@jupyter-widgets/base",
          "model_name": "LayoutModel",
          "state": {
            "_view_name": "LayoutView",
            "grid_template_rows": null,
            "right": null,
            "justify_content": null,
            "_view_module": "@jupyter-widgets/base",
            "overflow": null,
            "_model_module_version": "1.2.0",
            "_view_count": null,
            "flex_flow": null,
            "width": null,
            "min_width": null,
            "border": null,
            "align_items": null,
            "bottom": null,
            "_model_module": "@jupyter-widgets/base",
            "top": null,
            "grid_column": null,
            "overflow_y": null,
            "overflow_x": null,
            "grid_auto_flow": null,
            "grid_area": null,
            "grid_template_columns": null,
            "flex": null,
            "_model_name": "LayoutModel",
            "justify_items": null,
            "grid_row": null,
            "max_height": null,
            "align_content": null,
            "visibility": null,
            "align_self": null,
            "height": null,
            "min_height": null,
            "padding": null,
            "grid_auto_rows": null,
            "grid_gap": null,
            "max_width": null,
            "order": null,
            "_view_module_version": "1.2.0",
            "grid_template_areas": null,
            "object_position": null,
            "object_fit": null,
            "grid_auto_columns": null,
            "margin": null,
            "display": null,
            "left": null
          }
        },
        "a4814bfb00964e72a362e0ae72e5f210": {
          "model_module": "@jupyter-widgets/controls",
          "model_name": "HBoxModel",
          "state": {
            "_view_name": "HBoxView",
            "_dom_classes": [],
            "_model_name": "HBoxModel",
            "_view_module": "@jupyter-widgets/controls",
            "_model_module_version": "1.5.0",
            "_view_count": null,
            "_view_module_version": "1.5.0",
            "box_style": "",
            "layout": "IPY_MODEL_719b6747ea43498ca5399d47c1a7a6db",
            "_model_module": "@jupyter-widgets/controls",
            "children": [
              "IPY_MODEL_db8b200d9b1d470fa6ae59b1916fa1fc",
              "IPY_MODEL_97e4475c85f44255badf00383bddba46"
            ]
          }
        },
        "719b6747ea43498ca5399d47c1a7a6db": {
          "model_module": "@jupyter-widgets/base",
          "model_name": "LayoutModel",
          "state": {
            "_view_name": "LayoutView",
            "grid_template_rows": null,
            "right": null,
            "justify_content": null,
            "_view_module": "@jupyter-widgets/base",
            "overflow": null,
            "_model_module_version": "1.2.0",
            "_view_count": null,
            "flex_flow": null,
            "width": null,
            "min_width": null,
            "border": null,
            "align_items": null,
            "bottom": null,
            "_model_module": "@jupyter-widgets/base",
            "top": null,
            "grid_column": null,
            "overflow_y": null,
            "overflow_x": null,
            "grid_auto_flow": null,
            "grid_area": null,
            "grid_template_columns": null,
            "flex": null,
            "_model_name": "LayoutModel",
            "justify_items": null,
            "grid_row": null,
            "max_height": null,
            "align_content": null,
            "visibility": null,
            "align_self": null,
            "height": null,
            "min_height": null,
            "padding": null,
            "grid_auto_rows": null,
            "grid_gap": null,
            "max_width": null,
            "order": null,
            "_view_module_version": "1.2.0",
            "grid_template_areas": null,
            "object_position": null,
            "object_fit": null,
            "grid_auto_columns": null,
            "margin": null,
            "display": null,
            "left": null
          }
        },
        "db8b200d9b1d470fa6ae59b1916fa1fc": {
          "model_module": "@jupyter-widgets/controls",
          "model_name": "FloatProgressModel",
          "state": {
            "_view_name": "ProgressView",
            "style": "IPY_MODEL_252ed3e15eb742c1b11deb44928dc4b8",
            "_dom_classes": [],
            "description": "100%",
            "_model_name": "FloatProgressModel",
            "bar_style": "success",
            "max": 223,
            "_view_module": "@jupyter-widgets/controls",
            "_model_module_version": "1.5.0",
            "value": 223,
            "_view_count": null,
            "_view_module_version": "1.5.0",
            "orientation": "horizontal",
            "min": 0,
            "description_tooltip": null,
            "_model_module": "@jupyter-widgets/controls",
            "layout": "IPY_MODEL_c8ff2aca407940049ae63c44db844547"
          }
        },
        "97e4475c85f44255badf00383bddba46": {
          "model_module": "@jupyter-widgets/controls",
          "model_name": "HTMLModel",
          "state": {
            "_view_name": "HTMLView",
            "style": "IPY_MODEL_e3ba9f10b8f749918d8724f3e0b9f1b0",
            "_dom_classes": [],
            "description": "",
            "_model_name": "HTMLModel",
            "placeholder": "​",
            "_view_module": "@jupyter-widgets/controls",
            "_model_module_version": "1.5.0",
            "value": " 223/223 [02:13&lt;00:00,  1.67ba/s]",
            "_view_count": null,
            "_view_module_version": "1.5.0",
            "description_tooltip": null,
            "_model_module": "@jupyter-widgets/controls",
            "layout": "IPY_MODEL_47df4e79bb9a42ce84cd7b5bfede8c89"
          }
        },
        "252ed3e15eb742c1b11deb44928dc4b8": {
          "model_module": "@jupyter-widgets/controls",
          "model_name": "ProgressStyleModel",
          "state": {
            "_view_name": "StyleView",
            "_model_name": "ProgressStyleModel",
            "description_width": "initial",
            "_view_module": "@jupyter-widgets/base",
            "_model_module_version": "1.5.0",
            "_view_count": null,
            "_view_module_version": "1.2.0",
            "bar_color": null,
            "_model_module": "@jupyter-widgets/controls"
          }
        },
        "c8ff2aca407940049ae63c44db844547": {
          "model_module": "@jupyter-widgets/base",
          "model_name": "LayoutModel",
          "state": {
            "_view_name": "LayoutView",
            "grid_template_rows": null,
            "right": null,
            "justify_content": null,
            "_view_module": "@jupyter-widgets/base",
            "overflow": null,
            "_model_module_version": "1.2.0",
            "_view_count": null,
            "flex_flow": null,
            "width": null,
            "min_width": null,
            "border": null,
            "align_items": null,
            "bottom": null,
            "_model_module": "@jupyter-widgets/base",
            "top": null,
            "grid_column": null,
            "overflow_y": null,
            "overflow_x": null,
            "grid_auto_flow": null,
            "grid_area": null,
            "grid_template_columns": null,
            "flex": null,
            "_model_name": "LayoutModel",
            "justify_items": null,
            "grid_row": null,
            "max_height": null,
            "align_content": null,
            "visibility": null,
            "align_self": null,
            "height": null,
            "min_height": null,
            "padding": null,
            "grid_auto_rows": null,
            "grid_gap": null,
            "max_width": null,
            "order": null,
            "_view_module_version": "1.2.0",
            "grid_template_areas": null,
            "object_position": null,
            "object_fit": null,
            "grid_auto_columns": null,
            "margin": null,
            "display": null,
            "left": null
          }
        },
        "e3ba9f10b8f749918d8724f3e0b9f1b0": {
          "model_module": "@jupyter-widgets/controls",
          "model_name": "DescriptionStyleModel",
          "state": {
            "_view_name": "StyleView",
            "_model_name": "DescriptionStyleModel",
            "description_width": "",
            "_view_module": "@jupyter-widgets/base",
            "_model_module_version": "1.5.0",
            "_view_count": null,
            "_view_module_version": "1.2.0",
            "_model_module": "@jupyter-widgets/controls"
          }
        },
        "47df4e79bb9a42ce84cd7b5bfede8c89": {
          "model_module": "@jupyter-widgets/base",
          "model_name": "LayoutModel",
          "state": {
            "_view_name": "LayoutView",
            "grid_template_rows": null,
            "right": null,
            "justify_content": null,
            "_view_module": "@jupyter-widgets/base",
            "overflow": null,
            "_model_module_version": "1.2.0",
            "_view_count": null,
            "flex_flow": null,
            "width": null,
            "min_width": null,
            "border": null,
            "align_items": null,
            "bottom": null,
            "_model_module": "@jupyter-widgets/base",
            "top": null,
            "grid_column": null,
            "overflow_y": null,
            "overflow_x": null,
            "grid_auto_flow": null,
            "grid_area": null,
            "grid_template_columns": null,
            "flex": null,
            "_model_name": "LayoutModel",
            "justify_items": null,
            "grid_row": null,
            "max_height": null,
            "align_content": null,
            "visibility": null,
            "align_self": null,
            "height": null,
            "min_height": null,
            "padding": null,
            "grid_auto_rows": null,
            "grid_gap": null,
            "max_width": null,
            "order": null,
            "_view_module_version": "1.2.0",
            "grid_template_areas": null,
            "object_position": null,
            "object_fit": null,
            "grid_auto_columns": null,
            "margin": null,
            "display": null,
            "left": null
          }
        }
      }
    },
    "accelerator": "GPU"
  },
  "cells": [
    {
      "cell_type": "markdown",
      "metadata": {
        "id": "LBSYoWbi-45k"
      },
      "source": [
        "# **Fine-tuning XLSR-Wav2Vec2 for Multi-Lingual ASR with 🤗 Transformers**"
      ]
    },
    {
      "cell_type": "markdown",
      "metadata": {
        "id": "V7YOT2mnUiea"
      },
      "source": [
        "**NOTE:** This notebooks comes from the official [Fine-Tune XLSR-Wav2Vec2 with 🤗 Transformes](https://colab.research.google.com/github/patrickvonplaten/notebooks/blob/master/Fine_Tune_XLSR_Wav2Vec2_on_Turkish_ASR_with_🤗_Transformers.ipynb) google colab! Changes I made are minor and are only related to Romanian language.\n",
        "\n",
        "\n",
        "Wav2Vec2 is a pretrained model for Automatic Speech Recognition (ASR) and was released in [September 2020](https://ai.facebook.com/blog/wav2vec-20-learning-the-structure-of-speech-from-raw-audio/) by Alexei Baevski, Michael Auli, and Alex Conneau.  Soon after the superior performance of Wav2Vec2 was demonstrated on the English ASR dataset LibriSpeech, *Facebook AI* presented XLSR-Wav2Vec2 (click [here](https://arxiv.org/abs/2006.13979)). XLSR stands for *cross-lingual  speech representations* and refers to XLSR-Wav2Vec2`s ability to learn speech representations that are useful across multiple languages.\n",
        "\n",
        "Similar to Wav2Vec2, XLSR-Wav2Vec2 learns powerful speech representations from hundreds of thousands of hours of speech in more than 50 languages of unlabeled speech. Similar, to [BERT's masked language modeling](http://jalammar.github.io/illustrated-bert/), the model learns contextualized speech representations by randomly masking feature vectors before passing them to a transformer network.\n",
        "\n",
        "![wav2vec2_structure](https://raw.githubusercontent.com/patrickvonplaten/scientific_images/master/xlsr_wav2vec2.png)\n",
        "\n",
        "The authors show for the first time that massively pretraining an ASR model on cross-lingual unlabeled speech data, followed by language-specific fine-tuning on very little labeled data achieves state-of-the-art results. See Table 1-5 of the official [paper](https://arxiv.org/pdf/2006.13979.pdf)."
      ]
    },
    {
      "cell_type": "markdown",
      "metadata": {
        "id": "nT_QrfWtsxIz"
      },
      "source": [
        "In this notebook, we will give an in-detail explanation of how XLSR-Wav2Vec2's pretrained checkpoint can be fine-tuned on a low-resource ASR dataset of any language. Note that in this notebook, we will fine-tune XLSR-Wav2Vec2 without making use of a language model. It is much simpler and more efficient to use XLSR-Wav2Vec2 without a language model, but better results can be achieved by including a language model. \n",
        "\n",
        "For demonstration purposes, we fine-tune the [wav2vec2-large-xlsr-53](https://huggingface.co/facebook/wav2vec2-large-xlsr-53) on the low resource Turkish ASR dataset of [Common Voice](https://huggingface.co/datasets/common_voice) that contains just ~6h of validated training data."
      ]
    },
    {
      "cell_type": "markdown",
      "metadata": {
        "id": "Gx9OdDYrCtQ1"
      },
      "source": [
        "XLSR-Wav2Vec2 is fine-tuned using Connectionist Temporal Classification (CTC), which is an algorithm that is used to train neural networks for sequence-to-sequence problems and mainly in Automatic Speech Recognition and handwriting recognition. \n",
        "\n",
        "I highly recommend reading the blog post [Sequence Modeling with CTC (2017)](https://distill.pub/2017/ctc/) very well-written blog post by Awni Hannun."
      ]
    },
    {
      "cell_type": "markdown",
      "metadata": {
        "id": "e335hPmdtASZ"
      },
      "source": [
        "Before we start, let's install both `datasets` and `transformers` from master. Also, we need the `torchaudio` and `librosa` package to load audio files and the `jiwer` to evaluate our fine-tuned model using the [word error rate (WER)](https://huggingface.co/metrics/wer) metric ${}^1$."
      ]
    },
    {
      "cell_type": "code",
      "metadata": {
        "id": "c8eh87Hoee5d"
      },
      "source": [
        "%%capture\n",
        "!pip install datasets==1.4.1\n",
        "!pip install transformers==4.4.0\n",
        "!pip install torchaudio\n",
        "!pip install librosa\n",
        "!pip install jiwer"
      ],
      "execution_count": 1,
      "outputs": []
    },
    {
      "cell_type": "markdown",
      "metadata": {
        "id": "Mn9swf6EQ9Vd"
      },
      "source": [
        "\n",
        "\n",
        "\n",
        "---\n",
        "\n",
        "${}^1$ In the [paper](https://arxiv.org/pdf/2006.13979.pdf), the model was evaluated using the phoneme error rate (PER), but by far the most common metric in ASR is the word error rate (WER). To keep this notebook as general as possible we decided to evaluate the model using WER."
      ]
    },
    {
      "cell_type": "markdown",
      "metadata": {
        "id": "0mW-C1Nt-j7k"
      },
      "source": [
        "## Prepare Data, Tokenizer, Feature Extractor"
      ]
    },
    {
      "cell_type": "markdown",
      "metadata": {
        "id": "BeBosnY9BH3e"
      },
      "source": [
        "ASR models transcribe speech to text, which means that we both need a feature extractor that processes the speech signal to the model's input format, *e.g.* a feature vector, and a tokenizer that processes the model's output format to text. \n",
        "\n",
        "In 🤗 Transformers, the XLSR-Wav2Vec2 model is thus accompanied by both a tokenizer, called [Wav2Vec2CTCTokenizer](https://huggingface.co/transformers/master/model_doc/wav2vec2.html#wav2vec2ctctokenizer), and a feature extractor, called [Wav2Vec2FeatureExtractor](https://huggingface.co/transformers/master/model_doc/wav2vec2.html#wav2vec2featureextractor).\n",
        "\n",
        "Let's start by creating the tokenizer responsible for decoding the model's predictions."
      ]
    },
    {
      "cell_type": "markdown",
      "metadata": {
        "id": "sEXEWEJGQPqD"
      },
      "source": [
        "### Create Wav2Vec2CTCTokenizer"
      ]
    },
    {
      "cell_type": "markdown",
      "metadata": {
        "id": "tWmMikuNEKl_"
      },
      "source": [
        "The [pretrained Wav2Vec2 checkpoint]( ) maps the speech signal to a sequence of context representations as illustrated in the figure above. A fine-tuned XLSR-Wav2Vec2 checkpoint needs to map this sequence of context representations to its corresponding transcription so that a linear layer has to be added on top of the transformer block (shown in yellow). This linear layer is used to classifies each context representation to a token class analogous how, *e.g.*, after pretraining a linear layer is added on top of BERT's embeddings for further classification - *cf.* with *\"BERT\"* section of this [blog post](https://huggingface.co/blog/warm-starting-encoder-decoder).\n",
        "\n",
        "The output size of this layer corresponds to the number of tokens in the vocabulary, which does **not** depend on XLSR-Wav2Vec2's pretraining task, but only on the labeled dataset used for fine-tuning. So in the first step, we will take a look at Common Voice and define a vocabulary based on the dataset's transcriptions."
      ]
    },
    {
      "cell_type": "markdown",
      "metadata": {
        "id": "idBczw8mWzgt"
      },
      "source": [
        "First, let's go to [Common Voice](https://commonvoice.mozilla.org/en/datasets) and pick a language to fine-tune XLSR-Wav2Vec2 on. For this notebook, we will use Turkish. \n",
        "\n",
        "For each language-specific dataset, you can find a language code corresponding to your chosen language. On [Common Voice](https://commonvoice.mozilla.org/en/datasets), look for the field \"Version\". The language code then corresponds to the prefix before the underscore. For Turkish, *e.g.* the language code is `\"tr\"`.\n",
        "\n",
        "Great, now we can use 🤗 Datasets' simple API to download the data. The dataset name will be `\"common_voice\"`, the config name corresponds to the language code - `\"tr\"` in our case."
      ]
    },
    {
      "cell_type": "markdown",
      "metadata": {
        "id": "bee4g9rpLxll"
      },
      "source": [
        "Common Voice has many different splits including `invalidated`, which refers to data that was not rated as \"clean enough\" to be considered useful. In this notebook, we will only make use of the splits `\"train\"`, `\"validation\"` and `\"test\"`. \n",
        "\n",
        "Because the Turkish dataset is so small, we will merge both the validation and training data into a training dataset and simply use the test data for validation."
      ]
    },
    {
      "cell_type": "code",
      "metadata": {
        "id": "2MMXcWFFgCXU",
        "colab": {
          "base_uri": "https://localhost:8080/",
          "height": 303,
          "referenced_widgets": [
            "143deea43a3e49f381787cca43d3a6c6",
            "dff0feb70581490594ed0cd85b4a6244",
            "7628a038d41d4f6291d74a13d58d06d2",
            "77d8a6578e6848a4a89ebaa01ad0ed68",
            "c4a6f76f341c48ce9d34a4617d6aedc9",
            "03aede954d5c468aaf0aaae433b2c9cc",
            "fee4978a9562418aad5b03d0fc3dda43",
            "22e5cd59879644158966cd35facd9f27",
            "1d3dd49f0b894d26b1f9e4c58316e48c",
            "c844080fb46d43ba9ee4cfde12b230f2",
            "fea1e7cc18934b29a4f14ca13aee4029",
            "ab5a6836493e40e98ae749054e4da7ff",
            "e2efa20cc7e6409fb59242670852dffd",
            "9725cc7b7a64426ab8a51d4af5899ec0",
            "241a2e9ab07c4158a89a668a82304672",
            "788b8249a61144adb5ce059175bb599c",
            "015ae41c21354e2081e526a82d21effa",
            "0776a16abe9a46b198382cd2c62362b8",
            "9d9ec5d3a50f424887e354b674cdbbf4",
            "932b0ffb87f6499b91828eab674c7071",
            "33e8b10eed1a45398ef18f127f1d9398",
            "017bbe82e3cc4608a4f5feede046fd1a",
            "169c16de3ec14076845e8e3c931556c8",
            "c3c939f281e94c21a5f66244201c495e",
            "b187920c8a45421b8f163a2df91cf1a4",
            "f2b4a2b131004e1aa9fc08dc66e1a8ca",
            "c30c0c2fb1ca4316b640fb41992ce611",
            "08e1ef45dcd84484a2a3b6660ed58e9e",
            "5bf801ae97b843ddbadfcee1006b55a9",
            "5ed4807256f448b6aa00c2707a2aef8b",
            "fa6b9bdec8384b7a9b4f2e1129032e60",
            "8cacc2e9ff2c42aab05351cfa87afeaa",
            "d96d2d70e07741d7b40c48423a4ecf1c",
            "7a46eded339b4643bfd720f499627c56",
            "35e833b194e94c4aad0027510f5b135c",
            "ff68e0adecec469892ec03b621721eaa",
            "b5d91e4f77a14606802945b99e2ef8a2",
            "66f2dc6b3c784f129ac38f8b85549502",
            "09cb32980c3945a08e1a13186db39b0a",
            "fdcdbc5d117c4960ac7b53d52c8336cb",
            "7e62edf610544fdebad890c506e72801",
            "91fd516857754f53bd8ccb1ef6ff31d6",
            "8d605dac87d24053a5154d1774f8c25f",
            "bfe1ed0a7e3c4329957491bbd9ef3bc7",
            "bc315137412c42858a505f89e192dfc8",
            "126d8567115e4b63815dafc4c7706712",
            "1cbc8b7552124aff99d6fe93f69e4aa9",
            "74d923e2e2e94c3888585401d59d2620",
            "85632c1755fd4646af4b607a93622c79",
            "7ce93c3db28745bfab73eaf543345d37",
            "e52b6a19539c4581ba913f6a1c62bef6",
            "076e3b8d448a460d9356f9c8107bdb1b",
            "ed60e64e5e914407ae9ac9529f90125d",
            "04ef4fc331f845ae93392c0b4b29eb37",
            "cde0cb914d1245feb954960400acc3c1",
            "fec9ccf939dd4844b5b91c036b089f23",
            "f6abde78ef8349be8d084c3444add857",
            "75615fd9e5ec4521a3e5429ba0daba75",
            "2c6f5e1fad784114ac75b78641fa7c83",
            "4545f22a021746dfb66c3a487865c9e5",
            "80ce777e00f44185826cd7f98a6f9db5",
            "74bec13af3534eccad23bb10a0990793",
            "fcc3a529b1a648bcb262c82ae3a117e1",
            "6c438783d3a94f1288984d54a462748f"
          ]
        },
        "outputId": "bd3454f0-a147-4781-ffb6-4bf803966c9a"
      },
      "source": [
        "from datasets import load_dataset, load_metric\n",
        "\n",
        "common_voice_train = load_dataset(\"common_voice\", \"ro\", split=\"train+validation\")\n",
        "common_voice_test = load_dataset(\"common_voice\", \"ro\", split=\"test\")"
      ],
      "execution_count": 2,
      "outputs": [
        {
          "output_type": "display_data",
          "data": {
            "application/vnd.jupyter.widget-view+json": {
              "model_id": "143deea43a3e49f381787cca43d3a6c6",
              "version_minor": 0,
              "version_major": 2
            },
            "text/plain": [
              "HBox(children=(FloatProgress(value=0.0, description='Downloading', max=4323.0, style=ProgressStyle(description…"
            ]
          },
          "metadata": {
            "tags": []
          }
        },
        {
          "output_type": "stream",
          "text": [
            "Couldn't find file locally at common_voice/common_voice.py, or remotely at https://raw.githubusercontent.com/huggingface/datasets/1.4.1/datasets/common_voice/common_voice.py.\n",
            "The file was picked from the master branch on github instead at https://raw.githubusercontent.com/huggingface/datasets/master/datasets/common_voice/common_voice.py.\n"
          ],
          "name": "stderr"
        },
        {
          "output_type": "stream",
          "text": [
            "\n"
          ],
          "name": "stdout"
        },
        {
          "output_type": "display_data",
          "data": {
            "application/vnd.jupyter.widget-view+json": {
              "model_id": "1d3dd49f0b894d26b1f9e4c58316e48c",
              "version_minor": 0,
              "version_major": 2
            },
            "text/plain": [
              "HBox(children=(FloatProgress(value=0.0, description='Downloading', max=9954.0, style=ProgressStyle(description…"
            ]
          },
          "metadata": {
            "tags": []
          }
        },
        {
          "output_type": "stream",
          "text": [
            "\n",
            "Downloading and preparing dataset common_voice/ro (download: 249.84 MiB, generated: 3.45 MiB, post-processed: Unknown size, total: 253.29 MiB) to /root/.cache/huggingface/datasets/common_voice/ro/6.1.0/0041e06ab061b91d0a23234a2221e87970a19cf3a81b20901474cffffeb7869f...\n"
          ],
          "name": "stdout"
        },
        {
          "output_type": "display_data",
          "data": {
            "application/vnd.jupyter.widget-view+json": {
              "model_id": "015ae41c21354e2081e526a82d21effa",
              "version_minor": 0,
              "version_major": 2
            },
            "text/plain": [
              "HBox(children=(FloatProgress(value=0.0, description='Downloading', max=261978702.0, style=ProgressStyle(descri…"
            ]
          },
          "metadata": {
            "tags": []
          }
        },
        {
          "output_type": "stream",
          "text": [
            "\n"
          ],
          "name": "stdout"
        },
        {
          "output_type": "display_data",
          "data": {
            "application/vnd.jupyter.widget-view+json": {
              "model_id": "b187920c8a45421b8f163a2df91cf1a4",
              "version_minor": 0,
              "version_major": 2
            },
            "text/plain": [
              "HBox(children=(FloatProgress(value=1.0, bar_style='info', max=1.0), HTML(value='')))"
            ]
          },
          "metadata": {
            "tags": []
          }
        },
        {
          "output_type": "stream",
          "text": [
            "\r"
          ],
          "name": "stdout"
        },
        {
          "output_type": "display_data",
          "data": {
            "application/vnd.jupyter.widget-view+json": {
              "model_id": "d96d2d70e07741d7b40c48423a4ecf1c",
              "version_minor": 0,
              "version_major": 2
            },
            "text/plain": [
              "HBox(children=(FloatProgress(value=1.0, bar_style='info', max=1.0), HTML(value='')))"
            ]
          },
          "metadata": {
            "tags": []
          }
        },
        {
          "output_type": "stream",
          "text": [
            "\r"
          ],
          "name": "stdout"
        },
        {
          "output_type": "display_data",
          "data": {
            "application/vnd.jupyter.widget-view+json": {
              "model_id": "7e62edf610544fdebad890c506e72801",
              "version_minor": 0,
              "version_major": 2
            },
            "text/plain": [
              "HBox(children=(FloatProgress(value=1.0, bar_style='info', max=1.0), HTML(value='')))"
            ]
          },
          "metadata": {
            "tags": []
          }
        },
        {
          "output_type": "stream",
          "text": [
            "\r"
          ],
          "name": "stdout"
        },
        {
          "output_type": "display_data",
          "data": {
            "application/vnd.jupyter.widget-view+json": {
              "model_id": "85632c1755fd4646af4b607a93622c79",
              "version_minor": 0,
              "version_major": 2
            },
            "text/plain": [
              "HBox(children=(FloatProgress(value=1.0, bar_style='info', max=1.0), HTML(value='')))"
            ]
          },
          "metadata": {
            "tags": []
          }
        },
        {
          "output_type": "stream",
          "text": [
            "\r"
          ],
          "name": "stdout"
        },
        {
          "output_type": "display_data",
          "data": {
            "application/vnd.jupyter.widget-view+json": {
              "model_id": "f6abde78ef8349be8d084c3444add857",
              "version_minor": 0,
              "version_major": 2
            },
            "text/plain": [
              "HBox(children=(FloatProgress(value=1.0, bar_style='info', max=1.0), HTML(value='')))"
            ]
          },
          "metadata": {
            "tags": []
          }
        },
        {
          "output_type": "stream",
          "text": [
            "\rDataset common_voice downloaded and prepared to /root/.cache/huggingface/datasets/common_voice/ro/6.1.0/0041e06ab061b91d0a23234a2221e87970a19cf3a81b20901474cffffeb7869f. Subsequent calls will reuse this data.\n"
          ],
          "name": "stdout"
        },
        {
          "output_type": "stream",
          "text": [
            "Couldn't find file locally at common_voice/common_voice.py, or remotely at https://raw.githubusercontent.com/huggingface/datasets/1.4.1/datasets/common_voice/common_voice.py.\n",
            "The file was picked from the master branch on github instead at https://raw.githubusercontent.com/huggingface/datasets/master/datasets/common_voice/common_voice.py.\n",
            "Reusing dataset common_voice (/root/.cache/huggingface/datasets/common_voice/ro/6.1.0/0041e06ab061b91d0a23234a2221e87970a19cf3a81b20901474cffffeb7869f)\n"
          ],
          "name": "stderr"
        }
      ]
    },
    {
      "cell_type": "markdown",
      "metadata": {
        "id": "ri5y5N_HMANq"
      },
      "source": [
        "Many ASR datasets only provide the target text, `'sentence'` for each audio file `'path'`. Common Voice actually provides much more information about each audio file, such as the `'accent'`, etc. However, we want to keep the notebook as general as possible, so that we will only consider the transcribed text for fine-tuning.\n",
        "\n"
      ]
    },
    {
      "cell_type": "code",
      "metadata": {
        "id": "kbyq6lDgQc2a"
      },
      "source": [
        "common_voice_train = common_voice_train.remove_columns([\"accent\", \"age\", \"client_id\", \"down_votes\", \"gender\", \"locale\", \"segment\", \"up_votes\"])\n",
        "common_voice_test = common_voice_test.remove_columns([\"accent\", \"age\", \"client_id\", \"down_votes\", \"gender\", \"locale\", \"segment\", \"up_votes\"])"
      ],
      "execution_count": 3,
      "outputs": []
    },
    {
      "cell_type": "markdown",
      "metadata": {
        "id": "Go9Hq4e4NDT9"
      },
      "source": [
        "Let's write a short function to display some random samples of the dataset and run it a couple of times to get a feeling for the transcriptions."
      ]
    },
    {
      "cell_type": "code",
      "metadata": {
        "id": "72737oog2F6U"
      },
      "source": [
        "from datasets import ClassLabel\n",
        "import random\n",
        "import pandas as pd\n",
        "from IPython.display import display, HTML\n",
        "\n",
        "def show_random_elements(dataset, num_examples=10):\n",
        "    assert num_examples <= len(dataset), \"Can't pick more elements than there are in the dataset.\"\n",
        "    picks = []\n",
        "    for _ in range(num_examples):\n",
        "        pick = random.randint(0, len(dataset)-1)\n",
        "        while pick in picks:\n",
        "            pick = random.randint(0, len(dataset)-1)\n",
        "        picks.append(pick)\n",
        "    \n",
        "    df = pd.DataFrame(dataset[picks])\n",
        "    display(HTML(df.to_html()))"
      ],
      "execution_count": 4,
      "outputs": []
    },
    {
      "cell_type": "code",
      "metadata": {
        "colab": {
          "base_uri": "https://localhost:8080/",
          "height": 669
        },
        "id": "K_JUmf3G3b9S",
        "outputId": "153835e2-e9a9-4ad9-ad4f-3831ec6544c1"
      },
      "source": [
        "show_random_elements(common_voice_train.remove_columns([\"path\"]), num_examples=20)"
      ],
      "execution_count": 5,
      "outputs": [
        {
          "output_type": "display_data",
          "data": {
            "text/html": [
              "<table border=\"1\" class=\"dataframe\">\n",
              "  <thead>\n",
              "    <tr style=\"text-align: right;\">\n",
              "      <th></th>\n",
              "      <th>sentence</th>\n",
              "    </tr>\n",
              "  </thead>\n",
              "  <tbody>\n",
              "    <tr>\n",
              "      <th>0</th>\n",
              "      <td>Avem nevoie de alţi bani pentru idei noi.</td>\n",
              "    </tr>\n",
              "    <tr>\n",
              "      <th>1</th>\n",
              "      <td>Rezoluţia mea susţine întru totul acordul.</td>\n",
              "    </tr>\n",
              "    <tr>\n",
              "      <th>2</th>\n",
              "      <td>Iar cel mai mare obstacol este voința politică.</td>\n",
              "    </tr>\n",
              "    <tr>\n",
              "      <th>3</th>\n",
              "      <td>Poate vom reveni mai târziu la această chestiune.</td>\n",
              "    </tr>\n",
              "    <tr>\n",
              "      <th>4</th>\n",
              "      <td>Foarte mulți oameni ne mulțumesc după ce îi ajutăm.</td>\n",
              "    </tr>\n",
              "    <tr>\n",
              "      <th>5</th>\n",
              "      <td>Aș dori să spun trei lucruri.</td>\n",
              "    </tr>\n",
              "    <tr>\n",
              "      <th>6</th>\n",
              "      <td>Pentru că vrea să devină comisar?</td>\n",
              "    </tr>\n",
              "    <tr>\n",
              "      <th>7</th>\n",
              "      <td>Din păcate, nu aveţi planuri în această privinţă.</td>\n",
              "    </tr>\n",
              "    <tr>\n",
              "      <th>8</th>\n",
              "      <td>Cu toţii aşteptăm să vedem acest lucru.</td>\n",
              "    </tr>\n",
              "    <tr>\n",
              "      <th>9</th>\n",
              "      <td>În repriza a doua, timișorenii s-au dezlănțuit și au înscris.</td>\n",
              "    </tr>\n",
              "    <tr>\n",
              "      <th>10</th>\n",
              "      <td>Pentru a salva pescuitul, trebuie să salvăm specia.</td>\n",
              "    </tr>\n",
              "    <tr>\n",
              "      <th>11</th>\n",
              "      <td>Voi începe cu un mic anunț.</td>\n",
              "    </tr>\n",
              "    <tr>\n",
              "      <th>12</th>\n",
              "      <td>O atitudine frivolă poate avea consecințe tragice.</td>\n",
              "    </tr>\n",
              "    <tr>\n",
              "      <th>13</th>\n",
              "      <td>Pentru a învinge Steaua trebuie să fim hotărâți, agresivi.</td>\n",
              "    </tr>\n",
              "    <tr>\n",
              "      <th>14</th>\n",
              "      <td>Acest lucru va da încredere puţinor oameni.</td>\n",
              "    </tr>\n",
              "    <tr>\n",
              "      <th>15</th>\n",
              "      <td>Alte măsuri sunt, de asemenea, necesare.</td>\n",
              "    </tr>\n",
              "    <tr>\n",
              "      <th>16</th>\n",
              "      <td>Ce am realizat până în prezent?</td>\n",
              "    </tr>\n",
              "    <tr>\n",
              "      <th>17</th>\n",
              "      <td>Această frază conține două idei total contradictorii.</td>\n",
              "    </tr>\n",
              "    <tr>\n",
              "      <th>18</th>\n",
              "      <td>Sunt încântat că lucrurile stau astfel.</td>\n",
              "    </tr>\n",
              "    <tr>\n",
              "      <th>19</th>\n",
              "      <td>Acest lucru poate şi trebuie să fie cercetat.</td>\n",
              "    </tr>\n",
              "  </tbody>\n",
              "</table>"
            ],
            "text/plain": [
              "<IPython.core.display.HTML object>"
            ]
          },
          "metadata": {
            "tags": []
          }
        }
      ]
    },
    {
      "cell_type": "markdown",
      "metadata": {
        "id": "fowcOllGNNju"
      },
      "source": [
        "Alright! The transcriptions look fairly clean. Having translated the transcribed sentences (I'm sadly not a native speaker in Turkish), it seems that the language corresponds more to written text than noisy dialogue. This makes sense taking into account that [Common Voice](https://huggingface.co/datasets/common_voice) is a crowd-sourced read speech corpus."
      ]
    },
    {
      "cell_type": "markdown",
      "metadata": {
        "id": "vq7OR50LN49m"
      },
      "source": [
        "We can see that the transcriptions contain some special characters, such as `,.?!;:`. Without a language model, it is much harder to classify speech chunks to such special characters because they don't really correspond to a characteristic sound unit. *E.g.*, the letter `\"s\"` has a more or less clear sound, whereas the special character `\".\"` does not.\n",
        "Also in order to understand the meaning of a speech signal, it is usually not necessary to include special characters in the transcription.\n",
        "\n",
        "In addition, we normalize the text to only have lower case letters and append a word separator token at the end."
      ]
    },
    {
      "cell_type": "code",
      "metadata": {
        "id": "svKzVJ_hQGK6"
      },
      "source": [
        "import re\n",
        "chars_to_ignore_regex = '[\\,\\?\\.\\!\\-\\;\\:\\\"\\“\\%\\‘\\”\\�]'\n",
        "\n",
        "def remove_special_characters(batch):\n",
        "    batch[\"sentence\"] = re.sub(chars_to_ignore_regex, '', batch[\"sentence\"]).lower() + \" \"\n",
        "    return batch"
      ],
      "execution_count": 6,
      "outputs": []
    },
    {
      "cell_type": "code",
      "metadata": {
        "colab": {
          "base_uri": "https://localhost:8080/",
          "height": 115,
          "referenced_widgets": [
            "2efed6e6d64f49d5a0ce30a427f650de",
            "af7bae5e49c143399fc55b771492f2f4",
            "817e2b88391943ab90c21419848874d1",
            "c0bd4e84dca04d71b19f681f9e6d6403",
            "af3f25749fe245c68d881af6595ec745",
            "59ee433f1202407890d66aa78ed6c6f0",
            "fbb9266792fa4c9cb964900429120788",
            "c886cda06f7347aa8702d6eb3eb6a10f",
            "e8529506f96a46aeb80dfc8c7e42d017",
            "f9afb1f765c447ad8358aabd28017d13",
            "db9319eccd4043c8a73293928e2ce965",
            "2dced0a5d298495f881beff592ec8464",
            "87958b7d29c246b4b4e144539a0c5701",
            "a7f476fa0d7e4aef858a82f9a18dbe46",
            "c7dde94404ba4a27a93707249d1296bc",
            "f78a693920054d0bbb1fff2ddc2533bd"
          ]
        },
        "id": "XIHocAuTQbBR",
        "outputId": "658c9944-1565-4bb5-9122-79c911d21542"
      },
      "source": [
        "common_voice_train = common_voice_train.map(remove_special_characters)\n",
        "common_voice_test = common_voice_test.map(remove_special_characters)"
      ],
      "execution_count": 7,
      "outputs": [
        {
          "output_type": "display_data",
          "data": {
            "application/vnd.jupyter.widget-view+json": {
              "model_id": "2efed6e6d64f49d5a0ce30a427f650de",
              "version_minor": 0,
              "version_major": 2
            },
            "text/plain": [
              "HBox(children=(FloatProgress(value=0.0, max=4257.0), HTML(value='')))"
            ]
          },
          "metadata": {
            "tags": []
          }
        },
        {
          "output_type": "stream",
          "text": [
            "\n"
          ],
          "name": "stdout"
        },
        {
          "output_type": "display_data",
          "data": {
            "application/vnd.jupyter.widget-view+json": {
              "model_id": "e8529506f96a46aeb80dfc8c7e42d017",
              "version_minor": 0,
              "version_major": 2
            },
            "text/plain": [
              "HBox(children=(FloatProgress(value=0.0, max=1778.0), HTML(value='')))"
            ]
          },
          "metadata": {
            "tags": []
          }
        },
        {
          "output_type": "stream",
          "text": [
            "\n"
          ],
          "name": "stdout"
        }
      ]
    },
    {
      "cell_type": "code",
      "metadata": {
        "colab": {
          "base_uri": "https://localhost:8080/",
          "height": 359
        },
        "id": "RBDRAAYxRE6n",
        "outputId": "4eb90221-d120-4aa2-d572-b7430af0eff0"
      },
      "source": [
        "show_random_elements(common_voice_train.remove_columns([\"path\"]))"
      ],
      "execution_count": 8,
      "outputs": [
        {
          "output_type": "display_data",
          "data": {
            "text/html": [
              "<table border=\"1\" class=\"dataframe\">\n",
              "  <thead>\n",
              "    <tr style=\"text-align: right;\">\n",
              "      <th></th>\n",
              "      <th>sentence</th>\n",
              "    </tr>\n",
              "  </thead>\n",
              "  <tbody>\n",
              "    <tr>\n",
              "      <th>0</th>\n",
              "      <td>acest pas nu a fost făcut</td>\n",
              "    </tr>\n",
              "    <tr>\n",
              "      <th>1</th>\n",
              "      <td>aceasta este ideea pe care o dezbatem</td>\n",
              "    </tr>\n",
              "    <tr>\n",
              "      <th>2</th>\n",
              "      <td>ați menționat o problemă legată de etichetare</td>\n",
              "    </tr>\n",
              "    <tr>\n",
              "      <th>3</th>\n",
              "      <td>era necesar să se întâmple acest lucru</td>\n",
              "    </tr>\n",
              "    <tr>\n",
              "      <th>4</th>\n",
              "      <td>trebuie să acționăm mai rapid și mai inteligent</td>\n",
              "    </tr>\n",
              "    <tr>\n",
              "      <th>5</th>\n",
              "      <td>sunt din nou de acord cu raportorul</td>\n",
              "    </tr>\n",
              "    <tr>\n",
              "      <th>6</th>\n",
              "      <td>este important să ne amintim de acest lucru</td>\n",
              "    </tr>\n",
              "    <tr>\n",
              "      <th>7</th>\n",
              "      <td>acest lucru este de asemenea important</td>\n",
              "    </tr>\n",
              "    <tr>\n",
              "      <th>8</th>\n",
              "      <td>succesul cooperării teritoriale este evident acum</td>\n",
              "    </tr>\n",
              "    <tr>\n",
              "      <th>9</th>\n",
              "      <td>presa liberă se află întrun real pericol</td>\n",
              "    </tr>\n",
              "  </tbody>\n",
              "</table>"
            ],
            "text/plain": [
              "<IPython.core.display.HTML object>"
            ]
          },
          "metadata": {
            "tags": []
          }
        }
      ]
    },
    {
      "cell_type": "markdown",
      "metadata": {
        "id": "jwfaptH5RJwA"
      },
      "source": [
        "Good! This looks better. We have removed most special characters from transcriptions and normalized them to lower-case only.\n",
        "\n",
        "In CTC, it is common to classify speech chunks into letters, so we will do the same here. \n",
        "Let's extract all distinct letters of the training and test data and build our vocabulary from this set of letters.\n",
        "\n",
        "We write a mapping function that concatenates all transcriptions into one long transcription and then transforms the string into a set of chars. \n",
        "It is important to pass the argument `batched=True` to the `map(...)` function so that the mapping function has access to all transcriptions at once."
      ]
    },
    {
      "cell_type": "code",
      "metadata": {
        "id": "LwCshNbbeRZR"
      },
      "source": [
        "def extract_all_chars(batch):\n",
        "  all_text = \" \".join(batch[\"sentence\"])\n",
        "  vocab = list(set(all_text))\n",
        "  return {\"vocab\": [vocab], \"all_text\": [all_text]}"
      ],
      "execution_count": 9,
      "outputs": []
    },
    {
      "cell_type": "code",
      "metadata": {
        "colab": {
          "base_uri": "https://localhost:8080/",
          "height": 115,
          "referenced_widgets": [
            "4e5aa9ad127140ffacab1993f42e7809",
            "eae38e6e46dc4e8db48afce5c5ee4bd0",
            "67d08fd8f8574e14b4294c4268901101",
            "91e0247c87a44c93ad43d5ad59bcdc42",
            "f5f5fab4a93f451283cda4420eb010c6",
            "e53398d51ca9490988d213d2f55d2125",
            "7cd6665d80f74a7e99973a8be74ac679",
            "694c054c000945778daa4ca9c518b842",
            "0a73cfc7d73440478ca567bc28c65574",
            "53605ad9b5d0480a96ec7d12e0e85f5c",
            "4517ca7594a64c0fabe2bac035e992ff",
            "ba6d1ab9447342bf8f6aea237b2232ff",
            "be3e5ff95c524f77ae33838041ee8f1d",
            "00f0f00672744a32b44718633fe41fac",
            "2a76567487f148a2923561c262c81308",
            "e5a2467f78c94925964a116922b1adca"
          ]
        },
        "id": "_m6uUjjcfbjH",
        "outputId": "ec66abb7-56c9-420b-e364-6088e231f11c"
      },
      "source": [
        "vocab_train = common_voice_train.map(extract_all_chars, batched=True, batch_size=-1, keep_in_memory=True, remove_columns=common_voice_train.column_names)\n",
        "vocab_test = common_voice_test.map(extract_all_chars, batched=True, batch_size=-1, keep_in_memory=True, remove_columns=common_voice_test.column_names)"
      ],
      "execution_count": 10,
      "outputs": [
        {
          "output_type": "display_data",
          "data": {
            "application/vnd.jupyter.widget-view+json": {
              "model_id": "4e5aa9ad127140ffacab1993f42e7809",
              "version_minor": 0,
              "version_major": 2
            },
            "text/plain": [
              "HBox(children=(FloatProgress(value=0.0, max=1.0), HTML(value='')))"
            ]
          },
          "metadata": {
            "tags": []
          }
        },
        {
          "output_type": "stream",
          "text": [
            "\n"
          ],
          "name": "stdout"
        },
        {
          "output_type": "display_data",
          "data": {
            "application/vnd.jupyter.widget-view+json": {
              "model_id": "0a73cfc7d73440478ca567bc28c65574",
              "version_minor": 0,
              "version_major": 2
            },
            "text/plain": [
              "HBox(children=(FloatProgress(value=0.0, max=1.0), HTML(value='')))"
            ]
          },
          "metadata": {
            "tags": []
          }
        },
        {
          "output_type": "stream",
          "text": [
            "\n"
          ],
          "name": "stdout"
        }
      ]
    },
    {
      "cell_type": "markdown",
      "metadata": {
        "id": "7oVgE8RZSJNP"
      },
      "source": [
        "Now, we create the union of all distinct letters in the training dataset and test dataset and convert the resulting list into an enumerated dictionary."
      ]
    },
    {
      "cell_type": "code",
      "metadata": {
        "id": "aQfneNsmlJI0"
      },
      "source": [
        "vocab_list = list(set(vocab_train[\"vocab\"][0]) | set(vocab_test[\"vocab\"][0]))"
      ],
      "execution_count": 11,
      "outputs": []
    },
    {
      "cell_type": "code",
      "metadata": {
        "colab": {
          "base_uri": "https://localhost:8080/"
        },
        "id": "_0kRndSvqaKk",
        "outputId": "efb0f083-d896-4776-8584-8d4515813fd3"
      },
      "source": [
        "vocab_dict = {v: k for k, v in enumerate(vocab_list)}\n",
        "vocab_dict"
      ],
      "execution_count": 12,
      "outputs": [
        {
          "output_type": "execute_result",
          "data": {
            "text/plain": [
              "{' ': 24,\n",
              " 'a': 15,\n",
              " 'b': 5,\n",
              " 'c': 22,\n",
              " 'd': 31,\n",
              " 'e': 32,\n",
              " 'f': 9,\n",
              " 'g': 37,\n",
              " 'h': 3,\n",
              " 'i': 21,\n",
              " 'j': 27,\n",
              " 'k': 1,\n",
              " 'l': 26,\n",
              " 'm': 11,\n",
              " 'n': 36,\n",
              " 'o': 20,\n",
              " 'p': 13,\n",
              " 'q': 25,\n",
              " 'r': 0,\n",
              " 's': 33,\n",
              " 't': 2,\n",
              " 'u': 17,\n",
              " 'v': 12,\n",
              " 'w': 29,\n",
              " 'x': 7,\n",
              " 'y': 23,\n",
              " 'z': 10,\n",
              " 'á': 6,\n",
              " 'â': 34,\n",
              " 'é': 35,\n",
              " 'î': 28,\n",
              " 'ü': 18,\n",
              " 'ă': 16,\n",
              " 'ş': 4,\n",
              " 'š': 30,\n",
              " 'ţ': 14,\n",
              " 'ș': 19,\n",
              " 'ț': 8}"
            ]
          },
          "metadata": {
            "tags": []
          },
          "execution_count": 12
        }
      ]
    },
    {
      "cell_type": "markdown",
      "metadata": {
        "id": "JOSzbvs9SXT1"
      },
      "source": [
        "Cool, we see that all letters of the alphabet occur in the dataset (which is not really surprising) and we also extracted the special characters `\" \"` and `'`. Note that we did not exclude those special characters because: \n",
        "\n",
        "- The model has to learn to predict when a word is finished or else the model prediction would always be a sequence of chars which would make it impossible to separate words from each other.\n",
        "- From the transcriptions above it seems that words that include an apostrophe, such as `maktouf'un` do exist in Turkish, so I decided to keep the apostrophe in the dataset. This might be a wrong assumption though.\n",
        "\n",
        "One should always keep in mind that the data-preprocessing is a very important step before training your model. E.g., we don't want our model to differentiate between `a` and `A` just because we forgot to normalize the data. The difference between `a` and `A` does not depend on the \"sound\" of the letter at all, but more on grammatical rules - *e.g.* use a capitalized letter at the beginning of the sentence. So it is sensible to remove the difference between capitalized and non-capitalized letters so that the model has an easier time learning to transcribe speech. \n",
        "\n",
        "It is always advantageous to get help from a native speaker of the language you would like to transcribe to verify whether the assumptions you made are sensible, *e.g.* I should have made sure that keeping `'`, but removing other special characters is a sensible choice for Turkish. "
      ]
    },
    {
      "cell_type": "markdown",
      "metadata": {
        "id": "b1fBRCn-TRaO"
      },
      "source": [
        "To make it clearer that `\" \"` has its own token class, we give it a more visible character `|`. In addition, we also add an \"unknown\" token so that the model can later deal with characters not encountered in Common Voice's training set. \n",
        "\n",
        "Finally, we also add a padding token that corresponds to CTC's \"*blank token*\". The \"blank token\" is a core component of the CTC algorithm. For more information, please take a look at the \"Alignment\" section [here](https://distill.pub/2017/ctc/)."
      ]
    },
    {
      "cell_type": "code",
      "metadata": {
        "id": "npbIbBoLgaFX"
      },
      "source": [
        "vocab_dict[\"|\"] = vocab_dict[\" \"]\n",
        "del vocab_dict[\" \"]"
      ],
      "execution_count": 13,
      "outputs": []
    },
    {
      "cell_type": "code",
      "metadata": {
        "id": "znF0bNunsjbl",
        "colab": {
          "base_uri": "https://localhost:8080/"
        },
        "outputId": "7769caff-1976-459a-e9fc-02a6688d6d0b"
      },
      "source": [
        "vocab_dict[\"[UNK]\"] = len(vocab_dict)\n",
        "vocab_dict[\"[PAD]\"] = len(vocab_dict)\n",
        "len(vocab_dict)"
      ],
      "execution_count": 14,
      "outputs": [
        {
          "output_type": "execute_result",
          "data": {
            "text/plain": [
              "40"
            ]
          },
          "metadata": {
            "tags": []
          },
          "execution_count": 14
        }
      ]
    },
    {
      "cell_type": "markdown",
      "metadata": {
        "id": "SFPGfet8U5sL"
      },
      "source": [
        "Cool, now our vocabulary is complete and consists of 39 tokens, which means that the linear layer that we will add on top of the pretrained XLSR-Wav2Vec2 checkpoint will have an output dimension of 39."
      ]
    },
    {
      "cell_type": "markdown",
      "metadata": {
        "id": "1CujRgBNVRaD"
      },
      "source": [
        "Let's now save the vocabulary as a json file."
      ]
    },
    {
      "cell_type": "code",
      "metadata": {
        "id": "ehyUoh9vk191"
      },
      "source": [
        "import json\n",
        "with open('vocab.json', 'w') as vocab_file:\n",
        "    json.dump(vocab_dict, vocab_file)"
      ],
      "execution_count": 15,
      "outputs": []
    },
    {
      "cell_type": "markdown",
      "metadata": {
        "id": "SHJDaKlIVVim"
      },
      "source": [
        "In a final step, we use the json file to instantiate an object of the `Wav2Vec2CTCTokenizer` class."
      ]
    },
    {
      "cell_type": "code",
      "metadata": {
        "id": "xriFGEWQkO4M"
      },
      "source": [
        "from transformers import Wav2Vec2CTCTokenizer\n",
        "\n",
        "tokenizer = Wav2Vec2CTCTokenizer(\"./vocab.json\", unk_token=\"[UNK]\", pad_token=\"[PAD]\", word_delimiter_token=\"|\")"
      ],
      "execution_count": 16,
      "outputs": []
    },
    {
      "cell_type": "markdown",
      "metadata": {
        "id": "KvL12DrNV4cx"
      },
      "source": [
        "Next, we will create the feature extractor."
      ]
    },
    {
      "cell_type": "markdown",
      "metadata": {
        "id": "mYcIiR2FQ96i"
      },
      "source": [
        "### Create XLSR-Wav2Vec2 Feature Extractor"
      ]
    },
    {
      "cell_type": "markdown",
      "metadata": {
        "id": "Y6mDEyW719rx"
      },
      "source": [
        "Speech is a continuous signal and to be treated by computers, it first has to be discretized, which is usually called **sampling**. The sampling rate hereby plays an important role in that it defines how many data points of the speech signal are measured per second. Therefore, sampling with a higher sampling rate results in a better approximation of the *real* speech signal but also necessitates more values per second.\n",
        "\n",
        "A pretrained checkpoint expects its input data to have been sampled more or less from the same distribution as the data it was trained on. The same speech signals sampled at two different rates have a very different distribution, *e.g.*, doubling the sampling rate results in data points being twice as long. Thus, \n",
        "before fine-tuning a pretrained checkpoint of an ASR model, it is crucial to verify that the sampling rate of the data that was used to pretrain the model matches the sampling rate of the dataset used to fine-tune the model.\n",
        "\n",
        "XLSR-Wav2Vec2 was pretrained on the audio data of [Babel](https://huggingface.co/datasets/librispeech_asr), \n",
        "[Multilingual LibriSpeech (MLS)](https://ai.facebook.com/blog/a-new-open-data-set-for-multilingual-speech-research/), and [Common Voice](https://huggingface.co/datasets/common_voice). Most of those datasets were sampled at 16kHz, so that Common Voice, sampled at 48kHz, has to be downsampled to 16kHz for training. Therefore, we will have to downsample our fine-tuning data to 16kHz in the following.\n",
        "\n"
      ]
    },
    {
      "cell_type": "markdown",
      "metadata": {
        "id": "KuUbPW7oV-B5"
      },
      "source": [
        "A XLSR-Wav2Vec2 feature extractor object requires the following parameters to be instantiated:\n",
        "\n",
        "- `feature_size`: Speech models take a sequence of feature vectors as an input. While the length of this sequence obviously varies, the feature size should not. In the case of Wav2Vec2, the feature size is 1 because the model was trained on the raw speech signal ${}^2$.\n",
        "- `sampling_rate`: The sampling rate at which the model is trained on.\n",
        "- `padding_value`: For batched inference, shorter inputs need to be padded with a specific value\n",
        "- `do_normalize`: Whether the input should be *zero-mean-unit-variance* normalized or not. Usually, speech models perform better when normalizing the input\n",
        "- `return_attention_mask`: Whether the model should make use of an `attention_mask` for batched inference. In general, XLSR-Wav2Vec2 models should **always** make use of the `attention_mask`."
      ]
    },
    {
      "cell_type": "code",
      "metadata": {
        "id": "kAR0-2KLkopp"
      },
      "source": [
        "from transformers import Wav2Vec2FeatureExtractor\n",
        "\n",
        "feature_extractor = Wav2Vec2FeatureExtractor(feature_size=1, sampling_rate=16000, padding_value=0.0, do_normalize=True, return_attention_mask=True)"
      ],
      "execution_count": 17,
      "outputs": []
    },
    {
      "cell_type": "markdown",
      "metadata": {
        "id": "qUETetgqYC3W"
      },
      "source": [
        "Great, XLSR-Wav2Vec2's feature extraction pipeline is thereby fully defined!\n",
        "\n",
        "To make the usage of XLSR-Wav2Vec2 as user-friendly as possible, the feature extractor and tokenizer are *wrapped* into a single `Wav2Vec2Processor` class so that one only needs a `model` and `processor` object."
      ]
    },
    {
      "cell_type": "code",
      "metadata": {
        "id": "KYZtoW-tlZgl"
      },
      "source": [
        "from transformers import Wav2Vec2Processor\n",
        "\n",
        "processor = Wav2Vec2Processor(feature_extractor=feature_extractor, tokenizer=tokenizer)"
      ],
      "execution_count": 18,
      "outputs": []
    },
    {
      "cell_type": "markdown",
      "metadata": {
        "id": "fTfFDSS0YfMN"
      },
      "source": [
        "If one wants to re-use the just created processor and the fine-tuned model of this notebook, one can mount his/her google drive to the notebook and save all relevant files there. To do so, please uncomment the following lines. \n",
        "\n",
        "We will give the fine-tuned model the name `\"wav2vec2-large-xlsr-turkish-demo\"`."
      ]
    },
    {
      "cell_type": "code",
      "metadata": {
        "id": "yq7Bzuzz4zjQ",
        "colab": {
          "base_uri": "https://localhost:8080/"
        },
        "outputId": "312aa3b3-f7f9-41d2-8a5f-a39785622454"
      },
      "source": [
        "from google.colab import drive\n",
        "drive.mount('/content/gdrive/')"
      ],
      "execution_count": 22,
      "outputs": [
        {
          "output_type": "stream",
          "text": [
            "Mounted at /content/gdrive/\n"
          ],
          "name": "stdout"
        }
      ]
    },
    {
      "cell_type": "code",
      "metadata": {
        "id": "Par9rpypPsml"
      },
      "source": [
        "processor.save_pretrained(\"/content/gdrive/MyDrive/wav2vec2-large-xlsr-romanian-demo\")"
      ],
      "execution_count": 23,
      "outputs": []
    },
    {
      "cell_type": "markdown",
      "metadata": {
        "id": "DrKnYuvDIoOO"
      },
      "source": [
        "Next, we can prepare the dataset."
      ]
    },
    {
      "cell_type": "markdown",
      "metadata": {
        "id": "YFmShnl7RE35"
      },
      "source": [
        "### Preprocess Data\n",
        "\n",
        "So far, we have not looked at the actual values of the speech signal but just kept the path to its file in the dataset. `XLSR-Wav2Vec2` expects the audio file in the format of a 1-dimensional array, so in the first step, let's load all audio files into the dataset object.\n",
        "\n",
        "Let's first check the serialization format of the downloaded audio files by looking at the first training sample."
      ]
    },
    {
      "cell_type": "code",
      "metadata": {
        "colab": {
          "base_uri": "https://localhost:8080/"
        },
        "id": "TTCS7W6XJ9BG",
        "outputId": "a002cda3-0b65-4a3f-fd24-5545995b779f"
      },
      "source": [
        "common_voice_train[0]"
      ],
      "execution_count": 19,
      "outputs": [
        {
          "output_type": "execute_result",
          "data": {
            "text/plain": [
              "{'path': '/root/.cache/huggingface/datasets/downloads/extracted/38939ab9ac7fe1e80cc93382450b8954fd5e928334d3c5cadd3c6a00cbbf23e3/cv-corpus-6.1-2020-12-11/ro/clips/common_voice_ro_20755739.mp3',\n",
              " 'sentence': 'vă mulţumesc din nou pentru sprijin '}"
            ]
          },
          "metadata": {
            "tags": []
          },
          "execution_count": 19
        }
      ]
    },
    {
      "cell_type": "markdown",
      "metadata": {
        "id": "wSBIGEiaKHMn"
      },
      "source": [
        "Alright, the audio file is saved in the `.mp3` format. The `.mp3` format is usually not the easiest format to deal with. We found that the [`torchaudio`](https://pytorch.org/audio/stable/index.html) library works best for reading in `.mp3` data. \n",
        "\n",
        "An audio file usually stores both its values and the sampling rate with which the speech signal was digitalized. We want to store both in the dataset and write a `map(...)` function accordingly."
      ]
    },
    {
      "cell_type": "code",
      "metadata": {
        "id": "al9Luo4LPpwJ"
      },
      "source": [
        "import torchaudio\n",
        "\n",
        "def speech_file_to_array_fn(batch):\n",
        "    speech_array, sampling_rate = torchaudio.load(batch[\"path\"])\n",
        "    batch[\"speech\"] = speech_array[0].numpy()\n",
        "    batch[\"sampling_rate\"] = sampling_rate\n",
        "    batch[\"target_text\"] = batch[\"sentence\"]\n",
        "    return batch"
      ],
      "execution_count": 20,
      "outputs": []
    },
    {
      "cell_type": "code",
      "metadata": {
        "colab": {
          "base_uri": "https://localhost:8080/",
          "height": 115,
          "referenced_widgets": [
            "3578cb14f87c4ee4b7a6b6a6de0e208e",
            "69d021ce2e2d42678dc181e81ded6316",
            "920037b11fe94e19ab9287a96a296f1f",
            "85125128611f4bb08ccadea691ea36a6",
            "8c72e3b5c0134d759a133fad64a265d8",
            "62fcf049471f4bb08990d6a7e616731e",
            "2fa6560ef3af446aad2ec6da18b00f4d",
            "58728ca8bfa04fa59cc5510b554facb6",
            "3c923e4b7ded493aac9f398dc059547e",
            "e092eb710b034dd5b826f268d7aaaa9d",
            "df4bd51a2a4b4756959126fa97bf733d",
            "b35f4895f9204454bf4a30bf9299ccba",
            "eb096f04381844fcb9b45424bb080dc2",
            "d71fe0f0610b44cb8f1771071ee01ed3",
            "186bdc9c334f419b90711dfe19f5a16d",
            "d60af1be2d074b2d8b3bec213887c77d"
          ]
        },
        "id": "afeicUeWlrRL",
        "outputId": "2005fbfb-717b-4e61-d1c1-661a9efcdeaf"
      },
      "source": [
        "common_voice_train = common_voice_train.map(speech_file_to_array_fn, remove_columns=common_voice_train.column_names)\n",
        "common_voice_test = common_voice_test.map(speech_file_to_array_fn, remove_columns=common_voice_test.column_names)"
      ],
      "execution_count": 21,
      "outputs": [
        {
          "output_type": "display_data",
          "data": {
            "application/vnd.jupyter.widget-view+json": {
              "model_id": "3578cb14f87c4ee4b7a6b6a6de0e208e",
              "version_minor": 0,
              "version_major": 2
            },
            "text/plain": [
              "HBox(children=(FloatProgress(value=0.0, max=4257.0), HTML(value='')))"
            ]
          },
          "metadata": {
            "tags": []
          }
        },
        {
          "output_type": "stream",
          "text": [
            "\n"
          ],
          "name": "stdout"
        },
        {
          "output_type": "display_data",
          "data": {
            "application/vnd.jupyter.widget-view+json": {
              "model_id": "3c923e4b7ded493aac9f398dc059547e",
              "version_minor": 0,
              "version_major": 2
            },
            "text/plain": [
              "HBox(children=(FloatProgress(value=0.0, max=1778.0), HTML(value='')))"
            ]
          },
          "metadata": {
            "tags": []
          }
        },
        {
          "output_type": "stream",
          "text": [
            "\n"
          ],
          "name": "stdout"
        }
      ]
    },
    {
      "cell_type": "markdown",
      "metadata": {
        "id": "ki5sXmzucc9Q"
      },
      "source": [
        "Great, now we've successfully read in all the audio files, but since we know that Common Voice is sampled at 48kHz, we need to resample the audio files to 16kHz. \n",
        "\n",
        "Let's make use of the [`librosa`](https://github.com/librosa/librosa) library to downsample the data."
      ]
    },
    {
      "cell_type": "code",
      "metadata": {
        "id": "6Y6AK3Z-kHwP"
      },
      "source": [
        "import librosa\n",
        "import numpy as np\n",
        "\n",
        "def resample(batch):\n",
        "    batch[\"speech\"] = librosa.resample(np.asarray(batch[\"speech\"]), 48_000, 16_000)\n",
        "    batch[\"sampling_rate\"] = 16_000\n",
        "    return batch"
      ],
      "execution_count": 24,
      "outputs": []
    },
    {
      "cell_type": "code",
      "metadata": {
        "colab": {
          "base_uri": "https://localhost:8080/",
          "height": 443,
          "referenced_widgets": [
            "96aa20f1e2a74de0abb20f6f77b55898",
            "82231651b3ae430e8702e51033fdb73c",
            "d5c73d32e69b4a6e94e8c06bb2d2203f",
            "92d2fdc2884445848cae4253993b5f93",
            "6ef9494db26648b389d0541cbfac22d1",
            "6a9c62fd7a0b4e6b8cebe778bb9cc0aa",
            "da66b08c062649029ff9665835053d7f",
            "c2620f5333e74630a0e8222407b67d3a",
            "e665dd8d23e24c5d9da94165a4d903f1",
            "cb0e02d55a344135b8fa71b5bf448ddc",
            "5081d161fb7e41ecaa550e51d32d490b",
            "bb1481a6c5524e14bf7c0f64d91056a0",
            "f0aa53ab14ad49638533b602c8e179cc",
            "f0b40cb5e72e4ad286192232df1e79ed",
            "4a6626da709944f19df2350663abff00",
            "c4b00d7823e848e3ab8b875707d4d7da",
            "56f508b36c3d480e9a0083844c16cbb8",
            "48d8909548764a8099deb9f2904fb587",
            "7b42879562634669a7c394fe0ae0bcad",
            "4382257754de495a9f185c283dd7d22e",
            "8d850b477ff142b58230cc895d60dc1c",
            "031d09a6da2942d0a1dc8e68a06a9e9e",
            "89b1805ea0824dfe8ad1938cd825d66b",
            "1059485d5c82435c94b6cd69747ddb54",
            "84101b2086ec47d5b68eaa2a3833bbfb",
            "b2b7398a81fa4e88b18a76451a8a7bf1",
            "1bea26ebd10e4912ad5d3674f2dbf13a",
            "ab77f17dd4be4016bbe9ed4943bbfd26",
            "22b69360de97499e93281af7c091b516",
            "3b70d297ea6e4b708c437f5b93a7827f",
            "23688398133e4899aedd842654589997",
            "79c5c57bcaa64d0082ce25cf3b946061",
            "fa8f5b9b9f6d414093d74be5f5004b90",
            "bc5f0c4c05624c4db71b803b66448731",
            "9ce7318d0cc948669c6a19282b09fe75",
            "a0519b141fda41e880e3a701db3d6025",
            "383562e329c346bcb01ec8bea3a67b02",
            "5bb224869a0346fc942cc7bc9baede9c",
            "03c462e036a1435c8d37055740fc7f0c",
            "9712d0c717aa4397b99d035ad61c52c9",
            "e8e8a561715b4e42aa5c1b7f7d48bac0",
            "8f45edf74d5d4ed0ad9c66c290b938f6",
            "f9a959df9f46459a9295ffdc84524bf3",
            "99ed21ade1fc4f7698dbe4286d4f2b9c",
            "6a7d29a57bf84b209ca4a075bddd53d5",
            "600938d40b464fa4891e57520f5ab4cb",
            "3a59943569d64dbba1cd33a5368ed506",
            "503004756efc4ffa91d45c5d1fa3e515",
            "f070473706ef4a85bc003cb2b884e5ea",
            "62b7ec3f4d364bb795cb464e1d15faa9",
            "2fb02771537a41eb933e103773bd5f83",
            "6c1fae96afc045fa90ee90b10164bc08",
            "e31bf6aac0ff4de590e6b3d138abcceb",
            "ff63a62418ef4988bfe26be0324da19c",
            "bc36dc670cdc4849b13c54079605d4cd",
            "4b6a1533104c46e7a2b25396846b2d2d",
            "0bdd43db8970408fa4fbd28c521fd05f",
            "ed1eb383f7b94765bb5653897847a8c3",
            "f2f6353107f541fb886576108f844113",
            "801bfc276ef34149b3d368dae13c214c",
            "e935b32439274664a1971e0725e68832",
            "a3ebdbe3d40a469abcb4c83073db2082",
            "9d282f88713847af9aa04bba29b3d099",
            "f077ccaac1554aeeb6930fb741d687af"
          ]
        },
        "id": "Ws8DyIL_kjwT",
        "outputId": "36dd2d8e-10c6-4336-eaee-b8dced0d2ad7"
      },
      "source": [
        "common_voice_train = common_voice_train.map(resample, num_proc=4)\n",
        "common_voice_test = common_voice_test.map(resample, num_proc=4)"
      ],
      "execution_count": 25,
      "outputs": [
        {
          "output_type": "stream",
          "text": [
            "    "
          ],
          "name": "stdout"
        },
        {
          "output_type": "display_data",
          "data": {
            "application/vnd.jupyter.widget-view+json": {
              "model_id": "96aa20f1e2a74de0abb20f6f77b55898",
              "version_minor": 0,
              "version_major": 2
            },
            "text/plain": [
              "HBox(children=(FloatProgress(value=0.0, description='#3', max=1064.0, style=ProgressStyle(description_width='i…"
            ]
          },
          "metadata": {
            "tags": []
          }
        },
        {
          "output_type": "display_data",
          "data": {
            "application/vnd.jupyter.widget-view+json": {
              "model_id": "e665dd8d23e24c5d9da94165a4d903f1",
              "version_minor": 0,
              "version_major": 2
            },
            "text/plain": [
              "HBox(children=(FloatProgress(value=0.0, description='#2', max=1064.0, style=ProgressStyle(description_width='i…"
            ]
          },
          "metadata": {
            "tags": []
          }
        },
        {
          "output_type": "display_data",
          "data": {
            "application/vnd.jupyter.widget-view+json": {
              "model_id": "56f508b36c3d480e9a0083844c16cbb8",
              "version_minor": 0,
              "version_major": 2
            },
            "text/plain": [
              "HBox(children=(FloatProgress(value=0.0, description='#0', max=1065.0, style=ProgressStyle(description_width='i…"
            ]
          },
          "metadata": {
            "tags": []
          }
        },
        {
          "output_type": "display_data",
          "data": {
            "application/vnd.jupyter.widget-view+json": {
              "model_id": "84101b2086ec47d5b68eaa2a3833bbfb",
              "version_minor": 0,
              "version_major": 2
            },
            "text/plain": [
              "HBox(children=(FloatProgress(value=0.0, description='#1', max=1064.0, style=ProgressStyle(description_width='i…"
            ]
          },
          "metadata": {
            "tags": []
          }
        },
        {
          "output_type": "stream",
          "text": [
            "\n",
            "\n",
            "\n",
            "\n",
            "    "
          ],
          "name": "stdout"
        },
        {
          "output_type": "display_data",
          "data": {
            "application/vnd.jupyter.widget-view+json": {
              "model_id": "fa8f5b9b9f6d414093d74be5f5004b90",
              "version_minor": 0,
              "version_major": 2
            },
            "text/plain": [
              "HBox(children=(FloatProgress(value=0.0, description='#0', max=445.0, style=ProgressStyle(description_width='in…"
            ]
          },
          "metadata": {
            "tags": []
          }
        },
        {
          "output_type": "display_data",
          "data": {
            "application/vnd.jupyter.widget-view+json": {
              "model_id": "e8e8a561715b4e42aa5c1b7f7d48bac0",
              "version_minor": 0,
              "version_major": 2
            },
            "text/plain": [
              "HBox(children=(FloatProgress(value=0.0, description='#1', max=445.0, style=ProgressStyle(description_width='in…"
            ]
          },
          "metadata": {
            "tags": []
          }
        },
        {
          "output_type": "display_data",
          "data": {
            "application/vnd.jupyter.widget-view+json": {
              "model_id": "f070473706ef4a85bc003cb2b884e5ea",
              "version_minor": 0,
              "version_major": 2
            },
            "text/plain": [
              "HBox(children=(FloatProgress(value=0.0, description='#2', max=444.0, style=ProgressStyle(description_width='in…"
            ]
          },
          "metadata": {
            "tags": []
          }
        },
        {
          "output_type": "display_data",
          "data": {
            "application/vnd.jupyter.widget-view+json": {
              "model_id": "0bdd43db8970408fa4fbd28c521fd05f",
              "version_minor": 0,
              "version_major": 2
            },
            "text/plain": [
              "HBox(children=(FloatProgress(value=0.0, description='#3', max=444.0, style=ProgressStyle(description_width='in…"
            ]
          },
          "metadata": {
            "tags": []
          }
        },
        {
          "output_type": "stream",
          "text": [
            "\n",
            "\n",
            "\n",
            "\n"
          ],
          "name": "stdout"
        }
      ]
    },
    {
      "cell_type": "markdown",
      "metadata": {
        "id": "SOckzFd4Mbzq"
      },
      "source": [
        "This seemed to have worked! Let's listen to a couple of audio files to better understand the dataset and verify that the audio was correctly loaded. \n",
        "\n",
        "**Note**: *You can click the following cell a couple of times to listen to different speech samples.*"
      ]
    },
    {
      "cell_type": "code",
      "metadata": {
        "colab": {
          "base_uri": "https://localhost:8080/",
          "height": 75
        },
        "id": "dueM6U7Ev0OA",
        "outputId": "7d3cf91a-2cc1-4fb9-f029-8fbf30abc2f0"
      },
      "source": [
        "import IPython.display as ipd\n",
        "import numpy as np\n",
        "import random\n",
        "\n",
        "rand_int = random.randint(0, len(common_voice_train)-1)\n",
        "\n",
        "ipd.Audio(data=np.asarray(common_voice_train[rand_int][\"speech\"]), autoplay=True, rate=16000)"
      ],
      "execution_count": 26,
      "outputs": [
        {
          "output_type": "execute_result",
          "data": {
            "text/html": [
              "\n",
              "                <audio controls=\"controls\" autoplay=\"autoplay\">\n",
              "                    <source src=\"data:audio/wav;base64,UklGRiSVAQBXQVZFZm10IBAAAAABAAEAgD4AAAB9AAACABAAZGF0YQCVAQAAAAAAAAAAAAAAAAAAAAAAAAAAAAAAAAAAAAAAAAAAAAAAAAAAAAAAAAAAAAAAAAAAAAAAAAAAAAAAAAAAAAAAAAAAAAAAAAAAAAAAAAAAAAAAAAAAAAAAAAAAAAAAAAAAAAAAAAAAAAAAAAAAAAAAAAAAAAAAAAAAAAAAAAAAAAAAAAAAAAAAAAAAAAAAAAAAAAAAAAAAAAAAAAAAAAAAAAAAAAAAAAAAAAAAAAAAAAAAAAAAAAAAAAAAAAAAAAAAAAAAAAAAAAAAAAAAAAAAAAAAAAAAAAAAAAAAAAAAAAAAAAAAAAAAAAAAAAAAAAAAAAAAAAAAAAAAAAAAAAAAAAAAAAAAAAAAAAAAAAAAAAAAAAAAAAAAAAAAAAAAAAAAAAAAAAAAAAAAAAAAAAAAAAAAAAAAAAAAAAAAAAAAAAAAAAAAAAAAAAAAAAAAAAAAAAAAAAAAAAAAAAAAAAAAAAAAAAAAAAAAAAAAAAAAAAAAAAAAAAAAAAAAAAAAAAAAAAAAAAAAAAAAAAAAAAAAAAAAAAAAAAAAAAAAAAAAAAAAAAAAAAAAAAAAAAAAAAAAAAAAAAAAAAAAAAAAAAAAAAAAAAAAAAAAAAAAAAAAAAAAAAAAAAAAAAAAAAAAAAAAAAAAAAAAAAAAAAAAAAAAAAAAAAAAAAAAAAAAAAAAAAAAAAAAAAAAAAAAAAAAAAAAAAAAAAAAAAAAAAAAAAAAAAAAAAAAAAAAAAAAAAAAAAAAAAAAAAAAAAAAAAAAAAAAAAAAAAAAAAAAAAAAAAAAAAAAAAAAAAAAAAAAAAAAAAAAAAAAAAAAAAAAAAAAAAAAAAAAAAAAAAAAAAAAAAAAAAAAAAAAAAAAAAAAAAAAAAAAAAAAAAAAAAAAAAAAAAAAAAAAAAAAAAAAAAAAAAAAAAAAAAAAAAAAAAAAAAAAAAAAAAAAAAAAAAAAAAAAAAAAAAAAAAAAAAAAAAAAAAAAAAAAAAAAAAAAAAAAAAAAAAAAAAAAAAAAAAAAAAAAAAAAAAAAAAAAAAAAAAAAAAAAAAAAAAAAAAAAAAAAAAAAAAAAAAAAAAAAAAAAAAAAAAAAAAAAAAAAAAAAAAAAAAAAAAAAAAAAAAAAAAAAAAAAAAAAAAAAAAAAAAAAAAAAAAAAAAAAAAAAAAAAAAAAAAAAAAAAAAAAAAAAAAAAAAAAAAAAAAAAAAAAAAAAAAAAAAAAAAAAAAAAAAAAAAAAAAAAAAAAAAAAAAAAAAAAAAAAAAAAAgAAAAAAAgACAAIAAgACAAEAAAABAAIAAAABAAIAAgADAAAABAAFAAEA/v///wIAAAABAP3///8CAAAAAAD9////AAAAAAAAAAABAAEAAAACAAAAAAAAAAAAAAAAAAAA/v/8/wAA/v/7/wEAAAAAAAAAAAD+//z/AAD+//z//f/8//z/AAD9/////v/7////AQAAAP//AgAAAAEAAwACAAEAAAACAAAAAAAAAAAAAQD+//7/+//5//7/+v/5//n/+/8AAP3/AAD+////AAAAAAAAAAABAP///v/6//v//f/8//3//P///wAAAAAAAP7//P///wAAAAABAAIAAgACAAIAAgAAAAAAAAAAAAEAAgAAAAEAAwD/////AgACAAIA/f8AAP///P/9//3//f/8//3/+/8AAAEA/v/9////AgABAP7//f/8/wAA/v/+/wAA//8DAP7///8BAP7//f/9//3//f/+//3//P///wAAAAAAAP3//v8CAAEABQAEAAIAAgACAAMAAgACAAMAAQAAAAAAAAABAP7/AAAAAPn//P/9//3//f/8/wAA/v///wEA/f/9//z/AQAAAAAAAAAAAAEA/v/9/wAAAQD9/wAA/v///wEA/f/9//z///8AAP7///8CAAAAAgABAAAAAQD9/wAAAAAAAAAAAAAAAAAAAAAAAAMAAAD8/wAA/v/8/wAAAAAAAP3/AAADAAAAAgACAAMAAwAAAAAAAQAEAP////8BAAAAAQD9/wAA///9//7//P/+//z/AQD///3//v/9//7//f/+//3//f/9//3//f/9//3//f/9//z///8BAP3/AAD+/wAAAAD5//z//P///wEAAAABAAEABQAEAAAAAgACAAIAAQAAAAIAAwAAAAEAAgACAAIAAgACAAIAAQAAAAEA/f8AAAAAAQABAAAAAQD9/wAAAAAAAAAAAAACAAEA/v///wMAAAD9////+v/8//7//f/9//v/AgAAAPz//P/+/wMA///9//3/AAAEAP///f/9////AAAAAAAAAAAAAAAAAAACAAIAAwABAAEAAQAAAAIAAwADAP///P8AAAAAAQACAAEABAD/////AwACAAEAAAD/////AwD///z/AAD+////AgD+//z/AAAAAAEA///9//7//P8AAAAA/v/8/wAABAD+/wAA///9/wAA/v/8/wAA/v/9//3///8AAP7//f/8////AAAAAAAA//8CAAIAAQADAAEABQADAAIABgAEAAIAAwACAP7/AAD+/wAAAAD9//3/AAD///7//P/5//3//f/9//v/AAABAAAA/v/8/wEAAQAAAAAAAAAFAAMA/v/+//3/AAD///3//v/8/wAAAAD///3//v/+//3////5//7/AQD9////AAACAAAAAAD+//7/AgAAAAEAAgAAAAEAAgADAAIAAgADAAEAAwAAAAEAAwAAAAIAAQAAAAAAAAABAAEAAAACAAIA/f8AAP////8AAAEAAgD+/wEA/f/4//z/+/8AAP7///8BAP7//v/6//v//v/+//v/+f/8//3//P8AAP7/+/8BAAEAAAAAAAAAAgAAAAAAAAABAAMAAwACAP///f8AAAAAAAAAAAAAAAACAAMAAgADAAAAAQACAAMAAQAAAAIAAgADAAIAAwABAAAA/////wIA/v8AAP///P8AAP7//f/+//7//v/9//3/+/8BAP///v8AAAAA///8/wAAAAAAAAIAAgACAAMAAAABAAIABQAFAAAAAgACAAMAAAAAAAIAAwADAAAAAQADAAIAAwACAAEAAAABAP7///8BAP7//f/9//z//v/9//3//v/9/wAA///+//v/+//+//3//v/+//v//P/+//v/+f/8//3///8BAP7/AAAAAAEAAwABAAAAAQABAAQACAACAAMA/////wAAAAAAAAEABAACAP///f8BAAQAAAD9//7//P8AAAAAAAACAAIA///9//7//f8AAAAA/f/+//3//v/9//7//v/9//7/+v/8//3/AAD///z/AAD+/wAAAQAAAAEA/v8AAAEA/v8AAAMA///8/wAAAAD9/wAAAgABAAMAAAACAAQAAAABAAAAAQACAP3/AQABAAAAAAAAAAAAAAABAAAAAQADAAAAAgABAAAAAgACAAIAAwABAAIAAQAAAAIAAQABAP////8AAAAA///9//7//P/+//3//f/9//z/AAD9/wAA/////////v8EAP7/AAD///3//v/8/wAAAAACAAAA/P8AAP7//f/9/wAA/////////P8AAAAAAwAAAP3////8/wAAAQD9/wAAAQAAAAIAAwADAAMAAwABAAEAAwABAAAAAgACAP7/AAAAAAAAAgABAAUAAwAFAAQAAAACAAIABQAAAP//AQAAAAAAAAAAAAAAAAAAAAMA//8AAAEAAAD///z//v/8/wAA/v/9//3//P8AAAEA/v/9//7//P8AAP//AAD//wAA/f/3//7/+v/6//n//P/9//3//v/9//7//v/8////AgAAAAAAAAABAAAAAQABAAAAAQADAAAAAgACAP///v/6//7/AAAAAAAAAAD+/wAA///8/wAAAAAAAAAAAAACAAMA/f///wEAAgACAAEABgADAAYAAwAAAAEA//8DAAEAAAD+/wAAAAD8/wAA/v/8////AAAAAAEAAAAAAAEA/v/9/wAA/v8AAAAAAAAAAAAAAgACAAIAAwAAAAIAAgD+/wAABAABAP///f/+//z///8DAP///f/9////AAACAAIA/v/+/wAAAAD+/wAAAwABAAAAAQD9/wEAAgD8/wAA/v8AAAEAAAABAAAAAgAEAAAA/f8AAAEAAAABAAMAAQABAAIA///9//7//v/9//7/+f/7/wAAAAABAAMAAQD+//7//f8AAAAAAQD///3//v/5///////8//3///8BAAAAAgACAAMAAQAAAAEAAAABAAAAAAACAAIA/v8AAP///f/+//3/AAD+/wAAAQAAAAAAAgADAAAAAAABAAIAAgADAAIAAwADAAMAAQABAP///f/9////AAAAAAAAAAADAP///f/+//3//v/9//3//f/9//3//f/9//z/AAAEAP//AAABAAEA///9/////P///wIAAAAAAAAAAAACAAIA/v8AAAEA/v///wIAAgADAAEAAAACAP//AAAAAPz/AAAAAAAAAAAAAAIAAQAAAAIAAwADAAEAAAAAAAIAAgD//wAA///9/wAAAQD///z/AAD///3////7//z//v/6//z//v/8/wAA/v8AAP///f////r//P/+//3//v/+//3/AAD/////AAABAAMAAgD/////AgACAAMAAQABAAAAAAABAAAAAwABAAAAAQD+//3//f///wIAAwADAAEAAAACAAMABAAAAP3/AAD+/wAA///9//7//v/+//3//f///wIA/v8AAP///f/9////AgACAAMAAAAAAAEA/v///wIAAAABAAMAAgADAAAAAgACAAIAAwADAAMAAwADAAEAAgABAAIABAD/////AgACAAMAAgAAAAEA//8AAAEAAAABAAEA///7//n/+////wEAAAAAAAMAAgD//wAAAAD7//r/+v/6//r/+P////////8CAPv//f/+//3//v/9//3//f/9////AAAAAAEAAAABAP7/AAAAAAEAAQAAAAEAAAACAAMAAAACAAEAAQD/////AgD+/wAA/v8AAAAA/f/+//3//v/9//3//v/9//3//f8AAP///f8AAAAAAQD+/wEAAgAAAAAAAQAEAAEAAQAAAAAAAgD+/wAA///8/wEAAwACAAMAAwABAAAAAAACAAMAAwACAAEA/v8AAAAA//8CAP7//v/8/wAA/v///wEA/P8BAAEAAAACAAIAAAAAAAAAAAACAAMAAgADAAEAAAACAAMAAwADAAMAAQACAAEAAAADAAEAAAABAAMAAwADAAEAAAABAAAAAgADAAIAAAABAP7/AAD///3//v/9//7//f////r//P8AAP7//v/+//7//f8AAAAA+v/9//v//P/9//z/AAACAAIA/v8AAAEA/v///wEA/v8AAAQAAAAAAAIAAwABAAEAAAACAAEAAAADAAEAAQABAAAAAQD///3//f/9/wAAAAABAP///f/+//z/AAAAAAEAAwABAAAAAAABAP///v/+//3//f8AAAEAAAAAAP3/AAAAAAAAAgACAP///v/9////AgAAAAEAAwADAAEA///9//3/AAAAAAIA/v///wEAAAABAAAAAgACAP3/AQAFAP7/AgAAAAAAAAD+/wQA/v8BAAEAAAAAAAAAAAADAAIAAAABAAAA/v/+//7//v/9//z/AAABAP///P8BAAMAAgABAAEA//8AAAEA///+//7//v/9//3//f8AAP7///8AAAEAAwABAAEAAAAAAAAAAAAAAAIAAgADAAAAAgADAAIAAwACAAMAAwADAAEAAQD+/wAA//8AAP///f////z/AAAAAAIA/v/9//7//v/+//3/AAD///3//f8AAP//AAAAAP3//v///wIA///9//3//f8AAP///P8AAAIAAQD+/wAAAAAAAAAAAAAAAAIAAQAAAAIAAwABAAIAAgAAAAEA/v/+//7//v/9/wAAAQD+//7//f8AAAAAAQD+/wEAAAD8/wAAAAABAP///f8AAAAAAgAEAAEAAAAAAAAAAgABAAAAAQD///7//v/+//3//f/+//3/AAAAAAIAAgAAAAEA/f8AAAAAAAD///v/AQABAAEAAQAAAAEAAAABAAAAAgADAAIABgAFAAAAAQD+//3/AAAAAAMA//8AAAAA+/8CAAEAAQD+////AgACAAEAAAADAAEAAAACAAIAAQAAAPv//f/9//3//v/9////+v/9//z/+f/6//z//v/+//v/+//+//z/AAD+////AAAAAAEAAQD//wAAAgD9/wAA/v8AAAAAAgADAP7/AAD//wAAAAAAAAIAAgADAAIAAQACAP//AAABAAAAAgACAAIAAwACAAMAAgD///3/AAABAAAAAQD+/wAAAQAAAAEAAAAAAAAAAAABAAEAAgADAAEAAQD//wAAAQAAAAEAAAAAAAAAAgABAAAAAQABAAAAAAD///3//v/+//7//v/9/wAA///9/wAAAAABAP7/AAABAAAAAgABAAEAAwACAAAAAQAAAAEAAgD///7////7//n//P/9//3//f/+//3//v/+//7//f/9//7//f8AAAAAAAAAAAAAAAAAAAIAAAABAAIAAgABAAIAAwACAAIAAwABAAAAAgACAAMAAgADAAMAAwABAAAAAQAAAAMA///9//3///8AAAAAAgD+/wAAAQAAAAIA///+//7//f/+//z/AQABAP///f8AAAAAAQAFAP//AQD//wAAAgD+/wAAAQABAAEA///9/wEA//8AAAAA/f/9/wAA/////wMAAAABAP///f/9/wAAAQD+//3/AAACAP///v////z/AAACAP3/AAABAAIAAQAAAAIAAwABAAAAAAAAAAAAAAACAAIAAwABAAIAAgD9/wEAAwADAAEAAwAAAPz/AAAAAAIAAwADAAAAAQADAAMAAwABAAAAAAABAP7/AAAAAAEA/v///wEA/v8AAAAA/v8AAAEAAAABAP///f8AAAAA/v////v/+v/5//3//f8AAP///v/8//j//f/9//3//v/+//3//f/+//7//v/6//z/AAABAAEA///+/wAAAAACAAUAAQABAAIABAACAAAAAgADAAIA//8CAAMAAAD7//3/AQAAAAYABQABAP7//v8DAAMA///9/wMACAAEAPn//P8FAAsABADv//f/EAAVAP//4//v/xcAJAD6/8v/7P83ADwA3/+g//j/WwAvAM7/sf/8/10ASQC9/3v/CACrAEIAWv92/1cAlwD5/3v/tf9BAHUAAACC/53/QgChAPb/Sf/L/40AWwC0/5v//v9QADAAy/+0//z/UgA9AMv/rv8XAFIACgDG/9//IgAxAP7/1//0/xsAIQD9/+P///8fAA0A5//v//r/BwAWAAEA4f/3/xwACwDs/+L/BAATAAUA/P/q/+r/DQAqAPX/x//z/zMAJADV/87/DgAuABQA3f/V/xEAOgASANb/1/8YADwACQDf/+7/EwAoAAoA1f/r/y0ALQD5/93/9/8XABgA9f/c//H/GAAeAPn/3f/0/xUAFgD9/+j/+f8PAAwA+P/o//b/EAAUAPb/3v/2/xIADQD4/+T//v8YABEA8v/t/wYADQAUAAEA7P/2/wYADQAEAO7/9f8VAAwA7f/z/woACwD9//H/+f8FAAYABQD3/+//CgAQAPT/7v8BAA0A///1//j/AQANAAYA+f/8/w4ADQAAAPz/AgANAAcA/v///wAADQARAPb/6f8AABgADQDr/+7/DQAXAAUA7v/s/wAAEwACAO//7//7/w8AEQDx/+P//P8cAAwA3//j/wMAFAADAPD/6v/7/xUADQDu/+n/CwAhAAIA3P/y/x0AEQDv/+7/AwASAP//6P/1/wgACAD+//b/9P8AAAoA9v/0/wUABgAFAAUAAQD//wIABwAGAPz/9////wsACAD9//b/AQAVAAUA8////w0ABAD8/wAAAgACAAEABgABAPj///8UABAA/P/6/wQADAACAPP/7/8HABAAAQDw//T/CQAKAPz/8v8AAAIA/P/9//3//P/3/wAAAwAAAPn/9f8DAAwACwD1//L/DQAPAPz/9f///wsADAD6//X/AgAOAAQA+v/9/wcACgD3//n/BwADAPv//v8FAAUABgAAAAAABwAFAAIAAQACAAMAAQADAAkAAgD2////DAAEAPn//v8AAAEAAAD4//j/+/8EAAYA9v/4/wgABgD8//z/AQACAPv//f8HAAMA///7//3//P/9////+P8AAP//9v/+/wcABAD7//v/CAAPAPv/8/8AAA4ABwD5//X//v8QAAsA8v/v/wkAEwD//+//9/8EAAgABAD6//7/CwANAAQA/v8AAAMACAAFAAAAAAAGAAYAAgACAAEAAwAAAAQABQABAP3/+P/7/wAACAD///b/BAAPAAUA8//0/wUACgAAAPL/9f8EAAcA/P/r/+r/BAAPAPn/7f/1/wcADQD6/+j/8/8MAA4A9//o//j/EgAQAPj/7P/4/w4ADAD6/+z/9/8QAAsA8//w/wEADQAIAP//AAAAAAcAAQD9/wYAAgD+//7/DQAJAPj/+v8HABIACQD5//T/BgASAAcA7P/t/wwAFwD9/+P//P8SAA0A+//u//r/CwAPAPj/7P8BAA8AAgD1//X/BAAJAPz/9//8/wMAAQD8//j/AAAFAPj/9P/9/wEAAAD8//f//v8DAAAA+v/1//7/CQACAPn//f8EAAgAAwD///v/AwAJAAYAAAD7/wIAAwD///z////7////CAAEAPr//P8CAAIABAD7//X//v8NAAQA9//z/wQAFAAEAPb/9f8EAAsACAD5//X/AQAHAAcA+P/2////AgACAPz/8//7/wYABQAAAPr//v8GAAkABAD9//z/AgAEAAAA+//3/wIACgADAPv/+/8CAA0ABwD+/wAAAgAKAAIA9//+/wUABAAAAAAAAgACAAIAAgAAAAUABQAAAP7/AAAGAAMA//8AAAIA///+//v//P8BAAAA+v/2//v////8//f/+//+/wAA///0//X/AAAFAAEAAQD+/wAABgAFAP7/AQAGAAcABgABAAMAAwAGAAIAAAACAAUABwADAP7/AAABAP///f///wUABAACAP//AAAAAAEA/f/3/wMACAABAPj/+v8FAAkAAAD6/wAAAgABAP///f/+/wAAAgD///3//v/9/wAAAgABAP3/AAAEAAEAAgABAAAAAQACAAIAAwACAAAABwAEAAAA+P/1////AgD9//X/9P/+/wQAAAD4//b/BAALAAUA+v/5/wQACAACAPj/+/8CAAkABQD6/wAABQABAAQAAAD7//r/AgAEAPz/+v/7/wMAAgD///n/+P8BAAMA+//y//z/BQABAP//+f/8/wQACAADAPv///8HAAQA/P/8/wAACAAFAAEAAAAEAAgABAACAP3/BAAGAAIA/P/9/wQAAgD//wAAAgABAAAA+//5////AgD8//n//P8BAAMA/f/3//z/AAABAP3/+v/9/wAAAAD8//v//f8AAAEAAAD8//z/AAABAAEAAAAAAAYABQAEAAIA/v8CAAQAAwAAAAMABQD///7//f8BAAQAAQAAAAAAAgABAP7/AAAAAAAAAwABAAAAAAABAP////8CAP///v/9/wAAAAABAAMAAwAEAAMAAwAAAAIABAADAAMAAgADAAMAAgAAAAAAAQADAAIAAQABAP7/AAAAAPr//P8BAP///v/7//v/AgAAAPv/+f/+/wMAAQD///7//f8BAAIA///+//7//v8AAAAA/f/+//7//f/+//3/9//+/wIA/P/5//7/AgAAAAAAAAAAAAIABgAFAAAAAgAEAAMABgAEAAIABAACAAMAAwABAAIAAwAEAAAA/f8AAAIAAgD///7//f8AAAEAAAD7//z/AAD///v//P/+//z/AAAEAP////8CAAQAAQACAAMAAwACAAMABAD9/wIAAAD//wIA/f8BAAQA//////r//f8BAAAAAwABAAAAAQD///3//f///wIAAgADAAIA//8AAAIA///9/wAABAAAAP3////+//7//v/9/wAAAQABAP///f8AAAAAAAABAP7/AAABAAIAAwABAAAAAAADAAEAAgACAAAAAQAAAAMAAAACAAQAAQACAAIAAgAAAP7//v////7/AAAAAAAAAAAAAAQAAAD9/////f8BAP7/AAD///3////+/////f8AAAAA/v/+////AQD+//3////+//7//v/+//v//P8AAAEA///+/////f////v//P/+////AwD+/wAAAQABAAUAAAAAAAIAAwAEAAIA//8BAAYAAwABAAEAAQACAAEAAQABAAAAAQADAAMAAAADAAIAAAADAAEAAgAEAAQAAAD9/wIAAgD///7/AAD6//z//v/+//7/AAADAPv/+f/+//3/AAD+/wAAAgD+/////v/9//z/AQADAAAAAwAEAAAA+f8AAAQA///9/wAABAD//wEABQD6//v/DwAJAPL/BAARAPr/9f8QAAcA8/8MABEA8v/4/xAAAgD0/wQACAD5/wEABwD9//z/BAAEAPj//f8HAAUA+f/+/wQAAgD9//j/AQAAAPv/AQD9//j///8FAP7/8v/+/wcA+//4/wAA///8/wAAAQABAAIABgABAPn/AAAHAAMAAAAAAAQABwAGAAIAAgAHAAgAAwACAAMABAACAAAAAAAAAAUAAwD+////BQADAAAAAgAAAAEAAgABAAEAAwADAAMAAgAAAAMAAQACAPz//P8CAPr/+P///wQA9P/4/wMA+P/8/wIA/P/y//3/AAD0//3/CQD+//r//P8BAPv/+/8AAPf//v8CAP//+//7/wAA///6//v/AAABAP7/AAAAAAQACQD///7/BwAEAAEABgAHAAMABgAHAP7/AAAMAAcA/f8DAAkABAADAAgABQACAAQAAwD8//v/AQD///r/+v8DAAUAAAAEAAoABQD9/wMACQD//wAACAACAAAABQAHAPv//f8IAP//9v8AAAQA+f/7/wMA/f/4/wIAAAD4/wAABAAAAP3/AAD///3/AQD8//j////5//f//f/8//j//v////z/AAACAP7//f8GAAIAAwAHAAMAAwAGAAQAAwADAAUABgABAAEA/v8AAAEAAAABAP7/AAAEAAIA/v8AAAIA//8AAAAA/P/6//z////6/wAA///9/wEAAQAAAP7/AQAAAP7//f8AAP7//v/9////AQD9/wAA/v8AAP//AAACAAAAAQAAAAEA/v8AAAMAAgD+/wAAAgAAAAIAAgACAAMAAQACAAIAAgAEAP//AAADAAEA///+//3///8BAAEAAgD///7//f8AAAEAAAABAAAA///9//7////9/wAAAAD6//z/AAD/////+//5//v/+//9//7/+//9/wMAAQAAAAQABAABAAEABgAEAP3/BQABAPz/AQAEAP//AAAGAAMAAAD9/wAAAAD9////BAD9////AgAAAAAA/f////7//f8AAAEA/P/8/wAAAQD/////AQAAAAAABQAEAP7/AgABAAAAAAAAAAEA/v8AAAMAAQAAAAAAAQD+/wIAAAD8/wAAAAAAAAAAAAACAAMAAAADAAEAAAADAAQAAgAAAP3/AAACAAAABQAEAAIAAwAGAAUAAgADAAIA/////wMAAQABAAAAAQD/////AAAAAAIAAQD///z/AQACAP3/AAABAAAAAQABAAAA+f///wIA/f8AAP///P8AAAIAAgD+/wAAAgD///7///8CAAIA///+//7//f8AAAEA//////7//f/+///////6//z/AAABAP///v/+//3//f8BAAMAAQAAAAAAAQD+/wAAAAACAAIAAAACAAAAAwAAAPn//v8CAAMAAAD7/wEAAgACAAEAAAACAAIABAAEAAEAAAABAAYABAACAAMAAwAEAAIAAgACAAQAAQACAAIAAAADAAAA/f8AAAMAAAD///r/AAAAAAAA/v/5//z/+v/7//j///8BAAAA+//8////+//5/wAA///9//7//f////3//v/9//7//f8AAP///P8AAAAAAAABAAAAAwACAAAAAQD//wAAAQD//wAAAAAAAAAAAAAAAAAAAQADAAAAAAAAAAIAAwACAAMAAgAGAAcABAADAAMAAwADAAIAAwADAAQAAwD//wAAAAD9/////v/+//7//v/9//r//P8AAAEA/f/8/////v/9//3//v8AAAEA/v/9/////v8AAAAAAAD///3/AQADAAAAAQACAAEAAQAAAP3///8CAAMAAQAAAAEAAAACAAMAAQABAAEAAAABAP///v/6//v/AAAAAP3/AAADAAIAAwADAAEAAAABAAAAAAAAAAEAAgACAAQAAAD+//7///8AAAEAAAABAP///f/9/wEAAgAAAAIA//8AAPz//f/+//z////6//3//v/+//3/AAABAAAAAgABAAEAAAADAAIAAAACAAMAAwACAAMAAwACAAMAAgAAAAIA//8AAAEAAAABAP7///8CAAAAAgADAAIAAwACAAEAAQAAAAQAAAD8/wAAAAABAAAABAAAAAAAAAD7//z///8CAAMAAgAAAAAAAQABAAAAAwAAAPz/AAD+/wAAAwABAP///v/+//7//P/7//r//P/+//r//P/9/wAAAAAAAAEAAAADAAEAAAABAAAAAwACAAEAAAACAP7/AAACAP7/AAABAAAAAgACAP3/AwAAAPz/AAABAP///P8AAAAAAQD//wAA/////wEAAAAAAPz/AQD+/wAAAQD9/wEAAQACAAEAAQADAAMAAQAAAAMAAAACAAMAAgADAAIABAABAAMAAwADAAEAAAADAAEAAAACAAMAAwAEAAIA///7//3////+//7//v/+//7//v/+//7////7//3//P/4//j/9v/8//7/AAAAAPr//f/+//3//f///wMAAAD//wMAAAACAAQAAgD///3/AAADAAEABQAFAAIAAQAAAAAAAgADAAIABAABAAMAAAD8/wIAAgAHAAEA/P8CAPj/AAACAAAABgD7/wMAAQD9/wgAAAD9/wAAAQAAAAAA///9////+f8DAAMA+P8AAPL/9//+/w4AHwDt//b/+//0/xsA+P/+//H/1/8cAPf/DwAfANX/BQDi/w8ANwDs/x4A3//u/yYA+f8xAPb/4P/8/+H/HwAUAAEA9P/Y//r/CwAXABEA+v/g//H/DwATACIA+v/k//L/9/8pABIA+//7/9f/AwALAA0AEwDe/+7/9v8AAB8ABgD5/+v/7v8KABAADgABAPH/7/8EABEADgACAOz/7P/2/wgAHAACAPv/9f/0/xAACgAQAAMA6v/+/wAADwAXAAAA/v/3/wAAFAAJAAcA///v//7/BgAIAAUA+P/v//f/AAAKAAsA9f/w//D/+/8MAAkABADw/+3//f8KABEAAQD1/+r/9P8JAA4AEAD6/+//8//4/xYADAD8//f/6v8CAAgABgANAPX/8//6//v/FQAMAP3/9v/u/wYACwAHAAEA7f/v//r/CwAXAAYA9v/v//b/CAAZABAA9f/w/+7/BAAUAAoACADr//j/BAAIABwA/f/+//D/8f8XAAEADQAAAPD/BgD+/xIADgD6////8f8AAAcAAAAGAPn/+P8AAP3///8BAPr/BQADAAEACQD4//z////9/w0AAAAAAAMA/P8OAAAAAgADAPX//f/6/wgADQD//wAAAAAGAAQABQAGAPb/6v/n/wMADwAIAPz/4v/7/wQAAAAGAOn/6//1//X/AgDz/+j/7v/3/wEA9f/y/wEAHQAYAO7/5f/5/xMAFQD1/+v/9f8AABUAJQAEANr/z//3/y4AFAD2/+P/AgA+ABkA6f/G/+j/CwDg/wIAXQBcADsAMwBOAAcAdv+9/8X/of/C/+n/WwAmAGYAtwB8ACMAe/99/0j/Sv/Q/9n/v//u/28AmgCBAH4AjAAGAIP/af/b/9YAnwDU/1r/GQDPAFMAJQBn/zn/Of8C/5D/Qf9Q/5D/Xf8UAFcB6QILAkX+Cf20/0MCqwIKAjEBhQIjA+0A3AL2A/n90u4u5bz3nQhUBLn7Z/w/D3YTNQl6CTMGSALl9T3tm/yNBfMCbvnq898CFAqzAuv8BPo1/Q/8EPnCAnMJOgaUAfb9ZQRTCsYEM/66+Dn69v7b/C3+tgHxAMj+efzc/zsFhgKd/Mb5cvtdAe4DMQKbAlYCtAEyAtEBPAS+Adz7M/tv+wsAfwGQ/SP9hf1rAMoBmgDdAEQAU//H/o0AggPQAlz/4v4hARICvAEVAuz/Mfs/+zz9Vv/m/lH9cAAu/0//gwMEBNEDOQBs/10COwGmAckAPv61/0X+Wv1h/Yn8KwFrAG/+2wEcA7EDNf9U/Kb/1gFoAx8A4fr+/ggF8QPbATn90f7TAAn6mwAXA5r+uv1Z+Jj/gAHlAXoHTPtW/fgH7wJ5/x/+iQIbA436dACNBJz+7wDn/Yn7lP9SAOb+sPWW+RoGbAE//KgA2Qf1BC7/mQPpA/QAFQKQA2UBT/5yAOf+x/eA98b7gPlM9/v9ywOBA9EBrgTeB4UCOQSrCasFpgXuA2n/qPp+9TD4DfZa9Jv62f63AqYI4AcUATwDsQL5AUQB3fxsAzH8+/iQAZD/zQOJ/HH63QMvAKYDYAF6/KMA7v0rAJIDsAPxBY3/1fwkAHMAOQOL/Fb4xv1p/c/+Hv4rApIHIwMTBeYBm/0UAV3+lP4p/Eb7TgTSAm4CMAXcARECAft0+aD9J/l4/aL+Cv9CBdUBpQBc/eX7PAQJArr/GgV6CLULlweiBDcE/fgO9Q/4mvcz+3f82fzZ/Lb8IgTZBQMB9QFKAh8CPgNwBMIGSwO7AU4DnQHpARUBMwHa/6n9qf0V++D96QAAAeEBVP+S/owAuQHkAJH+vf4dAnACuwHUAFz8p/7Y/1f7tfu5/DX/iv/t/FL+l/0x+2H6CPlk/W8CNAEhASUAugFrBJv/tfpq9wb4lfvG/kgCUgN4BFIE/wHp/aj8mv4K/C37nvwOAN8EBwOxAxUGaANABC4CkP5s/9P9gf+o/Sb9IwQ6AND+AQLQAasE2gKiArgDTgKHBHwFFwbXBt0ElQMXBdQGOgf0BKsAggGnBM8DFwQeBToFWwiBCW8J6Qf2AJj/XP9w/Yv9Z/iG+db9eP1nAkADQgAf/7z63vsq/Ib5xP+a/8L9gwMjBmMJBAG88HDm494Y4vfjXeM86WbuO/iMAasDtgPHB3sKAQa3Ajf85vX5+Y0DuACQ7+HtLvhk/gz/S/g+9BDytvOr8kbst+9F8SbvhvAf+ngNBhSzEMsOvgxjD4INEQg3BooDdQVHBxgG+QmcCdQD5v7c/ZMFFA0EEosWoxddGtodGR/RIMgfARnQEycV1hjjGLcTFw7NCskKRQ2WDT8M9Q0eDpAKBgibBaYIHAcf/Ln3ufXu/OwD6fzd+hH8KweuCbPuM9z51cfTYcepojOYxrNi0Trc9NSt60IWZhmkCFMDuA4nFG36mu3f+Y8CYgOi817pUO4F7MHlZt4k3Q/p5/RC/3oLMBSzHzgpSyRLHk8eFCOCIvoS+Q3aFfEOi/Pu1hPT1d7h4TDja+6N/5cROx6YIGMe8h2cGpIPignHEsEbpRX8CI0BxABZA/z/gff09pv/bAqYETUX1B1oHkkXCBCHD/8U9BiaFDgN6w39F9EfohgeDH0FWQIuApgESQkEC60J8QvlDbcLMAnHBCj7OvCL7ov4kv1J/s0AMv1p+kH5CPnL9H3jRtO1xMK7isGTxq3Jzst+zzPfA+9i+gkCx/93/4sBuAFmB8QJWwmiBcH70fqs+jz2O/AH5XLgSeI6513vAPY+/8IIJA0QE2EbhB+5HasUHAmIANL98AAwAY78cvdR9Tn33PozAN0HdwzVCWEKNBQQHXMcEhOXCkQIcwmoC40KAgouDAUO5hESFY8WrBfOFVMRfA9oE4cWYhFhCUEGKgbwCocRChOQEm4SNRTBFHkRqw5IDNkMMg+ZCqoGbwaFA58CagHu/Uf1wum55yToH+wS+l4AaP2g+7r+Zwa/BUoHTQnT9L3cV9Wb3AffPtbU0DK9Q5oLmVvEgeaO37bKrtBB8PgUxy7PKIAW8hINFhsSywu+D38RAwFH61PrMf4FBqLvwcLhlwiQrc+9Mz1eEEPcLVU3fDSoH78VLAqB7uzq7gEtEdwekiyVHKbkacQa5GUKgxRHEyQRgxEbF04l0idYEOkBwwEf/XwB3RgLMqApXwzoAfQCDgcIEkkWXguQ/1kFsA9JCuQFlgjsA1H94gSWFWAaIxXrD9oJLQQXBiIM7Qt4BxIArPZf9AP7r/tG8n7qiefO5UnqD/jG/CPyK+y79KP+wPyM81Ltuu2k8+j58Poa9zT0sfcR/fkAD//49tzupOY16CXyk/jJ9krzyAAOFRscSxf3AxTnp9ZD2OvbFNXC2OvvePei8IPxlPiA/en6iPkv+N/7yhF7JLIiNBrHFQcLM+nTwwC9vs5r5EXx/vED8db6LBCYF8wHef9VDQofSShZLqMvKieuGBgJNvl18h7+Sgv9ChcGAgzQGRAh8h99GgEVYBOCFv8XEhYXFhEXGRWHEAkQgRKNE4oU9BJUDvcMNBHvFCAR+QgaAnz5l/TT9879ogKDBCEHUQeUBBQDxv7t+r4AXwVm90zn4eki8hrs6eBe4v/oufCh9wL00vFT/NYH0QI89OLwBPbF93v40PWD8F7zpfEs4mzLNsWj0LLJgLbguJ3VBfD5+HP4WfZo9SMB2g3aBlsEjRFAISMb7glgCBkIoATtAFH7Y/Rw+DcGVgjb/dz7dAa0CFcIBA4pDr3/QPCI7Xnq1eurAR4X9ROTCzMNag+IDJgM1hBiDLYLJRXTF4QOcgNHAjr9nvXk+9kHlw4LEz0YEhWiDy8ThB3gHikaMxfVD8UJpQeeCqMJWwgdDJEMMQs6DScTMRMgCtgB2wGlBT8LXQ3nBfv81PuL/qX6+fby+4sFawooBd/7IfXF9Cf2SvJ46qzphfF79x74LvVQ9lT5UvdO8BPrNO6u8pX0ovAC6nzs//QR+j34m/Tg9rX8N/5u/vX8nv6UBv4LZAsZBJcB1/8A/nz/JgAEAhIEOgaZAjz4quxy5TTc3NNp1TfgCO8+/OQCEf7a+Hj1vPYM/fECowjGDL4M3AiCB+8D1v1Y8H/eo9AZ0l7lE/VO/gP+o/yWAP0JIRHdD3kQVhSxGcEYHhZIFEIQ1gm4BYT/kf5lCmQTbhddFaAR0xKuGcIesiAxHwobNRokGM8S3Q9zEQkQyQuHCfEKtg3TD7IQ+Q3wCjUJpQSsALAEBgzBEMMOqAJ69jLxEvVx+yz6ofUR9dD2V/QV+S0Cev328ibslehW7Wr52vx690jtgd9E5PPz1/nX9nv1+OwC62P5nPUU+cwBGPqe7iHvb/iVAPsBRvCR64XyJvz6CS4K3fm88QX9tQiHDuUKaw54FdEY6hrvEJwFkgIaCDcA6PMl/CIGhwd//3zykeoD9e75hOoP3U3fT+u595r9dfLf6PjhXukv8XLwLPOi9cDxs+L34pPq+/nxBIsDs/jA76v7mQcjCrcHGwqEDpEV8RT6E8kYJR47H5YRiAmfDO4Y2B29GXcU3BBqE9UTcxi+GGsbqh7XG64dpR2uGSkYERdNDq0KpwZmAmwFcwPC+/H5FgGfBy0NEgkA+DboivGK/F8AqhOYC5/x0PK57KHdke9hBFYAafCO32XhdPg+A+P77O9S6GX2e/SQ9BwFz/y8+7r+V/au9x8Duv6f+Lr9r/mA9qryWfpgA3n82vZ8+1f/VAQRDXsOwwY78kfuFAReE8kKCv5n/OL/YfwQBUIVbf+r6gT9bQ/fEAcYuwWD6uf54Q/jClAGJg47C7r/LvMe8dr4jgJX+GPwSvrs/kQEFvu77ALh3dp15qL2pu8b6prxw+Mx5EjyC/Ja+0QCIfc59lUAgA5+FLgDw/SB9EQFBxY0GIwO5/xw+40F6Q/jFjEPgAWPBe8JoA4KHt4m6Rw8DPv62QCBHf8xFSYRCVTzSfJZB+0ckB1VDqH9/PjmAZn6SwhQEwXviuR0APwYQCUVFMTrBurS8y3y7/+dDrYRKf9s92z0lvGGCIjxmti9B1QOYuf16A4D0vvW9f4Duu6C4QH7DBC0/FTxFQfSBcvxA/Qc//IFVhdMAYzkEvDN8qXypAS4BPXvJfH5BmQXugD69ZABpey99jQbQguX9CUB5fW36QkIjAug/OoKOfpM56H36/8BDtUVGf9O5+Hyfw39FxgIHu3k7aX1oPVpBRQQpg1sBq7u2eC5+1EQ+gMZBGzsItV8+OUR0gO671zlvewW+xP8KxDRExf93f3u9q/5KA4qCiEF/QIe/CMFCAo0DjIIPfanAVURvgmdDl0TKwkBBqgCCAQkDY4dchVCAvvzgPTSFowUgftECgQapwB8CVEa2/jt8sD+ugHWCykZbhSrAorug+j+A5QeFBcq/eLpqeQbA4kbvw1l+4XzEOcA5dP3hQ9yJhAQZNufy+Xqxffq+DMJmAuNBTLuh9Sr62cWQBvwA5jasuUHCBcIpxaOGQXyY+Rz9xr8/A6TFUgSAvv+57jxCgaGHIwR7/VD7EDyovouJjIYHfJv+eD66f/F/1D7qAJlIikVPeyK6vkGQwuV/iv6/epK/0AI8PmkA7X3qeT1+SMG1/Qt9aHxiubv/sYS6QUJ+Zr40+9p714B7wVXCNsGmvB+5pj1nwMTDf/8IOyQ6QbzCQzEHFAF9eBp8tkEJgTuBHQIagWKEv8Fp/EaC0gBmwYvIaoIFOwMCsET8QTvFJEZIgpJ9vv49gtyCzgEwBYwBhfw8QIpA50CGyEAIRvk5tmlBJ8Nzg5UDa0HfQHk7iH8pQqyAvICYf+iA8UPPPJf2EEOxh32A+H1U+SqD2URQPBH9Zf55wYC/9vsj/AiFZEB7OCF9hHt0/o4EXb/NO71+hD13ejjC94OoOSF3sz+OwynFoUFj9xf8YAPPPQS7W0P6wGE6e8KPAwj9cgF/wxc/NHzIQ46Btb6//+C/McbmBlXCb/2/OIQ+oIaxBgH+O3db+sjCd8M7Axd7s/qPgmx/e76AQLOAAIC7QDG8D31kwPSA8QFuu5R617+BgKMBQj7RvBm/dj+CPqUAtgH0gv/A2bsIvtYCh75ghJXAeLmlQnQDT4ALAxyFGTyTfYoBuYL3xaIBL3/oATTEP7/zvq1DxX+bfpKCmgC4QA6DLwHWfYp9hwX2xFVC7kNUOsH9fUi3RPo89sMR/k3+jIYmQFKCGz5DevTDgMRbvUqAtQDi+/gF3sRKtlz/2AHgeNcAg4N1f3E7Z/4VvT47m8f5w5Q4LfpqgeX9KYCQh+c6GjievdS/SYP7gW87OHgWunc+wkOdxCA/dfseOOZ94wlAgVx5xIBWO8v85wW1gLf6egFdfof6MMIRAa9+OcSMP823JAOzhVMBGkHMelL/X4Zyw6o+kvuOPpjCE8DZ/zD/9gBqgLt/oABugAi/4EDh/4x+WoFlgPg9noB6f0J+G32uvxxDJAH5vTu954Eh/2YEuAEKOmgDhccBggQABwBFgmsBor16wRDG/sY8f6j9XEKHQvkEvYKKPhd+jYRBhUHB9AJnO4A+4UbDwNtAY/+8/VkEzP5M/J6BsoCDhUg8nzufgL8Fv4alOpZ4Z7q+DFuKonP0OPf+AMVQSA43DbilwuKCmMAtuf04uoLih6t4gfgbwRlCDAaEPJv1vT3qhSnCVzvTupJ+5EgvAel6QT3xwugEdnxlu9vCEgEav77+1f2lAwgAWrynfCiAI0ZgPkm9GUEW/gd87QKKfiE89AMz/vr+j/9QQC2BgAFjPod9iADdg7XBJD1N/oQAKr8U/0k/9v39f+2+3n/HftL9AoQt/jS8LIAbftdBI//bO8eAGoKUPiK+879BAETBSL42ADjE+gASP8lAX78oxFBDH8CLAiiACUAqAu7B0AJEwQJ93MG/BxgCJT8XgJOBB4UNQqpA88BAQerCt37TQ2xAyb8lAz++8X9k/J4CjkIlPUUAcDvxQfuBWn/nPVr9q8K8QPVAPzs//zbDWD3PANg+MgD6g0Y7d7+SwOIAqP28fxgCOv82fw4/ggAwP29/qb1r/1qCOH/sPA7/lUAkP4B+CzwngWR/rj6rve4/rP+ZPrS/hD2LQTi+5/7zgJa+MoDffK9+gkKt/bhAyv7mvseCXD72P/p/SQC/AUcAuT8pP17CNUD2/+e/OcEOQR3/gb9Sv0vAjwCTgJR+2L9LQcbAs/5jvvUAGkGMAGY/o784/wzBbMB0P/X/xX4SwJwBZz+Kf8AAfkAQgGSAnD9+waC/woAFwSjBH0IlQV+A8b+/wDPBBQJkwEJBBgABQJYA24EdAHl/X8E8AJLBYoCuASBAeX/AwSrBn78cwA4BycCdQAy/jQBugUCAEv66QJ6/2cG5gBR+0wDQf6g/137df89Ajn8gv7Z+7L9qv1r+7D8r/p1+qP9Bf5++2b8G/v+/Xb5Qvpe/6D9g/zK+lT9Svzn+lz77fvs/Yf9hPps/K3+AP4p/zL/Xfzq/wYAIAAeAEn+EAB7AVcBRf8RAnMBUwKeAKz9jgAnAqwBoAL4/xcAXAFFAY4CuADlAMT/VgK9AMIAPQOuAIgCCgGc/6wCiwCxAPUA9/7S/3AALQH//zf/WgAwAekARwBm/9n/XwDe/7T+6v8XAP7/oAA2AM//sf6J/73/cAAdAXMAMwA8/woA0ADV/yABJwCi//f+/P/yAQ8AjAAYADIA3ADU/+kAsQHo/1z/6/8oAbUAfwArAX3/fQBxAFMAEwHq/+MA/gBZAHb/1wB5Afv/bwDh/34AtwCJAPv/G/+v/1AAVP+s/14A8f6X/yAAHv9mAAIAUf79/2T/Zf/fANIAMv7k/hIBSP9f/yn/Df9x//8A8//P/Qf/DwDCAEMArv+r/8f/dQDx/0v/agDeAPf/UP+d/2YAXgHZABv/7P4eAG0A6ADgAIz/zf61/5UAp/88AOX/Uf+NAGwAkQAiAHQApQBC/9j/p/+eAM7/1v5YAAAAwQBpAPz+YP5JABoBJwDi/wb/pv/aACoAKP8YACgAZP/f/63/vP9JAO//aP8V/6j/DwAdAMr/3P87/8z/TAEwAL7/oQAFAIz/MAAd//n/cgDw/zcAfv+y/yoAwQDw/2n/AABXALsAX/8MADYBqP8/ACEA6P6v/wQBZADd/0QAtf5jACQBLf9VABEATv/C/1L/uf9VAXYBx/8G/1r/PgAnAaAA7f9S/zz/qwCMACgAsgBDACr/V/9ZANX/nACXAQz/Xf8SAfH/MgH6/0n/xwCjABUA1f/6ABIAawCj/wj/eAB0/xsAzv+6/rv/l/8oAND/Yf+6/3oAuwCD/0MA8v90AID/d/5BAAAAN/9x/wX/E//k/9n/zP+v/6gABgBI/w0A/gBmAD4AZABl/6YATwEpAJT/tP9y/xgABQAiACEAYgCp/6j/pwA/AMwAV/+E/30AAgHhADMAHQAdAA8AAQB2ABAA4v/l/8v/ef8qAFEAnP8+/9P/yf8SAEsATf/P/9oAFADt/rsAbf+W/1IBQf/M/0AAvv/6/+P/6/8AAK7/4v9Z/9L+uAAxAHz/swC+/zP/XgDUAEkATAC4/9f/DgHW/7b/gwD4/y0AhP/8/6oALgACAPb/4AAvAPj/VACZ/3//KQAZAGn/eACcAPv/YACSAAcA4f7t/vL/egCFAD8Adv9X//7/awCwAGcARP8X/3sAPwDu/w8AoADb/+L+GQDCAAABnv+x/7//kP/GADUA6f/7/1//0wBmAK//ngAVAMv/wv5wAOkARgCk/+T+UQD2/woAAQCy/u7/QQCO/1IAlf+u/77/FwD5/sr/owB4/1oAAf/W/7cAHwDW/57/xf+v/4IAZP+T/9UApv9jADMAPQDjAJUA0AD2/2cA1v/g/2oAVABgAK3/hADy/+z/dgD8/6QA2P/G/9f/8/9WAFoAoQCL/8P/ZP/6/0ABzv+A/9//LP/A/1YA0//C/2n/Av8PAJwAt/85ALT/Fv/v/2kA3QB+ABwAgP+I/0MANAAjAGH/pf81AND/DADY/7j/HwDs/zj/MwDMAHgAEwDE/9EAyAAQAIT//v8GAJn/1v/Y/4gARAAjAAkAZP/u/0oAWwD7/y3/4P+VACIA5v/a/6r/cgA4ACT/VgCvADsAoP/h/qP/AAA9ADYA2f/1/6z/GQAvACgAugATALz/7f/V/4AAcgA4/wsAWgApAFAAvv/3/0gACQDl/zMABgD+/77/4/8QAKX/o/+RABoA4f8sAKD/gQBJACYAewAmAPH/2/+6/0gAcwB9/3z/VgDY/wAAWgBw/4n/FQBGALv/gwBFAB8A8v9v/wYA1f/b//v/of8x/5T/Wv8bAKUAxv8M/7f/9f81AMUAzP9WABwAp/+GAO//n/8wAKL/s/8QAPv/HADv/9j/IAD2/6wAEgHN/6T/PABAAHwA+f8r/x4A1v+2/8L/mv9VANT/t/8YAEEAigDQAD0ASv/c/4oA9ADxALz/a/8zAID/Nv+CAET/JAB7AKL+JwC8AAsAlf/9/2wAhABGAFH/eAAbAT0ADADy/qP/jABGADwADQDO/z7/cgCrAOD/UgAuAL7/PwAEAK3/CQBpAEgADACg/zf/NgDN/1gAIACA/y8Ax/8cAMH/zv8u/zkA6wBv/5j/iv8RABwAZADV/8r/9wC1//X/ZgCH/0oAdgCJ/57/zP++/x4Apf99/9D/qv8sAHMAhP/J/yMA+f+OAAEAw/+//wcBfgAL/zEAOAAUABgA3f9i/37/ZgBsAKL/SwAfAKv/jQAYAK3/aQB1AIz/cwD2/2T/3gD5/0v/Tv+N/80AIgBb/3oAfwCk/ysA+f/s/8AA5v/D/w0ABgCRAMz/n/8AAFgAiQBg//L+ygATAYb/MwCw/2gAKAFi/8D/RgBOABgA1v/y/xwAMwDN/2QAAgA+/8IA6f9m/2cACQANAIMABwAR/1gAHQDG/8EAx/+V/zcA//8nAEkA3P9T/8D/JgAnAMkAov+A/8f/kv9YAEwALACv/6f/iwCxANL/av/U/44ALADf/yAA2//V/+T/MAANAE8AAgCj/8P/lf9UAH4A7v8P/yQAMgFsABsAnP+m//z/RQB8AOP/lP/iAHgAKP9H//v/SAGHANb+9v6R/24AhwH+/6j+s/+mAC0BiADb/ij/mwCOAEUAYP8AAPYA///v/yoAHgA6AREB+v4J/0IAiwCoAJz/cv5KAEYBPAGsAN3+av/z/woAXAC2/wb/cP9//3X+xP2k/kIAWgAc/8v+MgB2AeYBHQH8/9H/JgCbAX0CIgGK/7v/0wDrAAUBD/8j/hn/pP/kAEkAxv/r/5gAOAEVAKUAvgFyAA0AlgC9AV0D6wJx90/h2+QtBtEY3RKS+qTv0QH8DY0K0PzB+RwEpAz6B5T7Nfnq/ksFRQEO+hP5Af+GBAgBav1Z/woCgQL5/U76uvvlALoDqwCeAPkBzQEgAMX9kP/PAhYCZ/7o/MMBQQRaA0gBDf9+AHYBggCy/lL++f/IACz/rv3A/cL+Tv5+/r3/BgF6AL0AzQHGAiQDOP469pHz5/WM97IAyAbRB3MF6gAtBN8GzAQRAqkCKAWcByoGTgIw/8b7ofnk+hr+z/9b/Sr77P3YAQMCJP8L/SX+9/+cAJ0Bsf85/woB/QI0Az0DXwPgAcEA/vvU+XL+cwEpAn4CRwGIAR4B/AImBfP/Pfkx/MUDYAX1/6X55v0lAxL/Vvkd+Uj9xADS/sP8nP7RAuQFfwTbABH/YgK9BaUFrwCA+6L/yQZUBOv+Sv1p/9YA6P2z+t/8DQGj/1z9LfxP/XX/2/9W/VH7Qv10AYwCHP80/A/+HgPaAtz9GfrO/E0Abf5y+r77dAEPAp/+9/sd/MH+WgFMAbz/Df/C/3IBfwPhAkz/7/2QANMDUAThAfAAEgMlBR0F6QOoAyYDzgDzAIAG6Ah3BLH+TP/HBWEH4wEo/1UCggOXATwAUgERAgQAu/+9AlAC1f6n+8T6+f2O/tD7mfqQ+278j/th+6/+DgD2/DL6rfpm/WX+1vy4+/D61vkg+5f9Uf/x/Sz7+fqh+yL7wPrt+iD7ufqX+nX6HPqn+Sb4xfeO95H3WPfZ9+n4RfmD+p77Bfx5/Zv+9P4FAIEBRAP3BJ4HCQn+CSsLOws8C4oLfgpfCbIJngnPCNoJjQszC7gL3wvXC0EM7wtFCygLtgsuC5AL+Aw+DCgKbwjiBukFCQdqCHgKrQp1BmsETwOLAUH/Xvzx+tD5qPqYAE8FJATvAOP+/QBDA1oD3gTsBkEFGgEfAMQF6QmUB0EGagbiAmf7K/fm+Pn0nOPH1AjSINIoze7LItZ43gDZ9NJa24bjIeM14XHmdfC99gD9kQnRFfYaih3+H+ch5CGRInsmXyncJSMjCiQHJCMfJRb+DtAJwgEn+Vn3yfgV+MTzbu4C5pbbiNhB32zkouJI4VLpWvXk+cr8+wEiBhcGHgVIC5IWCB29Hz8hPCHiIA8hECAVG1MV2BJFEpkPlg0zDtwOcwrXAiX+p/0K/in+Fv9bAAQDhQWSBWsDMwPxBOwEwQQVBW4ILQzyCQ8JugtWEUkUHxDPDI8NCQ6TCpYHcwVWBAwBifpy+wsBugR8A6ruYdEDw3S+VriKqaWmmrpExeS+XL6SyY3U0tAtxmTLS9eW4un1Qgc3FFAheipWMPsrpyQ+KqAuXSoJJ2Io+THTN4YtMSImGfsNvAKd9dHtCu457F3qzemO5qjnB+pD6Ifj8t4Z4+rp+uXl51b4wwMABlEFIQiBDu4NOw1NEVgPCBDXFN8VuhgbGDIVqRJcCKv/mP70/Gf8Fv2i+3v+AgBP/T7+N//Z/q790PyqAs0JJw54FeUY/xXqFYMXnBXdEF8NdxFTFr8UpBLzEdMPwgxYCFgCj/7D/Mv9ZQDIAKMASv99+k72yPNN8/zzKPS497YAHwf9/e7lm9Nv0LLKxLcypuauNsPax/fDCcjd1VneItcN0d7XcOR79L7+vAbZFYElei3MK8skrSdRLpwsfSgfJcAqZDMaMCMltxyoF5YSogU9+BDz/vAL8EnwdO4L7iHwSPG274Pqs+yd89jxh+dS5FHxZ/+EAF4A6wXmCrkLaQryCuEMHxHGE60OawzoFEYZthRUC7wFCQe0BH0AUwGMAVkCUAGq/IL+AwPhBV0DIv0MAU8Lbg8+EfEPfxD7FgMX+hIFEQASMRZmEcwJ2gwBES0PBQjsA54HDgheBRsE+/9A/pL8Svru+5/9DwAq/1n39PU3+Sb8cwIUCJ4NmwVe6YXSS8sMx/e8Eqz3rmDA6MIcwF7Dcc3S1LzL4sXg0JjepfAVAMkIyxNDH54o2y0LKuQrHjQZNPgwwy8gNcU8Tje2KXohgBpUEtIHxv8s/in9Hfeo8KfrL+iv6trrEucR5Wvq5fBz8CjmwuQH8Zf2fvLW8wMAlw3UD9MNMRGOEYsT0hSHDRsQ0RiqFiwT6g6DDd4QngvOAob+Bf1kAZD/R/pEAOgEyANYAGL9hQUBDVcJnQj8CqIPuBXBFNcQwxHwEpMVIxX4DgEN+AwzDG4LpQqVCD0HTgRVAS8A3P5x/tr76/j+/TEDNQG2/tb61/e69dn0GfoAAmQJ4AzZ///m/tTczpbLx76Bro2s47k6w5vB5cJ7zZXUxc73xiPOXOJO8/j7ZwPGD1gf6ShlLOUssC3VM8A17S/2LHQz5DreNkMo5B+7HnYauw+nA4v/9PmX8z7uPevo7PzuefF27eHo++1s8Qvp1Nw02l7pFfhW9QX5pASnB1UHLgXACtsR0w8mEG0PnxM+INUesxWoECkN/Q0bCaMC5AXQBDQAd/6w+kv/UgT4/t78q/5yBeoMkAyLDgQPQA4mEUkQPRJKF10V2xFxD58PYxQNEiEM6gi7BSYGugP6/mAAIABy/y394vkV/e76Pfix+hL62fvr/Uz6P/nd9gP0ZPpe/yIG+A00CT/8c+cF1KXLG8GNtoC2479YzLzItb4cyGrO5cmqytLNm9jW5sfy+gAoDcoURxvfHHQf1iiaMEM19jM3NGo3+zTZL3IrNiowKBoh0RW0DtAMIAesAOb5XvEe7+Tuluy677XyDvPv8PHhStUo2EvkkvBK7wzxp/tcAC0DvQRBCCINxQsCDZwS/xnMJLMiORbfEbEQwg2VCwsJogk2CEEDFwAA/gcAsv5C+Sr4e/wCBrYMtAx4DLkL7AkNClUMjxCfFK4VjxJ8EJ0RGRL7D3ANggwZC6IJMQmYCGIHzAKf/Dz6qfqT/XX94v0IA9YC6P35+k/63faq8obxr/QN+z0BVghFDK0EZfIM2wrH5L18t6m0xLy3xafJRcczwdzAw7/kvyDJkdIN39nuM/lmBbQPyRGEFiEZ2B/NLPUxbzcdPCs7wjzuOuYzXjBTK+InmCYFIJYZnhNtC7EDjPt/85zvyO888NXvCu8M8P/xzOqQ16HIZs+i4cny9PhD8g/wgfUBAJ0EyAALA3wIAxGyH9wiZCDJIBIWrw/uDmgKhhBUEwAOewn1/mH8ZP+Z/xP/WvdQ9m0ANghEDjMNyQTNAVQBKAbeDi0TdhWEEvINYQx7DT4RfREwD8cK0gbQCw4QUwwKA9/3Jfdq/asCcwWZ/6b8r/6N/mQCRgBM+UD0hu4X8y77sQDcAuf+yAATA4n9oe+n2oHLt8YHx9zJLMkpyjLOn840zsDJtsbzyvLQEtrJ4q7nLvIm/a8FGw5ODakMdhSFHDAlgCgkJ/MpViwnMns0eC4bKbsiYiBVIXEcxhbEEmMPrQ+FDI4GvwES/G35w/Z19Dny4us95ZTg0uHa5zfqG+eC41nlX+vK81T8Af8XAVoEuwmJEqcXIhkdGb4WUBczG8gayBdmE1AO7wvZCVIHYQcmBWD/fPyS/L7+hgLfATb9mvvb/ygGSQP4/0UAkf/2BX8G7v6S+v7++gZUB+UF9/sI/QkORxDcCeP8hvTx9Qr9XQoaB4b4G/Lx+B8C2QT4/J/uYOvW7rr6YgMUAb37b/gQ+yL/CQOl/cj5Jv59BHcMPg2bAqX3U/DK7GzuCu166nnruu4A8ibxWOsy5Eje2N/L5erqzO5g8AvyUvTL+GL8zvtK+sP6p/7+BtwOvhGaEXkR8hGcEq0UoBceFrcU2xbVFnYXthVSEbQNTwvkCrYIBwUfACn8Qvro+Nz3hfQk8S/wk/H288P0NfVy9LL1bPv/ADsEjgULB8QHtghfCwIN3Q3KDWANuQ2BC/cL+A2eCKoCggHrAE4DNAjUB0UGAQH1+wH/4wLJBTP/k/Tn+GUBIgPpAyP92Pnz/Mr53PzNAK//ewKHAKH9vQGbA/QBbf2r/Cj+vAIBBfn+s/9WAosDjP9a+3j7yPzPAWcDzP+b/Jf9BgEABhwDG/y0/C4C1AgCDSYOTwuHBLj7O/KU7UHun/Eg9dP2XvXG7kbpaube5cblZeRy44nlEuxl8lXznfBM7jTt9+7V8tD6OQGGBCoGvgWdCNsMFw82ESUTzhSoF48Y8RkcGwob9hgdE+QNYQr0CgUO2AwtCDgAV/l/+Lf6o/ps9qTyC/AQ8nD3/PlS+FL2EfaQ+az/qwVeCUEIsQZoB9IL7A7JEtYTcRCCDPoJkQ2yETAPAwe3BNIGzwpbC1QITAG7+lUA9wLEBGL/3PYI+HH6df/2AHkC5/xU9M3y/PeG/wQBeP+O+M75BABsA54AK/va/cYAYgGmA70GuwRvAvYA1QA+AFwDFglmCsgJEgc1CJwL1wtOAzrzROfV52nvuPXq9Xjvh+gn4ybeLdoT2tLejOSg5RHkNuOX5iDs7+yi6uHqFPCU+QUEJQqwCsAH5wXDCdsRQxliHMIcmxyEHNwaMxrQHGMcZxiiEXgPwhFRE/0P8gWN/bL5GftH/Hz7ufhC9TPxVO+08JzyofOU8mn1l/mB/qMDbgUqBd8EggbLDO0SZxVvFBwRgxG6FRkZKxXgD1kQtQ0TAQj9jAutEhQJav0y/e0E4gTR/Lzwg+5d+SMBKgOo/u74h/dP+gv8hPgW+Mb+nwglDiYJ8/0j+aQAvAqPCSj/1PvLBg8XQhqzC33/FgNSDcMHivGe3ZXdAvG7/vb2yOFZ1APTRNZI1r3Tg9We3FfgINt+1xzauOMM7KHtVe2l7w74vQNlCwMMfQkcCiQRyxpOIdshxB/GHescLB03H/IgsR8GG5IUAxDWDqgPxQxbBjYAhf1w/Jj7bvo79obx7+4Q8en0zvWS9GjytPNY+bj+VQKCBMIFJQavBxQM5xLLF+YXNBXkE9gWJxmqGEoXLhU8EyMSxhAJD5oLAAjJBb0CD/4w+/D8Ev7c/AL7c/nz+A75WfhS+Db7HP85AA3/1P+FAxUHcAbLBAUGHgqSDoURsROUE2MJ8fIf3ebYyelJ+8v6SOq91mLKC8fYyQLSBdsi3cTWzM01y63QY9r64SHmMujv6ifxXfgL/nkBJwTDB0QOMxdKH5QhuB2/GWIawSAfKJ4qOCeeHiAW5RIzFEEWVhUqEEEJBQVNAkIAd/3h+rD56vhQ+Ar2n/Sk9Mb1FfjI+q79MgCVAkgEYwSbBOoHvw5IFKEUexGSEFgUHhgNGQAXZhXvFXYVihE9DokO7Q7BDCYILgV3A24AjPzH+tD8xv7P/o/9s/yA/Yj9Sf2u/5kD0gV+BZsGow1lEr0GqOq40R/SYelv/03/XuqF0AHAEL12xPbTn+JH5FXVUMG6vDbN1uKW7bPr/OUo5iztKPcpAroKUg4QD2QQjRWPHZshVx9cHCYeUCRPKOAmMyKdHIMXORRNFM0WcBdwEWgGPP4z/pkC3AKj/Jz1tfL78kLzYvNq9ED2avim+eD5/fo7/0kEWAd6CaUMOBFOFGgUkBObFbQaMB5oHdcZjxZkFRMVQRXIFE0TYRBdC+sGOgTJA6IEiATOAm8BlwBRAGT+q/xX/osBLAVzCLAMmw6wA0Xo686VzJjk9f0U/z3oZctLu6S6FsXy09PgeuAuz566MLe4ycHh5euP55/iCeQQ6vPwCvquBUwPDxCpCwcMvxVvIVwkCh/PG0AflCWGKDQjfBr3FAAXARwSHTUXlQ3PBEAAzgEPB+QKmwZh+j/u6ut581r9gQE+/836X/c19jf5wAFgC2kP7QzKCe0KLA+cEjIVCxgyGrwY3xSQEzgWHhj3FqATqRAQDp0K2Ai0CSwMtAu1CMQH4QiFBwwDqgHsCLcSTBihFHoB9OLnyYjMe+s4CDUCeN0MuPurTrZ3xkDXdeOv3hDDZaeqqRzL6OqQ707iGNja15fduekj/qkQDBD4/Qz0OgIuG70lUx6mGHMcfCGiHwwdgR94IvQfrRzpHwgiAxqDCRoBpAnWFmgY8A1/AWL5LfWj9Sn+5wgHCkb/xfNs8qj7UAZiDDgM5AdAAg0BpQfDEXwYwBYVEVQORBBPE1oWnhg/GMETuA6xDEQNWg6dDn0PGg+zDRcKDwj/CHQL3gweDQ0UUBp/D7XrB8kby/ny3hM+BwfcM7kItbi9s8i92ETqYeQtviqcDKWD0grzXvEe3j3UTNKN0h/fSP+lHasYQfhj5zz8lRqyJIsedx90JeUhIhYWFA8geCtLKSAhDh8BH3IZEA0kCcARHRzMGDkL+v+V++z55vq+Al0LYAkn+v/sfu4M/ooM9w4WBl7+wf25AQQGwgolEiQUrQ2OBQgGWw1MEu4RhxD4EaYSAQ6gBvkE4wzTFK4UNxA7D6EPIgyFC5cXgyZkGwLtiMPdzC0CQyT6CBDS5rMeuu3FydAF5aH3/uRPrsCML6dz5AoDKfNM1DvHwsZBzDPiKAZjGTED0eDW3Rf+lhcKGXwU8RixGpMP+wkaF/Iorio/H/IZriDUJL0ZVwrZCvcaHiZoHLYJOP5D/Z3/TwTyDNARxQkj9+7qGvKfB4QWzhIcAgH5pv04By0OKBKFFDUQPAiWBSoOVxc1FjEOiQqDD20TXA+1CQcLfhImFvUSow6LDBsMxA+vHP0iKwfe0lm+3On8I3YgLOUjtw66WsouzlDa2vNc9hPGm5ZCnojWef7l9czZRsr+y8rN8dvi+toUIgmH5SbaTvZUF4Ud1RQoEagStQ+0EIsbfShlKIAgIRwIIcon+yNrGa8S1xm2IX4fhxRJC84GbQRSCEsPWhApBWn4/PMZ+vIFHRCqD6cANvJj9akGthIFEtYK4QX6AjkD6QgZEGYU0hK9DVUINwdCC5oQUBThFSoUbg24CGsNtBXXGu4cbBszA0vYp8qv8yEm0ht94ja79b6azMHSTeOn9vDs4ruMlm6lLdm5/DnyAtMhwIrBaMqZ21/4SQtp+lLaH9jJ9r0NnwyuC4YWKBd6CNcFORb1Jf0k6iHuJcsnQiJFGn0XOhuZJD8piSAPEWoKpg1OD4EOSxHMEPcEsvUQ9V0B8wu5DpMIcf1382j3KwV+Du0MDgheBAL/pP+2CqkXGBa6CrcFtQkQDuMPqxGfEAQNjwwsEPcRIg3VBywKThRzHx0W5e9KylXTywK+HHEBGtaIyFjLJcrVzsvo0/yJ6Ca42pxLtATjff2m8MvUr8WDxw3Pa9/W+VQJLvyY4qbeBO86AFMKJhiEHnYSwACG/gERGSIyKropVyWmHP8UaBP6FuQgCCpDKXIaBQoeBpoLcxEfFdwUWw/fA3H60PjlAYUPYBPVCDX51/e5AiQLJgmLB0kK2QaK/kn9zgcAEZ8QkQqIBTkDOwPiBcEI8QpwDv0O9QlgAHj91gWGDqYRBRRkG4cVLfNpybzL3/6TKGUY9+B4wJjASMrj1p/vAQXL89rAqpyisOHhIgJ6/afh4stKwjPISNzj+xQTxwhV6ODWyueAAfYOXxWKGq8Wfwi1AS4Mbx02JxQnXSWLIiUcbhNeDacVEii5MroktArz/xsINhJ0FAwUQBL0CvH+gvht/UkJbBIuEicFavhX9///UgewCmMOxwri/4j2kP1vC38Oiwl4B1IHfQEh+dT6GwWrCVMJpwcTAxP99Poz/LUDJAjcB4YH/wUOBiwDAP7f9LbnLOfQ9zkCTfte4P7ORNWc4LPmSOf+6bnhutIkx/jSNulh87HtXt3b2QncluRb8Yz8i/5E9TTs3/ESAxwPrBCfCggLag//ESoUeBomIdMh0R5gH1YgghwkGZIc/yJNI9cfJxeeDgcL3w4xFeoTAQ4uCdoEaQBiAvcJcAr4Auv9PP64/pkCrgoMBcX+HQFjAdYAhwFbBX8DWACV/0z7YAEGBwn/avlB/CUEjQL993r4rwJOAjv6uPba/NsAOfsv+xX/EP81/RH71fo6/v75J/h1/N4A5Pr76GPkkuvE8pbx+uxR7MfqZuTn33rmMO4c7mbqeeVy5Inn6u5F9ITxbvMN+NX12fTE/HIG2AhEBksJ/RABFT8SaBJ2FdUYEhwHHIkbKhlAHDAfdRx+GTQZGhapDMkJvAzTD8oPQw5pDoQEZf8ICVkNDgMG+gsAbwIb/Df8kv9B/wr9t/jW/DX9xPlyA6cA+PHw+jAHD/tX9lv+sf7k/LT6V/w0Aj79rf1Q/er6a/2G9un1dP8mAPP6afvw8sz5tQFU9r/4MgAh++r0MPp5/VT/X/2W+4H6I/pO/h/4o/n4ATz+RfhS+/X/8f2++MX21/0BAHT6nfhK/M77d/hd/TECx/5s+FX96P0V9zz7BAaOCYMAHf21A+QC+fdeAPYPHgW1/BsEhghrApn9KgenC/ELrg+mCcH2efYCFxEWR/tECicWuPQQ95MTCf8k+RoTwg5Y9tn+rw3EBY36UvSUDo0OuvBt/10OX/uf8yQEGgZqAsX+APbeAekHo/g89vQNxQZJ5Tv9EBBf/Sz3XveX/owH4ALd7knwTgPLBMf4JfqGABT60wCEBV/0rvehBZz8NP5LAA7+M/4V+L/65fPE/g0bb/0+54kHRAe651T3qw9J//MEVAAy+uoB5P1+Al/7QwGHD9oDcu7FAjQKrfaMAYQEOwEVA4oHBACi7wD1WhUEDErxJRHrBMnsUALG+JkJmByI7K32tBUA8qnymgQDAx0HZf+XAEUEh/tw/n0Bk/pACAD/D/FjFNMC7fCLCBL6Ve5mAGQQhgK59jQFlwi8/Nv5s/w4AH8CUgjD/EYA8v4l/MMKtPQ5/08LNQNt/kECjQqJ+P34bAj3CUT7+vR3/6wFgP+8+zUBWf4f8pj0igtQDCf8XPnIACQJ3f8M90H2YgpUCM7viwAy+Wv7ZwTX8lX7yQGECFYCf/ds/fIEafkS+XcNXfiM/9ARn/vr/AUL/wZl/av4yP///lz/Iwdu/WD/R/9Q/pn5vwDcCbP7JgTuBLjz1/p7Cg8EevgU/8gEoP2pA5QC2vgT/44JLP27/UkL1/hl9woH9QN2/d0HuAg2+nTxtAOFC/nx4QF8Dsj4+PlpAd/6Dv84Cef/x/4E+3L+4QTB+RT+lPvfAHoGNQNB/xT2Cf7PA+kB5P6i+DD94QOa/sT9jwDQAbUDFverARAKxvd0BdsBoPvFAOABkAN3/WYENALcAJoCzwCg9r0Cxw5R+yn7rAUk/Z/1qAzgBSXz4we5Aun17QHpBP/3Cv0mCL0CfgJ3/DX7LPvkAggMfP/E/MsF+f04/BMGqQHT+uP8MwtJ/YP4SgTk+yYBfAgeBMD4+wMZ/xb0TgZrAFv8JP4jALb+7PzL/i4Fe/5Y9fwLnwAYACn9OADUAhv37wch9/T81gfWAMz7kwCMB3b91f9pBXH5M/bEBlv9lvxY//P+7P5L/uYJaPiN/6kP8fb+/pcIaval/qH/ggBYA+7+0w2cAk36CwKZBr/9h/iTAST2r/9bAxcAYwfp/s8AFgP1+6oCpANtBEgBQ/+/Bs78aPsK/1MDsPzuAGgDRwCAAFPvoAZBBwDuqf8TBkH9uP0YBMX/tf5s/zD3Nv86CVb/N/YECzgGRAEY/2b43gK0+qD4UgBUCyH4RwJcBUTw2AAVAEIADv3MAhQCwvccAr8Difee/ZUIYvn1/9n/3P5xCfj9ZQE5/JcA+gNz+4kJXQGSBQ4Dkf4lDo/1LgBmAq/8YQgq+9EGI/rX/WYIMvktA4wDPf2yAeX+H/suAZEDH/p0An4EFfygA4n0hgBgAh39LAaK9lsDRQA7AccIwffMAKUBHPxu/Xf8dP9k/OwKSwEi+TILcv4DAHAEDf33B573e/ydDfPxrwDXBpr6LwA7AEQAF/fXCMQDCPcWA7H2uuzwAfoKWP5tAckDIgXNAkMBiAAmBd4CigS2/5H53QZW9XgAfwiV+Sv9bghHAZr8Gwg/+c30JgVsCBvqzwgyGIjkLPkSDyDyovx9E2b7H/NMCk4Dbu0dBfAD8v0pBiX/HQMe/+UJqPi2+20Ge+ouAQESHfp8990BaQIy9939qQ3I9xEBEweV/vcGUPqx/XYASgXLAFv5tQhIAUf3hg3h/0f5SQr/+UwBdvu8Al8F2/NNCa/64/ULF8r8/+96DFoD2AFEAMQE1fp3/i8S6+ssAdEL0e0KCCsDZPtsBq/6oQGO/N8ENgfs+lQGmPcEDfT+L/T3DSb08gOwBMv54wOM+ZQB2gQU/5kAIveSAawEofprARb9JfzM/wAGPPdU9A8GLgA6+rwGsQdb7Cz95g7e9mv3QAmj+nz5xgpL+gH81P+y/vQFuPtzAusI1/H+/qAKrvrxCoEC0/o2B+D5M/78Aer7HgzdBZf+7wBMAiL/+vKpCJT/4PpbBnIAtv61+zgKJ/G6+YkISfZcBNv2vgdRB8XxNAyI++z8AARK/pUHBvELCdQCfPnGDhzv9P/MAbb58wCF+cYJzP+nBEYIlP6t//P26ATKCfz/rfqbA5AJpfh1AKwABPx8Ay8ErALm9WoB7frs+3ASnPfT+2kEV/q7AzT94gHrBRX7Vf4vDBH/4fRSBDABO/svBRANvPYW/bsJHfjn+db8xA1YAez0wATJAjoCsPIoAz8OjOPBAZsWsuhcBUUGc+tcAF8Bhf/Z+7sNRgf+9mMKZ/fq9X0PvP0e8Dr/hwuICfr7Av/o/xz9OP4kBTUDUfUNCi4CGfXZBmgD1/mgAQ8Ivvoj+mQD7AL+AgADRfj3EngJT+jSCwYC/PIb/aAB6gHaA/YLvvfY/PYKKv179gb9j/fUBaEB2PnHDF/5uf3A/JwBRgUc8HAHiAWu9934n/+XCQ36TwZ6AwHziQ7s/DH4dQUvAMQEkPiCC7L2lfWQEgbzqfzwBtj9S/1o/q0FIvys/VX/dfuFCiv8pPi7DnkCQfng/YUOCgLE94oEl/dSAs0KEP2b/RIOggYb+9P/YfNsAZEO2P3W+SD7YQapB77sjvn5CTLxTwErEzP02wCBDCH0g/yz/vYCmfuhAz4GR+xCEWUNo/Vi/EkDZAgd9V4FxgL79XkN5AY78xT6dQqqAyz5oP+h/RsHXQPx7+UIiQF19xsDR/TSB3oJJwJfBQb6gP/h+5AF0v7Z8V0I1wDA/N4CTv32/VcBPwjE9Sb/yA2I9ooHZP1k9hgNzvQRAv7+rvYMCm/4ZQQ9BiEA5viz+NcNNgHmBMD7LPhqDdL6U/hUB04BW/p4+jsKjv/N9CcMqACP+0sEkAGt/ywDEAkj/XLyEAGQDhrwm/w/CuDwbQCMCikExPsfAMkF9PtB/toESPvdABcCdP2pAbD8cvuC+EEKvvji+EcLBfslA+n6VAQb/ev1DQMo98kDmvylAC8M//b3BfwDf/tJAfH17wszB9r2NAB+BsMDK/7TBlj8FPszAsr+7f08/vf+jwLe+4kE4QaQ8ewGqgHw/yQEE/QQA5kBsQMpAub8cAXRAcb8R/sW/w4LsALd+K4Dygdn/335YAJTAZP/hwBXBPgAjP7JCFT7k/sYAcD+PwBq/3P/Xfp0AW8Duv8R/9T/UwbE/Vn8LQCY+yECoAFJ+JH6eQmq++n1JQhG+yf8WwiYCAv6gvrdBpj52/w2AKgB3AAkABIGwvoWA+0C+fimAHr7tP7jAVn+7QMiA0b+wf6XAqL+vv4YBo/64fiODawEIvxHBc3+5PpQ/JX/XwE7AMr8zfxy+1346wVxAif0Mv8PBFb8EATgAhT5i/7XAvj9x/uYA1EB5P1YAO3+YgOAAdb/aQPX/XkF+AmrAM7/9/0xAO7+lQWoAYb7sgWK/Bb8gATCAhD8h/+xAvr2BfCf9AgB6P819FD84wHi/jYBSgBpCNoFfQTRDMAEuAhrDpn9CwKFCygEMgPt/qT/BwMJA0oDWP9y/DgAWABM/Oz+DQIVAL0BzP2MADYFo/rxAOv/H/1mAh//zwOQA7D/PgKDATj/sP5MAWYAh/nU/A8ASv3e/NoAKP2f9gr91vst98D+cv3e+Tj98/pb/cUCQAJ6/rn/GAA7AFgBAAAf/7b93QAVALb+iQHL/tv8Uvzj/ZUDCAGE/uz/yP6f/Nv+MQG1/3P/IAIYAwT/iwLYAGH8qv4fAwsFGgDuBNkEdv7FAYYDgAGWAEsEyQPKAfMCzQCQBWAEx/wB/1r/QQF/AYD/awYWBN79jv0j/Lv/SAG4/0QAGwIzBTwEEQVlA9b9nf8zANn9Ef9UBLADTwDyAQoBZ/1V+674avqFAAP+jP8bBl4AAvm1+0r7OPp3/LX9UgG//2D+1P+A/TL7dfgK90/5VPqS+sr+qwLn/Xj7x/h8+X4Bw/2K+zMA6wCm/Sn+UgJ5/5b7hvuD/CMANAEcApYE1gCn//QCmQB+/vv/ZgEFA+0CvQMPBSwFYQIsAfQA6ABHBQEH5QVlA58EGwbVBCsH8geSBdUEDgc3B3YF7QeWCgAHfgQZB3IH+QRSBdUIIwPTAWgGvwN7BkMBpADkAZ/8D/8EAJsCXQC+APsBBQOSA6L/kgFNBXACqANKCpcDwADyAUcCuwRqB7kGGwmJCpIIsw27C6gIaf6w8YbpOuIB4Pvh2eAv3dHbAtvu1qjTgNeT2KLaHN5L58Tw6/bo+qX+8gCB/wUDhgaLCtYObQ+bDwMTXhLYD9kNOgp8BkQFiwYDCUoJlAX1BMwCrgBTAcEAiQLSBFsEzgUZCR4J1geaCF4HxwcRChsLIw4mDTELGAwUC8QMMg0UC+oL0wkWB6YIhgqDCKcDpQKtBH0BE/su+4v/0vwt9xf3O/kh9uj3WfyC/FP/Svwj/SUBlgBw/d/8KALhAVUFbAvYCRMJeAdIBosEUAP9CzMRyxXkGnMTlQQ/7h3XMs+oz1HQENMC1TzXMdnd1KPSE9SMyo/EU8d1zijgfvL+/zkKMQuSBtMIJw0bDhASnBgyHkom6irbLq4wICacGvIRFgxkC8UKZgnDChoGof3c+tT14u8I6qrkJuaV6QPs6fJs+Zz6QPk/+Yr8QP82AEsE/ApNEFgTBRePGTAX9xRcEa4P1g4RDYsNTAxSDOkLDQlgBwQEWf9b/W/9k/wo/GP/0P29+I77fvzn+nr7jPfB+gL9n/g3/ZcGjgNr/UIE9wfpBcYFwAWTCpwIef/eAcX9IQDaBFIArACs/6MDbP7h/Nf+jPvw/gr9LwPpDDcJKwdvACzymOOA2QfaCNtw2nraGeAd5KTgj+Sl5hXg3NvK2Z/f/eaC7YH5BAOBAx8FjQn8CGcLlws5CWUMUBHGFeob0R5kH7IdZhhmEz4SUQ5NBuICRgImAoX+NP9r/w77YvYM8wH0q/OU8+n3AvxB/TD/zAQzCYsHwAZJBl8GXwVrB44Mjg3KDJENPhJ2EFQJXwjnCoAK2QSRBG8Kgwq2CHQHdQkWCNsBIwK1/v/6Jv8gAhQAgP3nA8ACFP0j/2wAOABd/Kr82QCuAlP7ov1uAt3+mP3S+ZX+4PtW9/D+mv9r9tP6QQHb+SP7zfu5/DQA7f2A/g0BEgAF/68BB/4YAC4HRQMYAjwH8wgLBPH9NPyc+Jvwmu7Y7knu9O3Q7njxJvG+7uDuVPAj7sLurO5h8J/1p/aM+Sf+tv+2A7wEJQW+CKIHzAi2B1wKSg0eCWgL3gskCTgGkQXLBdX/0QCVA64AZAFFAXn/ZQHnA4kCjwIeBLUDzAJMAiQGfAmqBegF+wmdBL8CpgcSCaQF7ghzDvIIPgt/C/kFQQlaC1MIiQYNBrcGxgO4BdME4ADQAuf5WgBtAJH4Ofqf+r0AC/tU/D0ApPmZ/QP+APtSAPf+D/jT+e8BK/tT+Eb+Iv+N/Xr8nf7n/R77fPlEAsj+SvgCAMECHP2K/Rz/b/z6+yH/jP8h/ZcBdv3a/az+pP4jAaT/pf3a/QcCNP6S/0IAJAJuAjf8yAJKAXj9YABt/mEAtv0F/BkCMf8y+Oj+ywOT/Bn5QwCZ/YX3HvvR/cv/x/fk+x0CEvsh+v793f6r+J78PQPg/MT8ewG6Afj9y/0tBWUBVQCuAxoCDQUfAYwGXAtC/ikDiwueB1j9KwjaCAD7pQkJBCMEtQTn/k0I6wG7AtUI6/0QCHgNzAG6AHoBbgpjAuf8TwE1A1YAcP2qABUEDAFdArwGY/1B/Yn97wK9/Vb5/wBsAcL+Fviv/SwHS/r++mcEWPiGAB77BfvbAQH3+QMhAAv4h//z++T8H/xs/akBkwBNAgj8F/8i/kT3LgVr/jT90AUz+S4BOf+t/xv+WvZpAjP8m/zRAIH8JvgYAOoDdPk6/qcASf65APH6JgD7/2X9mgXtATsArvr2BrUGZ/2bAooCPgGN/rwBtfy1A1cCHv0pB9gCl/nS//UDSQGYAKb8+AHtANoCMv04/MMH9/+CAFX/ov7pAOz85QEUADH8eAG1AB8FjgNS/NkBpgJi/Uv+JQduAmEBewCPA10FH/xTBDADJwGg/wACrPtI9uwIUPzT/dYENfiGAv8AegXP+fr6RQy79kgBrwT3/gcIzfoAARkDKvvQBKQArAJb+/YCcQo5+hoDS/4sA5MBHf8SAnD/vgEc/xkFXvzdADcB/Pv7AUsAZP4x+3cBWQIS/Yj+MgJ6AQj72wB+Acn78QBt/Qb/fP4w+x4DYv2vAKn89vpgAyf44QHy/839tAE/+yoFpQLV/akE7AI+AUn9BwHDCov9CAED/kYEOgiw9O39kQOJBZH70fumA/r88P0w/hoDDQF5+zMEpQSZ+yb/XgLTAFcDo/lh/l0Fjf0RAoj+FgLe/joA4gSL9uAAZQeQ+wz9bv/5/+MFdP8c+m7/SwQoAxn93ftuAnQGowBl/n8BPwGUAAf3AADyBzL3vf+XALcAWAOz/aMD+wAU+PX+/wdhBP3+lPjQCSoCB/thBb7+6wMB/b/9bAW6AV/5jv8kBDH/zACs/gQELf5G/4QE8f8fBG38MP/0A8b6QAKEAsQAJvyf+jgI2f7i/l0CXviLACAFrf2c+3r+pgJU/x76QAA/AIUC1P/T+nAEpAHI/vf/SQAJA6X70PpHCuMABPdkAm8EAQNm+ucCngiT+nz7+v3OAjIFVfSZAOAF8f7EAuDzcwlrAyr6JwS3+nwIev6rAQsEJ/l4BoH+Rf+J/gj7uAit+8L+WAUJ+ZoBOgCd/OADv/0tAl3/BPxWCrkAfv8SAaP9iAF++UwBpwWQ+1wDiP3g/8wG4PewAnkD+PwPBFD8B/47BpgDggTh+ngASAlD/a/82fk5BIEFnfeLAb8GSgGw+vL0XQQ2Bhz9Tv3v/gYGlf/u+kX8KgCbBJ/+yviIA2gF4vud+9kAuAXpAMz9cv32AmkAu/6CA/T+kP6N/Pj/VQavAGj8DQLiBloCpv3s/nUC8P3J/UkC2gPlBsD7C/3qA1r8kPv0/Wj+WAIiAmD4JP41BmP9MfuC/zD+AwPu/zH7yQF3ADIDGPvr+uIIJwTT/+/+JwXJA5T+gv6a+UMFMQMr864BGQwUAz4CSvvqAQcLZPfD+2kDywPFA/j0GgG5Bfz9J/oS/98HSv3y/ub/dv9nAkkE9v35+gUCwwE8Avj7MfzI/j8DYP+G9/MB3QPT/wb8kv9SDBgAEvogAykCqAZe/tn+9AUCARkEl/zJ+5QEavygA60ELPfx/FwAWwEr/gn/WgKF/kEEOwT+9eX8pwQi/TIDHfxD/B0HZ/6H+rn+1gJEBe38v/ltAdQFrQNp+gX/fwAG/xoELf2H/iMBKwHt/5T8uAEOAp8EuP2w+4UH8/6Z/2IBLP62AvkBIQJdAIr/2v0N/uT+Hf6TAqwDL/sU/bQCeQFF/2P8vwL0A2D90fnZ//YHzQEi/lkBzQB3Acf5gv5kBOf7jgFE/YkB5gGn+FIDwvzz/CcEhPwoApcCDf92ALX+PwO3/Sn8fwDu/wkFewU6AK37ZgGDB0IASf0I/c8Azgd7+1X8TgMCB1MGF/Xe+B8FOwQE+fr4mwI3BTQAZ/6G/wwBrAWz/9j+aQCBBBT/jPp9Afz/4QLa+5/8ZAYxADv9Yvl/ARUJM/qw/IoBYwOHAzb4iwJ+Bb/82v3//nIDKwBs+tP92ALQAbH9e/z+AKADTwPgACj84gNpBAb7wvlC/5MF5f76+sQDBwgOA37+vf5kBhEAG/fc/mz/UAM3/Ln96Ahj/2EAefbz9/kJXQF+/PP3awT8DJH6BfoUAy0Jmfy59ff8lQaKBqP70fypA6oEtPtG/RYBjwMyA8kAiP0+ANoFa/4l+ej+qAJqBAQBG/cWAuwEqwH3/ab8jAOf/7UBmgLo+VP+wQFU/WYEgvy//3QD6gLAAlL3PAAiAbT81f4AAlEBbgPH+7f8oQhiAHUAlfj8/QcH3/qYAA0Aef3KCWIAdv6pAn/8cgCw/RcBSADoAEUFg/wl/YL/9/uiAIv9LQEABJD/LwfbAs0C4/3TAbIEFfp4/roEagQk/uj3q/obBEL98fuE//4BPgJI/MD9twD6BNcDCP2e/xkEcAPh/3H45QKKBZz9qvoc/04FZQKqA8H45fwmB4gCmvtl9+QB4wndBHX5Wvvx+pz1b/bMA/QHsv2l/oP+5whmBHX8dv3B/40D5wHfAGz++gbjAN7/lgZH/Lb8WgE//78D5/8I+lL/+QWXBsL8jP/OBF0FoAFU+Gv/LQL7AFsBCvnzAiYE0/kj+vf88AUg/aj6iQP9/z4B7/ut+4UCAgA5AMYBqwMYAMT5xP+mBjoAsPvL/U8CUgCm+zkBhAQnAuv7tfzeA3AFSvry82ABbwjVArr89fpK/ycIwwgf/v34ev9LBuUCn/q5/c0BHgCMAcz7DgIlBxP/FwAA/uIB3ALp+jD8pwB4AtEAv/3dAFsCm/8e/Pf4pQGvBGgCOgDF/IkBmgaXAY38gv4GAegCxf6g/PT7yANhA2n8DAFgAUQC6PxL/dUEMALB/hsATwFjA6kDGgMnAmj8kPVR7VT3gAiABsz/Ff/LA/8IVQDN9Wn5mP9KB7EEaf2yBE0OSwja+tf90wNjA/b/evSh+NcFSwCH/twBQgadB4/8P/0cANsAcPyO9nwA1wMbADz/SABUBN3/kfvdAUsBNv3H/tj/9v5Q/6f/VAMiCPH/U/muAeEBl/2I/HL99QFI/RwAowA9AB7/OAEiCDL9Bv0yAUf/cPrG+O//MAJH+1f64QM5Blz/+f0ZBREEyv7O+8X8+/4x/BX8KAIEBNUCtAK3A40DtwHu/yv9t/wI+5P9ZQCm/74B5wMjBHIC5QDZARwB6/3T+rH99gCT/bsAHAbOBKX8mflpArADp/pU9kL8rQKj/k/8WwOrBIYB/wQtBvgCpwGlADYC3wCu/agBQwQqAI79UgAyBFwBTvyjAFsFRwCk/bMAVQKeAMj+BwFXAYUAcf8AAF8CTv4C/fX/Mv4C/S//GwCy/mH8X/tf/lT9mfve/tf/j/5T/BP9ff9L/kz7o/rp+hH6h/x6/6j+//5b/pX/pwFfALsA8gBcAdH/OgDKAgoBcgAYAfcBLwLz/xsCqgMKAr8AZP8fAFYA/wAfAWgBKQMNA+4CTgJqAf4AIABaALYAGwLaA7UCVADTA7sFjwQ0BKcCYwS9A7MCgASoBbcEawTNBM4FzgONAIkBdwLBARQAewAoADECsQNAASoAggAWAXMBiQAlAMsAhP/N/4wA2P9f/tP+EABM/vL97v4j/kz+MgAVAYQBJwLgAwcG7wT4A1MF2gOH/6T88vmf+Vz4UvMJ8bDtPuqL6j7pSOhI6Ivlt+fP6IToQe4I8BbwYvOd9oD79f6x/7kDxAWvBgwKvgwnDoINjA1lD3APag4EDiANcgvRCa0JUAkUCM0GUgf1BsgFOQb6BhoH2AXaBPQF5QaVBywJOgkRCN0G5gfhCFgHoARQBEoFIgbmBfUDawSWBTUFsALTAd0BEACa/R38Ff1o/NT62fuP+vf64f3z+4j8iv3P+9H7Dvui+hr82PzX/V4CHAUsBwAIFwTYBXQEIfa86I3e9dh+19jOVs3z0EHPktTk2svfW+bt5nvnzOyl7J3wGPdy+TEA5wTyCPESMBrNHrMj4SICJUomMCOmIQEexBnPFrwRbw7hDqkMeAo5B7wDnwNCAen8JvcN7lvrLesU5yzmEeWS5unrQe6e8/b4ofvcAQAFjQcJDEUN0Q+bEaEPlBBPEYMQzRDYDtYNsw3+C/kKkgiHBNcCxgGoAOX/i/4HAEACqQGNAqsD5wPyA8gC9QESAV0Aff/1/nz+XP+YAeUCrQSKBvcIrQpcC2gLuAjLB6cGgwRgBT8E8QE2ACIABAPuBJoGZgkhC2cKhwQ4+170c+sF3yvU0c1iy6vGs8NLx9rNJtNl127d8uPs5nvpS+6V8SHzSvNZ9738WgAKBhAOoRXdGlsfXiNyJj0maSXsI+IfaRpTFhcU/w/zC/gJ8Ql9CeMGlQWHBXwE0ALE/yr9ivoL9aTupOqn6Qnpj+hH6FPoAOy78a/30/ua/g4EwAclCqQOShBUEQsToxG+EQMSKxFcEZIPZQ52DQwKNAn7B0sE9wIgAd3/2v94/yr/Jf/6/6UAXQEXApQBzAE0A/YDowM1AnIDMAJcABIBqP/9AFcBHgHOAg0DJAPkA84DdgIsAaH/uv8n/879ff0z/ff9RP6c/u3/5wD2AjEFwwVvBQQCaf6I+6z2CfA86mfn2uPZ36LdSt/p4VvjZeUa6W3tEe+H8H3zgfWN9SD2+PaJ+Jn5RfuB/+cCAAcNC+wOzxK8FcAXEhlVGWIXHxYvFSMTwBAwDuMMiAu4CiwL1wosCx0KnghlCBcHwQS0AGj7mvYC9B3yFfD/7Ebrv+z37Ybwi/Qv+Yn9RQHdBcYJEgzrDQsNnAqqCS0I7AemCMgHIwiWCHAIJwm/CNII2AbcA1kDIAIUAfH/uf5p/6X/SgDF/+z+AwEbAbH/jP8eAJkAMACa/jz/Uf4f/6X/yP6hABz+hv8hAKAApQEGAd0BHAGpATIBLAHCABQANf9C/4L/9/75/uX+Ov+9/yMAHQEiAo0C7wMnBdAGkQZaBE8C7f9F/HH3l/P78HPui+yA7Bbu4u//8KLyFfSM9MD0QPWB9j730Pa49sr2wPdA+KT57fvy/SAAdgHEA4QF3QbKB6IIaAkpCTEJGQpSCi4K5gkRCZYIagiLCIQI2QjhB6EGzQWJBUIFfQRyA5wB3ACRAF4Agv+3/vH+cP/B/x0A/ADyAIUAswD9APQA6gDcAJMAdQCAAO8ARAF1AXIBjAHjAekBwQHeAUoC+wG0AeYBKALjAVYBkgHMAV8BBAEOAXIBXwH+AAkB3QDeALUA5AApAc0ADwFmAU8BCwEUAQkBYwBaAA0AgP+n/07/Kf+F/9//TAB/AJsAVAA7AL8AtgDVADwBTQGzAVkCFgNbA9YDwARaBC8DzwHX//v92Ptd+U73j/Vm9A70vvRc9R71aPWU9av1x/XX9RX2Hfbs9Vr1HfXJ9IL17Paa+D/6dPu3/Lf9gP+yAMUBmwL7AoIDFATOBFcFAgZeBmkGewZDB7wHUQjkCHUIDwgACDcIPAiUB/4GWwbIBVkFnARiBNUDfwP8ArYCdgLKAd4BzgFbAeIA4wCHAJUAOADj/wQAsP/a/wAAMwBBAHEAzgDgABQBJwErAX4BFAEVAUkBRAGFAX4BrgGCAaMBywHNAb4BbAEeATUBZgEIAYUA2//L/+j/z/80/8f+S/9N/+r+mP6f/uz+Sv7g/db9o/0C/t79P/7V/vj+dv/k/0EAtgBDAUwBrAFyAvECXQN8A4cD+wPbAyEDTAIrAez/E/43/Nb69vm++OH3vvdo92r3aPdK99X2efY99gf2yfVE9Rz1JfUQ9aD1+vYD+Db5VvqK++T8o/2q/rr/gwDyAE8B8wFzAjkDvgM3BBkFlwVjBhgHpgcPCBoIKwjIB4YHDAd2Bj0GAQaJBfsE7AS/BKYEtQSKBKMEOgS7A9MDjQNMA/wCeQJHAuoB3gHyAaEB8AHcAZoBrgGSAdsBnwE5AaMAgwDUAKIApQCHANkABQHuAL4AzAALAccAqwBhAHAAOADR/67/dP91/0f/M/8u/1H/Tf9D//z+CP9A/8D+xf6Z/mz+VP45/lz+lf7m/vz+Uv+Q/8//AQBOAGUAcgC/AJ4AEAFhAasBQAJ0AhkDcQOUA+8D4gMBA2QB0//l/TH83/rL+TD5p/gp+NH3Lvh4+LX4lvjk91/3tvbZ9Vr1gvV+9fL1hvZE98f4DvqX+9j8ov1O/uT+p//r/2oA2AAFAXQBxgHJAqMDjgTFBT4GigajBt8G+ga8BqsGogZVBqYFbgWOBVsFJgXXBAMFBgVeBCgE8AMEBPoDnANsA8ECSAJBAmoCmwJNAjoCRwL+AfcB4wHPAbwBdQFHASAB2QC3AKkAnACNAJoAyACXAJkAegBvAHIAJAApAO3/1f/M/8D/0v/A/9P/nf99/9b/wf+c/4X/Iv8j/7D+Z/6i/rP+0P6y/u3+IP8d/yz/CP8w/1v/N/9p/4r/hv97/5X/3v8XAGwAhQD8ADgBnAF1AgEDvwMUBEQE2gOXAgcB8/7n/C370PlP+Qf5tvj2+Pb40PjL+LX4hvjx9wf3RvYB9pb1rvV99lT3rfgC+hD7/PvB/GX9I/7w/jL/tP9FAIAA9ACeAWMCHQPDA3MESwX6BVsGaAZnBmsGMgYlBhsGxAWuBaYFmAWZBVEFWAUMBW4EVATnA1QDGAPWAqwCpgJoAiYCywGTAdUB3wGYAYQBaAE3ATQBBQEFASsB/gDrACQBFgE1AUEBCQFIAdwAuwDHAJUA1gCcAHIAngCBAE0AXwBFAFYASADk/8H/g/85/y//Jv8W/x3/zv6x/sT+rv6+/sP+yP7i/t7+3P4N/07/N/8j/13/fP+y/63/pf/v/z0AjgDNANwAAwEhAUsBmwGdATACxwI4A/4DfwTDBGwEQwOcAXr/y/xA+gH4ePbS9bD1cvZo90H4wfhj+OH39vbk9Wv1Q/Xr9fv2z/fq+B76Pftz/Gv9XP4L/1//ff+s/1YA1gByASoC8QK1AwgEhwTxBOQEwgSkBJUEsgThBDAFZgU4BesEqwSPBH8EOgTyA8QDoQNhA00DUwMqAxoDDwNJA1gDTANtA0YDQQM9A+wCwAKcArcCCQPBApMCvQJ6AjACCgLqAc0BZwHjAMQA3gCdAIgAWwACAML/U/9X/5D/ff80/x7/Pv+B/6X/aP9h/0v/K/8i/7L+xP66/jL+Z/6w/rb+zP7b/g//dP+D/4L/Yf8y/zn/Uf93/6L/yv/D/yoAjgDTAAIBvAC0ABUBigFQAsgC0wJOA8MD0gSNBhEHegYnBbQCEgAg/Rn6xfcm9nv17/Ue90n4pvj59+72cvXA80byuPE58oHzp/Ud+CD6Evsl+8b60/pL+wP8bf0P/+4A+wKzBOcFPwYYBhYGFAbuBRAGgQYSB1QH8gaJBmQGcQZpBhgGcgXFBE8E5wPTA5wDDAObAj4CPgKsAuECmgIjAsEBAAJCAigCZgJaAkcC2QJGA2oDYgMiA4QDLwTKBFMF5wTVAzsDSgMUA9QCZwIwAh4DjQMNA58CAQIXAV8A0f+d/6X/uf/1/3r//v4c/2f+sv3s/TP+Ov4X/uv9Kf56/mf+Z/5j/iL+rf2P/S/+QP/M/6n/Uf/i/kT/MgDlAFMBXQHgAKwAFQGLAfEBKQKUAqYDLAXWBqkI1gmMCZMHqgNJ/nP4fPNK8THzyvdD+5v6vfZP8kLvS+2b6q3nC+Zm5/Hsd/T1+d76pPYv8Kvryuss8aD4e/50AgQGxghcCX0HRwQgAu0C2QY3DQcU5xcGF7ASCA6DC7AKwgqfC+IMDA+FEFsPewsuBmwBbP6Q/er+SQFoAgYCQADd/Yj79vjN9mn2FfgN+wH+Pv/+/iL+D/2C/Bn9s/6wALoCfQT+BTAHDwfZBbAEWQT7BOwFsgZbB08HcAaoBdMEZAQfBFIDAwJ6AEcA/QBiAQMBF/8P/cb8Wv1Y/hv/Bv6z/Fr8I/0K/pT92/xv/Iv8Hf0E/uj+TP+w/t39pf3c/rgAxwCgACMAQP8FAEYBsQGSATEBnQHlAtUD2wQSBpUHAAlqCYAHJAGL+IfxT/CD9vr+KAPH/gn0/epg6YDto/EH8VfsDehr6cXwsPdk+a/z3OrP5vjqefVP/44CIAC7/NP88gDpBLEGiwbABTgHgQv6EOYUAhUHESwM4gkgC4gPeBNVFIwSrA79CkMK3wr3Ct0IJgTQAG0BxgTaBl8EFP7l9yr1BPd7+8T+N/5p+l/2ZPUr+K37tvz/+kr5OPqx/rIDQQXqAqj+3Pu4/fQC6AeuCP4EQAKSAj8FkgccBkcCFQAjAXsEbwdGBwQEIwCr/o7/+gDeAQwBOv7W/Cv+XP93ANH/x/yH+qf4x/mx/7YDUQJE/u75Yvlh/Gj+bAEvA94ALf+H/m3+QwDtACgBlgB4/mgALgPbBH4FSAJTANYAyAH1BEYIbQnFCGoGowIk/aj3tvMl8x/4Nv7N/3T5/+756fvrevE39Hjwnerw50zrafOj+Xv5XPMD7FnqQO8G+LP/uAHu/0L+e/5DAC4CcQQoBxYJ0AonDYQQnxNaE30PXguSCvUNORPPFlEV3Q/FCssIWgrbCzIKUAaDAiEClwUECLkF6/4Q+OD1l/jF/aYAGP+3+pT2YPaM+UX8UfxT+ln4ifmB/jQDmQOaACv9mvz+/8IDZga6BeACPwK8BH8IVghQA83++/6kA74IXgk0BU3/AP1K/4gBvgK8AA3+BP+XAJUAz/7g/Pb7cPwQ/Y/9df+3AQABcP0D+/n7RAAgA9ICR/+b/L/+fQEpA7cBqf4I/6gBtQH5/yEAAQNdBYcDpP57/E0BkAVeBSgDWwAxAl0HTwlfBloAxvpr+Bf4IPmU+n78yPwH+HXxnO0i76zzj/XM8nvusez170T0yPUm9c/yVPFH8QfzC/eY+xL++/3+/IT9jv96AYED/gRUBr0HjgkGDEQOtQ6QDBgK6QkJDUURJxKTDjQL2ApfDIoMewn7BXgEVwWCBkUGiQRWAc79HvxX/Ar+DQC1/7P9SvsT+qj6yvtc/FP8J/yJ/G7+2wCWAYr/T/0a/tcBmgRkBMoCNAKlA70EZAR2AzoD1QNmBDgEmAMYA3cDSwQkBKgCAAAq/zAAFQIcAr/+TP2Q/64BJAA9/H75Y/yoAGQBPf+c/C/9Sf6J/nv9wv3N/yMB1wBk/ub8Ov/DAmcCGQF5/6r/9ADw/44AywHsAQEB6v8m/5QBiwPUAvYC+wFAAmsEBAamBfQDoQB1/bL7AfsU/MP80PxY+wD4LfU08/jxsfJE8xbzHvJD8bfxAfM49Fv0q/Os8krzH/UK+Dv6ifuw/GH98P2e/s//ogG0BIYGzge/CD4J1QkSCQUJ4gqLDOwMfgs9CvoLMw0zDC0KtgesB58IugepBo4F8gQ8A4IAfwD0ACIBhQAi/2j/ZAD/AMkASP+/91zpFO63CH8N3f8h+gH/NguzCRH+o/srBBAOcgsgAmj/wv9kAZoCGQEEBccHKgVaAaL9+f1HADcBMQGwAOj9F/8CA7EB9Pxc85nrRvTbA8gDZ/mS948CwgQ0+oT4nQFqDtELI/8S+Xb43/mR+5j+MgDeBNEFjAN5AbMCWwUNBLIHwAyQDA4GMANGBM0GtgY4BXAKSw5UEEQQLAzDBLX9KPeX8aTseOyC+NH/DfUZ5E7bxNwJ4RHh0eNu6s7ty+xC52vjDug68C3zKPIS9VgBpArLBSf/8wFLCngPAhG9FsEegx7FF9MTQxZ2GY0WDRLwEXcVnBaWD1gFfwAxAfQBMv8Y/Gv8hvtK9v3vAu4u8XPzN/Ju8aPzJvaJ9o/0kPUK+53/7wF5AjQEpwf3CJ4IKwnKCw8PIg8NDcoL1AvkDP4LHwikBicIRAjJBUkCkQG9AQAARP4b//3/l/35+sX7BQBJAwACIPxe+h3/rQKMA/4BjANpBu4CwwFpBBIGBAivBRUD+QK3AcMAaAGNAmP/Nf2iAM8AKv8w/50CuQXkABH/agISBRsGQwNKA/8HwQoSDtoRuBYZGhQNffR84inef+Yv+GMJxgWf4pa+pr2h0vnemN9j35jev9QGyaTOA9715prqwest7zv3Yv+HBXcC7v50DKAeIib4JB4iux+VGhEbaSrNN4817SneHS0XxhTOFt0aORkmEzoNzQU+/ZP2AfOi8NLte+6w8Rzv4OWB3CraNuFR7ALzVvEc7P7r5vBf9Vz6vgHZCFQKSgjGCYQOMBEwEY0SahaJGYIYLhPVDJEJuAvyD1gQDg2kCOsD+P5f/Kr+9wFFAZD+uvyz+4D65vnN++X9Ev/SALACQwJyAEUA1QKFB4EKjgpGCUQIlgksDFAM+ggSBwgItwhZCA8GGAK0/r7+RQJ9Ayn/bful/Hr+1P32/Ov/oARqAwsBbwPqBy8QKxZ/EmkGBffy7rPmRtlF4GT9uwgx67O5g6mKxozXptcd2/nbbdaHxqrH0tf75VjzJfkS9vDxI/16CuAIqgUYE8QpVy9EKNMkxiGTG2scoyoUN2U2Bik/GYwQ9A+yFPMYehbnDs0JVgJZ+oz1jvY/+Tz2QfNT8yfyjutB5dPk2uzq+EL7Q/P97THyBfoE+3L83QQrC1MI9QBbAKEGaAvQCycLAArrCLYGpAJd/jv/cwZuCTUDQ/y0+7/94fw4/bIBfgX8BK8BxAGABEUHbgmeCnUL7AwgDvUMJwo5ClMOthB1D4QNCw2qChIH3wbcCt4Oww1CB23/Cv3oAqIJgwcqAET8Af1F/2oAQAAP/5j9hP2O/gn/N/+r/3H/bADHBFIHDwUxA3UHkBFpDW/2md8f0dXWae0MAY76Q9I4se+0J8pn2mbisORU3WTPhstU2bnpyPOS/MD/+f9pA3UKgQ1eB88J7xrzKzYuISWFG7sSwBCJG60rfi87JM0UvQmqBl8KARO9FpAOUwLl+078if2j+0v4Xfej+X78rfu+9ezuhezO8qf9OAS9AmX61vSz923/kQasCOoGIwOxABICvAVeBywG9AUXBiIGbAQ2AfT+N/53ACMDjwIx/oD6Xfra+1z+6wAlA2cCi/+MAKEE7QciCHUHKAnrC4wNbQ2jC9IIFwmuDAgP/w2BCoUHRQbtBtIJ6wsECUkDhwCTAk4GEAcfAzL+Rvwk/14ELAWUAbj8+fqB/ez/qAJaAwoBWf1D/SYCtAUsCD0HTAY9B5sK5A7EBtj23OcG36zhx+0y/Kf2e9fDuzm8PtBP3xzjQuD12aPSTNE52s/j5OzI9I331Pdx+tkC9AXZAbQEjBMoIwMlHx45GK4UFBbdHW0nESlpIWEX/w9jDDYOLRRZFc8OFgaQAZgBNQFO/2X94/tk+9n75fs++UL1+fJq9Pb50v6J/2T8xvic+Rv+XAFeA5kDAAJlAmgEIgYHBt4EKAWCBZYElgOOAhABzv9E/3v/Uv68+8n6PvuT/LH9pf5N/xT+zP3iAE8FDQe+BawEggV+B3YJuQonCqsI5gjHCUAKJgo/CYYIzAcuCCMJVQjKBYMDdgM5BfAFUARwArr/VP7y/xEBqwFdAHP9uPvZ+0b+VQBj//v8Gvtz+mz93ACoAJH+5/yq/9AEbgfjBxwJSgnXAqj30ez55XToLvdoArP0L9c/yATSK9/x40boo+gX4ijbxtrL4dDp/PKM+OT0a/Hd960CNAP5/VUDVhCTFjkUohJtEqcQVBIGGnQf+Rz8GIwUVg4lC7kPmxerFl0N5AXJBIgGQAdhBpoEIgJzADoAS/2T+O730PsA/u/8YPzP+0T6MPnC+1UA2AJoA4UBSf9W/0cBaQMeBN4EPQUiBBgCDAArAJcBZwLkAUcAvP77/Kf7xftG/Ub/WQDi/2L+0f39/ukAcAK1A9oEEAWVBAwE0QS4BQkGlAbWBmwHPge2BvcF9AQQBtMHFggfBoUDmAOvBGwEBgTLA34DPwLv/x//KgATAecAzP6X/HD9Bf5+/bX8OfwH/gb+0/39/UT9B/6v/sYASAJeAhkDMQQyBSYCaP2e++b5hPSP8Q/4oP2Q9SDn9uHd5hPsmO4e7xfsoeiD6BHqdOt67tv0VPi+9L7xFfaG/Cr9jvt3/i0EZQfMCIcK+gm6CBALaQ95ESgR5hE6EqAOYgq9CoMO2Q+oDYYL2AoXCmQIUQdXBl8FOwV9BDwDhAGUAFEA9f4S/mL+i/+m/zL+uv0b/8UAqwA0AEgAXwAtAML/CgCTAEEB/wCl/6v+z/5e/+D+nf7z/hb/kf6n/XL9xf1g/h//vP+1/xwAQgHPAWcB/wDZAc0CwAJ0AhsDwwPWAzQELQSvBJgFnwWMBbAFbwbPBqAFAwUbBboEsQTfBAIFcAS2AiwBJwGkAZABFQFtAED/ZP2Q/WP+LP7q/Zz9zf3i/MP84f13/sn+nf4R//n/MgHgAc8CKwT4A98B+P4b/aL6pvjl+eb8YftE8zntueyn7urvaPDp8HXvqO2M7dztt+508aT0BfXh8nzzzfYN+Kv3jvhc/I3/lgByAv4DfwRqBbwHAwoLC4oMew44DlwLMApqCywMSAwYDBMMCQtJCd8IrAhPCIoH9gZmBpYE5gPwA2AD/AGZAN0AxwB0AK4AlAAPAHb/t/9uAIoANQDq/zL/eP5y/jX/y/9R//n+vP4I/ov9Kv5w/5b/qP5i/sT+5v7f/vn+j//A/x8AKgFhAUUBNAGcARMCDgKfAm4DiwMuA2wD0wMaBJoECgUlBasEzQRiBUMFngQZBO4DSgPuAgcDqwJJArcBHgFgAK7/SwC8APj/n/+n/1j/wv5M/sr+av84/+r+qf65/u7+Af8JAAAB/ABCARYC+wIRAisAjf9y/nH8pvq2+iH79Pdo86Pw0/DW8dPx4vGX8MrvUPCX8JvwgPDc8uX04vMd8wT0wvUH9mv2gPg6+hP84v3P//gAsAFvBI0Gkge1CD8KlwuGCqgJJAoAC4ELGAsFC14KMArmCtwKLwpPCXoJGglQByoGAgbMBVYE5wIsAnABMQEPAbQA2/9H/7L/3f+l/4j/h//v/uP98/3z/q3/ZP+h/lP+LP4Z/jf+gP7c/gv/OP9L/xX/2/7p/n3/VwDpAG8BiAHLAE4AYwAkAewB/wE+AjMC+gEOAiUCtwJ0A3kEBAWeBFIE9gMABCwEUwSVBBoEmAMPA4ECQwJPApQCGwKeATIBvwCQAP7/6P+1/0v/T//O/m3+Lv4W/jv+S/6w/t7+wP7A/lT/FQCqALYBTALcAZwAh/+P/o78k/vi+9/6VPc08/jxqvLJ8m/yHPKI8ZjwDfD572rw2PHD81D0APOh8iH0P/VI9RH2Qfhb+hb88/3g/yMB+wG+A64FbgdlCdcKBAvECS8JTgpgC5ULTAs3CxILrAqTCmcKJwoDCtoJ+Qg2Bz0GCAZQBe0DtgJwAh0CtQF6AckAHgARALUA9gB7AEgAHACY//j++P50/3j/MP/o/qj+Wf44/l7+VP5E/nP+6/4U/8j+vv7d/vP+PP8LAOMAHAEbAQkBvQBbAJQAaQEFAkICRQI/AkcCywLiA6gE9wT4BN8EtwRhBDME/AObA1EDFAO4AnMCawJqAkUCswF0AZ8BdgE3AakAOgDO/zr/CP+Z/o7+sP53/jX+r/32/Xj+t/4s/5n/fgAoAbsBGgJ0AZkAbf/8/S/89vqX+kz4YPRW8drw6fEY8ujxavGG8MvvUO/E7/TwyPIH9EXzDfL+8W/zOPWR9j744vl++2j9EP9sAOUB/AMNBjgHegglCvUKZQqRCdQJrwoxC4ALkws2C6AKLwojCiYK/QnKCQYJewcXBnYFKAVwBFwDZwKEAdwAyQDNAEsA4f9CAKAAPgDx/04AhgD1/2T/iv+1/5H/k/9o/9v+f/6b/sr+r/7L/l7/jP8o//H+I/+i/zkAyQAlARoB9gDtAOIAEQGyAXgCuAJKAvABOALUAkoDogMnBK0E4ATdBM4ExATgBAIF4ASGBDgE1gMdA4QCowIOAwkDlwL+ATIBdgBUALcA1gA3AFv/z/6B/kH+A/7S/dj9Kf62/iL/Mv9//5oANQJjA2EDRwJdAKf9Ivuj+lT81/yh+GfxeOw57Gnu9+888N7vyO4B7YTr2+vm7tPyhfQm81/x/vH/82P1f/ag+JL7x/0l/0QAhAF8A9IFoAfJCH0Knwz8DEQLlgmxCfYKBAysDJwMsguLCpQJuwgtCOQIAQosCXEGMQTQA8cDHwPNAqACCAIzAaMAWgBAAAMB5QG6ARAB0wDaABkAZv8nAE8BegHDAAQAeP8O/yj/gv+G/1r/Mv++/h/+NP4g/8v/mf9w/xEAHwHEAY4BEQEIAakBjAK3AiEC+wG0AlkDYwPEA+YEWwV5BPQDCAV7BrcG+wUVBTUE6QOSBCUFqwTRA2sD9gIpAhQC2ALdAr8BIQGeAbcB1gCbAGwBfAGUAKgA7AGaAlwDtgUZB9IERwH1/iL7z/UX9tT8s/5j9P7mcOLZ5R7qOuyU7DXriujF5dfj7OWi7RD1xfTg7r/ss/Aq9XX3qPm9/Cv/HwEVA7sDDgS5Br0KIwyVC2QN4w8xDsQJrwj1C8QOGQ8RDuoL/AgVB4YHPggYCDQIigdNBCUAXP+VAcsCQgJiAZcAe/9b/7sA+AEXA2AEvwQKA0MBJwLMA5EDpAJ7AzwEFwKH//T+Sf9t/yMAtAAu/1b9Cv3//Mj8Pf7PAOoAx/4g/un/eQFWAS0BcAEWAcAAXwHPAuUDGQTcBJcF3gTqBM0GTAj7BxYHUwc0B/4FSQW7BF8E9QQtBvwGcAXgAqcBfAE1A1oF5QTMAlsBKQKYA24DzgNPBZ8FjQZ2CekJtQS3/LP2F/Jw8mn9ewPH8y/aXNGa3ePp8eyF6VDivNu02HXbLeN07nv1EfFH547kH/CC+1/8+PrT/PgCvga1B6MH3QU7CuoR8BPID6UNwQ64C5cHKgl3EMcS9QwLB48ECgZxCDsK+gkzBeIAUgG1AAIAlgIOA7sAYP2u/nUCVQFuASgE9gXrBt8FpQN+AooD/wiRC78GvgQYBScF9gMZA3IE9QEr/z793/wu/Yz9df4L+/35XvrS/Dz/z/0kAJcBmQI5ApcBIQJsBtQLtwVnBs4I0gZ3CSEJQA4+DjcKEAgVBZ4I0grDDUYLIgb9A/UCOAdRB1cJMgigAoYCowQ+CjYI6AO1BTgHCwrnDKcNwAfz+OLsfOng6vD+SQ2D7pjCLbbA06DwquvK2rTLdstL12Xb+Nw75i3ug+6c6SzovvQV+8v4Qfy+BZwT+xCPBT4BVQNQE+Ehah7bDyIGhwgBD+wOlA2zEUkSDw6iBbv+EwMTCqgLEwc4AhoD8QFz/tf9VwFzCCALHwSJ+9D+zgikDGILtgvbCDkFTgewCJIK5AuADNkIOQPRBMMErAKAAUsCmwTtAfT7uPct+GX8TQJ/Aon+N/t2+tX9zABAA24FoQVAA/AB3AJWBvwIZAieB+AI5gpMCm8GsgRkBxULnw3QChEFuQHpBToLxwdxBwkNJg0PCZwCDgjWFBQZQhtNEz4Erfak8jHvyui4+SMD9u0Nxgqu0cbY3GrjXuBvyyrI8s8l0v7aYeaL8H/2GOlx5p72vvraAAED4waBFIAQwgpSCfADAQ2TGiMbIhbUCUMBawT8A6wIDw+bDwgMlv9x9775xwCiBfkJCAjW/F/6Mfrr+QcBHgmxDEsFX/un/BMC8AXyDw0QpwPf/g3/SgWWCJQGtwk4B18Bzf8t/9sCbQYZA4gArP47/h0An/+ZABIBXgImBAACGAD1AdwFtgkrDA4JZAViA10DIwcAC1MO+wr0Ae79AQNFCh4OWAy8BbMEqAixDOMQyhLpDWwInAuZE3kbTxybGOIOZPpn7f/iYdfD68AH//tFztygDKj5ypLa1OEl03TDnMiEyi7UXOWW8WT8ufem8K78AwTKBDcHmgieGb4ieRUJC1QBagKtDi4UQhhpEXkAtfR57R32yQ3XFyALj/f/7U/0Xv6bBoMNSQzYBk0A6fuXAQYP3hVPEMUMzwt2Ci4LyQqJDdoQ+BPxEGkDBf4aA3AIzwrrCh0KhgV3/jf7c/+/BkIL9AkEBdoAg/6W/2kCAQVzCHkJ8gTw/14AnwW/DNUMOQg3B6UGewfMCQsNGw0uCegFRQqIEJwPDA8dC7cHoA6EFf0XhxUuEOcUnRieDO3z2M8BtsHPcf6PB2PerKCck7irk8Tp3+3lHNqe0EfETco05tT+vAx5BOb3dATSFIMVUQ9MBfcP1CEfINkXrQqE/f763vunAtIPBQ4x/oPnsN+U9EoLbA3gAF7zvPRuAUkJ8Q2SD/oOQgv6B9MLWxISEaoN9gxBDqURcw/mBgUBmAOyC/sO8wdbBP4E5AMLA4QE4Qp5D8QLVAeRCKAK3Qn1BRID6wiOED8Q6Afu+xH5GAPCDjgTjA+4CLUClvx3/iYNlRogG1MQBgIDBLMMLRCVEYkM6Q2EFOAVIRB2CogTEyjwKGELYNzQq6ih4tbODEYFvceqjW6Kap0OtnPW2uYr5yPdFs0N0vjnnv4eDsoKDwt0F3EYwgqq/hr/shKgH84c8xNTBAP06+rN67n3ngZDBzj52+TQ3OPnlff+/ccDjAjJCUAJ/AW0CA8PzxRAHdwjciJBGn8JKgFUCkAaHSO9GzYLtQIUA0MI+Q8uElARUwvAAkICughyD7YRvwzNC4QPyBAHEI4McQghCrAQzhTmEX0JmwBP+3b9MQZXD7UORwd1AYgBkgTqBZMGOw3wFmIZEhJyCfYEpwReDYccgiowJcMDeshPkMWZpONWEdj0+rElh8WL0pwftlLWL+cX7DHhINBh4eoA1BEAEtwHfhNPLwYzVx2NBAb66gF+CbMQJReWD3z3Tt5g1M7j2AAEDfX/8epR4EXmevTR/a4IiRH9EWUPfg0oDhsOLQsVEjwfZSM2IC4Rxvyh998ATgomDgsOVA0zBe33AvWSADoP3BatE2AMcgpQDQYNzgn5DL0UIhiWE1wMyQbCBJ4GEgxYD0wM7wU/BBAKPg8ZDOME+AR8DqUV0BcDGMsQdAg6BZUM1RxoK2wvziP9/Km9uosjnfDl4wzN8Y28XJ6zmNuaHrBy2sn63vw15LbRnujSB7wOAQLa/YsSECyAMLUh3wzV/Ov2Jfp6CtgZ0hTC9wbWJce71gv0LQF390DqhOZH6trw/f1LD0AWghLRDmET+hiCFV4MsAuMFOYdzxugDC/8svVR+F/9TAWdEUAarxPlAKLyYfozECMeJB3JGKoakRtAECUEBQb4EQ8bwBc6C8QBXP89/W3+XwRgDdoRZwlg/4L+dgLaB04ObxB9Et8V7xFRDTEPBh7DMfMwPAY6u6+EgZzb4nj+f+b9vUinZJxdlZymZM3g7Yr4y+/V5SL0rwRVB1oBDQRGGaIxfDcxLF8azwUU+Nr4QAa4FeUYLASR5YrPKNMi5x7z/fDA7ofzq/jf+OD4IQLxD+MVJBbpHYgnHySPEuwB6QEXFu8jgB2tDA0AQvpP9fb1vgVBFsgU8greBDMJyg6aDQcHgQn7F68l6iNzERoEFQZ1CesIWAnMEeEZQRC3BK4BcgaiCyMOfhH2FcMXNRUhFGEQTwypCoYOTBgWIcYnHSA49lGvAYBsmirbP/RA3ZG6OqaanSWUrKOmzvzx/vpN7q7n9v3/ER4KnfsfAMAb8TSkMzsmWhtbBzzxtumR+l0QZw3O8uvd+tnz3R/jZOLD4jzuwvqM/fP9pwMjDsUM+QY0EWwlgi5DJjMUhAknCvIMDw9VDVINMQ06Bn/7MPkCAZALSw+fECoWeB0EHLoSIw/dEF0Xlh9OJTwjuhc6CY/+3P5mBnQM3AxqCxwN8wyhCJkA3AFfCgQUhhoMGEcUtw5zCIMGAhDFIPcpNhsC6/Ci+IFlq2LRdd1/2Fq9ua88nkmQtKwL3JfuGe3+5u/zshSXGzkNnfmh/agary2qLcA2iDFTCy7p3uIp95sMXQ1V+8Prh9+72pfaU9tP5Afxc/UW/bsJ+xL1FIcMuATjEb8oDy8kLvwmHxtDDncIcQolEYET3g+RCQIDwwIbB9sHBwjYD6kXUx3AHJQWsRAUDk0Lsg+WGPUaEhI2BZP8Pv7wAesBawG8AVQG1QxBErwQuxVuFBQMTggnDJ0SJRvMIPYi4SnNJwcO49CejqmHVL+n3GzX9MT2s2qrpJHsh6qq9NLg4orquelVBKAfrBSn/jz6gw8LJ+At9SovOagxhQwN8FzusAIqDKT7me2b62zoQuNa3SPe1+a07i30UABREJkcAxbaCmUKsBnqKT4sESnvJN0dHxEPCUIG3QuIDkkJFgjZCjgN8AxQBvUFxg4tFkwaixkWF/oSRQucBx0NhxSwFlAQgwpdCVQHhQJ2A54FeAnrDHULgA/hEqYU8xRzDkgD6QMpCjMTqRueIdwsjiIb+q+7cYi2kfq9pcycyzfIU8AHrkCMxY7ltGjIGtFU4LbvjRInIawOPQHD/J8IvB3+I/Ex7kRvM0sQk/lx+3cF1/xs79HzsvUJ7dvkwePI4Zjg2uc+8QYAoxSJHcEUoAxYDPgYKyE5I0ArEC7oIe8Vjg1HChQLPQYUCKUOYxKQExwO3QWOCNsKhw6FFUIZIxmxEtYL7A37EhEPWwipAlEFDgnlCKIHeAf9BzoGMAbqCQIQBBP0FT4TSQ0ZD3sLZwbKChwSECCNLS0lgQJdyLmSrZgDtQy+ssR6yF/HUbRDmC2ac7Ycu0LB0tQP6hQLthyJFq8IUf/1/rAKkQ8qIcw86zUlHI8NyghMBWj9TPSZ9+j5iPIO9Gb2R++q6q3kSObc9aEH3ROMGGkUWBIGGJUZCh36IgYkqCDtGpYX8BZFEH8GJQJtBhYN8BFQE4gShxH/DKQKXAtvD2sQSQ8oD9sPpw/MCKwB4/26/Kz+NAHnAbwDzQYPCHcIbgeiB5QLVA3HDqYPlxBlD8MMEwxgDlYYJCFkIosT1/JoxnSoCq2xugbIB80kymXDu7RNqmOxFr9svrDI5Nbg6HQE8BPqFlYQ8QMnAs8OLBRKJMc11zDsI6IZIhVWFtQLG/8+/dH5xfis/mgBVP2s9BbnS+hL8DD9eAp+DV4L9QvWEVAUABVwFDQVURRBE4EVyRnTGB0QcgzjEGYSwBS3FkMWXhYpEUUM4QxHCm8IDgowB4kGFQhwBF//R/tF9TrywfK7+NX/2QKdA3EBI/uz+HX6Mf1iAJkDuwo3DgoNTglVCQILCBLRGigbORFf/1blHsfOvEXFqtLJ1KvLVshmyb3Bwr3dxZHHFsu309Tbxe8HBIsNxg9lBgf+0QTbDP0QQR5kJ1gjzhuYF4UZExjjC5QBhgHlAUwDqgfIBXz/yvua+OL5KgD3BB8IbArIC2QPuxBFDlwOSQ2zDOwNYQ+BEG4Qhw6HCu0H7QnfDvkPEg8wEKoRGQ7MBwoGcQTq/oz8bgBhBNwEfgHM/KH2wPIb9T73Ufh3/EP/vP1I/Q/+TvyC+wP/lgLuAuMEUgiEBW8G3wjQBH0DAQh7Dj0OIQqaBu3/NPC13aPQuM6Y1aTYvNZi2qXgjtml0H3QHNWs1EnY8uOH7Xv4tARvDZ0JuwGmAhQICwf1CYAWuR9nGzwUmBecGAcQZAZqBH0HUQmGCu8N7A5dDXgKOgc6A9MCQwaXCNwKZAtlC6YLGQnUAigBrQJyBb8HxAjWCt0LqQl7CoINxQhqBhcLeQspCeAIqQUmBYQEJQKr/8cAgwAH/uMENf5x8kf9eAMc+I70P/rZ/uf5efkXAFL7JPxWAev+B//4BDMC0Pv6Ah8CqPpHBBAJPv0Y/UMI2gcBA6UEDAmOAwT2sPW6+EHw6OYq5qbpa+gP55jlAeZE5w7iYeKT53zpweyL733xrPUn+D/6Wvpy+zv/CgN5B1oGlAkREN4ONAuHCSsOexLnC54I/xDPFHoOlAoKDXMLBwWzBv0LIAkjBpYJgwqbA6MBCwOrAvH/nQE8CdkG9gPcCMYJc/9HAi8OlQUuBDQPKQ4GBrMDqgiXBEX/DwiBB9r5YvzWBqX/IPOY+7cI3v448cj+kwy39r3wJwZSArDwUfw5C3L7Y/h8BbT/o/p7/sj9mQFOAMb8+/2h/nr9dPu9AR0Cfvpk/BABZPrf+XX+yPk39036OfxH9p71Hv1a+f/vovEF9sXvuO2J9W7zYPFS9dvyjfQ++In2BvdB+OH64P2vAckEXwFcBAAK6gSVAmEJrApwCOoGmQbdCiAI4QaFCjUIVgXlBisJ4ANdA3YLhwaWAtsKbgq5BpgGHAsTBg/9UQa9BSADQgclAgMGCwndAJ/+zgFEAXIA/AMPBj4J3gG4+w8HgQRW+K/8DgvxBdz4Lv+WAOP2h/nB/qr7evmb/Sz/v/gM+5H///uH9qX7EAP7+vj2QwLYBHT6efycAiH+ePtr/5r/Jf5a/ir9QQDJ/X32gP6/ATz4M/zhBNr/U/X3+1MAyvUL+MsAfv/592v8uwN5+FDzavsn/DT6LvlH/FcBbf4h+4L5iP0iAZ//pwGP/6YCIALc/YcEaQKx/ZICVAddBC8BdgRMA7UAZwE1/40FmQd//HH+3gg9BW/89wIWDdsFLfzOAwgKqATq/6MCYwICAqsE5P8xAeAJkAXI/OcBkQIN/k4BWwepBPj+7wG4AjL/F/1NAGcELP2R+scAyP+SAvIAYvy1/Hv+HP+V+7z/BALL+/b8lQNG/7T3bv5wBgn9Z/kfArP+l/pIAC3/YPvX/d0ELv9g94b+IgLEAbj5p//4Bs/8P/qA/skCP/u3+sEDyPvS+igF0wFg+Qb9twYm/XT5WQIHAKz+wvyOAHoAof3cA00BGfy++BcEpwXL9/b+YARGAj37p/4PBPIAyv4V/fkD9QRZ/+/+QwKaAXoAt/95Bm4EMv2BAh4EOQGO/zb+1ALLBwUE8gFO/ocBUv8HAE8Csv98BTn8jgMRDY3/J/qyAjkMP/t49iEIbgXl/mP3SPy7BzP8dPeB/A0B1AKy/eX//fw2/3QBIv5vBlD8q/ivCAcGRvic9xQGfAWX+Ev/hASy/zL6wPpYApD+0f7MAFf/tQGk/p/8Zv3w+uQERQXO+S3+AAOCAXj5lQDyBfX8rfnS/WkEK/7a/IQCnP/G+l/+ggbiA0f6gQHgA338tP44/Q4CFAbaADL32fqxBtoDW/qw+NsBrwYWAST88Qi7Bv74kPu3BuID/viHAxEG+QIK/wP9AwW8AKn5egSoAmb7yAFuAd4DBP9d+MT+NQx6Atb0Vf/CBsIDpvuT/4AEBf2i9S0AUAra/db2cAH7CrsF8/ZN+eoJYQdq9bv12AcwB8X4+fkdA18B5/qF+eUC5wRt+/v6rACRBOH7i/mzAVQCCgGP/xH++AAZA1r/M/sNA64HgP3k/U0CzAJw+Zz7FQM5/lX+4P4WCrsCMAHfBu/5v/waBf8Dcf39AU4Gtf1Q9SAB9gUJ9I32iAYDB4v90vkdA1kJffxs9WD6bgasCN3+wP3E/TIM9AFN9L0IzwDL+l37dgXLDvD1u/ywB4IDlP2a89wEZQgl+d78+APtAjH+MgA6BDsBCv+N+8v9RwEm/Zr9gQnJ/UryOgRL/gYBWAIT/WEBXvsKCIgAYvpRArb9bwN3+u37rgCV+1EMxf8j9H/6CPviBi//gwBUA2H8aAgYBln8yvJS+IAGqwCCA/v7tANJC3390v/e/n8EF/5p/vkA6fv2AxkDAwdHA5H9rf7n+JgE6/6C9iAErQOeDMX9QvlRCrEEr/0v6/D9vQtN++8CAQBGCXcAtvZ0CvX2zPhpBHAAZQO3+g//7wAaAcQFr/mR/0f8wPd1CjwCBv8e+TcA+gzE/5b6nfneA3MBqvgZBFkFogDu+o/9SAfd/E77gP72AjQFbP5WAIQCIAZdArj4e/3+Ad0A0gUABs7+TfeD+J36GfpA+Oj+LAFIA+8HmP8F/bH9/gUWAX34WQJOA+//cgBnAUoF9v43/CD9aAJxB5gACANb/of6Bv1eAZkHyARE/jX96AOLAef21vmNBZoOvgL79CP/2AVqA7j2vPqACRcGTgFu/nUCoQTv95r7NgGw+B/+DwH1AhIBA/srAUcA2fz5/cn8uAP2AUj9Cv0JASQBcfSc/GgCrv8KAP39MQBqAtUEjQAnAUwHggUa+6L0RAPiB1ADXf2w9XsHCAkQ/TMAQgV5Ba/8Sf1E/fv64f/R+V38HASM/q0BQAErAA0EPP2RAv7+XPdjCWwIwwPLAlgAqgUE/h7+//ix+4cC+PpmAm0CEwZZAuD66ALb+Y38xf6E/9QGjP63AA3+DP4eBR4BxP5W/oT/dvsd/ooBUv58ALn/0wLcBb8D3P/f+fv6DP4H/wACTgRVAPL7Zv8ZBXgD3f2l+TT28Pym/hUC0Aie/jkBbgR+/xj98/j4ArQAAfpHApwFWAf8//T8d/2A/iIGkgKqAJ38U/10A9cAywQTAnb95f58/lkC5v5l/Hv92v3p/v/7wgBHBloGIv6R+S8EtgV0ARf8pPI9/lAKkwM8/s39dwOwBkkFp/w29Zb7bgD/ASH+Nvy4AxcE0wGW/D79aQUBAif73fk/A1MH5/79+UgA3wScAG35XfaIA7QEd/tN/YH/gQamA6P7jfzV/ukG1gIY/nIBEwQeB7T5TPOu/hwEeAPo/5gB8AdJAk37xPrh//sEngF1+0v6PAIKBYUEGAb5A7L/3fp8+uH8+/4tAeMB3ALBBHQGdf68+bP8Uv6yAOz6hwGxBUcAQQFq+yP+ZgFd/88Bav7f/xoD+wA//xb7yv42AW/9iwCpAukARAAw/Zv9LP/Y/Xr9Rf+KAnb/oQB8AxgCZQI+AHv+6P+S/3kACAKe/3z+SwD1AkEBu/7x/UD/KwH7/T7+oQL3/zL+YQEaAx0Bk//6/uv91v/9/XAAPQJ0/9/9lv41AWL/7/7n/nEAMgFDAPn/DP6w/5MCMwBU/yoAbAGYA0sAO/2V/cX/XQD7+9n+4wSKAbz/Av55/9sBaf2v/sr/hv6aAHQACgDr/9P+dACBAT//qv6IAeoAwf/n/gr/KgKeAawAAAAq/pv+kwEoA9gBGf4e/iMBvgBUALX/TQHLAin/YAAdAQz/TABEAD4Ctv9d/iYADQGrAGr8aP5T/6n/qf4E/JAAMwMEARb//f4YAScBj/76/Oj+6gGg/vL+OAI6AxQBZ/2A/yUAiACp/gn/nwDHAM4BMP5v/zMBlP9B/z//hAHf/678gABfA0ED4//c+zr9qQCp/S/3EwGsCR0CmwEyAooBlwGk/M7/NP5i/swAdf6m/Oz48f3r+377D/2y/TMA3//KAgIBUgArAT8EswOlAQYBwgGRBAsEoQF9/30BYgIFAvT/Rv+7AK0DOQQlAUgAZAEyA4oCmgEdApACvwFMATz/Pv0s/Rv99fs3/HD9sv2Z/s0AGwLL/+T+Rv7h/oX/YP9R/5D/iAKbAaL+O/44/XL+VP14+5b+rQAEA3IAjf8ZAOH/YAGa/vL+MQBiAQIA/v70AKAAVQCsACEAHP9Q/5j/rgAKANf+VP2V/wwCW/8EABABVAI9AcH/NQGjASwDaQGn//MAEQJaAiL/tv6oAJT/SQCv/2H/WABU/2IAtP7J/tz/w/+IAen/6/82AI8AXAH6/6v/DwC+/3IBkQJVAdz/kv+VAVEACwA/AGsAXQAm/nn/af9c/5//9v6+/7r+of40/sf98P50/tb+j/+k/woAs//z/40AbgCsAH/+Vf/kAQMC6gEuADwBJAFHAb0AU/8YALb/aABPAPD/UQBJASQBLwCiAFsA3wAtAcX/MP/D/jf/IQDe/wYAtP6A/qABgAH3/wn/gP+LAOD/egDiAPcAhQCr/63/F/+w/o7/OQC3AQwBPgB7AasB3AH4AIcA/gCCATUCLQJCAVEBcAFDAjACxwCKAAIBsQC//yv/Xv5L/+H/fQARAMH/HwALAFQAAf80/gn+Nv6M/jv+kv14/Z39ZP5e/qr8lvwd/ZH9jv3c/J/9u/2h/ez9Mf5c/tz8M/3g/O37Rfzl+6r9q/3W/DT9hfwv/QP9UPxi/ST+Xv7b/mn/WgA+AKX/r/9WAFMBOAKfAt4BtwGtATMCMgNyA4wDGgQwBLgDzANuA3QD4QKUAlsDgAP8A1YEVgTaAykEXgQ9BMEE5wVrBnoFuwYyB8sG3wX2BFgGsAaoBXsFtQW+BFEEdgMjAwkDagIzAl0BngFAAogCGgK9AYgCJwIcAvkBvADAAGUAbgFsAlICbQLOAYMCtAIzA2gEOgSnAtH+tfon+An1XvFU7d7ot+XW44bkCeXB43rkOebh5kznvulh7YDv+vBT9IL5lvxF/2gCRQNkAxkDlAQkBiAF9AObAw0CmgBqAYEBaQDV/tD+V//q/mT/NwG0AlACJQOxBVEILwqgCz4NXA3dDKkMhwxRDCgLHQvFC4IL1wsEDCgLpQldCBoIiQihCC8JuQp7C8UL0QvyC30MPwzbCgUJygcUB34GAgXhA6oDrgPUAqgA2P8r/z3/kf+k/9//DAC/AZYDfwPCAGf+tf4EAfwBKwGb/0f/DwIxBccGHQWbA+4EyQbtB/UI+wrmCZMBD/ZM68nipN3m2frXGdiq1/PaFuDT4R/k9eHD31rheONo6wjy5PTI+ZL+9wI0BiMFGQYCBgwCvgFeAnsEawdsB4kIfgi4BkAILghMBrwELQMJBH8FIgioDEwP3w50DbsLGQk+B4IFvwRJBHUDUQU3Bx8IlAfmBYoEqQNrAxME2APHAqECqgN0BWcGgAaPBTcEMgMBA0UCTwEhAJD/PgB4AKgAy/+V/sz9l/1Y/nL/pQCMAS0CIwJJAkgDlQOPAxMErwReBXkGdgfSCLIIAgfuBcsEKgaCB1EHGQcBBhYHfggRCYAIbwWEA2QCFgKFBM8FLAVqBOYCFQQiBCUBGgCz/ez+9gQCCUQJrQEh+Hny5elv3xHbcdv23fveqd9E5VXmceVD5/zjr+C34MflDO3/7t3zPvwL/lr9Lv9+Ab4A1fvx+8sAhgF1AnEGewmqCQ4I8QjLCV4GAwXZBn4HCAmRDGcR3hJxEHkQnQ9TC7gGRgSWBBkEqwNIBTYGVwaeBgYG1QTBAlMBPAEjAZEC3gOjBNgFQQYyB0wGSwNGAfb/VQDyAH0BcQL2AZcBjAHYAC8AZv+O/sH+tv9SAXUCBgN+BDoFlQRBBDcEAwQ9A7cCDgTMBBUFDAagBmsGVwVGBVIGAwZEBYMFzQU6BqEGGge0BpwEcgP/A3kD7wFWAMj/1/8L/x7/C/9r//cALgFm/2L+7f8IA/YGaQcHA/v7C/eo9uPxLuhZ4Z/e9eBQ5LPmfejG43TiUOds6N/nqOYf6iPvtu+x9Xn7l/kg+P35Vf5s/n772/9eAwICxQM7BqsHLwcEB1wKdQjSBHoH1gnqCswLdg0fEEUOeA6UEGYMYAdHBE8EHAanBZ0G6wYHBrsHBQfsBFYDHQE1AfsBLgSNBkkFOwUaBqEFWwUmA30BvwCR/3wBwwLpAXEB/QADAsQBCgAlAFD/sv6PAJYCiwRfBM0DQgX4BLkDHwOHAnQCDQKlAmgE3wQPBQcFWgQRBMcDjgPnA4sEBQaHB9AHuAfMBtkF1wQwAnQARQDzAFoBmgBGAakAy/6C/s79gf0T/Xn9q/82AAYBGwKrAQQBJQCiANICxANXA1sCTv5y+sz4lPRm7Yvl/uSI6YLntOY36CPnbehx6Tjrd+rg6NHvevND82P3wvlR+uD4Q/mU/Rf8q/pC/1cCfQNZA58EAAjBBr8FGAdYBdAFZwhRCoUL4wqcDa4PoQ2xDDkKMgYLA1kC4AQnBTsDxgJTBDYGiQXQA+YCMwNOBG4F6gZbB+EGmwakBg4HwwU4A/ABqQEeAvUC9QI2ArEB5wFFApQBDgGEASwBMAFpAqoD0wTkBFEEFATOA3wD+QKpAn0CAAIiAnQD4gPUAjAC4gF2AqQDzgORAzsDpgN/BLcEPAX3BMADYAOvA60DkQK7ACH/Hf4//iz/rf4L/QX9Pf7c/k7+2f26/q7/cQCCAEX/nf41/w0AWf8a/kL/1QFRA3oBsv1n+8b6F/pv9lzw++oL6u7tXu506uzoTuoH7Lnsye3B7dzsN/BQ9CH1GfYG+OT4i/hD+YD7TfyR/HX/9wEHAqgChQRDBuIFmAQMBYsF6wbCCOsI0gkcC1oM2A0ODeMJHwbbA2AD4QJdAmgCdAKIA1YGJwdZBZwDngOhBQkGqQYJCWYJFAkoCE8HTwYZA7oBuAHVARoDQQStBQMFIwMAA7sCQgINAgICRAIcA9YERAb+BVwE2APOA8cChAHKAKkBmgHoAKgBjAFyATkBxwD4ADEArwDoAQICfgKxAh0DrANzAxMDRQKGAXABVAHjANr/Jv47/l7/mv70/fD9aP7a/p79ZP3e/cD9uP1m/fv9p/11/B39Rv1q/Lj84f0s/1kAJwE8Ak0CXADW/un8xPrQ+Qz3o/LX7jTvLfHy7A/qgexx7TPuFu9j8KbxzPKo9vz2sPXf+OH6f/q7+Q/71P0W/UT9CACbAOAAOALVA4cE8gNABZYGuQY9CPMICAnRCTgK8AllByoFdwWrBNgCvgHcArsFAwY9BX4FUQZoB3IGRgbnB6oIYglJCXMIkAf4BbYEcwNpAj4DtwPpA+gEkwR/BA0EFwMkA/EBygG/AhED/wNyA2gCGwJhAZABVAFyAOkA7wAPAYIB1wClAOP/Tv/+/wwAzABqAXABBQKjAawBaQLlAr4DSgP6AlUDbwKpAVQAM/+U/l79qP0+/pL+6/4L/iL9yPxD/Q/+9f3E/dj+zP9N/87+4/5W/8r+N/5e//X/IwBVAGoA/wBAAUkBGgBc/rb9n/0h/cP7N/sc+5X5LfbU8j3ydPJY8brvwPCM80f0svTg9I70JPWt9kP4jPeR+DX83PuY+ej5nPvR+yD6h/sm/7r/fQBzAmoDEgSjA78DggN5AqUDWgNKAkMDnwNzA4YCcgKSA2cDawMuBLoFkgdMCLgIMwlMCbII7QfOB7YHKgcMByEHzAZ+Bj4GMgZkBdkEdgU5BW0F4AWQBUMFmASqBIcEigMHA5YCVgK7AVgBAgIQAlABrgCcAG8AAQD6/87/9v90AN8AQgEmAdYApwCDABMAIADHACYB+wCCANsAkACu/1T/Fv9t//D+ov7Z/qP+a/5v/SX9Hf0t/Y39X/3m/Vr+kf6j/ib+JP44/qb9jf0D/u795/3W/XH+w/4R/gP/pv+q/zUALwDhABEBmwCyAIv/lP5W/sD9d/0I/Gr7l/ud+db3S/e59yP3rPWe9rf3Fvds9vb2Ofej9jH3avib+CX5jvv2+x/6hvqV/PX8eftw/Ev/sf8h/3v/CADc/yz/X/+U/8T/cAGGAloCwwLaA9cErAROBW4HRAh/CMQICQknCf0HaweCB1UHhAeoB08ImAgjCBYI3wdpB1MHtAfsB9MHAwh+CPAHnwYmBrgFqQTCA7ADngPFAjcCEgIkAcj/Gv/y/vP+n/72/oD/IP/7/p3+pv6V/jz+gf5w/sr+wP5W/ov+d/4v/sX9Ff0E/Xr9k/3P/cb9Lv4M/sr8Bf0o/UP9j/3T/bT+oP6B/h/+qf2X/TL9EP01/fb9pP7H/kX+i/2A/cX9OP5n/gD/6f8uADkAHQBhAHcAXwCAAAAAHwB7AIkAsgD5/8X/hf+w/oP+BP7w/Yb9rPzB/FD8Bvyv+wn7Dftq+g36HPo1+mT6Vvks+fH5SvpP+v35k/rD+sn6OPtI+7f7xPuh+3z77/sW/Zb96P2d/vj/oQDoANgBagItA9QDQAT7BIQFAwbqBcMFpgZTB1cHQgeMByYIFggmCH4InQjYCI8IQAhTCHIIZQjFB24HhgdTB7IGPAYHBngF+ARaBOADiAOTAgICQgGdACoAU/+2/1D/ev4z/oT9pv3N/Ib8Af29/ED9sfyO/Kf8Svxd/FL7wftv/P77mfsT+9z7Bvzx+yP8Y/wB/ZX8N/2T/Q7+u/43/tX+df6L/r7+dv7t/jv+/P5A//P+ev9R/+P/df9A/+3/OQDUAIoAMQA2ADUA9v8QAOEAPgGFAQ4BCAEdAbEAgwA0/4L/gABLAP//s/9JAN7/v/7n/mT/Fv+X/kT+XP57/oz98/zp/IL9BP6Z/dj9f/7k/mn+//27/v7+qv4r/j/+FP8P/6D+zv5B/yn/f/5g/hj/xf+4/3r/RgBDAYcBvQGTAQsCUwLYASMCYQI2AtYBHAKcAtoC+QISA1YDOAN3A2sDOwOIA4EDAwN3AksCWQIhAucB8wH6AUcC2QHuAZACZAL6AesASgE9AQAAiQCLAJsAvgAQADsAbf8D/63+wP0l/qr+Nf9y/uL+nP+5/sv+8P5G/7r+wv5M/i3+ef4s/fH97f3Z/pb/n/6B/7X+k/6S/hP+Rf/+/g//mP8r/33/9P+C/8v/lf8g/wkAWv8PANr/Zv8UAO7+YQB5//j+pAAsAJoAav/e/qz/jP8c/3X+v//b/3j+UP7v/j3/oP5C/+r++f7p/9/+1/60/kj/Mf8Q/sv+G/+b/4r+mv65/63/3v4p/rf/wf8U/2P/uwBSAEMAqAA2AWABlgBIAtUBEQHBAGQCEwOMADkBmwIVAxYCoQABA6AC3wHFAUgBqwOUAQICgQHbAMECbAGlAFT/FwILAvX+nP+AADkBsv61/db/LwGv/qf8dv8MAEX/eP07/mT/Tv+L/Sb9uf/6/vT9Ef2e//D9Tv1t/8n+gP/2/pv/iv+p/lH/AQAQABYAC//nAb4BfP8dAJgAaQJN/z//TQJXASMAaP9KAQ4Cz//UALQBMAFFAaUAgAG7Ab0AjAE4AZABdgEhABYCPQCN/7wB9f/MAJoAuP9BACD/9wCx/pj+0wAp/o3+Gv+Q/67/fv7S/gAA+/5G/oP+jf8v/17+1v4DAGIAo/5X/9P/SwGC/r7+tAI//2j/Q/+z/4sCrf0VAIQBqQB6AVz9lwO2AEv/XQEN/zYDDQAC/+QAVwJpAQT/CwGlAe//1f6hAIwCWP/I/3MAogAxAIn9iAHd/mMA2wDL/H0BjP/U/jz/SgA4AdT8Y/+0AF/+6P6GAEkA0v7u/SgAfwD0/d3/n//uABMAaAAAAEj+uQEgALH+xv+TATsAB/+cAWMAN/4zAbcAQf5E/00BjQAq/n0AjQDVAJ0AA/8xAWj/mQIaAV/8bQP2/78AygCE/lMCUv45AYr/Iv9NA179ov8TAVL9aQM9/y3/rQCm/UoFY/zF/koDOP4TASP+3AGY/z7/2//3/kYCjP33/XsBXQHC/mj9hANZAXb85v7u/qQDn/2o/rkAcP4+AnP9TwF9AFICuADn/kUBL/+LAugA1f8P/0IC6ABYAdcAQf7XAvEADwBV/aQBWAJ4/UgA5QAKArX/n/w4AZICZf4A/0sBSAJB/a39OgKUAYT8K/6wAhz9Tv3rAZYBl/2L/f0ARwD8/j//Cv8uA9T+xv6L/YABLwJD+iADQQBeAGX/mP8oAEL82ACXA2H8d/4aA8//vwA5/v4BCv/WAGAByf9o/wIAdQIp/9n/Jv92AqD+fwGY/5r/eAWc+pYCjQB9/jcCDf8ZA+P6BwLmAUX9SgCa/1sC3f+sAb7+H/04A9kCYPx4+zIFGAJo+G0DwAHh/0b+U/tgB9L+xfwaANL+SgQG/YH+kP+J/ygDH/sEATP/fQB6ATP8rgErAdsA/f31ArX9D/6eBMv/4v4m/1ME0v/S+6UAWQI+Aon9Df+cBRf68P/ABFP+wwEy+tMCWASi/fD+x/42BU//s/vXBKb8gwFyAzf6iQPt/YMAKwFy/KIDSwH2/nsC0wCs/qr85gFzA7j5DgG3AKX8JAGd/N0A8QCN/d7/Cf6yBED6RACTAsH6OANJ/O8BegAn//z+/P3wAxUCLPyS/7UCygK5/WH9BwNE/lf/hv+xA+L8BgMD/6P/AQV7+k4FdgGD/s7+TQG9AZb/OwDvAoX8EgOFBd73fwfj/WAA9vyv/JgOAPZtAeUBUwBAARj2vA0P+jD68gU8/rwEWfftAngD5PmeAq3+agT6/uH4SAPyAlH5q/4TBxQA7/xa/ekFVf/E/UQDNvrpA0IA3PmSA7/9jAIU/Aj4lQgP/6wBgfm0/6IHgPUmBOIAPgAWAeD7Owli/Sf7lgPjADgCyfY8B4YDzPfgBZf3XwXGAJb7jwSp+8kDKfzbAS0B4PzOCZ/+MPsTBEQB//9T/EcApASO/GIAEP3kBkYA8Pe+C8X/WQEh/ycBkQUs+Zr+8v+DCHb88/fPBKT/Ov/P+D0DHwR7+YMAuwAFBd361wANBgT3rQUBAXb+vACD+cEFqvuL/kEDCf0wA275iwMqAir16QT0BVT8wfthAc0HnPze+XUJtQRJ95L9RguE/wD1jALcAV7+DwLs+t0B5QMc/SgBOgHrAhj7zP7zAMH+dwIE+dAEigbD+nr8ewE5Cbn5ivlpBr8AHgIs+soFSwYl9uEAZgGNBeP6FvwhBeH/Wf7093EKPwJV+JkCvgO7BRD8YP6eAa0AN//i+w4DiwAt/d8Da/4+AxD9Cvq6Apz9ywWu+gb/JgQo/1T/WvwzCNz7uP2eBgMCC/wA/F0EEf7k+08BcwEV/J39U/6CBVL9C/ncCiYB9fnb/bIKOP6z8hEM5QJ4/Nn70AWQCNjwdgROCFT8svmjAEULoveA+UcJ7QNO+OYBsAwq+8X7/wLUAK3/ZPfoBHYAxfpwCOj/ff3R++IC8QAc9ewH8wX+9xv/zv/pAXv4tfzkBbf9vgK0ANEAIPu5/A8G6AHp/TUCtQOYAaL9ZfnHChT+3fXQBQUHEwCb+IkKZQG18aYLNQOi9nsCIAJcBcT1Yf82BgX6yf/NASIKS/vq9yQGbAMC+i79iQPh/Rb7swVlAh73PQAkAXsDGv6a//QBvP7P/hv5TwILBJf9p/8sCYoAaPmTBrkHy/Pi+VEPxP6J95QD7gde+uj57QUdAH/+hwCdAff0hQIhDqHwA/qFDewCp/V6/pcIPf0GAeoA8fhAB3gDnvcQAKP+FQJn//wCMAP5+ZgBAPfyAHgJX/zY/54DmgSb/P/4EAV2Af/5kwFWC+b/f+6zBoQKdvZH/UANDP8O940IgfzN/UMBwv6C/tT/wwOf/Hf9v/u4CrIMFvPD+9kO2Pt58u4F7QcqAPH/wfzIAp//H/dEAqUChgR5AR/+PAMmAGL89fdrAsYACP55CVH5tPrwBrT4JAGYBvL8kP7lA84CP/rs92H+sAWE/3H9CgE7CJX5avUlCQf6RwC1CQD/UfsoBYYM5Pld9f4Cfgs++076cA1b/VTx2QWgB/n4I/j2BMgAcfROAdr83P4YAxwCvwXM/EcDUQe9A1n95v8OBf3+BPsBBFsDoft3/VD9IQSH+2n9Mwfy/gr70AE8AZ0CdAG/9kQMWgJW8S0DDATA/97/SwJc/gcEKwPk9mL/2f90+xML0AQZ8zUExQ3P+JP2TQDWAu4JTP80+U0Gb/x+8MAHnwyX+2QDaf/c9eT/hfyR/UYLCv/A+jAFkv/B+Gf/qAK98zoCTg5j+fD51vucAr0C1PJbCvgOK/rG9akC6gkN8SEIdA+Z7vADmAvc+EX9jfwgBVEGWu+fB/oRBPnn9jUCXQRD+/wHPQjL8qD79w0z/i338/1QBsEEAviyBpAGeP6p9tX1TgeXAFn7qwZCBb/4CfYuCJQLVfXj/f0Ft/41A5P+zf0cAD/8jACeA08C2wLg9nz/LgN2+g0DywEuAxAA2vxc+lT/eAKC/BQEAQXR9+v69gfI/oD79v+gCvYAuvhFDJP/LPyZ/ET3hgW0/Nv8KA72AX75iPu0+/0AegNjB28E6ggx+G3tYBFwCvTxcQJeA6n5+gI2A8r6wfqR+ST6LxEKB6v2swkP9pfvPQZf/hsBuQUD/EQDhf3r//H/tvxABgL9LwAfBukHbwCP8isAVgp6+X8DIgnb+7P5nPWqBG8Kvv/Z+0oCN/0M+PcEEQXw+PMBCANV+Q8OegTo9fcFZgDI9W4GCBAC+Qfz0QXZAbn7f/7D/j8KN/mV8mMDyPulA6YH2/9MAO/3o/81B1r7Rf5GAIUB7/049TwIMQ/G/kz9ewE4AsoGy/89/Or7LvkV/woFof7A9XoEXf5Y8jT8pP29BaQLU/xb+RoHnQc8ALABxAOZAGT96Pft+98B7ASp/gUCKQYGBgkK/Pso/0wDsv55/kb/GQGr/+z9XPxn+A3+/AMb/iP+JP9JCWcBUfctAtMHjAfg/N/8SAc2AFL/ngUT+wH8mgAZATb+2vnLA1QD8viG/OsFwQOAA3UDbPvL/AQIKgQX9mX+VgSG+4j8Fv19/QUDP/2l+TABYwDw/m4CAACg+04ADgNk/l0AegE+/9/9pPyEAdgCFP+O/n8AUQKb/vP8xAFXAIQAyAWiAP36vfw5A1MCqvyn/04CMgFV/W/+KwIO/9T+pwAq/hgAgAPxAVj+WgBLAgMCzwFG/1MAVQHlAHj99v+uA+L+I/6qAMMAj/+SAIH/Nfu9/wYETv+w/TH/XwE3AOX9LABiANr9FgJrAQ76dgE/AzD8vQAUAvv/swJmALn94v9VAigCj/9ZAREAh/7SAhb/8/59AvD+AP9CAAQAwv8JAUL/eP7BAib/6/ssAbcB4P6h/5D+ff+YAFf/GAPyAl391/2nAY3/Rv2xAjH/6fseAlQBpP7F/Wr/W/7+/9cD+v99AOIAovyT/3gCvgDYAXIAuvyk/RkA1P8FApMB2f8rACr+ygCaAYX/l//R/4MBSwB3/1UAR/6RACYBv/+nAKz/LgDm/n3+mwBpAQAAQP6H/24BCgBS/18A0f9RAcUAcP8OAE3/6/+aAOH/HP6H/w4BAABiAMz/9f+3/zz/mQBeAWcC6wD0/T3/wwGLApMBMwBD/3f/RACU/8n+Q/+HACUAh/6u/mkAAACXAOr/GQBmAuj/LP8KAZAAqv79/+AADQI0AVD/vAAPASQC8QEFAdkA8gGiAE7/ygCVAkACOwHm/7X97P/jAWAB7//ZATcDGQEr/g//7AG3AQQB0v2a/oL/x/8L/6r8ov8nAbr//f33/cz/AgEzAC3/3/6d/qn+Of/t/lf/wP+I/Dj7g/y1/jP/UP1n/Hv9Nvwn/ND9n/1CAFD++fxn/fz9jP8g/jn+8f+E/+P8l/0D/sD/wv9U/47/3P5s/0/+O//uAIADIAHB/nf/RAEmA4cCTQNwAikB0gDqATgEogWCA/gCCQOHAxwFoQOkA8ME+QWRBcgEOARYBlcHtwXHBSEG5AcPBmUDGQIGA0AHhweGA2gAEAAGAWYEAwf6BJQA/f25//IDigbiAyP/p/w+/64DkgPlAGj+KvzY/OIAAwJ5/+n7R/gn+MD6s/lO9Vrxz++48A/tS+ij6lrs5Oq56f/o4usI7cjsKe797bbwE/QQ80bxCPJ99YL3XPf++Hn7+/wM/bv+NwA0AkkEJQTIBRUGKghaCtsJ/Qt3Di0Pcw/kDroQPhMAE2wTQBNTE9kTKRSAFBcVChVJFC4TAxL5ElcTxhE2D+4NlA+JD5EMLQvbCxENYQwXCsYGBQazCTEKwwaNAs8AsAMTBAkBngF3AZ79MfxgAM8F7QSz+lnubuv/8jX7lPZ85ojaJNdC1knYP98b5RTjutml0r7XeuQF73vw7enm5qTqYO8G8vr2gf5bAbr+wPwr/jcDNgdAB5oGPASFA+4C8wABA1kGVwc8BXQCVANDBmwINAiHByMIWwfKByAKFAxEDugOWQ0zC2wMsw92EIsP9Q1FDeQLWQqSCnoMTg3yDLYMHw33DjkOngxbDOgM6w0iDiMLXAi0B0UHxgbRBeIE1gOXAxADzAL5AtMDyQTaBGEEhQTAAxYE2gXKBhgHrARdBEAGgAiCCqMM7wlK/xD3q/eD/tL9ePJT48fU/8+H193iwejn48Pa+NQG0/jdte2W83bu5uL33/7lau8o/P4Bn/y39Xz0avqkAmgIdAp6BAj6G/ec/L0DPgkOCPsB2/sX/NcDMAmhCsUIAAVPAV0BJAhrDvQPNg2UCbIJ1gxuEDcTQRJ2DgkMLAtXDJQO3g9rD4kMkgvGDaoPjRDXD2kPXA46DSgOtw0VC+cILwhDCEkIEwYjAw8CnwJdA/ACVAKDAmIDIwP9AusEuwSWAyoDPwIpBAYF/ASyBAIDxAXMCPMH9AOG/hz9Dv4t+mvy0uYM207X99jx4PjmxOPF3lfZk9is35vpk/Cz7aDkC+Gj5IjsCvf1/Mf7afZk8wz5IAHKBZkHAwR0+2D3R/ufA9wIbwcaA439jvzkAjIKHQwRCTgEAAASAUgH1AwdEJYNuwkqCcsL4BAEEsQQQQ4vDHYL9QxsD50PVw6hDOIMiw7OD54QXBBaDosNPg2kDE0MTQsOCpQIDAi4B+oG4gSXAvABTQP5BJUDMALwAb4CaQSfBCcE2QIaASMB4wHIAiIEWQNFAi8CBwSSBygJdwbxAYL/uv19+a3wF+e437zaCNzQ4YLlgOW54frdZd0M4WDotett6P7jfeNx5mfrKPJ890X4wfWC9WX5Ef7AAbUCyP9B/P362Pz8AAIEZgXnBB0DIgJQApIE3AYcBlgF6gWqBQoHhgmIDLUOwA5bD5QP8A6qDo0Oew5GDgsNBQ2RDeMM5Q15D8QPmg8rD6kPzg8PD0oPLw/9DUoMBguWCt4JCglZCLYGxwSNA0sDNAMbAzIE+ATlBO4E3gQDBU0EqAJoAuMB3gHhAZcB5QL5AuID5QSFBt0IHQkoCFAEjf2Y9DPsdOXr39Pd59504FjgvOC04h3iz+Fc4yLk2uT/5EznfunT6CfrU+8H8v70Pvi++2r8vfv4/On9S/08/q8AGAAhAKYBkwPUBOUD4ARJBdYD/ANMBZsGuAZtB4IJIQt6C/8MRA9XD+4Omw+1DxMO/AzADCcNBA0PDqEPMA8gD7UPPhCIEIEQtBBXEDkOsg38DYoNlQyZCpMJewguBqsFegUrA/cBgAEhAbUBxgLlAxEERgMhA7ACLQEbAa0BiAFiAsYCgQMPBSEEzwRRBrcGXAnhCX0HHgQP/LXy7+u/5Hngld9B3yzhoOB44bLlxuSr4x3l9OTV5KHm5+kq7VvsYe028i7zNvYf/Pn9Ef1l/D/9vv7A/R//hgJRAQAAOAICBHcD7QLXA8oENAMDBC8G3gR8BHUG6wjHClUMOA74Dv4NQg6ND98Oog0sDegLugt5DFIN5Q6ADsoOZhBGEJAQLRH2EJkQXA8yD4IPig1bDFILUglHCPoG4AX6A2cCWQIvAg0CuALoA20DPAN4A/ECZAK8AZsBOwFKABMB/wHqAb8C0wKjAlYDcQQ/BiMIWAf7BBn/S/RL7LXmzeGN3/feNOBK4PXfe+TX5iPk1+TA5r/k9+Tl6bLtSu1E7IHwcvNC8zj52P5D/RP8Of6p//b9x/waAFsAxP1FAeUEmANMApwD6QSCA/ECOAZqBo4DFwbECIUJIAuMDPMNZQ2cDcoPmg9EDRsN/wyjDDoNgw1LD8AO3A3iD+gPOg81EOEP6w7tDtAO8A6WDdML7ApPCUYIUge9BX0EYgN/AnEC0wJUA40DLgSLBC4EJgQMA9UBHgGkAMoArAClAAAB4wCAAcgCrAK0Ax4F0AR9BhQINwWv/y33yu1d5wvj5+GW4abgAOFO4ZniTeVg5jvmmOZl5crlbunh6/jtKO9p8Af0SvYC+cj8C/0E/ZD+TP+g/0v/Ef9x/wf/YwDrAuECYgJiAmMCMgOQA/MDnAR8BOsFaQjBCToL9AyjDUkN6g2WDvINQQ2PDDIMEAzHDLYNbw0FDVwNsA2HDc8NrQ6YD/4OUw4mDgcNHgxnC58K3wmBCKAGdgXfA2gC/QFzATIBFAEEAoQDZQNWA2MDCwKtAaIBHwHeAfcBIgGqAZECXwJ6Al0CKAJmAgMDRgadCB8HvwN6/aDzReut5mXk6+LW4JbhAuKf4Yvku+Y25jHm+eYH5xToLOri7BjuKe4c8Qf1FPh3+/v9v/3R/Wz/ov8g/8r+7P6d/pH+vwBuAsQCMQOVA7IDTAT1BOsEeAQ7BIkFNgc+CMsJmQtpDO0M5w3NDUANfQzdC3oLVAteDL4M1gwSDVQNpA0GDlIOhg5yDgQOSw7lDX8N0gwmC60JSAjqBvwFYgXmA8oChgKkASEBNgHuASICzAEqAjECngFFAaIBqQAMAH0AUAAdAPL/3ADVAegBTgJJA8YCkwMkBtEGeAYcAxX8U/Ne6wPnMOXF49Hj/eN340TkdOVV5+nnrech6K3oSept7B3vPvER8q3z3vb9+Lj6Vvz+/Nf95v5cANIAs//B/pr+1/7u/xQBFwKkAhMDzgNNBKUEewTqBFcFAQZEB48IqwmGCnELJgzYDHINkg2UDNoLawvMCn4KogpYC/cL/QwzDr0O7g4lD8oOlA4HDogM3Qs4C4AJfAj2B1MGFQUuBLcD/wIrAf8AIgF2AJkATAHiAdcB7QFVAgUC7AC+ABIB3gBmAcUB0AHhAfoBogLvAkMDHgQtBRwGngbpBYACR/yc9GLtLugn5bXjKOPj4gjj2+Ov5Wbnmei76ZfqUesC7GjtU+4Z72vwGPIU9U74Lfv8/YH/DwAVAcsA6f9Q/3v+Z/65/sr/JgECAgEDAgRoBMkE1ARuBJcE9ARgBbMGBQibCN8J1QqzC6UMAw0kDX8MyQs7C54KSgp8Cl0KCwvkC9wMFQ7yDW8OmA7ODYoNTw07DF4LkQpKCdcHSQYHBd4DqQKiAXEBHwFXAY4BsgE7ApEBiQETArEB2AE3Aq8BBgLkAXUBXwIQAl0C4gJmAhEDGgO3AwMF2gUyB18HNwWHAOv5kfLq7PjoZuZ25b3j3eJa44Lk2ubh6FnqIOtp61rsQu5U72HwLPHy8Z/0XPfS+jb9nv2C/vX/qABLAaoBtQC9/0v/JgAJAVABJgFvAakBuwIpBv8GTQb4BicFvgOgBJYFngexCFsLwg2nDegNbQ2bCwkK4wmpCboJUQkSClIKGQrfC5sM4wyTDWgOMg6GDbUMcwsCCkMINQffBd8D2AJqAoEBeQGPAWYBwgGlAUkCtQJ/AsMCLQJlAYkB/wCfACMBswC2APMA6wBnAawBtAHhAj0DGgO0A7oDVgQxBb4E9QEG/Uf2oPAx7GDpCOh65ijlE+RT5NTlOeiq6YDqZevS6/vs/+5P8DDxlfER89T1Wvgh/Br+U/6N/z8AawEBAzID3wKkAbMAKgFYAbUBnQIyAisCtAJWA0sEfwQ/BfoFwgbzBwMJqQkYChAKKwpeCsEK4grHCtIKWQo2CsMJCQpFCjgKPQsWDO4LBQyXC+MKbwqVCZgJ8gj+Bw4H9wWoBDkDdALHAS8BdwB3AMUAmgAEAXwBjQGNAdkBPgJYAo0CvwJQAjoBGAHdAJ0ABAF7AS4CzwKJA/8D+QMgAzADdQMaBNYENwSqAav8MPf38U7ul+u/6S7oSeZH5bnlo+bK6HvqIeuW7AXtC+8Q8QzyT/MF9Nj08vZv+av7x/17/tv/FQH/AUYDRANZApQBJwFVAQwCUwJhAvIBnQHrAWAC2QJ4A/oDfQTSBQEH/gfHCPgIUgngCYEKAAv0CqcKbwrtCbcJ0gmkCZUJ9wlFCmUKmQphChMKCgrTCdEJZgloCHUHOwY+BUgEGAMdAg4BfABrADMAnQBmAEIAqwC7AH8B4AHuAcgBSAHlAJ0AMwDy/43/AP8N/1//z/9PABoBfgG3AcIBdgGHAaQBugFFAlwC9ACn/pL7IfiB9GHxae8z7RnrMOqP6YPp++ny6ibsAe2J7lXw3vH68gf0ufR59eX2mvhH+v/7ZP2F/r3/pQAQAscC+wJxA3QDnAPdAysEkQTABOMETgW3BaIFlgXqBf4F8AXRBqsHIAjQCBUJfgmUCe4JZQq9Ct0KzArxCm4KLAoeCgAK0gmeCWMJPAkMCe0I1AhFCLcHSgdsBpUFvQStA84CoAEJAV0AjP8Y/3r+Pv7Y/cL94f2p/Zn9nf3L/az9p/3S/b/9bf1b/Wr9Fv3y/IL8b/xA/BP8VfxU/CX8Afxy/F78cPy5/Mr8BP3l/P38If0j/WT9A/5K/in+JP6e/dz8/fse+1b6S/lF+DX3mPbu9XD10fX19VL2o/Y59+b34Pe1+JL5VfoT+7f7rvzp/EL9Gv7N/tz+A/+2/x4ApQBfAT4C4gJaA0sEaQVMBg8H8Qe3CAMJOQnJCecJvQmlCawJcgn0CNgInwiRCEUIGwjIBy4HFQcDB0cHBwe9Bq8GSAaOBe8E3QQaBAMDZwL9ARcBFACq/3b/hv5s/XX99/y9+yn7jfsv++z53Pmi+kr6B/kH+Ub4GPWY8RryrPJd8NDyM/ee+Yn7vgBcBgkHugi2CwENSQrCCAoJHwXHACX+8f1H+qX2Bfg9+FH3OveH+3L9v/xOAE8EMAVPBGwHAQl1Bk0F8gXVBLwAd//N/9/9RfuY+5X8WPvN+qn8hP6L/Vb+uwBhAfwAjwFgAz0CDAEJAhICOABo/0EATf9E/jf+2v5z/n79tP6A/37/aP8gAScCmwEzA+0DBwT6Ar8B2/4V+sv4aPaW9FH15Pf1+Yz7+v+fARcFEAf6BwQKuAgGCtgI7gjfB68Flga5AzgDcALxAfcAs/+FATEAzADLAMgApQFpADoBvACdAIj/Xv9ZABL/2/7c/lT/dP5P/qb/IP+l/sb+cv99/w//lv9Z/8D+tv7D/pn+QP7t/RT+q/1L/YT9T/1M/TX9nv2W/cv9UP4e/mf+Cf9h/x3/f/9HAPP/1v9BAJEAcgAoAN8AHQGKALsAtgHMAbEBWgLRAowCrgG4AdcB7gAbACoA4f/H/uH+3f79/k//Jv/g/+P/5/9NAN0AOQH7APIA5gCVAOEAmwDY/0AAW//U/Bn6Tv66/eD4hP4y/2sAQgAQAwgIfgNsBswGswZkBDMCQwQaACn+K/2J/e/6uvmE/L/8o/v3/CEAlP+v/xkBmwJbAdEA3wLiALn/iv84ABgABf4GAMn/4P5Y/10AEQJaALYBtAL8AIYAqABDAQj/Cf7J/o79/PwP/VD+V/6P/Zb/QgBbANcA0gFiAsIA2wBYAYsAZ/+O/4wAjP9I/3AAXgC1AGgA1QCKAWYAUAFrAbsAGABo/yb/af5r/l3+2v25/TD+b/5d/5n/+gCHAXcBagImAcEBMAHGAKkA0f96AEf/nv3w+mL5VPgv94D3SPh5+vr7Lv4BAXIDewV4BuMHywcoByEG5ATlA+ABeQF9AJX/9v50/l7/Lf+aAF4CQgM3BMkEIwVdBM4D9wKqAY8Ayv9u/6r+zv5H/9L/hgDIALYCOAOJAtACKALrAKP/8v4u/fz7zvtG+5r71fuw/EH9nP30/igA9wAaAV8BGwESAPv+JP6k/bv8IPyz+x786vzy/ZP/agCUAc8CVgN0A24D2ALPAakAG/99/p/9gfwZ/Z39Rf6m//IAyAKXA0cE4gREBLIDxQJbAV//S/5f/eX8hv3Y/e3+JQA+AXACYAPxAxMErwKnALb/bf7P/L/7S/st/A39XP48AN4A2AHhAdEBnAHpAAUA7v53/ir9+Pzb/Fr9e/33/MX9Kv6k/7oAAAELAnkCZgIgAqYBlwD2/+b/1f7K/kn/r/6C/u3+Zv+m/2EA3gEmAvYAhAByAC8Adv9o/sL+n/4l/h7/UgDAAAsB8AEeAmEB5QBlAFD/t/5a/mL9Wf1D/rT+4v7a/yMBBgI7AqkClQMBA7EBgQA0/8j9WPwN/HH8SPzE/D3+GQDDATkDLQQABScF1wMjAyoC0gHfAfMA0QBwAVABFQFHAQQCOALcAaYCngJDAVYA2f/5/h/+YP14/hr/mv7H/gj/k/+Y//b+bP4V/hT9VPxa+yH7dfsP/F79Pv78/mz//f9QAKf/6v6f/hH+af3A/CT9fP00/X39Vf0G/jX+1P2U/pj+1/6w/hj+h/6d/vX9z/5k/5r/rgB4AAgBpgASAE4AAACL/wr/Df/Y/kH/e/86AB0B7gCVAewBJgKWApACxwJaAlsCTwJKAqQBEQEGAbgABAFiAAEAMwB0AIoA6wA6AXYBvgFwAn8D0gPBBEoFsQSjBNEEtwThBN0EzgTSBIgEqASlBC8EmQPeAqMBBgELAowBZwAD/2r/7v8X/50AKgFbAL//AwA2ABL/Ff57/gP+gP2L/k7/GwDWAOgAzQHOAeYBdgI8AekAkQB9/wX++vxj+w36Z/cs9AfyLu827fHp4eWF4zXideGL4crii+X95zvryu7b8s/24fqb/s4AcARWBywK9wxSD0QRTxK+EuYSpBLVEcUQ6w0zCykKCgkKCBkHSAdyCAwJpAqdDLwNAQ80EAoQsg+CD3EPrA7VDR8OqQ5ODhgOQw66DTcNGgyuCrQIZgbBBOECBf/I/Wj+7v17/jj+bP6X/pn9j/2l/Lf6Xfrl+f74pvpp/Df+wgGiA8YGbQd2B9QJSwoODaQOywrJAZT3lu0f4q7V7cszw8S48bR0tt25cMCYykDXWN6G5KbuRvbU+hsApQaQC5MQABeAHz8n5i5qNdg2ZDYbNLYuXCaMHcYT1wh9/334FvIV7ZrrOexz6tfnn+j76LboJOmi6iLtge978zX5Sf9vB6UObhLUFTQY8BhcF5YUkhJFDzwLTQkICCkHRQd5Bx4HwQUiBNwCrwA8/vT8T/si+zj8sP3q/0ACjQRgBVgFBgZGBuUEKAOPAlcCHQJ1Ay0FAQecCBkJwQmuCgkL1wpRB6UD5AH5/T38xfyD/g4DBQadB94J3wlfDS4RMw92COj3feITz/q876/Hqkmpdqogq8Www79Cz6vcK+lO8anzmPTv9rT9ZgbUDwMbASTUKyc2ND4+QlJCwDvDMeAkRhZbChMBfvp29j7yCPGM8ZbuMewQ64PnleKl3U/cBN8Q45vrZPdkArENKBfsHJkgtSECILIbsxXmEBwOewtlCyMN0w4IEDIPbQwgCSAF4f+Q+uz15fWT+AH8WQCIBS0LmA5CEO4PBQ4UC1gHwAPqAUsDoQY4CTkL1g1iEIYR7BDMDugLUAjxBAoDhQIEBRQGPAXLBFAEdgXyBRgFtAUfBn0ELQSeBIILRRNUDr0AMex31LG/Ua0+pYCmiKS0phWvVbt4zWTdu+ud9+L3/fWP98v5LwSKEOUc+Cm9MYs5d0GHQhxAzDiFK7QdJw1JAKn6Xvdb9mz2RvWU9IPzsvCd7Kbl5N6K2nLYM9sZ5ejx9v4kDAcXxR+LIxEiBh7AF84Q5wvOCLkIJAvWDCUPBRAoD1ANiQh6AsX8b/ft9JD1Y/gw/tAETgvoD00RnxAnDuMJ3QTOAPL++v/6AboEBQn2DWIRXRLLEIMNNQpOBtoDXAJvACgBGgMXBbcImwtDDbkM2AcoAqz9hPz1AScISAtpDckOABSfHLMgDhzACrnulM9us1agO5vQn4CmTq2us56/fc9t3J7mCu2E7HXq2epU8aYCiRWdKCU5NUCSQ8lEVEFtPPgvLR+0EcoDgfzT+639ggGGACT7rPXf7RrnJuJG3JXYE9f52SrjA/Br/xQOvxb/GYwamhlcGKgV1BGcDlAM3Qs5Dl4RihMRFAgQTQlCAan5YPZ79bb1k/f2+SD/hwX0Cc8N6A2dCuQGDAMNAQ0BBQK/BbQJwQuqDVsOzQ6eDroMUQpUB+wDRQLTAk8Fsgh2Ci4LSQqCCL4HLwbeBBYEvQOtBKkFjwc3DAcRhBITETMOORC9F7cc5RglBEbhob+bpfeZYJwJoharlLHAtp7CDc3t1RDfFeIC5Jvltegb+T0ObCP+NrY+JEGiQDU8PDogNLEnAxz/DsMGdwUXBT8IqgglAZL3Yevy4JrdJNwT3kvgzt/r4/jrfPd3BfEOghP1E3kRSBEOE94UQxbeFAgTehKAEp4TpxIQD2QJHwKP/CX5GfjT+Tj8dv5rACQCrgQJByIIlAczBVcCLQG5AvMFSQloCyYM9AunC30LCwuVCV4HeAYFB0QIHAmJCC4H1wW1Ba4G3gbbBJsBkAC8AZQDsgXEBRwFqgSqBNcHdgtQDoEQixBgEe8UvhrBHSEV5Pzj2X62H56CmJ2i1LGPvLXBqMYDz6XXWNxM3CLYz9Ws2v7p7QGnGWUsEzi1O+Y5LDUGMPoraSbxHhIX1g+3DC0ODxIsFdcRFAd9+Hzqp+GT3pDfmOIl5dTnxOxk87L6KwBvApACaQEgAuUFxAsoEhsWmxbgFMgSOxLnEjASQQ/FCecDlwDy/+0BFgSoBMwDVQIfAv8CoAMcA48BBwD7/y8CswVOCCsJvQgPB00G2gYoB0wHUQYjBcYEQgX7B/kKvwr3B2oFzAOoAhIBEQAYAXcCRgJcAZwCWgXHB9EH7APQ/zH+yf9mAxkF8QR4BeMHPg1GFG8apRwMFiYEeen3zH22oqxtsNC7dMiQ0SzXVtyl4Jfipd8P2HfS5dRI4iv5cxGTI/ksoy7+LK8qoScTJCcfhhncFPAR4BE0FCUXYBjgFLILxP5Q8VnnSOKh4IzhFuQs6GPufvVf/FoBxQFA/2n9wf3AATwI5g5oFGwWPBYXFo8VLBT1EDQMbQddA4oB0gJgBSIHxwbPBPACIwEWAFAAjQAkAEH/af/LAQAFMgciCH4HlgU5BB4ECwXWBdQFega6B1gIoAikCFAIMAfFBOMB3f+O/8YAgwM6BpUGewVIBPoDJQQuA5kBzABmAv0FkAn4DEEQoRPfFl0YCBr3Gywarw8g99XVb7ayoVGe/6Yqswu+0MRzy/jSkNf32FvWcNRL2aHkF/iSD4UkljVDPts+wDpNMqorTCcUIXAaHhKLC5MKTgu2DGAKaQDL8wDnpN1k2gbaSd1Q4xrpae849bL7/QMZCnsN6Q15DB4O7BKJGcMd+BrGFCkPVwxSDC0LBAgrA7P9Tfv/+xv+IgCzADUBXwEJAeYB3AOUBnYIKgiXB70H7wivC2ANxQwtCsgGOwb0B68JmArQCecInQhhCNQIvgjzBsME8wJEA60FNAc9B+0FxgTsBXkIewrIChsKQAvgDo4SBhXPFRcWDhlTH+kkoiErDwnvWslAp4KRkI1DlxCmGLN3vUHJqNSA22ze/t2e3Y7ie+86ByMjSDn1R2BMIUiJP3Y0PCwUJFwXcQp0/5T5Yvnl+Qz7pfjx7i/jxNiX04zVCdtB5A7vLvgOAmML7RJ8GIYZlxjVFoMURRWxF2EZaBhQEvkJ7wF4+9D4//fh9qP1AfVU9y/8EAF0BRQIYgjAB3cHHwm+C6ENZg4EDYMKkAjnB3cI2weABXADZwJ6Ay0GUwjHCWYJ+wdJCKcJSwt8C7kIdwXVAkkB1AGCAjkDPQROBd8IzQ01EegRvA8/DtwOwRBAFGEXOhqiHncmIi+iKncP9eIKtrGY6YnhhoeP2J9cszvDt88E3J7jheU85BDjd+je9ssP/i0ZQ+NKUkr3RSU/pTI4I9kVhAjQ+8by+O7L8MPzd/TX8S/p1d7s2DTYRdyl4lPs/vmaBpsQehjgHWIgSR52GVoVpBKpEbIRThCIDNAGnQBH+9D1afFj8A7y6PTb96/7dAErBxYL6QzHDP0LcwukC0UMswssCukIggeQBRMDPAG8ACYApf/FAGIDbwZgCOoI6wiKCOIINgq4CkoJVQb1AwQDhAK0AqoDtAXVBz4JOQsEDkYRkxLXEHYOWA3GD8YU+RjOHP0hryrCMBAlyAKL09ipGZGNhcWFcpHcoxy35MYT12Hna+887gjoOeSc6nH9qBo/NQhCU0VuRbNCjzlPKSAYLwg5+M3sZelv7Qr1C/kB953vBOZP4XfhMuOh5hzsFvZiAlIMeBS3GkIeTh0AF70Q5Q3cDEALrgc4BJkCtQHw/5r8IPny98/4yPnP+jr9BwJoB5kKBgzqDCENWAwlCsYHNgb6BGIEzQN4A8MDMQTfBBwFMwW+BUYGfgYnBgYGwAaDB7sIHgr7CdoHeQQ4AtIBvAE0Av8DKgYkCLYJpQuIDjIQkw+9DRYNlQ5pECkSFBSuFi8aCR/NJrspaBuN+ujQOa24k3CEbYc3mGqq6rh5x6/d8PCP9WT0UfLh71fyCwDgG1M0ojrpOf84gjOFKPwaSxCuAtfuZuQe6EzxmPnl/OD8Nvik74XtnPB78kz0xvZJ+7n/+QSzDx4ZqxkqFJcOlwulCHwFhQQrA8z+9Pry+8D/kwGEAPj+G/6r/Zf/9wTXCRoLqQrgCpALNwtLCp4JPAfZAr0AjgLNBBEF0AN8A+IDuQORBUUJIQvUCTkHcgY3By4HQweXB5UGEwVXBfYGuQYwBAsDtAQ0B6AK1Q5iET8QPg4QEM4SbBKAEEkPwQ8WD4cNVRM0H9IlzRt4/f/WCLJikqyDsogXl8+lF7PjyLTjQ/Ma+tL9iPuA9PPw3f7KGeUrpjM/N6A15i7FI2YZjw7z+27q6eNp5izvavhv/iz/mfny9E/1APY29375Ufm/94X5wgPIEr4ZuxerFMsQJwxYBxwEvwL8/Qf5efqO/5cEBwdeBj4ESgCS/mMBUwQGBgYIQQoTDMoMeA2CDbYJMASwAaICUwU3CGUKwAswC2AKdwtGDN4KCAirBVgFYgYbB0MH+wXZA8EC8QEPAjkDtQN9BH4FLQiZDKoNZgweCysLKA32CwwLaw1wD44QRA0PClMMYBHpGBsZGgqs7sXHMKNRjzmOFZpOo2Gsr79e1EbkJfDn+ZL/Fvgj7/L2fgq2Hg8rrS6UL7UrmSSyHd4S7QaL+5XwSux37/H3s/9i/jv57PaB9kX3rPUn8qzvfO7482AAwwz+FcgY6RXeEBwL/wjBCD4FIQHL/3oCoAdVCpoKvQjqA0wAEwDTAtUGOQgGCFcIUwnHCwYNjQvICOoFlgUrCNULVg8MEBsOXAzgC0wMfguhCIcFZwM3AzUFAAfdBSUBLPxo+4z+JwKfBMQFtwX3BIEEFQboB6YGSwSeAusBvALHAmIE7AfoCCsJBAgNBvAFpAQsBi8IrgEq95Pq+NlRw/KpHqJ8rDK0g7jLw/rYpOvq7gjxWPoK/iT8Rf2QB+kXFCDKIW0jviAbHMcUigsyB+gCnP1o+r/4efyz/+b8hvrN+AP26PH27fvxhfpV/oMACwViC3IPVw2MCwkNhwx8C9QLsA2/EM0PtgwUC0gIMgZ2BOICowTABR0GiQd+BysIPwi1BgYHnQe3CJYKiwuEDQEPlg4aDu8MBQt2CFIFnQMpAz8CFQGIABYBuAE7AUwBvgIbA/ABxQFVA20E3ALi/1T+1f3D/ZD+hP/TAHQB5ABxAbECMATXBNcD8gSvBisFvgCn+1v7Kv2y+578hAGkBUUEf/1T+Tj0a+kL4sXdedYVzefI6M991QXVkdzg6BjvB/DV847+iQMNAcYElAsBDw0QyQ9JEV4QGQz3CCYDYf6X/NX26vDx7SzvoPOa9V36BQHmA4QH6QvjEPgUjhXrFtcXVxf4Fj4U6BA4Da0HWgNlAagBqQICAtkC5wXZBxgK0AwhD8sQjA9bDsIODw7RDAcKuAbLBFUCkwDB/7T+Dv6d/TH+R/9gANYBpwKMAjQCLAOKA08BOP+M/vH94PsM+sP6Efzl+8n6Mvqf+oX78/sm/SIAlwJFBJYF6gY2CCIH2wRWAnwAtQA3/3/85vrC+J/1TfKX8pD0tfRd93/8qAFyBLAEUwWYA+UAHv9Y/BP8Bfzg+DH1BPKS8t/yqO1w6iPr3evS6wHspvDX9ZX1pfTp9l35CPn29nT2nvjI+bL56fuH/hoAKAC6/3ACyQTMBDIFigbPCRYM/guWDBgN3gzXCyYKoApHDNYL8grdCnUL8wyqDCEMKQ1BDT0N0AyvDPMNEA0fC9wKHwvQCbkGlAUiBXsBIf88AHMAIP6p/AD+7P7vAGAD8wAY/iIAEwFb+/T4Iv+NAI/7y/qD/ZT+pf4f/Vv59vjX+YP4Kvhv+bT8Xv0c+i77fgPxB74Cof7lAR0HZwX8AMr+ofyA+3jzCfEA+1v6K/Zb92f6vPwA+Qn7Mv6A+Pj3Y/p7+FH5Xfsx/QT9Pf1ZA8YF4gOiBv0JXQaGAlsElAX6AUj/wgMTBoICvv6S+m/3PPfh97H4l/pc/bsA5QCeAkwGIQM//8//3v+PAF4Baf7o/H79bvxC+hj3JPfd++L8mvuL/gQAFP3h/LD/sgD6AdoC9QI+Bc8FmwJnAp4AUf4lAi8Bxf1kAToHJwd+Bt8J6gicB4sKhQgwB8QKwQZbBcEJEQkFAx/9Bf8+/zn8PvzLBKUDxPpDBqcIyP7C+sYAEwoI+u/v3/4PA17+Qvyq+rD+Nv86+OD3P/tGAAz9LvOK/ggIewC/+Pb+3gnh/2f2xf2dBSYAAfqB/jEDvgMx/Ab6lgUjBkH+zvkj/PcEgQAl+u78gPwwATYDHPgZ/r4GZQJcAdv9xQPeASP3hAKrDDgFLf08ACMFCv+q+xz8pPwH/xL4uPXJAtEI0PzI9hoF7wWT9Hf5gQIjAEoANQHzBUsB2v9pBjn9kfuhBpEFXvv5+fYHKwU098oAiAkG/MTykAL0BxX5q/x0A8/74PQ1//EHZP1zAYUIwwBe/GgCzALLADQC0wC6CCsGO/rDA4oL+f0o+zP/iv/VCOn/0vVmDOcE1POGAf8BAP4h+Z75jgVmBR/94QAxAHT6tgXjBej43PxKAR0D1wJ4+0r20QP5DsX1qvpfDCkA2PyWAdb/tf0PBJP92PWdAF0CoPfM+gn+mvzlAU3/wvcDAakNxgKL+pL/uwaJCf77yPwWDegHfP85ArMCEgQHAPb5sv1zB0MCNfaeBmUJqveQ9xv/R/9Z/KX8F/sDCXMJTvx//Vf9eAAS/PD31QH2CJD6PP4rCtn0qPxnCSP+N/cNAaYHkPZ0/b0HBAAd9V/5sARV/Wr6VwOoB1P6KwSqDRz9NAKP/KL8/gnX+yr+dQd6/rEC9gGu+c/9LwIGAlb7zwFhD8UFQQPyAxL1eQXVB0buvwIgDvzyYvr7EIX3LPL1CAT8bPrxAWYCWgn2/07/VAew+cv04v57BHgAJvs2/7cCAgSv/0X/EgDl+g7/W/47AeIL8vle8TYHuwFt8Yn6mQd5BNz7L/cUC3MLNPB8BSYK1/Mn/S8TDQds7TgEfA6h9dz9kAzc/QH1D/kCBm0Ir/th+8MGAf3e9UUGcwGd/esBwvrl/1oH7v8Y/OX+TQAB+rkFoxAM9ZX9UBBz+Gv7tg0d+w7wlAoYA2jtWgMRCzr3Fva6A1MCr/q8+UwF2ADx9N0HdgLQ9ykJaP8U7mAB0Qt69/T+KwbQ+JT8YAFIBen7g/vC/13/TQRN9Tr8PwkCAnj34P+oBYP+CgR3+1MEbwA++AwKAP2r+CQDev8B/Qn8LwEwBjX7BPWZBRIQW/UD81QYHwi09KYPUAcd+cEGF/3hATYGMfSuBD4G6fFxAdgH5fpEAOQBgv+cArkHhP9o97cB4f7L+av2oAOUDLjx3/rmEBX9jvgiAooJ6gQw8n0HABDN9Rj/hxGw9P3vFA43/DP77Ab4+iMCmQmA+BD2pAybAkz7YwSJAZH/w/gWAFn/5OyL/ZEQ5fzE8oEJDggg9QIGcgVE+j4GswD6+0YDsP0X/okGOPgN+toKav7L+QIF3QPc/1EDCwWL+mz4EglHBKb2GQAPAIH0+f7DA6n/5QOSAb4G3gFyABkGRfkp+TkHrf/r8RwHAg1g+kD/awoD/Y/8kBEr/RP4fAwY+1XzwgaFAanusAF4DVHzAPqlEJf73fQqB/T4DvheDdz/JvQNBR4Khfb59ZMHVv6i9Pv7HAVSAVL6uACzBeD8P/RfBA4ExfQ+/2MI4P9kAUwClvm2BIsFPgGa+yT+IAoh+53/SgbU+2r8PAdxAxH6/wvwBhMAtQox/pIA6gQp+OkEegWo+Lj+cAUHBg3vWvL9C1YBhe4m+44S3/1Z8mULlwXA9swCUv4v9LgFyAkf9Dr49A4MAPbzAgVMBVz65fouAuIHsf7w+ssCz/+TBOgDG/hM+V0NpgFB6iMGJwrd8Tv0Mg3DA1fy4g3uCvb0LgNECej66QTABbAB3gANAYIIa/h5+xX+c/ay/2L8/fnWA2b/cv7EA98FfwNS9zkEoQaP/d77ovseBE0D8QGl9TMBzw3r+LrzXgSiEAv8gfIpDB0OG/tu/Q4F2gcx/Tz+agco+SL8MgTn/ir9O/9oACoA/v46AwUD+/nj+hsHXgN/8pj5ggt//zbxpgkeBGzzswGLAiwFdP1l/JsF9gC8//389/+N/Sr+DgLe/yf8WfqIBlYFD/fT/20GNPojBar+g/bdB1b89/2Z/3v2Pwo5CTX8Gf4CBkMDnvo1BWr/7fyRBov7Kv3MAs/8LAWu+Z78pQVh93UIQAYL/S7/nQdqC3jvgPjkCycC4/dm+LQFm/4V+54Bo/xFAlwEvwCk/QEF2gyJ+Fn87Ak8+Wb7sQJq+ssAFAYt+mb+GAOQAlD+FfzMAwQAo/xS/WcEe/70+Nj9sAW3BEf7rQHl/zALVgU87rkDWgZk/an9IfnrARgBWP1o95MB2gbG9zcEhAY2/NkCKP+a/yMBywPUAxf4hAbJAQT3KgC7/ggEbv5UAeQDC/0JA9MAYAdTAcj/qw12/rr7jQap+/39QAIl9v3/Ef7o87IC8ABj9yQG5ApW/+D4HwJfCXT+9vw4/68FjwAB8S37ywi++8L1Cwb7ACH66wScAmD+1wIFAqb/DQbVBV32KgChDKX4pvsOBPH3YwQoB9zvBP+NDYzz2PzfC//+I/6QAC8AVPwI/yEDaf1R/IgAeAQuAAr3VgbpBL79tQnS+9z7zgZZAKT5QP5/BbUCBPzE/XoGif51/FgDdgBOAHn+VgLhBIj6eP23BTr+x/lDA4oF/Poa/qIAv/z6AygE+v7g/X8HVwK8+YoIQgEr98P+BgN4A3H5yPyRClz8bPdLBDIDPPyQ+lMEJPl9+tUIgfroAFL9eft/DQz6dvqcDFn8ifxRCQkBav6D/L/6LwPYAPr8E/0j/VT/m/8G/tz94gKN/PD8NAPQAloJJ/pS+sIKJAQ1/L76jAutAUzu9gJoBtT51/7PA0sDzv2C+w4G0P6E/vYK2vzX9/wAZwdY/6TxfAAdCxj8FfzFBNr57/viChP/5/jgCo8Ab/k7BE7+BwSsAjj72AHNBlsAVf26Bt78z/1MCYf8IPxyCAT8AvQuBdb/OfT1ARUFJvpD/zACIv9iBMj4qfrrDPL7QvZ7Bh/+CQLGBHH3VwQtBxX52/2TBpP9GPl/BHoBXvpXAJ4Gi/8u/K4FpABT/oz/Pv9lB+v5CftgB2T6gP06Ap//JP82/ej/WP5kAXkE6P6x/VwElQAJ/vIFOgAy+hED0wUs/X/8xAC8BaP+YfkHBFICiv9M+l/7pgRA/+X7Fv8XAQUDQwMr/Ir+EAQh/nH7G/1iAmT/Zvs6Acf/3AFvBQH/xQHOAXsAdwKH/Y4DOgbXARj97/wKBQj/Jfm+/5UBL/5o+hD6JwQ3BID5cPp2AlADoP0mAAIDZgKB/mEAHgaGAJcA1ARWAlH94P4wAeIACABnAecCV/uJ/I8BygM/AZz80wJ4BJ0A//z0/nUCwv2x/nwALP4tAt4BaQCz/1T8q/yo/XEAMv9R/zj/AgDpAVEBUAEH/R4BNgAX/oYBo/9U/gcC0QNp/u7/If6a+xj86gAKAgr9Af9g/i4CCQJK/Dz9CwKgAMH9zP3b/9UC+P3j/cYB1wC4/+AAMQGZAC//aABeAfz/kwDGAC4C7AEGAb4BLQBe/gcCEQHU/isA+AA7AVL/PgAzAHwAU/5j/loB1gARAKX/sQBfAFQA8/+2/wQAXgBtACEAMQBcAJEABgEDABr/jgA6/7b+BwDfAGj/kv4AAc4AkP8ZAHMBCQDA/uMAoQB0/oH+BAAkAI/+l//dADn//f58APcAMv/L/jsAB/9f/78Aef9/ADcB+v+oAMAAagCZ//D/4gBo/97/QwA6AGMAuACqAH//hABcAL3/xf8m/0EABQFI/wb/Z//W/2gAPP8q/wsAIACM/2QAfACe/+b/fwDIAKP/AACSAB7/8v8UANr/vQBf/wsAtwBLAP3/fv+M/wEALQB3/y8ATwA1AIIAZQB1/yMANAC//10Avv8zAGz/iACGAG7/qwBKABEAv/8XANAASwAKAIQA8/9WANYAm/8PAIYA7P8Q/7D/jADD/+//QgBfADEATAACAJH/yP9TAJIAov/i/7AA9P/B/8UAqv9z/3UA+v8wAMj/Yf+h/4b/aAC4/5v/MwFMAFj/AABAAIb/H/9I/4n/1P6t/wkB4/8kAMIAAADx/xEArv+J/5P/bf+r/wkAnAAAACsA2gCh/4T/4f9FAPH/9P8WAJAAFwHd/+L/y/9PABgAVP+5/+z/VgAAAO//rP8hAPL/QABIAIj/OwBl/6z/RADIADQA+v+UACIAHQCR//r/EACt/9D/pQDVAAkAMQAcABMAKwCt//L/uQAhAMv/MgFHAE3/UQDR/5//4P+N/2X/6/+GAK3/GgCqAMr/uv+0/xsAPwDv//L/vgA9ANT/lwAWAPT/rAB8APr/aQDi/6H/gP+R/4P/nv/W/7j/WwAEALz/qv98AOz/c/9YAPr/IQAXAEQASgBxALwABAAhAHkAGwDO/2X/ov/z/7b/pv9SAFAA4f9/AOn/v//A/8r/3f/T/zEAkABQAJH/VgAXAG7/Mv/O/4v/iP8kAOP/RQAAAGgAIwBCAIkAEAAIAGMA1QCj/9P/2QAyAND/DwAxAE0AWACV/7T/JwCW/3T/4/+AAGH/u/+hAM3/IwD6/y8AUwDS/3MAZgB0/y0AagDS/9n/+v92AEoAMQC//9//RgCu/7j/IgA8ANj/YACdAH3/BwDmAMT/G/8/ABYAdP/x/2P/f//2/8f/tP9aAI0Ap/8TACMAPgCGAOz/LwBoAKD/sf9MAEUAAAD//4sAgAAAAKv/BgD5/9b/8v9d/3D/CwDh/zD/LAC/AK//iP8IADEA//8lAFIAgwBXAOb/ZwCOAAIAnv8WADkAmf/g/y4AFgC4//T/BACm/w0AXADV/73/QQA8AEQAw/9hAIoAhP8IAGQABQC1/wAA5f/u/wMAuv8kAD8AIwAMAOb/EgBTAPP/jv9lAFgAcP8RAIAA/f/f/3wAJACm/xgAKAAYANf/GwBUAJD/1/9zALn//f+GADIAHgDr/9j/MgBiAJb/dP8qAMr/u//O/+7/AAC//w0Arv/C/9//LABLAAAAWwCAAP7/6v+WACYATgAiAP3/jgDu/7X/PgAoAK//yf/t/6b/kP+p/wEARgBaABEAsP85ACcAg/9s/1cAIwBq//P/gAARAHX/LQABAMz/FwAsACEAOwBsACgAQgCHADsAuP/N//n/8v/Y/x8Aev+L/zMAgP8NAGkA8/+6/1oAggCd/wAAgAD//9X/ZgAXALH/z/8TAAUAlv/j/xAAxv/v/yAAKgAwACQAFgAxAEUA4P9xAB8AdP8wAPb/HADo/6r//P/S/3YA7/+y/1sATgAvACoAFAAOAD8ACgBAAMX/yP8NAF7/8P86AH//XP9RAHgA1/9AACwA5v9CACYAsP+9/0oASgB6/+X/mAANAMD/7v+tAN//Zf8LAF0A0P+A/4sALQBBAMv/ef87ACMAyf/H/2cAFQDm/zcAXQAsAMv/VQD9/5f/AgASACAA9P8bAH4A8f+X/2MAMQCn//b/zP/v/5EAtv8yAGwAsP9LAMX/DgATAIT/HQBpAI//XQBvAHb/GACh/wIACgBV/5j/aQCa/6v/sACj/9D/cQA+AI7/CwA6ABUA8f/V/3YA8f/G/wAAOADD/wMAGAD1/z0A3v9MAPj/OQBJAI7/JgDu/3L/7/9IAPv/i/8oAC8Ax/90AA0Anv8kACQABAAEABUAEwAoAOb/HwCVAM7/rf8FACAADQC4/0P/FwDgAHr/o/+kAEAApP8hAI8AlP8BAIkAHAAgADkA6v/k/20Asf/z//X/iv+eABEAkP/d/wwAVQDe/7j/PgDw/9b/wf/8/5MAov/L/w8ACABIABQALwBKAH0A/P/W/xkAUQDu/9v/y//U/3AAl//M/+D/1//1/5D/KgA5AJv/7f+mAL7/2f86AA8A4P/v/6cAw//1/1kADgD7//P/lAAHAM7/hgAsAKr/JACm/0r/FACa/63/FACi/+P/ZgBwALb/x/9bAFQAGwAAAA4AzP9+AHEA/f9UAFsARQAGAFMAGgDt/9j/8P/f/w8AXQCS/77/qf81AAQAPP8NAC0AzP/q/40AMgC7/+7/XQA2AOr/9f8WABUA0f9BAOf/PADw/5r/SgDh/yoAy//L/wAArf8CAPf/l//W/00A+f/s//z/YQA7ALj/JwAnABkA2v/6/ysAwf8YAO//yP8jAAgA5f+i/xQARADn//L//P8FABYAQwDu/4j/zP/u/7r//f/j/0IAmgDT/1EAWAApAN7/r/9MAKv/2v87AEkAbgDs/6L/7v/m/6r/AwCz/8P/QgBPAAMAmv8JAP//if/w/1wACgAAAGgAbgAGALj/9/8eAPT/2v8DANr/hv+m/7n/+f8BAOH/RgCGAEgAFgA6AOP/zv8MAOb/FQD7/0sAZACt/8//4P+m/4X/sf8fAAwAEAA9ANH/uf/t/8j/zv/e/0UATwAaAEgARAAuACcAAwDE/wcAZgBrAEUAOQAjAO3/6P8gAKsAnwBXAG0AMQD8/08AKgC4/wsAKACN/9T/aQCc/8j/LQBq/5L/9v8CANP/CABfADgAHQD2/xgA7v+x/yMANQAAAEQAegBVACUARgArAMX/yf/E/+L/CgDx/6v/i/94/wn/TP+n/3b/nP+o/8P/FgD8/0AAPwCR/6P/nP9y/8L//v+f/3D+y/5m/zP+NP6v/pT+T/4o/t3+I/84/yH/wP75/jr/a/9GAH0A1wAUAWEAwQA+AGoAKgFyAJ4AAQEMAbAAqwBPAfMAdwAPAXwBcQGlAXECjwLCAbwB4AEPAj8CtAKVA7UDnwOvA6QDWgMMAyYDFgM2A80DGARVBJADfwIlAh0B9wBNAR0BawFZAfIAMAA2/x//Ev/u/iMAGAIfBOMFIActCBAJ4AnFCQcKJQsmDcEO0wqlA5H8MPcX8wfs1uYY5t7ldOTw37vd/N+84Hbh5eK+54nxivmUAEcGKAr5DoERVBJFE58V2xngGhQYwhSlEXgOAgm5AnH+ZfvB+Rz3CPTV86j0g/So8mzx//JX9wz9hQBnAqgF8Qj+CP4HxAn1DLANkguZCVcI0gcDB44EpAD9/XP9ovsH+vP53PpH+7T5H/lZ+mr89v0s/m3+EQBVAlIDMwPCAhcDdAORAigCIwPSAxgDBwF0/0MA5QCJAPv/eP82AO0AjAHWAVoBoAEHAtABUwIPBPsEHwQHAxkD/AKTAnYD4AKGAOr+4f0s/0QC1wMdA6z/EP48AAgC1gN8BBoGygcKBywJ4gqlCksFj/nV8DjsK+y07QnuPO5y6mrls+BX3WTgTeYz6x/t+u6V9R37Uv4DANMAEQMkBOsG3wp9DSMPoAwNCNMDPwL3A14DAAKpAdkAfAD4/vf+1QAXAeABJAMeBVII0gnRCQEJqQgDCSIIHwiQCJwI9Ae/BcEE5APEAvABgQC4ABgCkwPqBNsEQQV0Bc8DTAIDArgDJgWiBPkCPgHeACkACv/p/rYAIQMDA9MAnf97ASIEVwVwBbID4QFeAjkD7gLzAE3+hf12/moA6gFvBKwJ2w1hDsEL5gmOCswMbhHuFSMahx/3Hy4OGOhjxq+9A8qw2bfiweVO3mnMALiGsLm++NcB7Wz3TP6KCjEWVRlgFYsQzBIKGdch4SsWMvwvyx9AB7vzwO8Q+PT+W/1n93PwregO4TPfD+bH7yj3nPqbAKQLlRUOFoQOiQo+DWARcRFME+Yachp1C+H6kPPH9Gb3n/m4+jn7rP2F+6f2B/ec/PEAy//eAIYINw/SD0ULZweBBi4GEgecBz0JlQp4B70BqP7yAE4D5wGz/8IAvAPWA20Ap/5BAI8CuQIvArADyQSlA1QAsv9FAgsEMQNgAa0CKwR6A0EDxATEBa8DJgBO/0wB5QXKCFEGhgOPAx8H4Au7ENYWQBueGbkRlP4o5nzZt9mg25XT3dDJ2ODV8MQMuafBxs5T0qbZZe2mACgGSQL7AnkKJRPMGmEhrihcLOMooR2SEqIN7gpqCBUEjAAW/rP5/fEW6qHome398X7yG/B/8TX5Cv6t/xMC1AccDAsLKwslD60UahM7DPcGuAX+BhsGGANwAQsBsv5Y+rD5SP6dAKX9zfyyAtcI9QnVB/wGBQnGC7cNgA0gDk4NMAmHBUAEzgbBB2AEIADJ/rP/X/++/tf/EgKTA64D+QKwAr8C3QEjACYBdQPzAwsCCQEhAQf9APkU+cr9nwGXAnMBlf3C+5b8jP27/UUAQAPDA9MA3//7AOYCoQbLCHcLUwpRCsYN+hLzGd4WWQr9AsgD3gKr6hDMEMrk1erdL9fz1jHbes6NxDzHLt3L8yH8A/wn+bb+7wUUBe8GAhJOG/QWvw7fEpYXyw/PBbMDYQcjCo4JggdaAR3+xPwO+6j8FwTBCjgGjgD3AaoGFAcIBlsI6Qr9B84DHAPCBFIBu/q0+qb93P+E/3v9aPz6+6X7L/65AdAG5waFAt0ABgJ8BBEDGgKCA4UD0wGYAE0AzgABAHz/SACHA3kG3AV7A4wBeQNXBYsGsQccCHcGiALAAZ0EvgafBqUDqgJ+AnYBpwFsAvcEGgQzABL+pv+KAnkCbgBgAawBBQFpAAP/4f/y/vz8pPt1/I/+h/05+0j6lPqO+on5Gfoh/B/+lP7u/sr/WACzAKv/EQA2ArgEUgRZAUoArgATAo4CCQNFBAEEHwQ+BFYHkgkmCP4EZAPiBaUEpgPBAicB9v9z/IT3+u6L66LtfO5j7xrvKO/p6yToE+qi7rfzbvZi96L4MPgb+J/6/v4HA+EB4ACz/6H/OP/T/qcCxgTHBEoCEQHh/dn6tP4+A3YAGf3Z/SgAc/7q/1YGfAaRBFcBYwV2CAUJfglbCCIJMQfHB9YI5AftBrEEYAMnBdcG2QeRBHEDRgXTBZEGlgb+BncFBwSwBOUFdwUTBXoExgNyA54CigKeARMB5gFyAOX/fAD6AJ8Adv7Y/V/+uv8JAO3/XQDy/jD9G/5N/7H+kvzO++77K/w0/RD9hvs7+fX4hvnq+kv9Yf2x++76FfxG/Vb9//19/+f/Mv2b/Ev/e/9A/kT/HAHH/7X/ZQJMAjMApABeAzUFYQPSAU8BgQDRAboDAAU3A4X/Ev6G/ST8if/gA8ABov3f/f/90vmx+tH/qAFxAMn/lP4j+8r5c/wwAGEAuv8EANT98fwi/gv9avtG/eUB+gEZ/RH7jfzj/n3+eP5hAYQA2P2p/hcChwFQ/+8CogSA/yf+cQKLAr7+lf/eAl8BCgCOAfcCIgCw/UwBKgM4AQQBAgNgATT/rAIXBTgCJQGQAa4AygBEAlwEFAS1AP3+awBCAjECzgC8Ad8BJAFGADL/AwGjA7UCdP9KAIwBuv+n/2YA8ACWATIB6P8h/l7/4wBEAA//df4i/7b+Ef0r/tb/i/1w/Ev9uv2M/Z3/lP8o/TX9tv6b/wP/ugAy/2X+DACx/+z/xf/Q/5P/oP/a/0cAov/0/WP9Lf8QAIP+9f4GAIj/r/2m/qcADQDB//7/lwD6/1D/SAC8ALP/DQCTAdUAFv9D/0MAm/+l/2EBHgICAF3+Xv/A/7L+gv9UAYAAQ/+YAHUBPv8r/vX/SAEtALgA5gFKAK/+3/5jAJQAcQBrAQkBVv9p/wsA6//R/wMBTwF/AEAAvf+v/4z/OgDMAHkB3wA9AEQAMQBHANn/awCs/1L/xP+JAB8Ad/8WAJ7/R//q/nn/0P9z/8P/7v+n/6r/gQAIAZ0AegCSAK0AwgAsAGYAHgDA/6kAewA2ABkA+f8zANH/jv/k/x0A8f/a/zIAaQAfABEAjP9b/kH9v/5hABgATwEjAngBwP/+/8oAwP+b/+MAQQEiAF7/D/+j/zP/c/8NAAYADQDY/+f/k//e/1MAxgCMAIEAhwCc/z//bP8BAPf/gP8OAMr/Tv9K/4j/dv8h/+b/DAAoANP/6/83AN3/HgCAAKEAkgDEAMwAwACaAH0AlQCxADIAOAD3//P/CgBA/1n/f/+l/73/wv+L/4n/bP9+/3P/of89ADkAWQBYAI4AhQAdACMAWwD6/xQAtQDWACcArv/h//P/yv+i/+T/5v8uAE4AKwDv/xYASgADAPv/WwDxANcAlACUAHUA4v9l/yj/qf/l/4j/cf9i/6b/Wv8M/2D/yv8/AHAAEgDN/yoApQBCAAIAYACFAFQARgCMAHIAEQCO/2L/Vf+u/57/av/p/9D/cv8G/2n/2v8GAGsArQDmAL8A3gCdAIIAqwCIAIsAZQCZAHkAPwACAM3/rf9c/4D/rv/3/+L/wf/1//b/BgD7/xMAYABHAEcAZAAxAFgAEACO/7b/3/84AFEAcAA+AKb/pf+r/+T/5v8AAN7/U/+C/8n/4f+y/3v/uv/Y/wsAiACGAJMAKACO/4T/t//0/9n/LgBJAAYA5P/M/7v/qf+g/67/4/8mAFcAUgAhANX/CADu/xAAPgAHAGoANADw/wIAHAAGAIr/eP+E/1T/Sf8z/zb/W/9q/5//ov/d/1gAOgBIAEgAVQAwAOn/SwBnALkAAwH3AJMAWgBzAD8AMgBFAFgAaABlACYAMQAuAA8A2v8AAE0AFQACANP/AQAqAC4AugDdAJIAcQBMABIA6v8SADsAVQBrABsAy//g/xIA/v/Z//7/8v+n/1r/cv/C/6b/sP+5/+7/4f/k/1gARAD7/6z/yv/3/wsA5v+S/4//bv9M/1D/hf+w/7z/vP93/3n/m//I//f/7f80AFIASwBDAEsAGQDr/ygAYACpAJkAiwBmAPX/u/+q/5r/vP/U/8P/s/+w/+L/2v/f/9P/yf/a/w8AYABSAEwAdgCZAHIALwAKABcAHgDj/6r/8P89ADUAEAAkAD4A6P/Y/wMANwBXAD8AMQBUAEgA8//S/9j/4v/U/9P/EgAZAAcALwArABMAAQAOAPr/0v8cADMAGAAZADEAQgAAAMn/vv/f/+X/3P8NAA8A6v/C/4v/Yv9n/77/5//l/+r/zP/5/9D/tf/k/8//v/+S/8T/0P+T/63/3/84ACUARQCGACsA+P/T/xcAHgAjAFsACgDW/4//r//T/8n/HgBcAGwALQAsAE4AHwBAAFkARwBTAH4AewAAAAYANABcAAIAkf8pACgAOgBKABEANwDh//v/ov/9/iP/i/+k/zP/7f+nAAoAUv/H/ycA+v9GAGoAmQBrACwA0f8jAIsAYQDZAKkA0/+g/xn/cf62/jsACQKlAa8CpgPn+yvuj+pT9bP8AAGYCrQOyQdQ/c37C/z1+kwA7QhtDk4L+wYkAff7LvqA+0gB2AWXB4MG1QIC/4774PoP/FX9cgIABVQC1fbo7yb1BvVE+QoF/gwXDE8GhwUYALL5Zfmb/9IIygnQCfEHCQMh/Fv4ffkG/J3/PgKDBOYCP/9n+zb53/iu/K3/HwHpAngD+AH2/Mr86/4k/4EAQwNNBWAElgGk/8//Tf/9/df+zQArAs4AWQBL/5T9Lf2b/EL+kP+sANMAq/5c/iD/D/2r/En+wQAWAcgAugLuASP/af0P/eT98/81AR0CYQM4Atf8uPjF+tv+L/8DBJkG6ARoAgn9/PxT94vufPEg+838rgHPCXYKnQX+AIsD2f+uAJcF7giwDGUKqgleBG7+afzP/Dz/xAPdBekBhvlk86f0QfJN9+39sANkBkADjQRkAFb9n/sXAA0GVQfMCQkKMwboAB8BPf9P+073BvsZ/3f8fQIZA1n/A/xE+1n9wPln/CYA8gLzAkkBhwLIAPb+bv7gAJcC2gMHBPIDcgOsARMBYQC+Ab4B3gLSAqEB2AGM/yj+AP6m/Tr9Vv4+/wAA9v5y/sr+DP2E/3gAqP4U/8sAwQHAAGb/0P5i//3+0/7A/3AAtP8c/zb/nf8Y/3n9vf6o/6wA+f/i/i0BCwAE/3z/RgBOAKX/AwLFAY4Axv/T/0kA9f1CALEB1f8JAoICa/8W/igAHwFyAJcB/QG0AGb/df/vAIn/+P4/AqwAxf2wAfEBf/zS+rP9NQQKAIv60ACpALz+AP1x/08EO/4j/ZcA9/9E/5z/iwFeATkAvQDZ/0z/1v/2/W793P8UATn/HgDhAaP/Jv/M/7j/af48ACIBGv5R/3r+sv/FAtYAjgKiApr/6wGwAlABKAEaAB8C1AKUAcIAJv8NAIwACgE+AiQCiwDK/nH/FwB7/+z+MgDoAJ3/GgEkABr9TP4z/l3++f/d/tf++QAwAKQBPgJW/8b/0v3t/p//Cf/N/1j+uP4H/b3+7P73ABP/V/gZAAoAvPwHAioBFAC0/lL+WANyAqz+1QCyAff9uPvR/ef+Fv7iAHMD/AMZBdkBYP8Y/Hb7dfxs/VUE4AFZBWQErv2eAAz+2v/k/Q8BwAVcARwBVwLoAQT9Mf2z/fH+wP4kAkUIqQEeA3cBKP3dACD7F/vB/VP+HAHL/+MC6ACx/PL/Qf9c/ET8c/0NBNwESvxrAcYBff32/x39CQCN/nL8JgAAA1cB0v0cALj8Bv9KAPL7yAH6AXb/BP6d/kcDpP+7/Q8BMwMVAEj+VQLnARgAz/2NAcUA0PvwAZ4Asfwq/1f/nP/8/w3+1gC/Abf/xQISAYT/1f7m/48CTABgAckBKQCVAMkAhACU/isA1AKv/nEAngMwAJEBmgAV/w4Byv8WABwAtf7XANQA1P6X//X/Lv9P/l4ArwC1/gUArf/OACz/fP2GADr+qP+W/6r+pwFK//z/pf9j//4A9/8aAfwA+//R/0MA0QA1ACwAagB2AFQARgC4AAQA4v9nAEQAZQCjAGIAfAA8AIz/sQDs/5H/YQDT/xUAKgB3AP//6v9IAEz/p//oAFoABQBQAEgARwAv/6j/+QA+AP//KQDS/yUArP+q/ykA6/+r/2j/FADJ//D/EAB4/58AXACh/6v/t/8NAFT/bP8WAA8AMwDJ/x4AkABz/8r/eQBXAFAA5v8yAHgAQQAmADQAUABIAEYAlAA+ADgAGQDr/3cADADT/+b/1P8dAFMAEABqAHQA4f8sACwA8f8oADcAAwDu/y4AUgAWAOz/v//n/+f/9v9AAOz/vP8BAAAA7/8ZAPD/5P8nAEUAPgD0/77/SAD//yEAtwBdAF0A1v+X/wEA//8AAFAAJwBeABMAtP8ZAM7/2/8uADAADAA7ABsA0f/h/7D/v//V/9X/DwC2/3v/Rf+G/9//p//h/0wASADH/xsAGwADAB0AKgA4AC4AQAAbAIYAYgAcAAYAx/+5/9L/YABiAAQA5//7/+v/2f9kAF8AcgB9ADsANgDa/wcAyv+4/wsATQBLACgAHwDj/xkA4//5/9r/l/9o/5T/NAAAAOn/4/8CAO3/wv+0/+n/ZwBDAE4AKgAUADsANgAjAOv/LAAkAD4ATgD9/9T/BAA6ACIAeABqAFcAKwAFAP3/+P82ANr/MgCEADIA3v+X/5r/Xf++/0EAUABmAB0Azf/I/8//8f/h/wwAPgDe/9z/3P/d//r/vv/E/wkA/v/2/04AKAD8/+3/JwB1AIUAggAdACIA7v8JABgA//8VAOz/o/90/7//zP/j/83/BwD9/wIAOgDs/+//6P8nAGoAFADS/wEAEgBMAEUATgBFAPj/AADX/wgAGgAGACgAHQBAAEIAzP/e/0gATABAAD8AAwDu/+H/xv/7//H/EwAbAEQASgD4/+b/x/8TAP7/6f8UACQARABPADUA7f8ZAAEA+/8AAP7/EwDh//T/5f8AAAsACgBBAHMAPgAFAAsAy/8DABsAPgBAANP/7f/w/+T/3v/3/+//ov+r/5z/sf/s/+3/FQBEAAQAtP+O/5n/AQAxADEAYgA2AAcAOQBSAB4A/P86AEMARAA3APz/1P+z/7//7P8JAPj/HwAqAO//yf8cAFsABgBAAHEAagB/AE0AHwAGAPr/FwAZAP//BADu//f/6P8RACYA+f8CACQAfgBLADoARAAAAL7/8v9RAAgA+v/s/+7/AADx/+3/5v/c/7P/wP/s//7/DAAYAPz//v/1//7/BwAWAF4AOgAYAAMA8//2/+7/6//8//j/DgA+ABQA/v/p/xUAMwAPABYADQDv/8T/8/88ACMADgAsAFEAIgAOAC8A+P8HABUAAQA3ACgAAwABAMj/rf/j/+v/9v8fACoAHwD0/+f/5P/j/+j/4P8SABYADgAUAPj/BwAIAA0AKQAjAC4AOgBBABsAHABAAPz/yP/4/yUA+//w/wcA/P/v/+b/BQAWAOH/3v/7//X/8v8AAPL/6P/1/+3/KgAxABEAFADm/83/+/8OADcARgAoAD8AGwATABcACgATACwAGQDo/wgACgD2//D/BwD7/9b/9//m/+z/7P/k/+7/9/8yAC0AEwAUABIA5P/4/wcAAQAnAL7/9P8xAMP/7v8jADIA9P/q/2YADwDT/y8AFQAFACYALwA1ABoADQD0/8z/6P8CAOn/7P8qAA8A3f8EACkAEgDs/wYABwAQAAEAAABJACIAGwAzABEABgD+/+3/+P8MAAAACAD4//T///+2/8f/9f/3/wAAEAA+ACkA9f/7/wkA4P/s/yYAJgAhAA8ABwD1/9n/4P/z/wIACAAwAC4ADwAdAPT/zP/e/+z/GgAvAC4AQQAjAPL/8/8AAPb/FwATAP//GAAOAAYA//8UACIA7P8CACUADQAJAAwAIAD7//T/IQASAPv/AAAGAPX/7f8BAAcA8//9/xkAGQATAP7//P8CAM3/6f8HAPf/HQAXAAoA///t//L/5//r/w8AEAD//wsACgDu//D//v///wgAHgAXABQAHAAEAA8ADQALABAADAAUAAsA/P8OACwAGQAIABYAGADv/9f/AwAgAPn//v8rACUA8v/h//7/8P/X/wAAJQAQABAAGQAFAO3/5P/r//7//P8TACgAEgALABUACQDl/wgAGgADAAQACAAQAPr/7f8NABEA9f8DAAwA/P/1/wAACQD6//r/DQADAPL/AwAHAPP/+/8OAAUA9//5/wQABwD3/wUAGgACAPH///////r/AgAUACIAFQAVABoACgD0//7/AwAIABAABQAeABgAAQD7//v/AgD7//n/AAAFAP7/9//+/wQACQAKAAAAAwACAP3/AwAFAA4AFAALAA0AEwD8//f/EgAMAAQAEAARAAwA8//4/woAAAAAAAwACAD1//n/9P/q/wQAGQAfABsAFAAJAPD/4f/6/w4AEwAsACsACwDv/+f/5//l//z/IAAkABMAEAAEAN7/0P/l////BAAHACgAFAD7/wEABQAAAPj/CgAWAAsADAAbAAgABgAKAAkAAADz/wgAAQD6/wgAFAANAAgADgABAO//9v8GAPD/8v8aACAADwAWABYA+//p/+7//P/6/wgAJwAaAAYAAgD2/+r/7P/7/wQAFAAdABgACwD3//L/7P/s/wcAGAAVABcADQAAAPn/9P/8/wUABgASABUAAAD2/+z/8v8AAAIADwAYAAwABQD+//P//P8MABYAHAAdABQAAADx//T/+/8DABIAHQATAAUAAwDx//b////8/wYACAADAPv/9/8EAAMA7P/6/w8AAQD6/xMAIAAOAAwADwAEAO//9v8IAAMABQAWABMA///3//b/9P/y/wAADwAJAAMADgD+/+n/6/8AAAMA9f8NACEACQACAAsABwD9////IQAaAAkAEwATAAoABQAAAPj//f/6//n/BgANAPz/7f/2//j/+f8EAAgA/v/z/wAAAAD5/woAGAAKAP7/EgALAPr/CwAkABMA+P8LABEA9v8EABUAEgAbABMA8//g//P/AQADABoAIAAFAPT/9f/1/+H/8f8eAB4ACwASABUABwD3//v/EAAJAPj/BAAbABkAFAAaABIA+f/y//r//f8HABQAFQAJAAQABgD2/+n//f8CAP//FAApACAADQADAPb/8v8DAAIA//8PAB8AGAAAAAwAIADz/9f//f///+X/CAA1ACQADQABAPH/4v/y/xIAAgADAB0ABwDv/wQAGAD2//X/LAAeAOH/BAA1AAIA+f8ZACQABwDm/wAA+P/0/x8ACgDc/+7/8P/D/+f/KgADAOX////7//H/6P8NACwAAQALACkAMAApABYAEgD4/w4ACQD1/y0ACgD1/+f/2P8OANL/x/8dAPb/qv/Z//T/AwA4ADIAUgBIAPz/mv/N/0YA+v+SALIBVgHwABsBPAAZAL0ALgDM/wUAAgHiAHcA5gGI/w/0ve07/v8ElviV/xkE0fvU/Z3/wgABAQYBjAQGBpAHPAikB/ICPwDAAdP8fv2kA4sC1gEGBL4BE/7o/g/9a/w4AKb+Tv7jAe8Bo/6g/rz/Yfw6/gUB6f3D/8gBuf6V/7z/A/8UAtL+U/4hBP7/Ev1xAWsB8/61ALEB/f0cAFoBHP+z/4T9Sf+cAeX/U/0//zgCFPz5/YQCsv8RAUIBmvi35vXpWAFN/tz9fw2dBU8AwwMJAdQDpgPWBzgPxw1xCZ8ItAVu+yj+zv/m9j3/sQOt/KcBSgMq/N370/yF+Vf7H/+4/EH//wN5/iv9EACA/m0C3gMYACr3GvQe//T58PpPAxsAugXi/5D9uQQ+BNsDQwJlBz0GYAV3Bsv/GgKAAYL7FP+GAJj7TP+GAMH82gGBAXL7GwBpASv97AFVAH/+8AIbAbD+xP5Z/VUAMwWv/mABbgSr/ckAmwFnAG0BDQTNAOP+UgOz/2b96vsf/wr/nvgV/WUBmP1V/TwB8/wv/p0A1P35AL8BXgLlAecBQwZIBRkAVAPNA8L9gP9pADz+Nv5GAHz/RACXALj7Df58/5v9SP3p/00Cxf9PAA0Cs//d/Fb+Bf7i/mcAX/5K/j//8AHwAwMDMALKBHAEff6+AMQB/v0YBewAkvxXAM3+hwKi+/T53/1f/I77Jvjq/tP+6fyX++b67AKv+i/7TgRRAcP/P//8AmABGP4hBMwETQGeAc8CEARYAiIC7f9cARgF+vwoAUQFIP9bArMAvv56/0H+Uv3Y/rUC8v68/gEANf1cAZgC8vp//oMD4ABuA6sAxPyD/3gDCADS/2ABcfw3/V38cPyr/h3+twBOAMT+ywAb/sv9z/4Y/50B9P8pAN//4gAYA0gA9P6h/q//Wv49//sBw/+mAnsEuwL6AckA5f61/Tj/8v6e/xQC6AFiA9AElAPg//H+EAGx/jb/MQHIAagBbACH/mf+7f7b/CMAWgGi/WgA2gHX/4oBFv8H+Vf4Qf5D/JL5Bv0J/sYAaf9z/tz/BAI/Ak4DyAajBNQD3gB//1MCSAGIArYAXP08/ioBBAGm/VQAPwBi/Ij9ogCrANwBqAMtBJkC9P7s/v/+Cv6m/3MB7QHSAa4AsAL+AWv+8/2e/u797QAxA8IBNwRYASj/TP8Z+1T6hf3b/Xj+JADD/0r+pv0N/mH9jP7t/Zf+Uv+TAQYEIwHiAfj/Lf0p/wH/HQAVAokAlgBGAK/82PuV/bT9q/4tAGb/7/91AeMBTQE+AaACmAMyArYBNgM7AWP/kf/Y/qT8Sf3SAMsASwFKA1MB+P/V/2/9sP8jAp8CHwNNAEv/Kf3F+139IP7lAL0B0wDD/x//H/+1/AD9P/59ADQB3/47ANn+mPvh/Cz9Y/1wAfwC3ANDBccE2AER/mz/jv7t+ysBPgEgAYYGKADCAFgCPPwfAAf/bv3s/vj+bQBo/okAd//9+tz8h/1K/J376/0fAGsBkwItAvMAbgAH/7T8lP6IAH0D3AQNBAYEOwJj/7L9Ef53/U//1wHVAcwCkQG9/m3+/f3z/bD/ogGTAmoEBQZ2A/MBCQGc/rX8Gv1XAKAAiwLUA1wBVAF+/mv7fPwI/tH/6QHmAU4CngPgAh0AZ/0B/I38e/6z/94BBwMgA3UBev4I/rD9zfxv/mEASAJNA7IC5AE2AIr+vfvV+4X9AgC1AQUBcABC/3D/UP94/8D/9P9fAC8AVv+SAN0Bsf+A/5n/wf73/yoAFABcAaMBpgG0AZIBhwEVAQwBDgAk/5D//P5P/+3+p/5W/1r/IwDq/+b/p//z/x0Auv/z/zT/yf9zAEf/8f46ADwAAwAiANb/8f/g/7v/E/9F/+D/AQCIAEUBmACG/1AA9f/1/sT/vwAMAL//WwFZAl0CyAGmANz/Tf9p/gX+Af8A/+X++f+DAH4AKv9d/7n/Uv+4AIQBZwHjAAYASP/h/mf+qf59/iz+sP6P/o7+5/4q/6f/2gCPAVoCHQMNA80BdgAeAMD/pP+S/9T/BQBW/w/+PP6x/ub+MP/A/wUByQEbAz0DIQJcAUUBEQFFAEYA8wCoAAEAjP/g/vn+sf4d/h3+tP5U/+v+TP4n/yD/GP98APoA2gCpAV4CFAG7AOr/rf/g/5z/bgCI/6z/BgAg/2D/wP8d/0r/7P/Z/8T/of+aAA8BHAHMAVEBrgDU/2b/hP9P/xgA7wBLAcAAMQDt/4D/BgCw/7P/UgBOAFYAr/9eAIwAxv/w/43/Vf9b/53/bP+M/+r/yv8RAHsAEgDA//P/y/+aAGgADgBzADUA8v9D/+X+3/7Q/qj+IP+R/5//hwBKAEL/5v+6AIwA4f/f/1wAUQAzAJUAfAAAAHf/9P5M/7P+zP56/07/4//w/2AABQGLAL0ALQG3AHEAzQAhAfEAAgFOAbcAAwDm/8P/Xv8m/x//Kv+D/4X/tv9AAIcA+wBgAVMBEAFoAfkA6AAvAXwASQDw/6//Q////qz+af6r/hX/kf+e/0YAAQCq/xkAo/8SAFkASACYAKQApwAUAMb/Hf/g/sT+Rf4m/3r/tv9NANj/8/80AMv/+P8DAEUArwB6AHMAYwCQAHUAt//X/8b/TP9h/0f/iv8UACoAWgDbALUAegBWAOf/h//p/0kATwA6ABkAXgC7/2YAJACu/ycAaP88AB0AOwD1AKUAoABeAFYAVADk/9j/oP+z/yoAz/9wAIIAKQAxAMn/LAAvAPD/2f/S/wAA/f8SAM7/oP+j/4H/3f+l/w8AQgB7/+X/AACa/2X/Qv8o/yn/YP+K/6//uf+9/ywA4P/7/28AMQDAAA0AXwBiADn/1v9f/6j/3v+6/0IADAAiACwAQgAnADwASACpAAYBCgFVAc4ACAGbAOj/kAAXAPv/z/9l/0YAs/+S/77/X//5/4X/0/8yAAsAzwCZABAAfABrAH0AcQDK/1UA8P9v/5//4/5e/wT/Uf5B/5P+W/+Y/xb/jwDA/3QAzQASAM4AYABuAF0AMAAuAMn/3f+D/53//f88/4D/uf9w/w0AUgDJAP0AmwDeALkAvgDRAHsAnQAOAAoAAACE/8r/fP+Z/yAA3v/v/wIA3/9NACoAOQAiALj/SgAfACcAMgAHAAIAVv+C/wz/Kv9z/2z/4f/O/6AAIgBDAI4Azf89AMb/vP/Z/9b/BgCe/wcAy//J/+f/3f9SAAEAkABaADoAdwB2AGEAqP9PABgA1f/j/9f/JwC6/yEAJgDA/yoAFADK/9r/7P+f//H/5P+R/xsAAQCAAFgAbQCOAEQAjwD//0AA3P/+/ycAjv/i/6X/8P+//5b/QwDh/wYA2v/u/zIApP93AAUAMQDEAMv/TwDn/7D/FQA//+3/xP96/xoAj/9EAGEAOgBFAFQAYwAhAB0ALwBtAKL/NADy/93/FQC4/20Apf/A/+D/0v/s/8v/cADe/6H/LwD3//f/ZQCUAAEANQDj/2v/AABJ/9H/+v/b/+L/xf8bAK//UgCv/8X/agCZ/ycAdAARAJcAsQBgAP7/lv+O/7X/6f+i/2cAHwDk/3oADQCAAEwALwA8AMX/AQAdADgATQBWAEoA9f/6/73/vv+1/9//CgCv//v/z//A/7H/pv/s/9X/LwA0ACQAdwD+/+H/GgD3/zoAJwD4/0wA5f/S/+X/Sv8bAOH/yv9UANX/hQAwAAcAggDH/ygAHQD7/1sAxf8nALv/rf/5/3H/OwD2/+P/MwDy/y4AGgBSAD0AGAAqAAoA///u/+v/3v84ANL/zP9PALb/DwAUAMX/9v/Q/34Auf+EAJAAe/+cAH3/EgAEAP3/dADq/5gA0/8KAPv/eP/4/4b/z/8aAMv/TwDT/zUA9f/Z/zMAsv8uALb/DAAAAOH/TwAxACIADQDo/+H/EQC+//3/LADm/1UABwAJAAYAov/+/7L/GAAHAFQAVwAUADQA3P/8/+v/QwDn/3UAMwDJ/1EAnf8JABAA5f9dAMH///8QAIL/BAC//x0ALwAUALEAKAAYAEYA8f+5/9z/m/+c//3/uP8kAEcA2v8+AOn/9/8yAO3/RgDm/xAA+v/E/xIAw/8LANf/6f/g/7D/TwDD/0sAVQDs/4QApf9eAAAA1f+DAMb/cwDp/1UAMwDZ/3EAZP/K/9X/gP8QAAwAAwBdAPr/7f8UAKT/AwDS/+n/EQD7/z4AHQAvANv//f/F/7n/9P/R/1AADQBQAGIAJABGAAcANwD//+L/GQAEAPT/9v9AAP//+P8NAOz/BQDj/0MA7P/1/wUAyf/n/5//BwDe//H/HwARAFAABABDAOv/1P/9/4r//P/5/0YALgBIAHoA1v8FALT/vP/Y/7b/LwD6/+n//v/v/wIApP95APj/LQC7APH/yQArAD4AMgCp/83/xP+0/8D/+v8LABkALgAsAO3/JwC4//T/tf8OACEA5/9OAP3/2P/L////kf9QAL7/TgBlAKL/pAC3//7/PgDg/1wAQwAkAEcA2P/X/7L/k/+n/9j/+f/w/0wANwAaAEIAWADX/1YACQDf/xsAvP/s/7j/3v+x/wcArf+U//7/OP/f/9b/x/+bAAsAiQB9ADsAPQASABwAy/9LAML/LQAcAPn////B/yYAoP/2/wEA8f/e/wQA2v/4/+L/JgCTAAoAvgBzABIAMADS/+n/of/9/zEAuf+VAMv/GwAeAFf/OgB8/+v/AAAZAAYAHgAjAJP/RACj/wQAFgDe/18A4f88AAUA/P8XAL//OACn//7/DQDQ/1YA7f9dABsAHQBJAAQAJgDq/zsA0//n/w8A4//8/9j/QADE/xwA6v/y/0YAm/+HAOL/BQA7AKv/FQCt/+X/BQDP/ysAOwDp/0gA+f+3/+b/wv/H/+7/FAA4ADQABwA7AOj/8f/6/woALwDo/2kAGQDQ/zQAr/8DAOf/vv80AMz/9P8WAOj/6v8dAAYAKgBOADEAIQAgAOv/0v/G/9v/CgAFAGYAPABYACYA///z/5v/w/+d/97/8v/k/1kA6/9XAAYA5f9IAH3/JQDC/+b/EAAHADAAPwAuAP7/OQCv//v/nf8IAPn/1v9wAOD/OgAeANH/VgC4/xMAUwC5/00A6/8UABwA4/8nAAQA7f8sANv/+P/n/7L/KwCX/0EA6P/e/xcAwv8CANz/LAD4/yIAHAD+/+3/DwDt/w0AJwACAEsA7/8FANj/zv+7/9r/DwDq/3QAIQAyAF0Av/8rALv/4f8PAMv/YgDh/2EAEgDj/0YAnP8GAPv/yP8pAAcAAABRAOv/KQAXANj/RgC3/ywABACw/08Akv8TABEAsf9LAOn/9f8nAAgA/f8yAOP/DwAEANX/LgDa/z8AAAAdACoAz/8pAKX/+v/W/9P/LwDK/zQA7f8bAAIA4P8nAM//DQDx//r/+P///yUAAAAgABkA9f8AAO7/yv/a/+T/1P8XACQAGABWAAMA9v8IAK3/4//2/9n/QQAdAFcASQAfAEYAyv8jALb/x/8fAJ//VAAKAPv/YgAAACEAFwAJAN7/AQDh/9r/HQDo/yYAOAD6/zMADgDp/wAAxf/4/83/HQADADAAMAD9/zcArv/2/7X/u//3/+T/FwAdABgAFgAAAPL/5P/v/+H/AAAZAAQAJwAQAPv/CwD7/9H/MADC/w0ADQDe/zMA3f8dAPn/CQANAAgAHwAXAAsAAgDv/+b/6//m//H/HwANAC4ASgAHAEgA3v/+//T/w/8MANT/GwABAAkAHwDl/yUA+//p/xYA3//2//7/yv8lAPv/EgA+AAUAQADk/wsAz//W//D/zf8wAAcAMgAWABoA8f/h/+L/6/8IAAgAQAAQAC4AAQAEAAAAyf8VANz//P8jAOL/LADv//n/FwDU/w4AAgD1////+v/a//7/6//+/wAACAAVAOL/OADE/wYA/P+f/zIAuv/s/y8Aw/83AAEA/v8rAOX/KADv/xwA9/8HABEA3f8jANv/BgDp/w4AFADn/0YA4v8eACMA+/9SAOz/NwAgAO7/KADs/wgA/v/w/y8A8/8TADoA1P84AOb/AQAgAM//JgDo/woA9/8CAPj/6v8hAMn/HQD4/+v/IADg/x0A4v8QAPH/AgAaAM7/QADD/wAAFgDB/y0A9f/0/ysA7P8NABwA7f8pABQADwAmABkABAAQAO7/4v/q/9b/AQDj/xoAEAD3/0QA6P8jABwAuv9TAMX/BwA0ALr/SAC//wEA8f/N/zUAw/8yAAMA9f9CAML/MgDk/9z/HgDG/zEA8f8RABMA//8DAAIA4f/6/wgAu/9MALP/EwAQAMX/OAC0/zsAAgAPADIA/f9FAPD/HwACAOL/CgD5/+P/BgAOANT/OgDE/xYAHQCs/2IAxP8kADQA2v8/APb/EwAKAAMAAwADAA8A8P8qAOP/GgAaANT/SQC5/0AA4v/s/0gAn/9jAMH/EAAoAMn/LADl//T/EADc//D/EQDE/w0A4P/g/wQA2f8VAPb/AgAeANj/JgD2/wIAIwDf/zMA8v8UAPn//P/w/+7/CwDY/yEA/v/+/xwA/f/t/x0A6P8MABkA+v81AAUAAAAjAPj/8/8TAOP/EQAHAAAAGQAAAAsAGAD4/xsABgADABwA7/8lAN7/EwAAAOj/JgDm/yAABAAAACgA8/8QAP7/9/8NAOj/FwDq/wAA+//7/wAA7v8MAPH/HADu/yEA9f/o/xEA2P8SAOH/AgAKAOz/GwDc/wkA9f/i/ygA1/8XAAIA9f8aAPz/CQACAPv/8v8KAPL/EgD3/xIAAAAGAB0A6f8kAPT/CAATAPT/GgAEAAoADgD//xwA5/8qAOf/+/8nAM//QQDd/xEACgDs/xkA7/8TAPL/CgD//wgABwD0/xAA7v8GAPP/AgAEAOH/HgDQ/xkA6P/6/xIA1v8uANj/FAAAAPT/AgDv//v/9P////H/CADx//j//v/y/wcA//8CAAsA5/8dAOn/AwAQANr/KgDh/xMAHgDt/y4A9P8KABkA9P8hAAkAEQAaAAUACAAOAAYAAQAXAPD/FAAFAPr/LgDb/ycAAwDi/y8Axf8mAPn/6f8jAMv/CwDn//H/CwDg//n/AQDt/wYA8v/5/wkA8f8KAOj////+//T/+f/3//3/9f8BAPL/AwD1//j/AAD5/wwAAAAMABEA//8QAP//BQAJAAIAFgAGABsABgAXABwAAgAcAPn/GAD9/wcAFQDr/xoA7f8NAA0A6f8fAPL/AgASAN3/IgDt//7/FQDe/xoA2f8BAPv/5P8DAO//AgDz/wIA8P/9/wAA6f8PAN7/BwALAOH/KQDd/wwA9//h/xYA4/8XAAAA+f8KAO///f/5//T/AwD2/wYABgD+/xQABgAGAAIA+/8PAPr/BQAEAAYACwACABcA8P8SAAAAAAAZAPn/GAAAAAgAEgD5/xMA+v8QAAEA//8aAPD/GAD//wEABwDx/xcA+P8MAA4A9f8XAOf/EgD4/+z/GADZ/xoA7v/5/wYA9v8XAOr/CgDy//j/AADf/w8A4P///wcA6P8NAN//DwDq//L/AADn/wwA7/8IAPz/+P8EAPT///8AAPn/AgD5//j/AwAAAAEABAD4/wcAAAABAAQA+P8VAPX/FAAMAAkAHQAAACEABAATAAoABgAYAP3/FwADABUADgD7/xYA8v8QAAUABgAPAPD/GgD3/wkAEAD8/xkA+/8LAPj/9P8GAO7/AgD9////AAD1/wAA9//9//3/+P8AAPX/AgD9////+//y//n/6P8EAO7/+//7//H/CgDj//r/7//t/wEA7f8KAPj//P8HAPb/BwDw/wYABwD9/w0ABQAKAAQACQAGAAQACQAOAAsADgAMAA0ADQAUAA8AFgAUAAAADgD+/w4ABgD5/xAA9f8BAAAA8v8LAOv//P/7/+n/AADx/wAA9P/6/wAA+v8AAAAAAQD2/wIA+P8CAP7/9f8HAPT/BQADAP3/DAD8/wYABQD9/wUA//8BAAYAAAAMAAgAAQATAAMACQAIAAEACwD9/wwAAwAAAAsA+v8EAAAAAAAAAPf/AAD9/wAAAAD7/wAA///7//z////8/wEA+//7////+v8FAPX//P8BAPr/BAD4/wAA+f///wUA/P8OAPz/BAACAPz/BgD1/wgAAAAAAAkA9f8JAP7/AAAAAPb/DADz/wgABQD9/w8A+/8NAAYA/v8MAPn/CQAIAP7/EAD8/wEAAAD+/woA/v8EAAUAAwAIAAQA//8JAAQABQAGAPz/CwD8/woACAAAAA8A/f8MAAMABAANAPz/BgABAP///P/9//z/+P/2//X//f/x//3/8v/r//P/5//4/+v/8//2//P/+//2////9/8AAP7/+/////v/AgD7/wcAAgAAAAkA/f8EAAEAAgAGAAQABQADAAAAAgABAAAACAAFAAcACAAEAAQACAAEAAgABwAGAAkA/v8PAAMACAASAP//EAAAAAcACwD8/xMAAAAIAAwA+/8MAPz/AAAEAP7//f/8//z/AAAAAPv/BgD2//7/AAD1/wMA+f8AAAgA8f/8//T/8f8BAO3/AAD1//H/AADy////AAD8/wEA9P/8//j/9f/+//X/BAD7//7/BQD//wgA+v8AAAAA+f8EAPr/AAAGAAEACgAEAAEACgAEAAsADQAGABQACQAVABEABQAUAAIACgAJAAUAEgAEAAsACAAAAA4A+P///wAA9P8HAPX/BgD///H/BQDi//n/9v/o/wYA5//+//n/6/8EAOr/AgD4/+3/BADu//r////5/wMA+v/9/wIA+/8DAAMA+/8IAAAAAAAFAPr/BwABAAMADwAFAAwACgAKAAgACAAHAAEACwD3/w4A+f/7/w8A5f8ZAPT/+P8YAOD/HQD0//j/HQDV/yAA7P/0/ycA0P8iAPL/7/8gANf/GADy//H/HwDc/xMA/P/y/xwA6P8QAAIA8P8SAO3/AgAMAPP/EgAAAAYACwDw/wcA/f///wQA+f8EAPn//P8BAAAABgACAA0A//8CAAAA9/8HAO//AAD///H/CQDt//v/AADp/wsA7v/9/wIA5P8NAOf/9f8HAOv/EQD4/wEACQDu/wgA+f/9/wQA/v8NAAAABgAFAAkACAAAAAwA//8OAAgACwASAP//FgD7/wkADQD1/xoA8P8KABEA8v8WAOr/BAAJAPT/GgD3/wkAAwD5/xEA8/8HAP3/AQAEAO//AQDz/wcA/v/3/wMA9f8FAPL/AQD5//D/BgDt/wAA9//5//7/9f8DAPb/9v/4//n//v/+/wQA//8GAAcAAQAJAAAACwAGAAEABwAAAA0ABgAKAA0ABQAUAAcADwARAAEAFAACAA4ACwD9/xQA+v8MAAgA/f8JAPj/AgD///f/AAD3//X//P/3//T/+//0//7/+//u/wAA6P/7//X/6/8KAOj/AQDz/+//CADk/wcA8f/z/wsA7P8SAPn/+/8HAPL/CAD1/wAAAQD+/wwA+v8FAAMAAQAJAAUACQAFAAQACAAGAAMAEwACABIAEAD9/yAA/v8bABQAAwAvAPf/GgAMAPP/IwDy/xMABgDw/xYA5f8JAP//6P8NAOL///8AAOf/BADq/+//+//l//r/8v/v//n/8f/7//P/+//8//b/+v/2//r/9P8AAPr//v8AAPr/EAD7/wcABAD9/xcABAAYABIABwAZAA0AEQATAAYAEQAPAAYAEQAFAAgABgAAAAgA+v8AAP7/8v8FAPr/AAAHAPb/BgD4//z/AAD1/wIA+//8//v/+P/5//j//v/5//3//P/4//z//f8CAPr//f8GAP3/AQD///v/AAAAAAIA/v8AAAMA+/8BAAQAAAALAAEABgAIAAMACwD+/wgAAwACAAkA+/8JAAAA/f8IAPr/CgAFAAAADAAAAA4ABQD6/wUA+P8FAAcA/f8MAPr/BAAEAP3/CQD2/wAA/f/7/wAA9/8AAPv/9P8BAPb/+/8CAPT/AgD3//r/BAD5/wsAAAACAA4A//8OAAQACAAVAAEAEgAGAAEACQD+/xEA/v8AAAoA8v8DAP7/+v8FAPz/+v/z//f/+P/3//j/+v/+//b/AAD+/wAABwD9/wQA+//9/wMA8f8FAAAA+/8IAPn/AgD9//n/BgD4/wAA/P/3/wYA+f8BAAAA+P8JAAUADQAIAAEADQAKAAoACQAPABEABwAKAA8ACwAJAAkADAAHAAQABwABAAMAAQAAAAUA+////wAA/f/9/+///v/0//H/AQDt//n//P/0////9f/7//z/9f/+//b//f/3//P////z//r/9//0//z/+v8DAP///f8DAAAAAgAEAAIABgAIAAwADQAIAAsACAACAAkABgAKAAQAAgAJAP7/AwABAAYABgAAAAUAAgAEAAYAAgAFAP7/AAAGAP7/BwAGAAQABQAFAAMA/v///wIA/f///wAA/f/+//n//f/1//v/+f/6//b/8f/8//P/9//1//P/8//1//n/+P/6//7/+P///wAA+v////j//v/9/wAAAAD6/wMABAABAAQAAQAEAAYAAAAFAAIAAwAFAAMABQAFAAcACwAFAAgACgAGAAUAAwAKAAYABwAKAAkADAAHAAUAAwABAAMA+//+/wIA/v////n/+f/0//f/+v/3//j/9v/6//r/9v/8//3//f/8//3//v/8/wEA///8//3/AAADAP7/AAABAAEAAwAEAAYABQAEAAUAAgABAAQABgACAAMABwAFAAUAAgAEAAQACAAHAAAACAAJAAMAAQACAAEAAgAAAAAAAAAAAAAAAQAIAAcAAgAAAPz/AQAAAPz//f/9//3//f/+//3//f/9//7/+f/9//v/9//6//T/9P/z//b/+P/3//r//f/6//j/+/8AAP//+v8BAP///P/9//v/AAD+//7/AgADAAYACAANAA0ABgAFAAMACAALAAYAAwAJAAoACQAPAAgABQADAAMABgADAAYABAAEAAQABQAGAAMAAwD///z/AQABAAIAAwD///3//v////v/9//9//j/+v/+//z////5//z//f/8//7/+/8AAP//+/8BAAEAAgD//wAAAgD+//3//f/8//z/+////wMAAgAHAAYAAwAFAAQABQAFAAUABAAEAAgABwADAAoABAABAAIAAAADAAAA/v/9//3//f/9//7//v/+//7//f////7//f/+//j/+//9//v//v/+//r//P/9//z///8EAAIAAQADAP3/AAACAAAABAACAAAAAQABAAAA/P8AAP7///8EAAUAAwD9////AgAAAAEAAAABAAMA/v///wQABgADAAEAAgAAAAQAAgADAAYAAgAAAAQABQAEAAQABAAGAAEABAACAAQABAD+//3////6//f/+f/3//3/+f/4//n/+P/1//L/9//2//v/+v/6////+P/8//7//P8AAAAAAAD+/wEABAAEAAMABAAFAAMABQAEAAUAAwAEAAMACAAIAAQACgAFAAkABwAFAAYABAAGAAIAAQABAAAAAQD///z//f/9//3//f/9//3//f/9//r/9//8//3//f/9//z//f/7/wAAAAAAAAEAAQD///3//f/6/wIAAQACAAUABQADAAAAAwABAAAAAwACAAQAAwABAAUAAgABAAQABQAEAAYAAgAAAAMABQAFAAQABQABAAEAAgABAAIA///9//3/AAADAP7//v/9//7//f/+//z/9P/3//f/+//6//r//P///wEAAAAAAAIABAABAAAAAwAGAAQABgAAAAgABQAAAAIAAAAGAAAAAwADAAAAAgAAAAcA/////wIAAwAGAAUABAD///7//v/+//3//v/4//r//v/8//7/+f/7//3//P/9//z//f/7////AgAAAAQAAQAAAAIAAAACAAcACgAHAAQABAAEAAMABQACAAIACQAHAAUABQAEAAIAAQADAP///P8AAAEAAwACAAAABAABAAAAAwD+//3//P8AAAIA/v/+//7//v/+//r/+P/7//z//f/7////AwAEAAUAAwABAAAA/P8AAAIABAACAAEAAgD9/wAAAgD+//z/AAABAP7/+////wAAAwAEAAUAAgAAAAYA//8AAAAA+/8AAP//BQACAAMAAwAAAAEAAAABAAEAAAAAAAQABAAGAAAAAAACAAIAAAD5//z//v/6//f//P/+//7//v////v/+P/4//z//f/9/wAA/f8AAAEAAQD///7/BQD///v/AgAEAAUAAQAEAAIAAgAGAAQABQACAA0ABwADAAYABAAFAAUABAAFAAUABQADAAAAAgD+/wAA/v/6/wAAAQD+/wAA///8//3/AAABAPz/AAD///3//v/9//7//f/+//n/9v/9//r/+P/8//z//f/9//3//f/9//z/+////wQAAgAAAAEAAAAAAAMAAwAIAAYABwALAAQAAgACAAAABAAGAAMA///7/wIABAAAAAQABgACAAUAAAD+/wUAAwAJAAcABAAFAAQABwAHAAQABQAFAAUABQAFAAMAAgAAAP3//v/9//3//P/9//n/9v/7//r/9//8//7/+v/4//j/+//8//P/9//4//r//f/4//r//f/8//z//f/6/wAAAQABAP3///8AAAIABAABAAQAAgACAP7/AAABAAEAAgAAAAMACAAIAAIAAAD8/wAAAAACAP//AAAGAAEABAAFAAMAAAAEAAIAAAAFAAIAAQABAAEAAAABAAEAAQABAAEAAQABAAEAAAAEAAIAAwACAAEAAgABAAAAAwAFAAEAAgABAAAAAAABAP///P/9//v/AAAAAAEAAgD+//3//f/9//z/AAACAP///v/+//z//f/8/wAAAQAAAAIA///+//7/+v/4//j/+P/7//3/+////wEAAAABAAIA/v///wQABAACAAEAAgD9////AQAAAAMABAAFAAUAAwADAAAA/P8AAP3/AAACAAAABAAFAAEAAQAAAAQAAgACAAUABAAEAP7//f/+//7//v/9//7//f/9//z/AAAAAAAAAQABAAEA/v8AAAAA+P/7//7/+v/4//f/+//9//3//v/7/wAAAAAAAP///v8DAAQAAQAAAAQABAAFAAQABAAEAAQABAAEAAQABQAEAAMABQAFAAQABAAFAAUABAAFAAYAAwD///z/AAABAAEA///+//3//f/5//r/AAD+//3//f/+//3////7//j/+f/4//j/9//7//3//f/8/wAAAQD///3//f/7////AAACAAYAAwACAAAAAwACAAEAAAADAAMAAQACAAAAAAAAAAEAAAABAAAABAACAAAAAAACAAUABAAEAAUABAD+//3//f/+//3/AAD///j/+//9//r/AAD///3//f/7/wAAAAAAAAEAAQAAAPz/AwAAAP//BgAAAP7//v8BAAAA/f////3//v/9//3//f/9//z//v/+//v/AAACAP///P8AAAAA/f8AAAEAAAABAAEAAQABAAAAAwAFAAIAAAADAAQAAwAEAAQABQAEAAUAAgACAAUAAwAIAAYABQAOAAcACAALAAYABgAAAAcABwAEAAYABAAGAAEAAQACAP3/AAADAP7//v/7//j/+P/z//n//v/4//n/AAD7//X/+//8//7//f/7//v/AAACAP3/AAACAAAAAAABAAIA///8/wEA///8/wAA///9//z/AAABAAAAAAADAAUABQAEAAAABAADAP///f8AAAAAAAAAAAQAAwAAAAIA/f8CAAIAAgACAP//AwAEAAQABQAEAAQABQACAAMAAgAAAAQABAAFAAIAAAACAP3/AAD+/wAAAAD7//7/+/8BAP7///8CAAIAAAD5//z//v/9//v/AAD///z/+v/2//v/AAD+//z/+f/5/wEA/f8BAP//+//8/wAAAgD9/wEA/f///wAAAgADAP//BAAFAAIAAQD+//v/AQAEAAMAAwAEAAAAAgAFAAUAAQACAAUABAAFAAEABAACAAAAAgAAAAQABAAGAAMAAAABAAAAAQABAAIA/f8AAAIA/v/+//3//f/8/wAA///+//r/9//7//3//f/9////+f/7//3/AAD///3////8/wAAAQAAAAAAAQAEAAYAAQADAAYAAgACAAEAAgD///z//f/7/wAAAAAAAAEA///8/wAAAQD///3//f/+//r/+//9//z//v/8//3//P///wAAAAAEAAAAAwAFAAMABQAEAAUABAAGAAQABAAFAAIAAQADAAIAAAADAAUABQAEAAQABQABAAMABAABAAMABQAFAAUABQAFAAQABQACAAAABAAEAAUAAwD+//v/AAABAP7//v/9//3//f8AAAAA+f/5//f/+//9//j//f/4/////f/2//3/9//6//3///8CAP3/AAAEAAIAAAAEAAMA/f8AAP///P/8//7/AwAEAAQABgACAAEAAgD9/wAA//8AAAAA+//9////AgD///3//f/9//3//v/9//z//P8AAP7/+//+//z//f/9//z//f/8//3//f/7//7/AwAEAAQABQAGAAEAAwAFAAcACgAFAAgACwAGAAQABQABAAMABQAEAAUABQACAAIAAgD+/wAA///8/wAAAgD///z//P///wIA/v/+//r/9//7//z//P/7/wAA/v/7//7//f/+//z//f/8//7//P/9//7/+f/7//3//f/8////AwAEAAAAAwAFAAQABAD+//3//P///wMABAAEAAQAAQADAAUAAwAEAAQABQAFAAMABQABAAIABQADAAUAAgAAAAMABAABAAAAAwAEAAUABAAFAAMAAAAEAAIAAwD+/wAA///7//7/+v8AAP7/+////wQAAgADAAQA/f8AAP///f/+//7/+v/3//3/+v/4//j/+//5//j/9//6//3//P/8//7/AQD8////AQAAAAMAAgD+/wAAAQABAAEAAAABAAAABAAGAAEAAQAAAAQAAgAAAAIAAAABAAAABQD/////AgAAAAIAAAACAP////8EAAEAAAABAAIABQACAP///v/+//3//P/9//3/+/8AAAEAAAABAP7//f/7/wAA/f8AAP//+/8BAP3/AAD9/wAAAQABAP7//v8DAAQABgACAAMABQAEAP7/AgAGAAEAAgD+//z/AAACAP///P8BAP///P8BAP///f/+//3//f/9//v/AQADAAAAAQABAAMA/v8AAAIA/v8AAAEAAAAEAAIAAAABAAAAAAADAP7///8FAAIAAgD+////BAAFAAIA/v8AAAIAAAABAAIA/v8AAAIAAQD//wAA///9//7//P/9//3/+/8AAAAA//8EAAQA///8/wEA//8AAP3/9v///wEAAAABAAEAAQADAP///f/8/wAA/v///wIA/f8AAAEAAAABAAEAAQAAAAEAAgD9////AAACAAUABAAFAAQABAAFAAIAAQAAAAIABgD/////AwAEAAEAAgAFAAMABQAEAAUABQAEAAUABAAFAAMAAAAFAAIAAQD///z/AAAAAAMAAQACAAYAAQACAP3/AQAHAAAAAQAAAAMABAD+//3//P8AAP7//P/+//z//f8AAAEAAQD///7/+v/6////+f/4//j/9//7//3//P/7//7/BAACAAAAAQAAAAIABgACAAEAAgAAAAIA///8/wAAAQACAP///f/8//7/BAAEAAQABQABAAIABQACAAAAAwAEAAQAAwD+//z/AAACAP///f/9//3//v/9//3//f/+//3//P8AAP///f/6//b//P/9//z//f/9//3//P/9//3//P8AAAEAAAAAAAIABQADAAQABAAEAAUABAAEAAEAAwAGAAIAAQABAAAAAAAAAAMABQACAP7/AAAEAAEAAgD9/wIAAwAAAAIAAgD///z//f/7/wAAAAAAAAEAAQD+/wAAAQD+//z///8EAAAAAwABAAMABgAEAAUAAgAAAAEAAwAEAAUAAgAAAAIABAAEAAUAAgADAAYAAgADAP///f/+//z//v/4//r//v/5//j/9//7//z///8CAP7//P8AAAEAAAADAAQAAQABAAAABAADAAEA///7/wAAAAABAAEA/v/8//3//P///wEA/v/9//3//P/8//z/+////wAAAAAAAAMABAD+/wAAAgAAAAQAAwAAAAEAAQABAAAAAwAFAAEABAAEAAQABQACAAIA///8//z///8BAAEAAQABAP7///8BAAQAAAD8//3///8CAP7//P/9//z/AAABAAAABAABAAQAAwAAAAIA/v8AAAEAAAAAAAAAAwAFAAIAAQAAAAMABAAGAAIAAAABAAAAAgD9/wAA/v///////P/9//v/AAABAP//+/8AAP///f/+//z//v/5//v////5//j/+f/3//r//P/9//z///8AAAIAAgD//wQAAgAAAAQAAwAEAAUABQADAP7//P/8//3/+////wAAAAAAAAIABQABAAIA/v///wUABAAFAAIAAAADAAIAAAADAAUAAgABAAEAAQAAAPz/AAAAAAAAAgD///7//f/8//3//P///wQAAQAAAAQAAgABAP///P/9////AQD+//v/AAAAAPf//v8CAAAAAAAAAAQAAgABAAIAAwD7//f/+////wEAAAAEAP7///8BAAAAAQAAAAEAAAAEAAUABgADAAEAAQABAAMAAgACAAAA/f/8////AQADAAMA/v/8/wAAAAD9//3/+/8AAAAAAAACAP3/AAD///v/AAADAAYAAwD+//z/AAD+//7/+v/2//r///8BAP3/AAABAAEA/v///wQAAAAAAAAABAAEAP3///8AAAMABQAFAAUAAQAEAAIAAQACAAAAAAAEAAYAAgAEAAUABgACAAIABgACAAEAAwAEAAUABgADAP///f/8//v///8EAAIAAgAAAP3//f/8//3//v/5//n////5//v//f/8//z//P/8//z/AAABAAEA///7////AAABAAAAAwADAP3/AgADAAAABQABAAMAAwD+//3//f/8//3//f/7////AQAAAAAAAgAEAAMABQABAAQABAD9/wAAAAADAAQABQACAAIABQAAAAMAAgAAAAQAAQACAP//+/8BAP///f/+//3//f/9//7/+v/4//T/9f/8//3//f/9//3//v/5//v//f/7//3/+v8DAAIAAgAGAAEAAQAAAAAAAwAEAAUAAQACAAMAAAAFAAIAAAABAAAAAAACAAUAAwAFAAEABAACAAMAAgAAAAQAAQAEAAEABAADAAIA/v/7//3/+/8AAAAAAQD9/wAA/v8AAAIAAAAAAPz//v/9//3//f/6//r//f/7/wAAAQAAAAEAAQABAAAAAQD+//z///8AAAAAAQAAAAAAAAAEAAMA/v8AAAAA/f/9//3//P8AAP3///8CAAAABAABAAMABAADAAkABgAEAAUABAAFAAIAAAAAAAQAAQADAAcAAAAEAAYABQADAAEAAwD9/wAA///6/wAAAAADAAMAAAAAAAAAAQABAP///f/+//3//P8AAAAAAQAAAAAAAwACAAMABgACAAAAAgD+/wAA///8//7/+/8AAAIA/v/8//3//f/9//z//f/9//3//f/8//3//P/8////BQAAAPz//f/9/wAAAQABAAAABQAAAPv/AQD9/wAAAQD9/wAA/f///wEAAAABAAEA/v///wEA/v/8/wAAAAADAAIA/P8CAAUABAABAAMABQAEAAIAAwADAAAABAAFAAQAAgAAAAEABAABAAIABgACAAAA/P/9//3/+////wAAAQD///3//P///wIA/f8AAAEAAAAAAAMAAwABAAIA/v/8//3//f/+//v/+P/7//z/+//+/wMAAQAAAAMA/v8AAP7//P/9//7/AgD8/wIAAwAAAAIA/f8AAAIAAAABAAAAAAAAAAMAAQAAAAQAAQADAAMAAAABAAAAAQD9/wAAAAAAAAAAAAAAAAMABQAEAAQABQAEAAUAAgADAAUAAgACAP7/AAAAAAMAAwAAAAIAAAACAP7/AAABAAAAAgD+//3//f/8//3/+v8AAAAAAgAEAAMABQABAAQAAgADAAMAAAAFAAAA+/8BAP//AAACAP3/AAD///r/9//8//n/+f/9//z//v/7/wAA/f/+/wUABQAGAAAA/P8AAP////8AAAAAAgD+//z//v8DAAAAAgAGAP7/AAADAAQAAAABAP///P/9//7/BAACAAAAAAABAAEAAgD9////AwADAAQABAAEAAUABQACAAAAAAADAAQAAAADAAMA/f///wMABQABAAAABAADAP//+f/5//3/+/8CAAMA///+//7////6//n/9P/2//n/+v/1//X/+P/3//r//P/9//z//P/9//z//P8AAAAAAgAEAAMAAwAIAAYABAAFAAAABAAEAAUAAgADAAUAAwAFAAQABQADAP7/+/8AAAEAAAABAP7//P/8////AAAAAAQAAgADAAYA/v8AAAIAAQD+/wAA/f/+/wEAAAAAAAAAAgAAAAUAAAD8/wEA///8//7//P/+//z/AAABAAAAAgD9/wAAAQACAP///P/9/wAAAQAAAAAAAAABAP//+/8AAP//+/8DAAAA+v/8/wAAAgD9/wAAAAABAAEAAAADAAIAAQAEAAIA/f8AAAEAAQD+//7/CAAFAPz/AgACAAEAAQADAAUAAgABAAEAAQD+//7/CAAIAP7/AQAFAAIAAAAEAAIAAQD9/wAABwD9/wAABQADAPr//v8DAP//+f/7////+P/6/wAAAAD5//v/AQD///n/+v8BAPv/9f/+/wIA/v/8/wAAAgD9//7/BwAHAAEAAgAOAAgA+/8CAAYAAgABAAAAAgD+//7/CAAIAAAA/P8BAAcA+//7/wwABQD7/wQADwACAPn/CQAOAP3/9f8BAAQA9f/4/w8ADAD3/wYAGAABAPH/AwALAPX/7v8DAAcA8P/6/w8AAgDm//b/EgD2/+H/BAATAOr/5P8UABAA4P/w/yEACQDe/wsAKQDv/9n/FAAeANz/2P89ADoAof/W/4gAHgCT//3/UAD//9b/RwAkAH7/7v+jABkARv/G/88AWgBJ/5X/egA6AKv/NgBCAE//xP/9ABMA8/4FAOAAEgBJ/9P/oAAZAGr/MwCdAIj/XP+JAIkAhP+w/4UAIgBx/xwAmQCg/1j/dwCiAKT/XP8RAGcAEADa//f/9v/V//L/NQA2AKb/yP+QADcAYv+x/2oAMADL/x4AQADS/7b/AwBCAAIAvv8VAFUA6P/D/xYA4v/T/1wAZACt/4b/UAB8ALj/if9FAHIAx/+r/xoAHgDg/wQASQD4/6n/BgBZAN3/nf9JAFgAzv/X/w4A8//3/x8ABgDx//v/DgAJAOn/5/8GAC0ABgDa/+3/+/8MAPX/6P8RAC4A+v+y//3/UgD6/8f/JgA2AOP/vP/n/y4AMwDh/9r/EwAAAPH/7//u/yoAOQDC/7z/UwAKAJz/NABwAKD/j/+hAGsAU/+Z/5MAXwCa/9n/TADG/zD/lABgAib/FPsjAooGdvu++t0EugId/ev/9gF+/IX8uwVyBbX5TPsuBdQDnfzy+R4DDAVc/tD+5QCW/p/79ARvBsj4sPrhBr8CcPpqAG8CAACH/zf+9wAOAAf/5AHuAQP+Zf3gAHABmADD/rUA3QAM/d8AWAJ8/jr/eADoAAwAg/9z/+3+3wD4AI3/SwDEAWr+X/2GAf0A3f5kAAsC6/9n/t7/MgDM/jIA/QFhAPH+Cv8NAWEBRP6J/vEARQCPAOIAkP+x/hr/RALDAJP9oP/YAcoA3P1H/2kBNAF3/+P+QQB+/6YAbAA//9j/QAAmAaH/yP4OAGUABwCJACoA1f5eAPgAkf98/6D/cQCwAMf/l//D/w0A5v/8/6oAbwDK/4v/QP9d/6kAlwFnAC7/Jf+V/ygARgCPALkA3/+V/p7/8gBCABEArf8hACkASv+k/0gA+AADACf/9v9hANr/5v+HAOL/jv/z//n/GQA8AEQAAwC//wAABQCW/7r/kACDAHb/xv+BAO//mf/T/14AOQBx/2gAjgCU/6b/AgBuAKj/Yf9gANcAGgBp/+f/5P+5//v/XABTABQA3f+p/8X/BABBANf/YgCWAH3/Pf9qANgAiP+p/ykANgDD/woAvACF/7L/jQC//zX/awDHAPL/jP+m/x0AKgArALH/9f8+AMb/3P8mAAsAy/9zABUAXv82AEQAvP/x/w0ANgACAPL/IwDh/8H/wP+lAFwAef/1//r/+//t/yIAGQACAGoAAAC1/6L/BgBqACkA5f+0/87/OwBJAKb/IABFAMX/0P/h/1YA6f8OADoA4P/E/6j/bABBAL///v9JAMj/lP9TAGIA1v+6/0YAJgCi/93/WQD2/9f/UAAXALD/yf9EADMA2v///wsA5//4/ysA9P/A/0AAMwDG/7f/cwBLAFr/8v8BAP7/NgAEABEADwDv/5H/xf9dAIYANQCF/5D/iwBzAGb/bP+rAMcAXv9l/7EAOwAs/wgAhwDr/3r/7v+aADYAqf/H/wkA1/8lACsAwP/J/2cAbwCz/5b/0P85AMr/AQCoAPD/of8PABIAwf/0/zEAEgAUAB8A4//E/+z/MgAMAKv/+v9oALj/7v/JAKH/cP8hAOv/zP8ZAKkATwDE/4v/jP8eAFcAEwD2/xMAIQDy/4//yf98ACwA7P8gAI//CwCyALr/s/85AAUAw/8AAIMAJQDN/+3/KADQ/4v/RgBtADMA5f+//9b/GwAVAJP/EACwAFUARf93/2cAGwDL/wAAKwAnAAoAqP/V/wEA3f9aADwAgv/h/3wA9v+z/9f/6f9bAEkA6v/K/6j/OQArAJ//CAAFAEIAAAC4/zsA6P+k/9T/igAeAN//RwDT/+r/vf8gACQAy/9wAEwA5P+Y/9P/YgD//7f/EAA6ADEA1P+3/zQAIACR/+r/eAAFALf/FgATAJn/7f83AEkAPABP//v/egDr/7n/2P+oAPP/n/8NABQAMQCw/xgAPwDy/+z/2f8nAAAANAAKAMD/HACT/x8ArAALAJv/cf9mAFMAnv/u/0oAKAC+/7H/2v9AAHAAEwCL/+L/QQDS/ycAYQDB/4v/2P+BAFYAsv8iAAgAy//O/43/MACsAF8A0P+W/woAzv+A/1MAvAAHAJP/RQA5AHb/q/8HADsASgA2AOP/6//6/7D/NwAUALb/PQBCAO//6f/5//L/9P/Z/wkAIQDQ/zIATwDj/+H/6//g/8n/CwBOADsAHADS/9X/9P/Q/8//VACcALn/nf9TAPX/kv/2/2AAHAD4/x0A8P+u/8H/cQBIALX/9P8IAAsADQDX/9r/JwAVANv/HgAcABIAGgDY/6v/4f9DAEsAQAAAAPf/sf94/2AARwDq/wsANwAvAF3/AwBhAJ3/4v84AHAA8f+I/xQAIgDp/+X/GwDT/8v/iABaAKX/kf8mAAUAzf8aABgAOQDN/7v/PADY/37/ZQDhAHv/N/9bAFIAzf+5/zsAPADN/+P/+v9TANf/a/+AAJsAhv92/5AAYQBL/8P/kwAtAK3/IQAwAID/w/+FAB0A1/85AP3/9P8WAOD/+f8vAN//9P9+AOb/cP8tALMA6P9X/xUAWQDm/87/JgAIAO//+v/z/zgA1P/Y/0gAEwDy/8D/+v8tABoALgCe/8f/YgA7AOz/vP8TAAcABgBBAP7/pv+u/4AATQBv/8n/YAA1AKD/zv8GAOX/NgBOAMP/p/8qADoAIADT/7v/TABGAN7/yv/n/zMAUAD5/83/2P8BAEYADwDT/+7/8P8AACgA8P/E/y4APQDs/8T/x/8XAAsACwAXAAsA+P+s/y4AGwCs/x8APAD3/7D/BwA7AN//4/8tABYAxP8oAEgAAwDZ/9L/LAAFAPP/HQAEAP/////q/+b/CQAOAA4A8v/7/yQA6v/9/xcAwv/r/04ADwDO/wsAIwDp/+D/9P8AAAkADQApAAMA3f8AAPr/AAAGAO3/JgAjAMr/DwAmANf/+/8kABgA9v/s/wMAMQAEANT/BADs/w0AKgAUAO3/0v8wAPL/wv8JAAAADAAVAN//4f8AAOb/QgAoAKz/AAACAOH/DQAkACAAuP/c/zMA///j/9X/OABvAPr/c//y/1gAyf8sADwAyv/g/yoAZwDV/53/MQBKAMT/0v9AACcA8v/f/wYA5P/X/z8ADADW/zAADwCh/+j/OAAPAOH/9P81APj/xP/2//3/HAARAM//7/8uAPD/5/85AP//0P/j/ysAIgC+/wMAUQApAJb/5v9zANP/0v9DACQA5f/s//T/5f8XAB0AAADl/xkAOwDN/67/EgBdAAkA1f8UAAsA9P/i//f/LwAVAPL/JgAbALj/1f8lAEMAAAC4/yAAPADO/+D/JgD4//z/EgDl//b/DAAXAAUAzf/l/zIAGQDU/+v/JQAfAOj/2//Z/+X/NgAxAN7/5v8JABMA6f/O/wsAFgD8/wEA+P/W//X/GgAFAAAA5f/9/yAA6P/h/zAAOQC9/+r/ZQDG/5H/cgCLAJH/g/9uAFYAuf+j/yAAZwAWANr/zv/v/xkAPgD4/6j/AgBEACAA4P+///X/KgAgAN//wP8OAFIAGwCv/8z/NQAyAAkA8//X//3/XwARAIv/5f9LABYA3//p//r/FgAWAPX/3P/k/xQAOAD2/6f//f9QAP7/w//2/wUAEQAjAO3/0//+/xYACQDn//L/FQAEAPH//f8CAAkAAgD6/w0ABQD6//v//f8GABEAEwDy//r/FwD4//H/LgAaAMP/BQBHAAEAwf/e/ycADQAGAB4A9P/u/wAA9P/t/w0ADQATADsA9v+j/+D/WQAlAMH/+/8tAPP/3P/2/+v/IgA4AOX/yf/2/ygABADZ/x0AKgDW/8v/GwAoAAUABgABAOH/z/8VACYA8//7/wwACwD0/8T/vv8vAG0AFQDD/7z/GAAtAMj/8P9jADwA0f/f/xAA4f/c/0QAVQDX/8z/FQAGAPr/BAAJAB8AFgDm//T/DQDy//T/MAAfANH/6v8kABAA4f/v/w8AHwD//8r/5P8pACIAwf/P/yIADADt/wkAAQDZ/wAAGgDd/9T/GgApAOb/z/8CAPX/2/8dAC8A5P/S/ygAOQDO/8z/RQAyANj/AAAjAPv/+v8wABwAuP/f/04AKwD1/+//8v8LAAwADQAPAOz/AwApAPz/zf/e/xsALQALAO3/1//s/ycAFgDd//z/CgDq/wwAHgDz/+T/IgAcAMr//f8yAPH/7/85APj/m//t/1AAHADL//3/DADU/xsAKgC5//H/WAD6/67/BwAiAO3///9GABgAoP/h/0kAEgDd/xAAKwD9//P/9f/s/wIAFAArAP//xP8EAB8A2v/c/ykAHgDq//7/DADZ/9z/LgAlAN//4f8SABkA2//Z/x4AGQABAPf/2v/n/yMAMQDx/+L/FAAIANT/CwA9AO7/5P8sAAwAuf/q/1UAJgDP/wAAHwDy/+v/DQAjAAkA8/8PABgA6P/k/xkAFgDn/+X/DQAmAPn/2/8CAAoA9f/v//z/JwAQAM3/0P/4/wQAAAANAP3/2f/x/xQA8f/a/xwAKgDx//H/+//n/wwAOwD9/8b/EQAmAOn/+f8iAPn/3f8TABAA3/8CACEA9//x/xIADgAKABAA8v/0/woAAAAAABMAEwD7//b/AAABAPP/DgAiAOP/2P8XADUA/f/G//X/MwAPAN7/8P///w4AFQDr/+T/DwAfABgA///V/9z/JQA6AOf/zf8bACkA5P/n/xEA8f/1/zMAAwDJ////LQAKAOv/+//1/wIAGgAMAOn/7v8cABkA+v/b/97/HwA4AOL/uf8CACcACQDq/+D//v8vABoA1v/W/yoAOgDZ/9D/GgAkAAIA+//6//z/AAAGAB0A///k/xcAJADi/83/EAA2AAIA1//6/wwA7P/y/wkAAAD2/wEABgDt/9z/CQA0AAcA2P/z/xgAAADp/wAAAgD3/xEAEADM/9r/OAAwANH/1P8qABgA0//x/ycABgDt/xMABQDV//z/MAD6/8z/AQAoAPf/2v/3/wMAFAAZAPL/zP8BAEUAFgDI/8P/EABOAB8A3f/Y//3/GgAZAOf/zf8NAGIAVwCi/0H/CwDCAHYAx/9W/8L/sgCQAHz/NP9pAFEB9P9a/mf/SQEEAY//F//O/5MAZADF/4f/3/+wAJwASf/7/k0ADAE2AE//n/9RAGIA7v+z/+P/KABaABkAnv+d/08AbgDH/83/CAACACEAEwC6/8X/UQBpANL/pf8pADcA8f8zABIAlv/x/3gA//93/+v/hwBTAJr/k/8UAFEAIgDM/9T/HAAxAPv/yf+5//f/bgA0AI3/ov84ADcAsf/G/yIAGAAeACYAvP+f/1wAfwDO/6z/NwBTAPX/2v/4//r//v8+ACEAtP/d/0QAGwDT/+X/FwAiAAIA4//g/wEAKgAmAOX/3v8DAAsA8v/u/xUAGgDt/8j/6/8OAAkA+v/g/+r/JQAmANf/yv8YADAA4/+7//7/MAAVAPn/2f/f/yIAIgDm/97/EwAyAAkA2//x/x4AJAD7/9L/BABMAAwAwf8GAC0A8v/s/x4ACwDg/wsAGgDt////EAD3/wIAEQD3//z/CQAHABQACADu//D/BgAQAPz/7/8BAAEA+/8AAAAAAAAEABMAFgDx/97/BAAfABAA7f/k/wYADwD6/wAAEAALAP7/AgAAAOf//f8oAAoA3v///xQA+f/p//n/DwANAO3/5P8OAB8A/f/k/+n/AwAUAAQA4v/k/xIAIAD6/9P/6P8nADMA6P/K/xsALwDm/83/EQAtAOr/3v8UAA4A0//z/yYA+//q/xcAFADv/wAAHQACAOz/DQAfAAQA8v/6/wgAAwD///f/AAAnABQA4f/p/xcAEQDv//D///8NAAgA+v/k/+X/CwAYAPT/1f8AACAA9f/Q//D/JgAaAPX/6////xIAAgD8//b/AQASAPz/7f/1/wkABAD1//D//P8TAAkAAwAEAAMAAgAIAAgA+f8HAB0ACADs////CgD1//r/BwD8//X/EAASAO3/5v8MAB4A+//w/wsAFgD///X/BAACAPr/AQAKAP7/9f/1////CAAAAP7/BAAOAA0A9v/2/wMADgAFAPr/CgALAAUA+f/7/wUA//8BAAAA/v8DAAEA8f/q//7/AADz//r/DgAFAPb//v8CAAAA/P8AAPr/+P8EAP7/6f/y/xQADgDq/+z/EwAZAPj/6f/+/xIABQD///3//f8PABkA/f/k/wkAHQD+//T/CwAVAP7/AgAYAAYA+P/9/wQA/f///wAA8v/9/w4ADQDr/+//CwAOAP7/6v8BABQABQDs/+r/BQAQAAEA7v/7/w0ACQDr/93/CgArAAkA1v/k/ycAKgDk/8P/AAA5ABAA2P/e/w8ALgANAN//5v8XACgA/v/e/wcAJQAOAP3/9f8AAA4ACQABAPz/AwAEAPD/9f8JAAMA6v/5/xIAAADv/wEADgD5//b/BQAFAPT//v8IAPz/AAAGAPz/6v/7/xAA/v/f/+n/DQAMAOv/4/8BAAwA///3//b/CAAYABgAAADr/wIAGQADAO///P8RAAgA+/8AAAkACgD//wUADwAGAAQABQAAAP//BgALAP7/9/8FABEAAAD9/wsAAAD4/wAABgD6//X/CgAHAPb/8//7//z//P8HAP//8//2/wQAAQDq/+//AwAEAPj/8//6/wAABgAGAP//+v8CAAUA9v/w/wgAEgAAAP3/AwAKAAYAAAD7/wIACQAIAAQA+P8DABAACQAAAAEACAAJAAAA+//4//f/BQAIAPj/8P/+/w0ACAD4//L/9f8BAAUA/P/y//n/DgANAPT/8f8JAA0AAQD1//X//v8MAAQA7//0/wUADgD6//H/AAAKAAIA9f/5/wMAAADz//f/CgAKAPf/8/8FAA4A/v/y//7/BgD///T/9/8IAAQA/v/+//7/BwAHAP7/8P8BABAAAQD3/wAABwD//////f/9//z/AAABAPr/+f8AAAIAAQADAAUABgAGAAoABAAEAA0ABwADAAIADAANAAUABQAKAAsABAACAAQABQACAP///f8AAAUAAQD6//v/AQACAPz/AgAKAAsA///2/wQABAD6//b/+f8FAAcA+f/5////BgAAAO//+P/9//j/9f/y//7/AQD4//L/+P8BAPz/9P/0/wAABwD///f/AAAIAAEA+//6/wIABAD7//n/AQAHAP3///8FAA8ACAD5/wAACwANAAAA/P8FAAsABwACAP//AAAGAAAA9f/9/wUAAgD8//7/AwADAAQAAwABAAEABAABAAAA/f8AAAMAAAD8///////8/wIAAwABAPv/AgAFAAIABAADAAUABAAIAAUABQAFAAEAAgD+////+f/7//7/+P/8//z/AAADAP/////+//z///8BAP7/+/8DAAYAAAABAAQACQAEAP3////8/wAA///5/wAAAwAEAAQAAgAFAAMABgAEAPz/AAADAAkAAQD6/wEAAgACAP7/+v8EAAQA/P///wUABQABAAIAAwADAAAA+v8AAP///P8AAAAABQAAAPj/+/8DAAQA+v8AAAYAAwD7//r/AwAEAPv/+/////f//P/8//f/+v/8//3//P///wAA/v/8//7/BwAFAPj//v8EAAUAAwAAAAUA//8AAAIAAAAFAAQABwAAAAAABQACAPz/+//9//v//v/3//3/BAABAAAAAgAFAAQAAQD///3///8AAAQAAAAAAAgABwAAAPz/AwAFAAAA+f/6/wEA/v/8//v///8FAP///P/8/wEABwD+/wAAAQAAAAAAAwAEAAUABQAIAAkA///8/wAABAAEAPv/+v8BAAEAAgD//wAAAQABAAIA/v8AAAQAAQABAAAAAwAFAAQACgAHAAUABgAFAAQA/v/5/wIAAwABAP3/AAAAAPv//v/8/wAA/f8AAAEAAAADAAUABwADAAEAAgABAAEAAgAFAAEABAAEAP7//v/9////+/8AAAAA/P/+//j/9v/9/wQAAAADAAUAAgACAP///P/9//3/+////wIABAABAAIABQAFAAYABAACAAEAAAD5//v/AAABAP7//P/8//z///8AAAMABAAEAAUAAgD+/wAABAD+//7//v/8//3//P8AAP3//P/8/wAA///9/////P8BAP7/+/8AAAAAAAD///f//v8DAAEAAgD///3//f/8//z/+/8AAAAABAAEAP7//v/8/wEA/v/8//7//P/7////AQAAAAMAAAAEAAIAAAD//wAAAwD9/wAAAQAAAAQAAgABAAIA///9//z/BgAFAP7//v/8//z//P/8/wAABQD5//3/AwADAAYABAAGAAQA//8BAP///P/7/wAABwD///z///8FAP///f8IAAYABQAHAAQAAgABAAAABQAEAP7//f8AAAIAAgD9/wAAAQABAP////8FAAMABAAFAAQABQAEAAIA/v/9//3//f/9/wAAAgD+//3//v////r/9//8//z//f/9//3/+//4//z//f/9//j/+v8AAAEAAQABAAAAAgAFAAUABAADAAQABAAFAAUABQAFAAYAAgAAAAMAAwD+////AQAAAAIABQAFAAQA/P/2/wAA///+//r/9v/9//z/AAD///z/AAACAAAA/P/8//v/AAABAAAAAwACAAAAAwACAAAABQABAAEABQAEAAYAAgAAAAIABAAFAAUABQACAAUAAAD7/wAAAAACAP3//P/8////AQD9//7/AwACAAAABAAGAAQA//8BAAAA/P/+//r/+P/8//z/AAD///z//v/9/wAAAgD///n/+//9//z//f/8//3//f/8/wAA///8//3/AAAAAP3//f/8//3//f/9/wAAAAD4//r/AAABAAAAAQAAAAIABwAEAAcACwAJAAoACgAHAAUABgAFAAYAAwAAAAcABQAEAAIAAgAFAAAABAADAAEAAgACAP//+/8BAP7///8AAAAAAQACAAUABAABAAAABQABAAMABQACAAEA/P8CAAMAAgD///3//v/8//3/AAADAP///f/7/wIAAAD4//z//P///wEAAAAEAAIAAgAIAP7//f8KAAoABAD8/wMACwADAP7//f8AAP7///8DAP3//P8AAAIA/v/9/wEAAAD5//v/AwAFAPv/9/8BAAQA/P8AAAQAAgABAAEAAgD/////BAADAP3/AQAFAAMA+//6/wUAAAD5//z/AAD///3//f8AAAAA/P/9//3/+v/9//3//P/+//n/+//+//3//v/9//r/+v/+//r/AgAGAAEABQAAAAoADAAFAAIABQAOAAcAAgAFAAcAAgACAAEAAQABAAIAAgACAPv///8DAP7//f8AAAQAAwAAAP3//v/8//3//v/+//r/9////wMA/v/8/wAAAQACAP7/AAADAP//+/8AAP///f/5//v/AQD+//3//P8AAP3/+//+//z/+v/6//3/+//8////BAADAP//+/8DAAEA+v/7/wAA///6////AgAFAAEAAwAFAAUAAwACAAkABAD9/wAACAAEAAMABAAEAAYAAAADAAUABAAGAAEAAgAGAAUABgADAAIAAgABAAEAAwAFAPv/+/8AAAAAAgD9/wAAAgD9/wAA///7/wAA/P8AAAMA/P///wAAAwADAAAABAACAAUAAQD6//z/+/8AAAEAAgAEAAQAAwAAAAMABQACAAMABgABAAUAAQADAAMAAAAGAAAA/v/9/wAA/v/7//n/+//8//z//P/8//r/+v8BAP7//f/5//v//f/8//3//P/9//7//v/9//3/AAABAP3/AAABAAEA+v/+/wIAAAAEAAAAAgAGAAEAAgAHAAYABAAFAAQABAAEAAUAAAACAAUABAADAAAAAQAAAAAAAgD///z//v/8//3//P/8/wAAAAABAP3/AAD///3//v/5/wIAAgAAAAUAAgACAP///f/+//z//v/8/wAAAAABAAMA/v8DAAAA/P/+//7/AwD+//v/AgAEAAQAAwAAAAQAAwAAAAQAAgD///3//P///wQAAgAAAAQAAgABAAIAAQACAP///f/9//z/AAD///z//P8AAAEAAAADAAMABAACAAAAAQABAAIAAQABAAIAAAD8/wAAAgD///3//f/9//3//v/9//z/+/8AAAEAAAADAP///f8AAP//+////wQA///8/wAAAQD+/wAAAAAAAP7///8BAAAAAAABAAkAAwAEAAQAAAAFAAIAAwAFAAQABQAGAAMAAQABAAIA/v8AAAEAAAACAAEAAQABAP7///8DAP7//f/9/wAAAgD8/wAA///8/wAAAgD7//r//P///wIA/v/+//z/AAAAAPr/+////wMABAAFAAQABQAFAAQABQAFAAEABAADAAEABQAEAAcAAAD9//7//P/+//3//f/8/wAAAQD///3//f/8//3//v/9//3/+/8CAAEAAAACAP7///8FAAEA/f///wIAAgABAAIA/v8AAAEABAAGAAMA//8AAAIAAAACAAIAAAD9//3//P/8//3//f/+//r//P/+//r/+P/6//z//P/7////AQAAAAEAAgAEAAUABQAEAAUAAwABAAMA//8AAAEAAAACAAAABAAFAAQAAgABAAEAAAAAAAQAAwD+//3/AAACAAEAAAAAAAQAAgABAAUAAgABAAIAAQAAAAEA/v/9//3//f/7/wAAAAACAAcA/v8AAP7/AAABAAAAAAACAAUAAwAFAAEAAAACAAQABAADAAUAAQABAAEAAAAEAAEAAgAFAAQABQAFAAMAAQACAAEA///7/wIAAgABAP//+/8AAAAAAgD///z/AQD+/wAA///8//7/+/8CAPz/+//7//r/AAABAP///P/+//r/+f/2/////v/+/wUAAQAAAAUAAwD9//3//P8AAP7///8BAAAAAAAAAAEAAAABAP7//P8AAAAAAAABAAEAAgD///3/AAAAAAEAAgD///3//f/8//z//P8AAAIAAQACAAEAAAAEAAEAAwABAAIABgADAAUAAQADAAQAAgAAAAMAAgADAAUABAAGAAEABAADAP3/AAABAAEAAQACAP///f/+//z//f/8//3//P/7/wAA/f8AAP7//f8EAAIAAgD9/wAAAQABAP7/AAADAPz/AAD+//7/AQD///3/AAAAAPv/AQAAAPz/AAABAAEAAAADAAUAAwAFAAUAAgABAAEAAAABAAEA/v/9//z//P/9//v/AAAAAAEA///8/wAA/v/8//3/+////wAAAAAAAAAAAwAFAAIAAQAAAAMAAQACAAYAAgAFAAAA/P/+//v/AAAAAAAABAACAAEA///6/wMAAgABAP///P8AAAIABgAAAPv///8CAAQAAwADAAcABQAFAAkABQAFAAgABwACAAEAAQAAAAMABAACAP7/AAABAAEA///+//z/+f/8//3//P/2//f/+//8//3//f/8/wAAAQD///7////+//7//f/9/wAA///9/wAA///9/wAAAAAAAAAAAgAEAAMAAQAAAAEAAQABAP///v/9/wAAAQAAAAEA/v8AAAAAAgABAAAAAgAAAAIAAgACAAMAAwADAAMAAwAEAAEAAQACAAAA/v/+//7//v/+//v//f/+//3//f8AAAEAAQAAAAEAAQAAAAIA/v8AAAIAAAABAAAAAQACAAMABAADAAMAAwADAAMAAQAAAAAAAgACAAAAAQABAAEAAQD//wAAAgD///7//f/9//7//v/+/////v/9//7//P8AAP7/AAAAAP7//v/+/////v/+//v//P/+//3//v8AAP//AAAAAAAAAAD9/wAAAAADAAIAAAACAAQAAQAAAAIAAwACAAQAAwADAAIABQAIAAMABgAFAAMABQADAAIAAAACAAAA/f8CAAAAAAADAAEAAAD9/wAAAAD9//7//f/+//3//f///wIAAQAAAAEAAAACAAMAAgD//wAAAAD9//3///8EAAEAAwACAAEAAQABAAIAAAD///z/+v/6//v/+P/3//3/+v/8//7//f/+//3/AAD///7//f8AAAEAAAABAAAAAwABAAEAAwABAAIAAwACAAMAAwADAAMAAQAAAAIAAwABAAAAAAACAAMABAD//wAAAwADAAMAAwACAAEAAgD///3/AQAAAP7////9//7//f/+//r//P/+//3//v/9//3///8CAAQAAwD///7//v8AAAIABAACAAAAAwACAP///f8AAAMAAwABAAIAAgADAAIA///+//z/AAD///3//f///wIAAQAAAAIAAQACAAQAAwADAP7/AQD/////AgAAAAMAAQADAAIAAQABAP//AAABAAEA///+//3/AAD+/wAAAAD8//7//v////7////7//3////9//7//v////7//v/9/wAA///9/wAAAQD///z/AAAAAAAAAgABAAAAAwADAAIAAwADAAMAAgABAAEAAQABAP7/AgAAAPz/AgD+/wAA/v///wEAAAAAAAIAAwACAAQAAQABAP//AAABAAAAAgD+/wAAAgAAAAMAAwAAAP///v////z/+v/6//n//f/+//3/AAD+/wAAAAAAAAIA///9/wAAAQAAAAEA///+/////v/+//7//v/+////AAABAP7/AAAAAAAAAAADAAIAAAABAAAAAQACAAMAAQACAAQAAwADAAMABAAEAAAABAAIAAQAAwACAP7/AAADAAEAAAACAP///v////3/AAD+/wAA//8AAAEAAAABAAAABAD//wEAAQABAAQAAgADAAMAAwADAAMAAgADAAEAAwAEAAIAAQABAAAA/v/+//7//v////v/+v/9//7//f/+//7//v/+//7//v/9/wAAAQACAP///f/9/wAAAQAAAAEAAAABAP7/AAABAAAAAAAAAAEAAQABAP//AAABAAEA///+/wEA/f8AAAEAAAABAAAAAQD+/wAA/////wEAAAABAAAAAgADAAIAAAACAAMA//8AAP//AgACAAEA///+//7/AAABAAAAAwABAAMAAgAAAAAAAQADAAMAAwAEAAIAAwADAAMAAwADAAIAAAADAAMAAgAAAP3/AAABAAAA///+/wAA+//9/////f8AAAEAAQABAP///v/+//7//v/+//7//f8AAP//AAAAAPz/AAABAP////8CAP7/AAAAAAEABAABAAEAAAACAAQAAQACAAQAAgAGAAQAAwAEAAEAAgABAAMAAgAAAAEAAAABAAAAAgD///7//v/9/wAA/v8AAAIA/f8AAAAAAAAAAAIABQAAAP7//v8AAP///P8BAAAAAgABAAEA/////wIA/v////7//v/+//7//v////z/+f/+//v//P/+//3//f8AAAEA///9/wAAAwD//wAAAAD9/wAAAQD//wAA///9/wAAAAABAAAAAAACAP///v/+//3/AAABAAAAAAACAAEAAAACAAQAAAACAAQAAAACAAMAAgAEAAEABAAAAP3/AAAAAAAAAQABAAUACgAFAAUACAAGAAgABAADAAMAAwACAAAABAAAAAAAAQAAAAIA///+////AAAAAP3////+///////+/wAA+f/5//j/9P/5//r/+v/9//7//v////v/+f/8//3//f/9//v/+f/8//7//f8AAP///f/9////BAD+/wAAAAD7/wAAAAABAAIAAwADAAMABAADAAMABAAEAAIAAAACAAMAAgADAAMAAwADAAIAAAACAAEAAAABAAAAAQAAAAEAAQABAAAA/f/+//3/AAAAAAIAAgABAAEAAQD//wAAAgD+/wEA/f/9/////f////3////8/wAAAQAAAAMAAAACAAMAAwADAAMAAgAAAAMAAwAEAAEAAAAAAAEABAAAAAIAAwADAAEAAAADAAMAAAACAAMABAADAP//AQD///3//v/+//7//f/+//3/AAD///3/AAABAP///f8BAAEAAAACAAQAAgABAAIA/v8AAAEA/v/+//7//f8AAAIAAQAAAAAAAAAAAAAAAQADAAIABQAFAAEAAgAAAP7//v/9//7//f/9/wAAAAABAAAA+//8/wAA///9//7//v/+//7//v/9//3/AAABAP///v/9/wAA///8////AgABAAEA///+/////v8AAP///f/+//3//f///wIAAwADAAMA/v8AAAAAAgACAAAAAgD+/wAAAQAAAAEAAAABAAAAAQD+/wAAAQAAAAEAAAACAAMAAwADAAQAAQAAAAAAAgADAAAAAgABAAAAAQAAAAIAAgD+/wAAAgABAAEAAQAAAAAAAAAAAAEAAQD///7//v/+//7//v/+//7/+//5//3//v/+//3/AAADAPz//f/8//z/AQD///7//v/9/wAAAAAAAP///P8BAAAAAgABAAAAAgD///3///8BAAAAAQD///7//f8AAAEA/v8AAP///P8AAAAAAgADAAIAAQAAAAEAAAACAAMAAwADAAMAAQABAAIAAwADAAMAAwAFAAAA/v/+//3/AQD///3//f8AAAEAAAABAAAAAQABAP7/AAACAP///v/9//3//f////r//P/+//z/AQD///3//v/+//7//f/+//3//v/9/wAAAAACAAMAAQAAAAIAAwADAAAAAgADAP3/AQADAAMAAwABAAEAAAACAAQAAQAAAAAAAgADAAMABAABAAMAAQADAAEAAAAAAAEABAABAAMAAQABAAAA/v////r//f/+//3/AAD///3////+/////v/9/wAAAQABAP///f/9/wAAAwABAAEAAQABAP///f8AAAIA///+/////f8AAAEAAAD+/////f/+//7//P8AAP///f8AAAEA/v8AAP////8BAAAAAgAFAAQAAgADAAMAAgABAAQAAwACAAAAAwABAAEAAQABAAEAAAD+/wAAAQD+/wAA//8AAP//AAACAAAAAQD+/////f///wEAAAABAAAAAQAAAAAAAQD+/wAA///9/wAAAAACAAMAAQABAAEAAAADAAIA///+//3/AAABAP3/AQACAAAAAQAAAAIA/v8AAAAAAAADAAMAAwACAAAAAwACAAEAAwAAAP///v/+//7//f8AAAEA///8/wAA///9/wAAAgADAAEAAAAAAAAAAgACAAIAAwADAAUA//8AAAIA/v8AAAAA/v/9//n//f/7//n//f/9/wAAAQACAP///f/+//3/AAAAAAEAAQAAAAIAAgD//wAAAAABAAQAAAAAAAIAAwABAAEA///9/wAAAAD9//7//f/+//z/AAAEAAEAAQABAP7//v/+/wAAAgD/////+//9//7//v/+//3/AQD+/wAAAQACAAQAAAABAAEAAQAAAAAAAgACAAQAAQAAAAIAAgAGAAQAAgAEAAMAAwADAAMAAwAEAAEAAQADAAMAAQD//wYABAACAAQAAwACAAEAAAD9/////f8AAAMAAQABAP///f8AAAEAAAABAP3/AQABAPr//v/7//z////7//r/+v/6//r/+//4//b/9v/5//v/+f/9//3//f/+//7//P///wEA/v8AAAMAAgD9/wAA///9//3///8BAAAAAQAAAAIAAwADAAEAAQAAAAIAAwADAAEAAAAAAAEAAwAAAAIAAgAGAAUAAgAEAAMABQACAAEAAQD//wAAAAD+/wAAAQABAP7//f8AAAEA///+//7//f/+//7//v/9//7//P8AAAMAAQD//wAAAQAAAAEA/f8AAAEAAQADAAIAAwACAAMAAwADAAIABwAFAAEAAgD///3/AAABAP7/AAABAAEAAQABAP//AAAAAP3/AAD+/wAAAAD9//7//f/+//7////7//z////6//3//f///wIA/v8AAP//AAAAAP3////8/wAAAAAAAAAAAgADAAAAAQADAAEAAQAAAAMAAgAAAAMAAQABAAAAAgABAAIAAwACAAMAAgADAAMAAwADAAMAAwADAAEAAgACAAAAAQAAAAIAAwADAAEAAQD//wAA//8AAAAA/f////z/AQABAAAAAgD///7//v/+//7////9//f/+v/3//j/+f/7////+v/8//3//v/9/wAA/v///wIA/v8AAAAAAgABAAEABAACAAMAAwADAAMAAwADAAEAAgADAAMAAwADAAMAAwABAAAAAwACAP7/AAAAAAIAAgAAAP///P8AAAAAAgAAAPr//f/+//7//P/6//r//P/8/wAA///9//7/AAACAP7/AAD/////AwABAP//AAABAAEAAAD9//3/AAABAAAAAwABAAAAAQACAAQAAQABAAEAAQABAAEA///+//7//f/9/wAAAQD9/wAAAAAAAAMAAQABAAEAAQD+/wAAAQABAAQAAQAAAAAAAAAAAAAAAAABAAMAAwADAAMAAQABAAAAAwABAAIABAADAAMA/v8CAAMA/v8BAP//AAACAP7/AQD///7//v8AAAIA//8AAAEAAAD7//7/+//8/////f/+//3//v/+//7//f/+//7//v/9/wAAAAAAAP7///8DAAAAAgADAAMABAADAAMABAADAAQAAAAGAAMAAAADAAQAAgABAAIA//8AAAEAAQD//wAA/f/6//r//f/9/wAAAwD9/wAAAAABAP//AQD///3//v/9//7//f/+//7//v/9/wAAAQAAAAAAAQD//wAAAQAAAAAAAgABAAIAAwADAAMA///+/wAAAQD9/wEAAgD+/wAAAAAAAAEAAAAAAAIAAQACAAIAAgADAP///v/+//3/AAD+////AgAAAAEAAAADAAEAAAACAAIAAwADAAMAAgADAAIABQADAAQACAADAAYACAAEAAMABAABAAIAAQD///3//f8BAAQAAQD+/wAA//8AAP//AAAAAP3////9////+//6//v/+v/7//f/+P/+//r//v/5//f//f/9//7/AAD///3//v/9//7//P8BAAIAAAACAP///f8AAAAA/f/+//3///8CAAMAAwACAAMAAwADAAMAAgAGAAUAAQADAAIA///+/wAAAQD///7//f8AAAAA/P8AAAAAAAAAAAAAAgAEAAAA/f/+//7//v/+//v//P/+//3//v/9//3/AAABAAAAAwADAP7/AAD//wEAAwADAAMA/v8BAAIAAAACAAMAAwAEAAAAAAADAP7/AAABAAEAAAACAAMA///+//3/AAABAP7/AAABAAIAAgAAAAIA///+//v/+/8AAP///v/+//7//f/+//3//f/+//3/AAD+////AQAAAAMAAwADAAIAAAACAAQAAQACAAQAAQABAAEAAAAAAAIAAwACAAQAAQABAAAAAwD/////BAD+/wAAAAD9/////v/+//3/AAD///7////7//r//f8AAPv//v/9//b/+f/7//f/+P/9//7//v/+/////P/5//3//f8AAP///v/+/wAAAQAAAAAAAgABAAAAAQAFAAYABQAJAAcABgAGAAgADAAHAAkACQADAAcABQADAAQAAwADAAMAAwADAAMAAgAGAAUAAAAGAAMAAAABAAEAAQABAAEAAAD+//7//f8AAAQAAAD9//3/AAD///z/AQADAAAAAQD///3////5////AQABAAMA/v/+//r//P8AAP///f8AAAEA/v/+//7///8BAP///v/9/wEAAwD+/wAAAgD///7//v/+//7//v/+//3//v/+//3/AAABAP///f8AAAAAAAABAAAAAQABAAAAAQD//wAA///8/wAAAAAAAAAAAAAAAAAAAgADAAMAAQAAAAIAAQACAAIA/v8AAAIAAQABAP///v////7//v/+/////P/5//3/+//5//3//v/9//7//f8AAAEA///+/wAAAwABAAAAAwABAAAAAwACAP7/AAACAP7/AAABAAAAAwACAAAAAgD///7//v/+////+v/9//v//P/+//z/AAAAAAEA//8AAAAAAAACAAMAAQABAAQA//8AAAEAAAABAP7/AAABAAAAAAACAAMAAgAEAAIAAAACAAMAAwABAAAAAgADAAMAAgAAAAAAAwACAAAAAAACAAQAAQABAAIABAABAAIAAwD//wAAAQD///7//v/9//7//v/+//7//f8AAP///f/9/wAA//8AAAEAAQAAAP7//v/9//7//f8AAAAAAwAAAPz/AAAAAAEAAAACAAAA/f8AAAAAAAACAAMAAwADAAMAAwADAAMAAAACAAQAAQACAAQAAAACAAMAAgADAAMAAwABAAIAAgD+/wAAAQAAAAAAAgACAP7/AAD///7//v8AAAAA/f////3/AAD///3//v/+//7//f/+//3//v/9/wAAAAAAAAAAAAABAAAAAAAAAAEAAAABAP7/AAABAAAAAAAAAAAAAQABAAAAAQAAAP3//v8AAP///f////3//P8BAAAA/P///wEAAwABAAEA///+//7/AAAAAP3//f/8/wAAAAD+/wAAAQAAAAMAAQABAAAA/f8AAAIAAAD+/////f8AAP///v////3//v///wIAAgABAAIAAwADAAQAAgD+////AQABAAMAAAACAAMAAAACAAMAAwACAAAAAAAAAAAAAgADAAEAAAACAAQAAQACAAIA///+////AgABAAIAAwADAAEAAAACAAIAAwABAAEAAQAAAAAAAQD//wAAAwAAAP7//f8AAP///f/+//3//v/9//7//f8AAAEAAAABAAEA///+//7//v/9/wAA/////wIA/v8AAP///v/9////AQD9/wAA//8AAP////8BAAEA/////wIA///9/wAA///9//7/AAACAP7/AAD///z/AAAAAAAAAQABAP7/AAABAAAA///+//7//f/+//7//f8AAAAA/f/+//3//v/9//3/AAABAP7/AAABAAAAAwABAAEAAQAAAAAAAAABAAAAAQAAAAIAAwACAAMAAgADAAMAAwADAAMABAADAAMAAwAEAAMAAwAEAAEAAQD//wAAAQAAAAIAAwADAAMAAwADAAEAAAACAAMAAQADAAMA///+//7//v/7//3////8/wAA///9//3//v/+//7//v/+//7//f8AAP///v/+//7//v////v/+/8BAP///v/+//7//f8AAAEA///8/wAAAgABAAAAAgAEAAIAAAABAAEA/v8AAAEAAgACAAEAAwACAAMAAgADAAEAAAACAAMAAgAAAAMAAgD+/wAA///9//3/AAAAAP3/AAADAAAA//8EAP7/AAABAAAAAQAAAAEAAgADAP7/AAD9//n//f/+/////P/3//j/+v/4//z//f/9//3//f/+//3/AAD+//3//v/9//3/AAABAAAAAwAAAAAAAQAAAAMAAQABAAEAAwACAAAAAgADAAMAAwACAAMAAgAGAAMAAAADAAEAAgADAAMAAgAAAAEAAAACAAQAAAD+//7//v/+//7//v/+//7//f8=\" type=\"audio/wav\" />\n",
              "                    Your browser does not support the audio element.\n",
              "                </audio>\n",
              "              "
            ],
            "text/plain": [
              "<IPython.lib.display.Audio object>"
            ]
          },
          "metadata": {
            "tags": []
          },
          "execution_count": 26
        }
      ]
    },
    {
      "cell_type": "markdown",
      "metadata": {
        "id": "1MaL9J2dNVtG"
      },
      "source": [
        "It can be heard, that the speakers change along with their speaking rate, accent, and background environment, etc. Overall, the recordings sound acceptably clear though, which is to be expected from a crowd-sourced read speech corpus.\n",
        "\n",
        "Let's do a final check that the data is correctly prepared, by printing the shape of the speech input, its transcription, and the corresponding sampling rate.\n",
        "\n",
        "**Note**: *You can click the following cell a couple of times to verify multiple samples.*"
      ]
    },
    {
      "cell_type": "code",
      "metadata": {
        "colab": {
          "base_uri": "https://localhost:8080/"
        },
        "id": "1Po2g7YPuRTx",
        "outputId": "3c930156-7477-4c08-835e-eb218e3bc68c"
      },
      "source": [
        "rand_int = random.randint(0, len(common_voice_train)-1)\n",
        "\n",
        "print(\"Target text:\", common_voice_train[rand_int][\"target_text\"])\n",
        "print(\"Input array shape:\", np.asarray(common_voice_train[rand_int][\"speech\"]).shape)\n",
        "print(\"Sampling rate:\", common_voice_train[rand_int][\"sampling_rate\"])"
      ],
      "execution_count": 27,
      "outputs": [
        {
          "output_type": "stream",
          "text": [
            "Target text: vom vedea dacă aceste eforturi dau roade \n",
            "Input array shape: (81024,)\n",
            "Sampling rate: 16000\n"
          ],
          "name": "stdout"
        }
      ]
    },
    {
      "cell_type": "markdown",
      "metadata": {
        "id": "M9teZcSwOBJ4"
      },
      "source": [
        "Good! Everything looks fine - the data is a 1-dimensional array, the sampling rate always corresponds to 16kHz, and the target text is normalized."
      ]
    },
    {
      "cell_type": "markdown",
      "metadata": {
        "id": "k3Pbn5WvOYZF"
      },
      "source": [
        "Finally, we can process the dataset to the format expected by the model for training. We will again make use of the `map(...)` function.\n",
        "\n",
        "First, we check that the data samples have the same sampling rate of 16kHz.\n",
        "Second, we extract the `input_values` from the loaded audio file. In our case, this includes only normalization, but for other speech models, this step could correspond to extracting, *e.g.* [Log-Mel features](https://en.wikipedia.org/wiki/Mel-frequency_cepstrum). \n",
        "Third, we encode the transcriptions to label ids.\n",
        "\n",
        "**Note**: This mapping function is a good example of how the `Wav2Vec2Processor` class should be used. In \"normal\" context, calling `processor(...)` is redirected to `Wav2Vec2FeatureExtractor`'s call method. When wrapping the processor into the `as_target_processor` context, however, the same method is redirected to `Wav2Vec2CTCTokenizer`'s call method.\n",
        "For more information please check the [docs](https://huggingface.co/transformers/master/model_doc/wav2vec2.html#transformers.Wav2Vec2Processor.__call__)."
      ]
    },
    {
      "cell_type": "code",
      "metadata": {
        "id": "eJY7I0XAwe9p"
      },
      "source": [
        "def prepare_dataset(batch):\n",
        "    # check that all files have the correct sampling rate\n",
        "    assert (\n",
        "        len(set(batch[\"sampling_rate\"])) == 1\n",
        "    ), f\"Make sure all inputs have the same sampling rate of {processor.feature_extractor.sampling_rate}.\"\n",
        "\n",
        "    batch[\"input_values\"] = processor(batch[\"speech\"], sampling_rate=batch[\"sampling_rate\"][0]).input_values\n",
        "    \n",
        "    with processor.as_target_processor():\n",
        "        batch[\"labels\"] = processor(batch[\"target_text\"]).input_ids\n",
        "    return batch"
      ],
      "execution_count": 28,
      "outputs": []
    },
    {
      "cell_type": "code",
      "metadata": {
        "colab": {
          "base_uri": "https://localhost:8080/",
          "height": 497,
          "referenced_widgets": [
            "03afbeafc5bf44fa96149104a27fb290",
            "c630cf7d904946bcb96bab8d47cda93f",
            "0ef36de16b434c78afbc1b0373f7ed63",
            "d8064ad87ec546c5886ecdc1a56b42d2",
            "8b0968efd4dc4bf39989d3cc2afd5dec",
            "e0afdabf5e344b6dbd0770a1241584ba",
            "773792c0cdf943c5ab392a99ea5b36a7",
            "f9ea8e87eb014481995538e5252c58a2",
            "c573a5542dc54f80a79f3cf22edd808e",
            "d2c2d4449d26401d875c47506b1a4067",
            "3eaf88b6446b47388a227232f3b9d9d8",
            "71306fdf41934bcd89a8bb7ebcca0601",
            "403abafc04bf4d2997f6a08e850a7bd8",
            "94f69dd4099d4f2fa019c0d943d7ed0f",
            "9f4ec9dedd7c4e45956c6e1c7099dc6b",
            "0c92a580983743d7a1682d40313908f9",
            "d2d4af7d4d4e495ca3a8d7075d1c14cb",
            "c0bcdb242dd242388ed14b4b328e57dd",
            "b972ab6e368b492d871491a67d2d4f49",
            "3bd01ab591ee43c197c6b23c96e17300",
            "4b67be65f6f14276a29526d1ca4cf940",
            "8cab78b5c1684488a27760bda72cef57",
            "fd665b8bcd414ee397737875519166d9",
            "4e55c74e4f7d4da4b8a5a865e014b7a0",
            "a7ea64af353b4a28b7562422a7773163",
            "7591eafc6cd142fcbe8480b722cb6947",
            "be5d4d87f06443f893691fc0b04b2ae9",
            "cd00f21a5c4c44fdba4b0db47fb36ffb",
            "96908c09906c403c99c2ced85ae8aabe",
            "126cbbdf2ac642a28e9d6afbc68da508",
            "78868d62c2c44487b9fc9ee84a9a1b17",
            "6cc0ca2efb974ecebfd95ab834d0f92e",
            "f32acf7de13847baac58b40477760d3e",
            "dd8e1991fd23422aa83e639a59878f7c",
            "8ef076f26bcd411e80e2519ae5c6cab0",
            "4bcaca8191484908801c6daf078930ad",
            "88edd59e5cc54b3e86c8dbd83250f52f",
            "831b1c1ca06c43c18f3c32e1cc519219",
            "6123b92f3904492cae5fc6d904a158d5",
            "ba9d27fc8a4c4b3fa54d36bea1d43103",
            "de1babae08f341ca8a216f8b6aef35a5",
            "b9c771214c5045b6b439b66cd12e412a",
            "0037bcd0901c4103b0b99a9c84c7b4a4",
            "59086ededebb4564a8285e3d61407380",
            "0db0d16054084c9195f89aded8a42ad6",
            "a0534dc2a2bf466196b77710abed196e",
            "829def572e6c486693d603f263e0c16b",
            "2ae6ee1a494146fb949da44b54876e84",
            "2c42e309c89246a98e6b762ca8e9b8bc",
            "73c077efaeba48b0864e39d552698ebc",
            "768d1c5fc97a498c860cdb476fc3172c",
            "e06d7a45d1cb499eae683e5dc1ffb955",
            "76aa7b2203444daba1c8c4e3ce5210e7",
            "8431ab55325c42ad8154223dfb5093bb",
            "7ff77d425d0b45acb19ed2c8e328d9e2",
            "281be449f3f247728ee609c1db4eae00",
            "8c8603f126a3468ab1ca7e89d1e5182d",
            "ecabaeb09df647069e033df841ada90c",
            "53c56358637a4f22bf072b1a21376ee9",
            "9c9333fc34a24be795b1f2bb190c631c",
            "ab021ae88b6c489f9b33e680e2023443",
            "39d76e4df8234a21902d453fac483a6a",
            "306f52862605473a93ecf4e1762ae228",
            "4b09c2d7aba64f14bc7935eb2423f64c"
          ]
        },
        "id": "-np9xYK-wl8q",
        "outputId": "2e378e9c-6436-48a9-a43e-199a304248b1"
      },
      "source": [
        "common_voice_train = common_voice_train.map(prepare_dataset, remove_columns=common_voice_train.column_names, batch_size=8, num_proc=4, batched=True)\n",
        "common_voice_test = common_voice_test.map(prepare_dataset, remove_columns=common_voice_test.column_names, batch_size=8, num_proc=4, batched=True)"
      ],
      "execution_count": 29,
      "outputs": [
        {
          "output_type": "stream",
          "text": [
            "/usr/local/lib/python3.7/dist-packages/numpy/core/_asarray.py:83: VisibleDeprecationWarning: Creating an ndarray from ragged nested sequences (which is a list-or-tuple of lists-or-tuples-or ndarrays with different lengths or shapes) is deprecated. If you meant to do this, you must specify 'dtype=object' when creating the ndarray\n",
            "  return array(a, dtype, copy=False, order=order)\n"
          ],
          "name": "stderr"
        },
        {
          "output_type": "stream",
          "text": [
            "    "
          ],
          "name": "stdout"
        },
        {
          "output_type": "display_data",
          "data": {
            "application/vnd.jupyter.widget-view+json": {
              "model_id": "03afbeafc5bf44fa96149104a27fb290",
              "version_minor": 0,
              "version_major": 2
            },
            "text/plain": [
              "HBox(children=(FloatProgress(value=0.0, description='#0', max=134.0, style=ProgressStyle(description_width='in…"
            ]
          },
          "metadata": {
            "tags": []
          }
        },
        {
          "output_type": "display_data",
          "data": {
            "application/vnd.jupyter.widget-view+json": {
              "model_id": "c573a5542dc54f80a79f3cf22edd808e",
              "version_minor": 0,
              "version_major": 2
            },
            "text/plain": [
              "HBox(children=(FloatProgress(value=0.0, description='#3', max=133.0, style=ProgressStyle(description_width='in…"
            ]
          },
          "metadata": {
            "tags": []
          }
        },
        {
          "output_type": "display_data",
          "data": {
            "application/vnd.jupyter.widget-view+json": {
              "model_id": "d2d4af7d4d4e495ca3a8d7075d1c14cb",
              "version_minor": 0,
              "version_major": 2
            },
            "text/plain": [
              "HBox(children=(FloatProgress(value=0.0, description='#1', max=133.0, style=ProgressStyle(description_width='in…"
            ]
          },
          "metadata": {
            "tags": []
          }
        },
        {
          "output_type": "display_data",
          "data": {
            "application/vnd.jupyter.widget-view+json": {
              "model_id": "a7ea64af353b4a28b7562422a7773163",
              "version_minor": 0,
              "version_major": 2
            },
            "text/plain": [
              "HBox(children=(FloatProgress(value=0.0, description='#2', max=133.0, style=ProgressStyle(description_width='in…"
            ]
          },
          "metadata": {
            "tags": []
          }
        },
        {
          "output_type": "stream",
          "text": [
            "\n",
            "\n",
            "\n",
            "\n",
            "    "
          ],
          "name": "stdout"
        },
        {
          "output_type": "display_data",
          "data": {
            "application/vnd.jupyter.widget-view+json": {
              "model_id": "f32acf7de13847baac58b40477760d3e",
              "version_minor": 0,
              "version_major": 2
            },
            "text/plain": [
              "HBox(children=(FloatProgress(value=0.0, description='#0', max=56.0, style=ProgressStyle(description_width='ini…"
            ]
          },
          "metadata": {
            "tags": []
          }
        },
        {
          "output_type": "display_data",
          "data": {
            "application/vnd.jupyter.widget-view+json": {
              "model_id": "de1babae08f341ca8a216f8b6aef35a5",
              "version_minor": 0,
              "version_major": 2
            },
            "text/plain": [
              "HBox(children=(FloatProgress(value=0.0, description='#1', max=56.0, style=ProgressStyle(description_width='ini…"
            ]
          },
          "metadata": {
            "tags": []
          }
        },
        {
          "output_type": "display_data",
          "data": {
            "application/vnd.jupyter.widget-view+json": {
              "model_id": "2c42e309c89246a98e6b762ca8e9b8bc",
              "version_minor": 0,
              "version_major": 2
            },
            "text/plain": [
              "HBox(children=(FloatProgress(value=0.0, description='#3', max=56.0, style=ProgressStyle(description_width='ini…"
            ]
          },
          "metadata": {
            "tags": []
          }
        },
        {
          "output_type": "display_data",
          "data": {
            "application/vnd.jupyter.widget-view+json": {
              "model_id": "8c8603f126a3468ab1ca7e89d1e5182d",
              "version_minor": 0,
              "version_major": 2
            },
            "text/plain": [
              "HBox(children=(FloatProgress(value=0.0, description='#2', max=56.0, style=ProgressStyle(description_width='ini…"
            ]
          },
          "metadata": {
            "tags": []
          }
        },
        {
          "output_type": "stream",
          "text": [
            "\n",
            "\n",
            "\n",
            "\n"
          ],
          "name": "stdout"
        }
      ]
    },
    {
      "cell_type": "markdown",
      "metadata": {
        "id": "gYlQkKVoRUos"
      },
      "source": [
        "## Training\n",
        "\n",
        "The data is processed so that we are ready to start setting up the training pipeline. We will make use of 🤗's [Trainer](https://huggingface.co/transformers/master/main_classes/trainer.html?highlight=trainer) for which we essentially need to do the following:\n",
        "\n",
        "- Define a data collator. In contrast to most NLP models, XLSR-Wav2Vec2 has a much larger input length than output length. *E.g.*, a sample of input length 50000 has an output length of no more than 100. Given the large input sizes, it is much more efficient to pad the training batches dynamically meaning that all training samples should only be padded to the longest sample in their batch and not the overall longest sample. Therefore, fine-tuning XLSR-Wav2Vec2 requires a special padding data collator, which we will define below\n",
        "\n",
        "- Evaluation metric. During training, the model should be evaluated on the word error rate. We should define a `compute_metrics` function accordingly\n",
        "\n",
        "- Load a pretrained checkpoint. We need to load a pretrained checkpoint and configure it correctly for training.\n",
        "\n",
        "- Define the training configuration.\n",
        "\n",
        "After having fine-tuned the model, we will correctly evaluate it on the test data and verify that it has indeed learned to correctly transcribe speech."
      ]
    },
    {
      "cell_type": "markdown",
      "metadata": {
        "id": "Slk403unUS91"
      },
      "source": [
        "### Set-up Trainer\n",
        "\n",
        "Let's start by defining the data collator. The code for the data collator was copied from [this example](https://github.com/huggingface/transformers/blob/9a06b6b11bdfc42eea08fa91d0c737d1863c99e3/examples/research_projects/wav2vec2/run_asr.py#L81).\n",
        "\n",
        "Without going into too many details, in contrast to the common data collators, this data collator treats the `input_values` and `labels` differently and thus applies to separate padding functions on them (again making use of XLSR-Wav2Vec2's context manager). This is necessary because in speech input and output are of different modalities meaning that they should not be treated by the same padding function.\n",
        "Analogous to the common data collators, the padding tokens in the labels with `-100` so that those tokens are **not** taken into account when computing the loss."
      ]
    },
    {
      "cell_type": "code",
      "metadata": {
        "id": "tborvC9hx88e"
      },
      "source": [
        "import torch\n",
        "\n",
        "from dataclasses import dataclass, field\n",
        "from typing import Any, Dict, List, Optional, Union\n",
        "\n",
        "@dataclass\n",
        "class DataCollatorCTCWithPadding:\n",
        "    \"\"\"\n",
        "    Data collator that will dynamically pad the inputs received.\n",
        "    Args:\n",
        "        processor (:class:`~transformers.Wav2Vec2Processor`)\n",
        "            The processor used for proccessing the data.\n",
        "        padding (:obj:`bool`, :obj:`str` or :class:`~transformers.tokenization_utils_base.PaddingStrategy`, `optional`, defaults to :obj:`True`):\n",
        "            Select a strategy to pad the returned sequences (according to the model's padding side and padding index)\n",
        "            among:\n",
        "            * :obj:`True` or :obj:`'longest'`: Pad to the longest sequence in the batch (or no padding if only a single\n",
        "              sequence if provided).\n",
        "            * :obj:`'max_length'`: Pad to a maximum length specified with the argument :obj:`max_length` or to the\n",
        "              maximum acceptable input length for the model if that argument is not provided.\n",
        "            * :obj:`False` or :obj:`'do_not_pad'` (default): No padding (i.e., can output a batch with sequences of\n",
        "              different lengths).\n",
        "        max_length (:obj:`int`, `optional`):\n",
        "            Maximum length of the ``input_values`` of the returned list and optionally padding length (see above).\n",
        "        max_length_labels (:obj:`int`, `optional`):\n",
        "            Maximum length of the ``labels`` returned list and optionally padding length (see above).\n",
        "        pad_to_multiple_of (:obj:`int`, `optional`):\n",
        "            If set will pad the sequence to a multiple of the provided value.\n",
        "            This is especially useful to enable the use of Tensor Cores on NVIDIA hardware with compute capability >=\n",
        "            7.5 (Volta).\n",
        "    \"\"\"\n",
        "\n",
        "    processor: Wav2Vec2Processor\n",
        "    padding: Union[bool, str] = True\n",
        "    max_length: Optional[int] = None\n",
        "    max_length_labels: Optional[int] = None\n",
        "    pad_to_multiple_of: Optional[int] = None\n",
        "    pad_to_multiple_of_labels: Optional[int] = None\n",
        "\n",
        "    def __call__(self, features: List[Dict[str, Union[List[int], torch.Tensor]]]) -> Dict[str, torch.Tensor]:\n",
        "        # split inputs and labels since they have to be of different lenghts and need\n",
        "        # different padding methods\n",
        "        input_features = [{\"input_values\": feature[\"input_values\"]} for feature in features]\n",
        "        label_features = [{\"input_ids\": feature[\"labels\"]} for feature in features]\n",
        "\n",
        "        batch = self.processor.pad(\n",
        "            input_features,\n",
        "            padding=self.padding,\n",
        "            max_length=self.max_length,\n",
        "            pad_to_multiple_of=self.pad_to_multiple_of,\n",
        "            return_tensors=\"pt\",\n",
        "        )\n",
        "        with self.processor.as_target_processor():\n",
        "            labels_batch = self.processor.pad(\n",
        "                label_features,\n",
        "                padding=self.padding,\n",
        "                max_length=self.max_length_labels,\n",
        "                pad_to_multiple_of=self.pad_to_multiple_of_labels,\n",
        "                return_tensors=\"pt\",\n",
        "            )\n",
        "\n",
        "        # replace padding with -100 to ignore loss correctly\n",
        "        labels = labels_batch[\"input_ids\"].masked_fill(labels_batch.attention_mask.ne(1), -100)\n",
        "\n",
        "        batch[\"labels\"] = labels\n",
        "\n",
        "        return batch"
      ],
      "execution_count": 30,
      "outputs": []
    },
    {
      "cell_type": "code",
      "metadata": {
        "id": "lbQf5GuZyQ4_"
      },
      "source": [
        "data_collator = DataCollatorCTCWithPadding(processor=processor, padding=True)"
      ],
      "execution_count": 31,
      "outputs": []
    },
    {
      "cell_type": "markdown",
      "metadata": {
        "id": "xO-Zdj-5cxXp"
      },
      "source": [
        "Next, the evaluation metric is defined. As mentioned earlier, the \n",
        "predominant metric in ASR is the word error rate (WER), hence we will use it in this notebook as well."
      ]
    },
    {
      "cell_type": "code",
      "metadata": {
        "id": "9Xsux2gmyXso",
        "colab": {
          "base_uri": "https://localhost:8080/",
          "height": 66,
          "referenced_widgets": [
            "401409b0714940ce86d5027441c5788a",
            "18c240c8891d45a7836c076ae1c6dedc",
            "0368ce88b6c2479b9f266ee298e3841d",
            "b49e168fc7a94d4f9cb173540ae31188",
            "6b1f2d9414fb40578751b94ba328b378",
            "60ddc9f9e6e64d6799fc81668a13b781",
            "b508954136044b73a1c73ef12e3f43c5",
            "3b2bfb53297045aa8c0bd297f96ba787"
          ]
        },
        "outputId": "bb7993a2-cd90-4c88-e61e-0e4d12e5d190"
      },
      "source": [
        "wer_metric = load_metric(\"wer\")"
      ],
      "execution_count": 32,
      "outputs": [
        {
          "output_type": "display_data",
          "data": {
            "application/vnd.jupyter.widget-view+json": {
              "model_id": "401409b0714940ce86d5027441c5788a",
              "version_minor": 0,
              "version_major": 2
            },
            "text/plain": [
              "HBox(children=(FloatProgress(value=0.0, description='Downloading', max=1764.0, style=ProgressStyle(description…"
            ]
          },
          "metadata": {
            "tags": []
          }
        },
        {
          "output_type": "stream",
          "text": [
            "\n"
          ],
          "name": "stdout"
        }
      ]
    },
    {
      "cell_type": "markdown",
      "metadata": {
        "id": "E1qZU5p-deqB"
      },
      "source": [
        "The model will return a sequence of logit vectors:\n",
        "$\\mathbf{y}_1, \\ldots, \\mathbf{y}_m$ with $\\mathbf{y}_1 = f_{\\theta}(x_1, \\ldots, x_n)[0]$ and $n >> m$.\n",
        "\n",
        "A logit vector $\\mathbf{y}_1$ contains the log-odds for each word in the vocabulary we defined earlier, thus $\\text{len}(\\mathbf{y}_i) =$ `config.vocab_size`. We are interested in the most likely prediction of the model and thus take the `argmax(...)` of the logits. Also, we transform the encoded labels back to the original string by replacing `-100` with the `pad_token_id` and decoding the ids while making sure that consecutive tokens are **not** grouped to the same token in CTC style ${}^1$."
      ]
    },
    {
      "cell_type": "code",
      "metadata": {
        "id": "1XZ-kjweyTy_"
      },
      "source": [
        "def compute_metrics(pred):\n",
        "    pred_logits = pred.predictions\n",
        "    pred_ids = np.argmax(pred_logits, axis=-1)\n",
        "\n",
        "    pred.label_ids[pred.label_ids == -100] = processor.tokenizer.pad_token_id\n",
        "\n",
        "    pred_str = processor.batch_decode(pred_ids)\n",
        "    # we do not want to group tokens when computing the metrics\n",
        "    label_str = processor.batch_decode(pred.label_ids, group_tokens=False)\n",
        "\n",
        "    wer = wer_metric.compute(predictions=pred_str, references=label_str)\n",
        "\n",
        "    return {\"wer\": wer}"
      ],
      "execution_count": 33,
      "outputs": []
    },
    {
      "cell_type": "markdown",
      "metadata": {
        "id": "Xmgrx4bRwLIH"
      },
      "source": [
        "Now, we can load the pretrained `XLSR-Wav2Vec2` checkpoint. The tokenizer's `pad_token_id` must be to define the model's `pad_token_id` or in the case of `Wav2Vec2ForCTC` also CTC's *blank token* ${}^2$. To save GPU memory, we enable PyTorch's [gradient checkpointing](https://pytorch.org/docs/stable/checkpoint.html) and also set the loss reduction to \"*mean*\".\n",
        "\n",
        "Because the dataset is quite small (~6h of training data) and because Common Voice is quite noisy, fine-tuning Facebook's [wav2vec2-large-xlsr-53 checkpoint](https://huggingface.co/facebook/wav2vec2-large-xlsr-53) seems to require some hyper-parameter tuning. Therefore, I had to play around a bit with different values for dropout, [SpecAugment](https://arxiv.org/abs/1904.08779)'s masking dropout rate, layer dropout, and the learning rate until training seemed to be stable enough. \n",
        "\n",
        "**Note**: When using this notebook to train XLSR-Wav2Vec2 on another language of Common Voice those hyper-parameter settings might not work very well. Feel free to adapt those depending on your use case. "
      ]
    },
    {
      "cell_type": "code",
      "metadata": {
        "colab": {
          "base_uri": "https://localhost:8080/",
          "height": 169,
          "referenced_widgets": [
            "c12658f4c8c94029aa81e20424897f83",
            "1553486d79844d3dac3fb373f045253c",
            "b6ba6ffbc43945dea117ef2ef0608381",
            "9d92d2fe50b34fbeb16302f31488831a",
            "3e31af8489d74b828945766dbf9d8c05",
            "7b12dfa1f0944dc19e30e0b478b0ace9",
            "ef57a7547cec4dbfb4824030249aa1d0",
            "3bc7126c38d142a580b10dfa0bc5d567",
            "30e369e6e3a14e5685331a7967532342",
            "0630a1547a4b42aa921acb1891986631",
            "218c9b4ece3a45a8b72ebbde70cc3116",
            "4addf1190c3f46128be50f348bea3c99",
            "346dc703679f414d8568ac4783cfe8f5",
            "9d763048a394431c8a8e3564d6d04cf2",
            "679bff57a3e74a9f8b1820d96cd62c42",
            "fd9acd1e46154de1a45c752401bb82ae"
          ]
        },
        "id": "e7cqAWIayn6w",
        "outputId": "cd8915f2-7f85-4c82-998a-055fb5a12ad0"
      },
      "source": [
        "from transformers import Wav2Vec2ForCTC\n",
        "\n",
        "model = Wav2Vec2ForCTC.from_pretrained(\n",
        "    \"facebook/wav2vec2-large-xlsr-53\", \n",
        "    attention_dropout=0.1,\n",
        "    hidden_dropout=0.1,\n",
        "    feat_proj_dropout=0.0,\n",
        "    mask_time_prob=0.05,\n",
        "    layerdrop=0.1,\n",
        "    gradient_checkpointing=True, \n",
        "    ctc_loss_reduction=\"mean\", \n",
        "    pad_token_id=processor.tokenizer.pad_token_id,\n",
        "    vocab_size=len(processor.tokenizer)\n",
        ")"
      ],
      "execution_count": 34,
      "outputs": [
        {
          "output_type": "display_data",
          "data": {
            "application/vnd.jupyter.widget-view+json": {
              "model_id": "c12658f4c8c94029aa81e20424897f83",
              "version_minor": 0,
              "version_major": 2
            },
            "text/plain": [
              "HBox(children=(FloatProgress(value=0.0, description='Downloading', max=1451.0, style=ProgressStyle(description…"
            ]
          },
          "metadata": {
            "tags": []
          }
        },
        {
          "output_type": "stream",
          "text": [
            "\n"
          ],
          "name": "stdout"
        },
        {
          "output_type": "display_data",
          "data": {
            "application/vnd.jupyter.widget-view+json": {
              "model_id": "30e369e6e3a14e5685331a7967532342",
              "version_minor": 0,
              "version_major": 2
            },
            "text/plain": [
              "HBox(children=(FloatProgress(value=0.0, description='Downloading', max=1261920069.0, style=ProgressStyle(descr…"
            ]
          },
          "metadata": {
            "tags": []
          }
        },
        {
          "output_type": "stream",
          "text": [
            "\n"
          ],
          "name": "stdout"
        },
        {
          "output_type": "stream",
          "text": [
            "Some weights of Wav2Vec2ForCTC were not initialized from the model checkpoint at facebook/wav2vec2-large-xlsr-53 and are newly initialized: ['lm_head.weight', 'lm_head.bias']\n",
            "You should probably TRAIN this model on a down-stream task to be able to use it for predictions and inference.\n"
          ],
          "name": "stderr"
        }
      ]
    },
    {
      "cell_type": "markdown",
      "metadata": {
        "id": "1DwR3XLSzGDD"
      },
      "source": [
        "The first component of XLSR-Wav2Vec2 consists of a stack of CNN layers that are used to extract acoustically meaningful - but contextually independent - features from the raw speech signal. This part of the model has already been sufficiently trained during pretraining and as stated in the [paper](https://arxiv.org/pdf/2006.13979.pdf) does not need to be fine-tuned anymore. \n",
        "Thus, we can set the `requires_grad` to `False` for all parameters of the *feature extraction* part."
      ]
    },
    {
      "cell_type": "code",
      "metadata": {
        "id": "oGI8zObtZ3V0"
      },
      "source": [
        "model.freeze_feature_extractor()"
      ],
      "execution_count": 35,
      "outputs": []
    },
    {
      "cell_type": "markdown",
      "metadata": {
        "id": "lD4aGhQM0K-D"
      },
      "source": [
        "In a final step, we define all parameters related to training. \n",
        "To give more explanation on some of the parameters:\n",
        "- `group_by_length` makes training more efficient by grouping training samples of similar input length into one batch. This can significantly speed up training time by heavily reducing the overall number of useless padding tokens that are passed through the model\n",
        "- `learning_rate` and `weight_decay` were heuristically tuned until fine-tuning has become stable. Note that those parameters strongly depend on the Common Voice dataset and might be suboptimal for other speech datasets.\n",
        "\n",
        "For more explanations on other parameters, one can take a look at the [docs](https://huggingface.co/transformers/master/main_classes/trainer.html?highlight=trainer#trainingarguments).\n",
        "\n",
        "**Note**: If one wants to save the trained models in his/her google drive the commented-out `output_dir` can be used instead."
      ]
    },
    {
      "cell_type": "code",
      "metadata": {
        "id": "KbeKSV7uzGPP"
      },
      "source": [
        "from transformers import TrainingArguments\n",
        "\n",
        "training_args = TrainingArguments(\n",
        "  output_dir=\"/content/gdrive/MyDrive/wav2vec2-large-xlsr-romanian-demo\",\n",
        "  # output_dir=\"./wav2vec2-large-xlsr-turkish-demo\",\n",
        "  group_by_length=True,\n",
        "  per_device_train_batch_size=16,\n",
        "  gradient_accumulation_steps=2,\n",
        "  evaluation_strategy=\"steps\",\n",
        "  num_train_epochs=30,\n",
        "  fp16=True,\n",
        "  save_steps=400,\n",
        "  eval_steps=400,\n",
        "  logging_steps=400,\n",
        "  learning_rate=3e-4,\n",
        "  warmup_steps=500,\n",
        "  save_total_limit=2,\n",
        ")"
      ],
      "execution_count": 36,
      "outputs": []
    },
    {
      "cell_type": "markdown",
      "metadata": {
        "id": "OsW-WZcL1ZtN"
      },
      "source": [
        "Now, all instances can be passed to Trainer and we are ready to start training!"
      ]
    },
    {
      "cell_type": "code",
      "metadata": {
        "id": "rY7vBmFCPFgC"
      },
      "source": [
        "from transformers import Trainer\n",
        "\n",
        "trainer = Trainer(\n",
        "    model=model,\n",
        "    data_collator=data_collator,\n",
        "    args=training_args,\n",
        "    compute_metrics=compute_metrics,\n",
        "    train_dataset=common_voice_train,\n",
        "    eval_dataset=common_voice_test,\n",
        "    tokenizer=processor.feature_extractor,\n",
        ")"
      ],
      "execution_count": 37,
      "outputs": []
    },
    {
      "cell_type": "markdown",
      "metadata": {
        "id": "UoXBx1JAA0DX"
      },
      "source": [
        "\n",
        "\n",
        "---\n",
        "\n",
        "${}^1$ To allow models to become independent of the speaker rate, in CTC, consecutive tokens that are identical are simply grouped as a single token. However, the encoded labels should not be grouped when decoding since they don't correspond to the predicted tokens of the model, which is why the `group_tokens=False` parameter has to be passed. If we wouldn't pass this parameter a word like `\"hello\"` would incorrectly be encoded, and decoded as `\"helo\"`.\n",
        "\n",
        "${}^2$ The blank token allows the model to predict a word, such as `\"hello\"` by forcing it to insert the blank token between the two l's. A CTC-conform prediction of `\"hello\"` of our model would be `[PAD] [PAD] \"h\" \"e\" \"e\" \"l\" \"l\" [PAD] \"l\" \"o\" \"o\" [PAD]`."
      ]
    },
    {
      "cell_type": "markdown",
      "metadata": {
        "id": "rpvZHM1xReIW"
      },
      "source": [
        "### Training"
      ]
    },
    {
      "cell_type": "markdown",
      "metadata": {
        "id": "j-3oKSzZ1hGq"
      },
      "source": [
        "Training will take between 180 and 240 minutes depending on the GPU allocated to this notebook. While the trained model yields somewhat satisfying results on *Common Voice*'s test data of Turkish, it is by no means an optimally fine-tuned model. The purpose of this notebook is to demonstrate how XLSR-Wav2Vec2's [checkpoint](https://huggingface.co/facebook/wav2vec2-large-xlsr-53) can be fine-tuned on a low-resource ASR dataset.\n",
        "\n",
        "In case you want to use this google colab to fine-tune your model, you should make sure that your training doesn't stop due to inactivity. A simple hack to prevent this is to paste the following code into the console of this tab (*right mouse click -> inspect -> Console tab and insert code*)."
      ]
    },
    {
      "cell_type": "markdown",
      "metadata": {
        "id": "VYYAvgkW4P0m"
      },
      "source": [
        "```javascript\n",
        "function ConnectButton(){\n",
        "    console.log(\"Connect pushed\"); \n",
        "    document.querySelector(\"#top-toolbar > colab-connect-button\").shadowRoot.querySelector(\"#connect\").click() \n",
        "}\n",
        "setInterval(ConnectButton,60000);\n",
        "```"
      ]
    },
    {
      "cell_type": "code",
      "metadata": {
        "id": "_UEjJqGsQw24",
        "colab": {
          "base_uri": "https://localhost:8080/",
          "height": 425
        },
        "outputId": "df2d0b08-92a2-4eaa-a1f3-1631acca669f"
      },
      "source": [
        "trainer.train()"
      ],
      "execution_count": 38,
      "outputs": [
        {
          "output_type": "stream",
          "text": [
            "/usr/local/lib/python3.7/dist-packages/torch/optim/lr_scheduler.py:134: UserWarning: Detected call of `lr_scheduler.step()` before `optimizer.step()`. In PyTorch 1.1.0 and later, you should call them in the opposite order: `optimizer.step()` before `lr_scheduler.step()`.  Failure to do this will result in PyTorch skipping the first value of the learning rate schedule. See more details at https://pytorch.org/docs/stable/optim.html#how-to-adjust-learning-rate\n",
            "  \"https://pytorch.org/docs/stable/optim.html#how-to-adjust-learning-rate\", UserWarning)\n"
          ],
          "name": "stderr"
        },
        {
          "output_type": "display_data",
          "data": {
            "text/html": [
              "\n",
              "    <div>\n",
              "        <style>\n",
              "            /* Turns off some styling */\n",
              "            progress {\n",
              "                /* gets rid of default border in Firefox and Opera. */\n",
              "                border: none;\n",
              "                /* Needs to be in here for Safari polyfill so background images work as expected. */\n",
              "                background-size: auto;\n",
              "            }\n",
              "        </style>\n",
              "      \n",
              "      <progress value='3990' max='3990' style='width:300px; height:20px; vertical-align: middle;'></progress>\n",
              "      [3990/3990 5:50:44, Epoch 29/30]\n",
              "    </div>\n",
              "    <table border=\"1\" class=\"dataframe\">\n",
              "  <thead>\n",
              "    <tr style=\"text-align: left;\">\n",
              "      <th>Step</th>\n",
              "      <th>Training Loss</th>\n",
              "      <th>Validation Loss</th>\n",
              "      <th>Wer</th>\n",
              "      <th>Runtime</th>\n",
              "      <th>Samples Per Second</th>\n",
              "    </tr>\n",
              "  </thead>\n",
              "  <tbody>\n",
              "    <tr>\n",
              "      <td>400</td>\n",
              "      <td>4.758600</td>\n",
              "      <td>2.911370</td>\n",
              "      <td>0.984351</td>\n",
              "      <td>186.408100</td>\n",
              "      <td>9.538000</td>\n",
              "    </tr>\n",
              "    <tr>\n",
              "      <td>800</td>\n",
              "      <td>0.729700</td>\n",
              "      <td>0.400262</td>\n",
              "      <td>0.520009</td>\n",
              "      <td>191.028000</td>\n",
              "      <td>9.308000</td>\n",
              "    </tr>\n",
              "    <tr>\n",
              "      <td>1200</td>\n",
              "      <td>0.139800</td>\n",
              "      <td>0.362283</td>\n",
              "      <td>0.463096</td>\n",
              "      <td>184.271700</td>\n",
              "      <td>9.649000</td>\n",
              "    </tr>\n",
              "    <tr>\n",
              "      <td>1600</td>\n",
              "      <td>0.091300</td>\n",
              "      <td>0.379099</td>\n",
              "      <td>0.452273</td>\n",
              "      <td>190.711700</td>\n",
              "      <td>9.323000</td>\n",
              "    </tr>\n",
              "    <tr>\n",
              "      <td>2000</td>\n",
              "      <td>0.072300</td>\n",
              "      <td>0.399873</td>\n",
              "      <td>0.449471</td>\n",
              "      <td>188.089300</td>\n",
              "      <td>9.453000</td>\n",
              "    </tr>\n",
              "    <tr>\n",
              "      <td>2400</td>\n",
              "      <td>0.059100</td>\n",
              "      <td>0.393966</td>\n",
              "      <td>0.432420</td>\n",
              "      <td>183.947200</td>\n",
              "      <td>9.666000</td>\n",
              "    </tr>\n",
              "    <tr>\n",
              "      <td>2800</td>\n",
              "      <td>0.052800</td>\n",
              "      <td>0.367899</td>\n",
              "      <td>0.417004</td>\n",
              "      <td>186.719900</td>\n",
              "      <td>9.522000</td>\n",
              "    </tr>\n",
              "    <tr>\n",
              "      <td>3200</td>\n",
              "      <td>0.045200</td>\n",
              "      <td>0.367556</td>\n",
              "      <td>0.407583</td>\n",
              "      <td>187.023300</td>\n",
              "      <td>9.507000</td>\n",
              "    </tr>\n",
              "    <tr>\n",
              "      <td>3600</td>\n",
              "      <td>0.040400</td>\n",
              "      <td>0.369565</td>\n",
              "      <td>0.407194</td>\n",
              "      <td>185.314300</td>\n",
              "      <td>9.595000</td>\n",
              "    </tr>\n",
              "  </tbody>\n",
              "</table><p>"
            ],
            "text/plain": [
              "<IPython.core.display.HTML object>"
            ]
          },
          "metadata": {
            "tags": []
          }
        },
        {
          "output_type": "execute_result",
          "data": {
            "text/plain": [
              "TrainOutput(global_step=3990, training_loss=0.604093170883064, metrics={'train_runtime': 21053.3479, 'train_samples_per_second': 0.19, 'total_flos': 1.5673158237292554e+19, 'epoch': 30.0, 'init_mem_cpu_alloc_delta': 341290, 'init_mem_gpu_alloc_delta': 1261919232, 'init_mem_cpu_peaked_delta': 18306, 'init_mem_gpu_peaked_delta': 0, 'train_mem_cpu_alloc_delta': 1258279, 'train_mem_gpu_alloc_delta': 3783599616, 'train_mem_cpu_peaked_delta': 148108494, 'train_mem_gpu_peaked_delta': 3646193152})"
            ]
          },
          "metadata": {
            "tags": []
          },
          "execution_count": 38
        }
      ]
    },
    {
      "cell_type": "code",
      "metadata": {
        "id": "ihXwqHfCFUML"
      },
      "source": [
        "trainer.save_model('/content/gdrive/MyDrive/wav2vec2-large-xlsr-romanian-demo/checkpoint-3990')"
      ],
      "execution_count": 40,
      "outputs": []
    },
    {
      "cell_type": "markdown",
      "metadata": {
        "id": "RHIVc44_fY2N"
      },
      "source": [
        "The training loss goes down and we can see that the WER on the test set also improves nicely. Because this notebook is just for demonstration purposes, we can stop here.\n",
        "\n",
        "The resulting model of this notebook has been saved to [`patrickvonplaten/wav2vec2-large-xlsr-turkish-demo`](https://huggingface.co/patrickvonplaten/wav2vec2-large-xlsr-turkish-demo)\n",
        "\n",
        "As a final check, let's load the model and verify that it indeed has learned to transcribe Turkish speech.\n",
        "\n",
        "Let's first load the pretrained checkpoint."
      ]
    },
    {
      "cell_type": "code",
      "metadata": {
        "colab": {
          "base_uri": "https://localhost:8080/",
          "height": 328,
          "referenced_widgets": [
            "96c56f7b80b9494a8b268f694f2631dd",
            "c89803ac92ed4f25bcc284d09d3e4584",
            "db6f0d86a71444b6b602b1d50ec1882c",
            "5d02c35abd3a4c30bcc642a750ae6bed",
            "c8fba0aec6b348b5b50f630daaac993d",
            "44c91b93770244e9933a5852f3b3a812",
            "048b879c433d4fc4acafdbd83a0b65ff",
            "95c5a1ac8663403a96b04429e5681a0f",
            "fbe663eb918d4dd6a1977abe6b8e5931",
            "093cbf14ffc14366a66a0b7f314ada7c",
            "e0d77b805b1d452e9b476b5093c9d3e4",
            "a7bf47d2d61f486180b9e8e0f4419ce1",
            "4ac17648091645cda362f3555e764d52",
            "142fe6dc5607473589408efe11a420b7",
            "e8a1b41bdab14a63b5cba930b44dfaa3",
            "de123d6941514e1eb4ba562c296de3e1",
            "91d7c3cce9b24ae2ac71a79ad3796d02",
            "62907d1be751419ea58bf31257c8f682",
            "2164aa26d1584b9db53fbe9c231e4e4e",
            "3e064d63cf1b438fa87877f456a10d40",
            "614a6f03c8574ed4aeb89ca526d188b8",
            "3fbccdad6a9b4b6b83efe354704bc93d",
            "318411cf343547cd949edb3cffda3341",
            "c5d5bb97dfa2499baa52581755a831fd",
            "22028d945f704b9db72bd22ca774bde4",
            "f399c709d76e4664b71ad2ec39ae0fa7",
            "cceb9031740343328656256e437bc919",
            "3321b8ac2fb74e549f685d1ae34f9c89",
            "87a0fb8c07ac465a9e08fd7742afe2a5",
            "315ce96b2dca42afac1127e2b6a4040b",
            "2cbe8192e38c4b86be85c74fa513d236",
            "484512c01d2f4447afc12f3abc712aa1",
            "e3703a17f4c34b3ab6e8d05d5737320d",
            "d9859ba9cbb845399e5043979461e893",
            "1592aa1824474b93a14e78ddaa7acd3a",
            "c5d4ed7a512c4fb8b556644f47330960",
            "f9c6a26764ca4996b174ea9612a134d3",
            "5d93803b76844069b85131351a93b729",
            "a9605a0e51ce419ebda9de7a3a548999",
            "1e7207a8873d42468323e295b6164417",
            "33683b1c3a944e798886a2a67bdb3c7a",
            "84c438d0539a4744a43081753b6c7760",
            "20fb3b94edac4d1aa3b6c22b88558df1",
            "0362b49cb76b4c67a124f5d181ddfab2",
            "e11d6c2870d14204b30e45c18b055143",
            "9eb4306383ef4fee9748a1afa899efaa",
            "edf1e4847c9a4a72a7ac1223066370ac",
            "01fb018a80ee40fbbc66f91453c578a1"
          ]
        },
        "id": "J8E8pxJ9hgZS",
        "outputId": "673583bc-462c-4fae-9132-adb8feec91bd"
      },
      "source": [
        "model = Wav2Vec2ForCTC.from_pretrained(\"gmihaila/wav2vec2-large-xlsr-53-romanian\").to(\"cuda\")\n",
        "processor = Wav2Vec2Processor.from_pretrained(\"gmihaila/wav2vec2-large-xlsr-53-romanian\")"
      ],
      "execution_count": 41,
      "outputs": [
        {
          "output_type": "display_data",
          "data": {
            "application/vnd.jupyter.widget-view+json": {
              "model_id": "96c56f7b80b9494a8b268f694f2631dd",
              "version_minor": 0,
              "version_major": 2
            },
            "text/plain": [
              "HBox(children=(FloatProgress(value=0.0, description='Downloading', max=1558.0, style=ProgressStyle(description…"
            ]
          },
          "metadata": {
            "tags": []
          }
        },
        {
          "output_type": "stream",
          "text": [
            "\n"
          ],
          "name": "stdout"
        },
        {
          "output_type": "display_data",
          "data": {
            "application/vnd.jupyter.widget-view+json": {
              "model_id": "fbe663eb918d4dd6a1977abe6b8e5931",
              "version_minor": 0,
              "version_major": 2
            },
            "text/plain": [
              "HBox(children=(FloatProgress(value=0.0, description='Downloading', max=1262097815.0, style=ProgressStyle(descr…"
            ]
          },
          "metadata": {
            "tags": []
          }
        },
        {
          "output_type": "stream",
          "text": [
            "\n"
          ],
          "name": "stdout"
        },
        {
          "output_type": "display_data",
          "data": {
            "application/vnd.jupyter.widget-view+json": {
              "model_id": "91d7c3cce9b24ae2ac71a79ad3796d02",
              "version_minor": 0,
              "version_major": 2
            },
            "text/plain": [
              "HBox(children=(FloatProgress(value=0.0, description='Downloading', max=158.0, style=ProgressStyle(description_…"
            ]
          },
          "metadata": {
            "tags": []
          }
        },
        {
          "output_type": "stream",
          "text": [
            "\n"
          ],
          "name": "stdout"
        },
        {
          "output_type": "display_data",
          "data": {
            "application/vnd.jupyter.widget-view+json": {
              "model_id": "22028d945f704b9db72bd22ca774bde4",
              "version_minor": 0,
              "version_major": 2
            },
            "text/plain": [
              "HBox(children=(FloatProgress(value=0.0, description='Downloading', max=369.0, style=ProgressStyle(description_…"
            ]
          },
          "metadata": {
            "tags": []
          }
        },
        {
          "output_type": "stream",
          "text": [
            "\n"
          ],
          "name": "stdout"
        },
        {
          "output_type": "display_data",
          "data": {
            "application/vnd.jupyter.widget-view+json": {
              "model_id": "e3703a17f4c34b3ab6e8d05d5737320d",
              "version_minor": 0,
              "version_major": 2
            },
            "text/plain": [
              "HBox(children=(FloatProgress(value=0.0, description='Downloading', max=138.0, style=ProgressStyle(description_…"
            ]
          },
          "metadata": {
            "tags": []
          }
        },
        {
          "output_type": "stream",
          "text": [
            "\n"
          ],
          "name": "stdout"
        },
        {
          "output_type": "display_data",
          "data": {
            "application/vnd.jupyter.widget-view+json": {
              "model_id": "33683b1c3a944e798886a2a67bdb3c7a",
              "version_minor": 0,
              "version_major": 2
            },
            "text/plain": [
              "HBox(children=(FloatProgress(value=0.0, description='Downloading', max=85.0, style=ProgressStyle(description_w…"
            ]
          },
          "metadata": {
            "tags": []
          }
        },
        {
          "output_type": "stream",
          "text": [
            "Special tokens have been added in the vocabulary, make sure the associated word embedding are fine-tuned or trained.\n"
          ],
          "name": "stderr"
        },
        {
          "output_type": "stream",
          "text": [
            "\n"
          ],
          "name": "stdout"
        }
      ]
    },
    {
      "cell_type": "markdown",
      "metadata": {
        "id": "QsfGCQYSvY8C"
      },
      "source": [
        "Now, we will just take the first example of the test set, run it through the model and take the `argmax(...)` of the logits to retrieve the predicted token ids."
      ]
    },
    {
      "cell_type": "code",
      "metadata": {
        "colab": {
          "base_uri": "https://localhost:8080/"
        },
        "id": "EA6fxk-jiHby",
        "outputId": "655568fd-c361-4cae-d001-3d03320c7d80"
      },
      "source": [
        "input_dict = processor(common_voice_test[\"input_values\"][0], return_tensors=\"pt\", padding=True)\n",
        "\n",
        "logits = model(input_dict.input_values.to(\"cuda\")).logits\n",
        "\n",
        "pred_ids = torch.argmax(logits, dim=-1)[0]"
      ],
      "execution_count": 42,
      "outputs": [
        {
          "output_type": "stream",
          "text": [
            "It is strongly recommended to pass the ``sampling_rate`` argument to this function.Failing to do so can result in silent errors that might be hard to debug.\n"
          ],
          "name": "stderr"
        }
      ]
    },
    {
      "cell_type": "markdown",
      "metadata": {
        "id": "1JDyVCMDvlYd"
      },
      "source": [
        "We adapted `common_voice_test` quite a bit so that the dataset instance does not contain the original sentence label anymore. Thus, we re-use the original dataset to get the label of the first example."
      ]
    },
    {
      "cell_type": "code",
      "metadata": {
        "colab": {
          "base_uri": "https://localhost:8080/",
          "height": 122,
          "referenced_widgets": [
            "3ba80bccd4d141db80433c7267dd37db",
            "4add24c44a0746b79ff795323ec26c9b",
            "031a87616d3b42978007ef21d50f5985",
            "49c1d29355dc45f6809d591759ad4f0e",
            "cfa842dbf8114a34828c5a49933af9e0",
            "424943160e534489a66736c8d7d8e186",
            "bfc4c88590e94568b4845980131aa5c6",
            "d38bf44363b5455b8ec73dc075895785",
            "cb568d023ab64caba44989390a483462",
            "73bb8605076b407eb2c36a073daa575d",
            "6c62e97fc86f4490a2b1d01148d778bb",
            "819c574d867d4c06923d27956858da3b",
            "9185ac225abe4595b9714647d5460093",
            "b562747bd8254de09ba729396cae3799",
            "36499fda234a4d789d13441712dc708e",
            "e74e7c1fc0f64c379d72c71743ec9df3",
            "f6b3ef16e2ec4eafbeb12464c90f9713",
            "244f397234c94391bef00679d8083e91",
            "bd4c968c4e8640a281725e7e5481c184",
            "cccc9a6e07184e2f9a76854430516a7c",
            "a32a1ebfade14316a7fcfaf32aa8905e",
            "e4ab6fc572aa47cf92f4651038413e1d",
            "ffb31811751441c09d06a163b533067c",
            "f3cfc21dae024b0584edfe6c380c3307",
            "1a3c94051b1e4511bcbc885296139ffc",
            "b3450dbc51444709a9a7b8ea6251a403",
            "740564ddab5d44c2bf65bc285af92f6f",
            "a5e14a39fbcd4e3e8a3dd88faeba8f0f",
            "e15b2e96d89a46028e94bdb671806347",
            "2234a4a813514ca59d0f16405d9dd60b",
            "54f40b14ec0a4a70b52bbf33ee80b11c",
            "3d1cea7a19944490b5a9a686dd026984",
            "20f737f3490f42c8b55538f8aed95384",
            "693f02a9ab3d474b8a23dc92743236db",
            "4ffc900b060644b99bcb7150d9561542",
            "a837e4120b8d418aba425ce6b94ec571",
            "c1fd2098ed5a4f8fbdf12c345e6e825e",
            "264397b0db2b4f88b4f16a7e4e168c3e",
            "0eddd7d695e44fd6a81eb3048e4f203d",
            "f9b670bdeb7b44a3acebda9304d58077"
          ]
        },
        "id": "8dPE2GRIgtx-",
        "outputId": "9ebb59b5-544d-4fde-ed13-dba5c61a92ea"
      },
      "source": [
        "common_voice_test_transcription = load_dataset(\"common_voice\", \"ro\", data_dir=\"./cv-corpus-6.1-2020-12-11\", split=\"test\")"
      ],
      "execution_count": 45,
      "outputs": [
        {
          "output_type": "stream",
          "text": [
            "Couldn't find file locally at common_voice/common_voice.py, or remotely at https://raw.githubusercontent.com/huggingface/datasets/1.4.1/datasets/common_voice/common_voice.py.\n",
            "The file was picked from the master branch on github instead at https://raw.githubusercontent.com/huggingface/datasets/master/datasets/common_voice/common_voice.py.\n",
            "Using custom data configuration ro-ad9f7b76efa9f3a0\n"
          ],
          "name": "stderr"
        },
        {
          "output_type": "stream",
          "text": [
            "Downloading and preparing dataset common_voice/ro (download: 249.84 MiB, generated: 3.45 MiB, post-processed: Unknown size, total: 253.29 MiB) to /root/.cache/huggingface/datasets/common_voice/ro-ad9f7b76efa9f3a0/6.1.0/0041e06ab061b91d0a23234a2221e87970a19cf3a81b20901474cffffeb7869f...\n"
          ],
          "name": "stdout"
        },
        {
          "output_type": "display_data",
          "data": {
            "application/vnd.jupyter.widget-view+json": {
              "model_id": "3ba80bccd4d141db80433c7267dd37db",
              "version_minor": 0,
              "version_major": 2
            },
            "text/plain": [
              "HBox(children=(FloatProgress(value=1.0, bar_style='info', max=1.0), HTML(value='')))"
            ]
          },
          "metadata": {
            "tags": []
          }
        },
        {
          "output_type": "display_data",
          "data": {
            "application/vnd.jupyter.widget-view+json": {
              "model_id": "cb568d023ab64caba44989390a483462",
              "version_minor": 0,
              "version_major": 2
            },
            "text/plain": [
              "HBox(children=(FloatProgress(value=1.0, bar_style='info', max=1.0), HTML(value='')))"
            ]
          },
          "metadata": {
            "tags": []
          }
        },
        {
          "output_type": "display_data",
          "data": {
            "application/vnd.jupyter.widget-view+json": {
              "model_id": "f6b3ef16e2ec4eafbeb12464c90f9713",
              "version_minor": 0,
              "version_major": 2
            },
            "text/plain": [
              "HBox(children=(FloatProgress(value=1.0, bar_style='info', max=1.0), HTML(value='')))"
            ]
          },
          "metadata": {
            "tags": []
          }
        },
        {
          "output_type": "display_data",
          "data": {
            "application/vnd.jupyter.widget-view+json": {
              "model_id": "1a3c94051b1e4511bcbc885296139ffc",
              "version_minor": 0,
              "version_major": 2
            },
            "text/plain": [
              "HBox(children=(FloatProgress(value=1.0, bar_style='info', max=1.0), HTML(value='')))"
            ]
          },
          "metadata": {
            "tags": []
          }
        },
        {
          "output_type": "display_data",
          "data": {
            "application/vnd.jupyter.widget-view+json": {
              "model_id": "20f737f3490f42c8b55538f8aed95384",
              "version_minor": 0,
              "version_major": 2
            },
            "text/plain": [
              "HBox(children=(FloatProgress(value=1.0, bar_style='info', max=1.0), HTML(value='')))"
            ]
          },
          "metadata": {
            "tags": []
          }
        },
        {
          "output_type": "stream",
          "text": [
            "Dataset common_voice downloaded and prepared to /root/.cache/huggingface/datasets/common_voice/ro-ad9f7b76efa9f3a0/6.1.0/0041e06ab061b91d0a23234a2221e87970a19cf3a81b20901474cffffeb7869f. Subsequent calls will reuse this data.\n"
          ],
          "name": "stdout"
        }
      ]
    },
    {
      "cell_type": "markdown",
      "metadata": {
        "id": "ApS3MmN4v5P7"
      },
      "source": [
        "Finally, we can decode the example."
      ]
    },
    {
      "cell_type": "code",
      "metadata": {
        "colab": {
          "base_uri": "https://localhost:8080/"
        },
        "id": "Phqxa1O1jMDk",
        "outputId": "abb0c75c-bd57-4eac-f046-a10340ee26de"
      },
      "source": [
        "print(\"Prediction:\")\n",
        "print(processor.decode(pred_ids))\n",
        "\n",
        "print(\"\\nReference:\")\n",
        "print(common_voice_test_transcription[\"sentence\"][0].lower())\n"
      ],
      "execution_count": 46,
      "outputs": [
        {
          "output_type": "stream",
          "text": [
            "Prediction:\n",
            "cred că pentru nă este o poziţie onorabile\n",
            "\n",
            "Reference:\n",
            "cred că pentru noi este o poziţie onorabilă.\n"
          ],
          "name": "stdout"
        }
      ]
    },
    {
      "cell_type": "markdown",
      "metadata": {
        "id": "4n_8vhzUv7aw"
      },
      "source": [
        "Alright! The transcription can definitely be recognized from our prediction, but it is far from being perfect. Training the model a bit longer, spending more time on the data preprocessing, and especially using a language model for decoding would certainly improve the model's overall performance. \n",
        "\n",
        "For a demonstration model on a low-resource language, the results are acceptable, however 🤗."
      ]
    },
    {
      "cell_type": "markdown",
      "metadata": {
        "id": "oEaW6P6LSkpV"
      },
      "source": [
        "#### Test"
      ]
    },
    {
      "cell_type": "code",
      "metadata": {
        "colab": {
          "base_uri": "https://localhost:8080/",
          "height": 220,
          "referenced_widgets": [
            "5485748c96c34174a3d25f802f328ab2",
            "dd33eb24b1ba424689e3c25b7becd0b3",
            "52cc3444f18a4966830d5c35df14130c",
            "ba0d8f866f7a48c8ac94b2eb6946e813",
            "b33636a7c48e48a8a6991f043b99fb31",
            "9779eaa5be9a49b59444eecf796b5154",
            "b82bc3b1580f4186a8beaff21b2b03bb",
            "cf9a7f25385d4405a57c1aadcef1ef52",
            "a4814bfb00964e72a362e0ae72e5f210",
            "719b6747ea43498ca5399d47c1a7a6db",
            "db8b200d9b1d470fa6ae59b1916fa1fc",
            "97e4475c85f44255badf00383bddba46",
            "252ed3e15eb742c1b11deb44928dc4b8",
            "c8ff2aca407940049ae63c44db844547",
            "e3ba9f10b8f749918d8724f3e0b9f1b0",
            "47df4e79bb9a42ce84cd7b5bfede8c89"
          ]
        },
        "id": "etSFr6WbSno_",
        "outputId": "072a63c9-69ca-46db-e556-dcbd7f9f6d7c"
      },
      "source": [
        "import torch\n",
        "import torchaudio\n",
        "from datasets import load_dataset, load_metric\n",
        "from transformers import Wav2Vec2ForCTC, Wav2Vec2Processor\n",
        "import re\n",
        "\n",
        "test_dataset = load_dataset(\"common_voice\", \"ro\", split=\"test\")\n",
        "wer = load_metric(\"wer\")\n",
        "\n",
        "processor = Wav2Vec2Processor.from_pretrained(\"gmihaila/wav2vec2-large-xlsr-53-romanian\")\n",
        "model = Wav2Vec2ForCTC.from_pretrained(\"gmihaila/wav2vec2-large-xlsr-53-romanian\")\n",
        "model.to(\"cuda\")\n",
        "\n",
        "chars_to_ignore_regex = '[\\,\\?\\.\\!\\-\\;\\:\\\"\\â€œ]'\n",
        "resampler = torchaudio.transforms.Resample(48_000, 16_000)\n",
        "\n",
        "# Preprocessing the datasets.\n",
        "# We need to read the aduio files as arrays\n",
        "def speech_file_to_array_fn(batch):\n",
        "    batch[\"sentence\"] = re.sub(chars_to_ignore_regex, '', batch[\"sentence\"]).lower()\n",
        "    speech_array, sampling_rate = torchaudio.load(batch[\"path\"])\n",
        "    batch[\"speech\"] = resampler(speech_array).squeeze().numpy()\n",
        "    return batch\n",
        "\n",
        "test_dataset = test_dataset.map(speech_file_to_array_fn)\n",
        "\n",
        "# Preprocessing the datasets.\n",
        "# We need to read the aduio files as arrays\n",
        "def evaluate(batch):\n",
        "    inputs = processor(batch[\"speech\"], sampling_rate=16_000, return_tensors=\"pt\", padding=True)\n",
        "\n",
        "    with torch.no_grad():\n",
        "        logits = model(inputs.input_values.to(\"cuda\"), attention_mask=inputs.attention_mask.to(\"cuda\")).logits\n",
        "\n",
        "    pred_ids = torch.argmax(logits, dim=-1)\n",
        "    batch[\"pred_strings\"] = processor.batch_decode(pred_ids)\n",
        "    return batch\n",
        "\n",
        "result = test_dataset.map(evaluate, batched=True, batch_size=8)\n",
        "\n",
        "print(\"WER: {:2f}\".format(100 * wer.compute(predictions=result[\"pred_strings\"], references=result[\"sentence\"])))"
      ],
      "execution_count": 47,
      "outputs": [
        {
          "output_type": "stream",
          "text": [
            "Couldn't find file locally at common_voice/common_voice.py, or remotely at https://raw.githubusercontent.com/huggingface/datasets/1.4.1/datasets/common_voice/common_voice.py.\n",
            "The file was picked from the master branch on github instead at https://raw.githubusercontent.com/huggingface/datasets/master/datasets/common_voice/common_voice.py.\n",
            "Reusing dataset common_voice (/root/.cache/huggingface/datasets/common_voice/ro/6.1.0/0041e06ab061b91d0a23234a2221e87970a19cf3a81b20901474cffffeb7869f)\n",
            "Special tokens have been added in the vocabulary, make sure the associated word embedding are fine-tuned or trained.\n"
          ],
          "name": "stderr"
        },
        {
          "output_type": "display_data",
          "data": {
            "application/vnd.jupyter.widget-view+json": {
              "model_id": "5485748c96c34174a3d25f802f328ab2",
              "version_minor": 0,
              "version_major": 2
            },
            "text/plain": [
              "HBox(children=(FloatProgress(value=0.0, max=1778.0), HTML(value='')))"
            ]
          },
          "metadata": {
            "tags": []
          }
        },
        {
          "output_type": "stream",
          "text": [
            "\n"
          ],
          "name": "stdout"
        },
        {
          "output_type": "display_data",
          "data": {
            "application/vnd.jupyter.widget-view+json": {
              "model_id": "a4814bfb00964e72a362e0ae72e5f210",
              "version_minor": 0,
              "version_major": 2
            },
            "text/plain": [
              "HBox(children=(FloatProgress(value=0.0, max=223.0), HTML(value='')))"
            ]
          },
          "metadata": {
            "tags": []
          }
        },
        {
          "output_type": "stream",
          "text": [
            "\n",
            "WER: 28.425724\n"
          ],
          "name": "stdout"
        }
      ]
    }
  ]
}